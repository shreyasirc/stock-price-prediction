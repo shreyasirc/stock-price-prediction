{
 "cells": [
  {
   "cell_type": "code",
   "execution_count": 1,
   "metadata": {},
   "outputs": [
    {
     "name": "stderr",
     "output_type": "stream",
     "text": [
      "INFO: {'User-Agent': 'Opera/9.80 (X11; Linux i686; Ubuntu/14.10) Presto/2.12.388 Version/12.16', 'X-Requested-With': 'XMLHttpRequest'}\n"
     ]
    }
   ],
   "source": [
    "import twitterscraper\n",
    "from twitterscraper import query_tweets\n",
    "import numpy as np\n",
    "import pandas as pd\n",
    "import datetime as dt\n",
    "import sys\n",
    "from datetime import timedelta"
   ]
  },
  {
   "cell_type": "code",
   "execution_count": 2,
   "metadata": {},
   "outputs": [
    {
     "data": {
      "text/plain": [
       "0      2015-01-02\n",
       "1      2015-01-05\n",
       "2      2015-01-06\n",
       "3      2015-01-07\n",
       "4      2015-01-08\n",
       "          ...    \n",
       "1372   2020-06-16\n",
       "1373   2020-06-17\n",
       "1374   2020-06-18\n",
       "1375   2020-06-19\n",
       "1376   2020-06-22\n",
       "Name: Date, Length: 1377, dtype: datetime64[ns]"
      ]
     },
     "execution_count": 2,
     "metadata": {},
     "output_type": "execute_result"
    }
   ],
   "source": [
    "df = pd.read_excel('AAPL.xlsx')\n",
    "date = df.Date\n",
    "date"
   ]
  },
  {
   "cell_type": "code",
   "execution_count": 3,
   "metadata": {},
   "outputs": [],
   "source": [
    "import re\n",
    "from nltk.tokenize import WordPunctTokenizer\n",
    "def clean_tweets(tweet):\n",
    "    user_removed = re.sub(r'@[A-Za-z0-9]+','',tweet.encode().decode('utf-8'))\n",
    "    link_removed = re.sub('https?://[A-Za-z0-9./]+','',user_removed)\n",
    "    number_removed = re.sub('[^a-zA-Z]', ' ', link_removed)\n",
    "    lower_case_tweet= number_removed.lower()\n",
    "    tok = WordPunctTokenizer()\n",
    "    words = tok.tokenize(lower_case_tweet)\n",
    "    cleaned_tweet = (' '.join(words)).strip()\n",
    "    return cleaned_tweet"
   ]
  },
  {
   "cell_type": "code",
   "execution_count": 4,
   "metadata": {},
   "outputs": [
    {
     "name": "stderr",
     "output_type": "stream",
     "text": [
      "[nltk_data] Downloading package vader_lexicon to\n",
      "[nltk_data]     C:\\Users\\Shreyasi\\AppData\\Roaming\\nltk_data...\n",
      "[nltk_data]   Package vader_lexicon is already up-to-date!\n"
     ]
    }
   ],
   "source": [
    "import nltk\n",
    "nltk.download('vader_lexicon')\n",
    "from nltk.sentiment.vader import SentimentIntensityAnalyzer as SIA\n",
    "\n",
    "sia = SIA()"
   ]
  },
  {
   "cell_type": "code",
   "execution_count": 5,
   "metadata": {},
   "outputs": [
    {
     "name": "stdout",
     "output_type": "stream",
     "text": [
      "1377\n"
     ]
    },
    {
     "name": "stderr",
     "output_type": "stream",
     "text": [
      "INFO: queries: ['FB OR AMZN OR AAPL OR NFLX OR GOOG OR FAANG AND stocks since:2015-01-02 until:2015-01-03']\n",
      "INFO: Got 118 tweets (118 new).\n",
      "INFO: queries: ['FB OR AMZN OR AAPL OR NFLX OR GOOG OR FAANG AND stocks since:2015-01-05 until:2015-01-06']\n"
     ]
    },
    {
     "name": "stdout",
     "output_type": "stream",
     "text": [
      "0\n",
      "2015-01-02\n",
      "118\n"
     ]
    },
    {
     "name": "stderr",
     "output_type": "stream",
     "text": [
      "INFO: Got 120 tweets (120 new).\n",
      "INFO: queries: ['FB OR AMZN OR AAPL OR NFLX OR GOOG OR FAANG AND stocks since:2015-01-06 until:2015-01-07']\n"
     ]
    },
    {
     "name": "stdout",
     "output_type": "stream",
     "text": [
      "1\n",
      "2015-01-05\n",
      "120\n"
     ]
    },
    {
     "name": "stderr",
     "output_type": "stream",
     "text": [
      "INFO: Got 120 tweets (120 new).\n",
      "INFO: queries: ['FB OR AMZN OR AAPL OR NFLX OR GOOG OR FAANG AND stocks since:2015-01-07 until:2015-01-08']\n"
     ]
    },
    {
     "name": "stdout",
     "output_type": "stream",
     "text": [
      "2\n",
      "2015-01-06\n",
      "120\n"
     ]
    },
    {
     "name": "stderr",
     "output_type": "stream",
     "text": [
      "INFO: Got 114 tweets (114 new).\n",
      "INFO: queries: ['FB OR AMZN OR AAPL OR NFLX OR GOOG OR FAANG AND stocks since:2015-01-08 until:2015-01-09']\n"
     ]
    },
    {
     "name": "stdout",
     "output_type": "stream",
     "text": [
      "3\n",
      "2015-01-07\n",
      "114\n"
     ]
    },
    {
     "name": "stderr",
     "output_type": "stream",
     "text": [
      "INFO: Got 114 tweets (114 new).\n",
      "INFO: queries: ['FB OR AMZN OR AAPL OR NFLX OR GOOG OR FAANG AND stocks since:2015-01-09 until:2015-01-10']\n"
     ]
    },
    {
     "name": "stdout",
     "output_type": "stream",
     "text": [
      "4\n",
      "2015-01-08\n",
      "114\n"
     ]
    },
    {
     "name": "stderr",
     "output_type": "stream",
     "text": [
      "INFO: Got 120 tweets (120 new).\n",
      "INFO: queries: ['FB OR AMZN OR AAPL OR NFLX OR GOOG OR FAANG AND stocks since:2015-01-12 until:2015-01-13']\n"
     ]
    },
    {
     "name": "stdout",
     "output_type": "stream",
     "text": [
      "5\n",
      "2015-01-09\n",
      "120\n"
     ]
    },
    {
     "name": "stderr",
     "output_type": "stream",
     "text": [
      "INFO: Got 119 tweets (119 new).\n",
      "INFO: queries: ['FB OR AMZN OR AAPL OR NFLX OR GOOG OR FAANG AND stocks since:2015-01-13 until:2015-01-14']\n"
     ]
    },
    {
     "name": "stdout",
     "output_type": "stream",
     "text": [
      "6\n",
      "2015-01-12\n",
      "119\n"
     ]
    },
    {
     "name": "stderr",
     "output_type": "stream",
     "text": [
      "INFO: Got 101 tweets (101 new).\n",
      "INFO: queries: ['FB OR AMZN OR AAPL OR NFLX OR GOOG OR FAANG AND stocks since:2015-01-14 until:2015-01-15']\n"
     ]
    },
    {
     "name": "stdout",
     "output_type": "stream",
     "text": [
      "7\n",
      "2015-01-13\n",
      "101\n"
     ]
    },
    {
     "name": "stderr",
     "output_type": "stream",
     "text": [
      "INFO: Got 120 tweets (120 new).\n",
      "INFO: queries: ['FB OR AMZN OR AAPL OR NFLX OR GOOG OR FAANG AND stocks since:2015-01-15 until:2015-01-16']\n"
     ]
    },
    {
     "name": "stdout",
     "output_type": "stream",
     "text": [
      "8\n",
      "2015-01-14\n",
      "120\n"
     ]
    },
    {
     "name": "stderr",
     "output_type": "stream",
     "text": [
      "INFO: Got 120 tweets (120 new).\n",
      "INFO: queries: ['FB OR AMZN OR AAPL OR NFLX OR GOOG OR FAANG AND stocks since:2015-01-16 until:2015-01-17']\n"
     ]
    },
    {
     "name": "stdout",
     "output_type": "stream",
     "text": [
      "9\n",
      "2015-01-15\n",
      "120\n"
     ]
    },
    {
     "name": "stderr",
     "output_type": "stream",
     "text": [
      "INFO: Got 120 tweets (120 new).\n",
      "INFO: queries: ['FB OR AMZN OR AAPL OR NFLX OR GOOG OR FAANG AND stocks since:2015-01-20 until:2015-01-21']\n"
     ]
    },
    {
     "name": "stdout",
     "output_type": "stream",
     "text": [
      "10\n",
      "2015-01-16\n",
      "120\n"
     ]
    },
    {
     "name": "stderr",
     "output_type": "stream",
     "text": [
      "INFO: Got 115 tweets (115 new).\n",
      "INFO: queries: ['FB OR AMZN OR AAPL OR NFLX OR GOOG OR FAANG AND stocks since:2015-01-21 until:2015-01-22']\n"
     ]
    },
    {
     "name": "stdout",
     "output_type": "stream",
     "text": [
      "11\n",
      "2015-01-20\n",
      "115\n"
     ]
    },
    {
     "name": "stderr",
     "output_type": "stream",
     "text": [
      "INFO: Got 120 tweets (120 new).\n",
      "INFO: queries: ['FB OR AMZN OR AAPL OR NFLX OR GOOG OR FAANG AND stocks since:2015-01-22 until:2015-01-23']\n"
     ]
    },
    {
     "name": "stdout",
     "output_type": "stream",
     "text": [
      "12\n",
      "2015-01-21\n",
      "120\n"
     ]
    },
    {
     "name": "stderr",
     "output_type": "stream",
     "text": [
      "INFO: Got 120 tweets (120 new).\n",
      "INFO: queries: ['FB OR AMZN OR AAPL OR NFLX OR GOOG OR FAANG AND stocks since:2015-01-23 until:2015-01-24']\n"
     ]
    },
    {
     "name": "stdout",
     "output_type": "stream",
     "text": [
      "13\n",
      "2015-01-22\n",
      "120\n"
     ]
    },
    {
     "name": "stderr",
     "output_type": "stream",
     "text": [
      "INFO: Got 120 tweets (120 new).\n",
      "INFO: queries: ['FB OR AMZN OR AAPL OR NFLX OR GOOG OR FAANG AND stocks since:2015-01-26 until:2015-01-27']\n"
     ]
    },
    {
     "name": "stdout",
     "output_type": "stream",
     "text": [
      "14\n",
      "2015-01-23\n",
      "120\n"
     ]
    },
    {
     "name": "stderr",
     "output_type": "stream",
     "text": [
      "INFO: Got 119 tweets (119 new).\n",
      "INFO: queries: ['FB OR AMZN OR AAPL OR NFLX OR GOOG OR FAANG AND stocks since:2015-01-27 until:2015-01-28']\n"
     ]
    },
    {
     "name": "stdout",
     "output_type": "stream",
     "text": [
      "15\n",
      "2015-01-26\n",
      "119\n"
     ]
    },
    {
     "name": "stderr",
     "output_type": "stream",
     "text": [
      "INFO: Got 110 tweets (110 new).\n",
      "INFO: queries: ['FB OR AMZN OR AAPL OR NFLX OR GOOG OR FAANG AND stocks since:2015-01-28 until:2015-01-29']\n"
     ]
    },
    {
     "name": "stdout",
     "output_type": "stream",
     "text": [
      "16\n",
      "2015-01-27\n",
      "110\n"
     ]
    },
    {
     "name": "stderr",
     "output_type": "stream",
     "text": [
      "INFO: Got 120 tweets (120 new).\n",
      "INFO: queries: ['FB OR AMZN OR AAPL OR NFLX OR GOOG OR FAANG AND stocks since:2015-01-29 until:2015-01-30']\n"
     ]
    },
    {
     "name": "stdout",
     "output_type": "stream",
     "text": [
      "17\n",
      "2015-01-28\n",
      "120\n"
     ]
    },
    {
     "name": "stderr",
     "output_type": "stream",
     "text": [
      "INFO: Got 116 tweets (116 new).\n",
      "INFO: queries: ['FB OR AMZN OR AAPL OR NFLX OR GOOG OR FAANG AND stocks since:2015-01-30 until:2015-01-31']\n"
     ]
    },
    {
     "name": "stdout",
     "output_type": "stream",
     "text": [
      "18\n",
      "2015-01-29\n",
      "116\n"
     ]
    },
    {
     "name": "stderr",
     "output_type": "stream",
     "text": [
      "INFO: Got 120 tweets (120 new).\n",
      "INFO: queries: ['FB OR AMZN OR AAPL OR NFLX OR GOOG OR FAANG AND stocks since:2015-02-02 until:2015-02-03']\n"
     ]
    },
    {
     "name": "stdout",
     "output_type": "stream",
     "text": [
      "19\n",
      "2015-01-30\n",
      "120\n"
     ]
    },
    {
     "name": "stderr",
     "output_type": "stream",
     "text": [
      "INFO: Got 113 tweets (113 new).\n",
      "INFO: queries: ['FB OR AMZN OR AAPL OR NFLX OR GOOG OR FAANG AND stocks since:2015-02-03 until:2015-02-04']\n"
     ]
    },
    {
     "name": "stdout",
     "output_type": "stream",
     "text": [
      "20\n",
      "2015-02-02\n",
      "113\n"
     ]
    },
    {
     "name": "stderr",
     "output_type": "stream",
     "text": [
      "INFO: Got 120 tweets (120 new).\n",
      "INFO: queries: ['FB OR AMZN OR AAPL OR NFLX OR GOOG OR FAANG AND stocks since:2015-02-04 until:2015-02-05']\n"
     ]
    },
    {
     "name": "stdout",
     "output_type": "stream",
     "text": [
      "21\n",
      "2015-02-03\n",
      "120\n"
     ]
    },
    {
     "name": "stderr",
     "output_type": "stream",
     "text": [
      "INFO: Got 120 tweets (120 new).\n",
      "INFO: queries: ['FB OR AMZN OR AAPL OR NFLX OR GOOG OR FAANG AND stocks since:2015-02-05 until:2015-02-06']\n"
     ]
    },
    {
     "name": "stdout",
     "output_type": "stream",
     "text": [
      "22\n",
      "2015-02-04\n",
      "120\n"
     ]
    },
    {
     "name": "stderr",
     "output_type": "stream",
     "text": [
      "INFO: Got 120 tweets (120 new).\n",
      "INFO: queries: ['FB OR AMZN OR AAPL OR NFLX OR GOOG OR FAANG AND stocks since:2015-02-06 until:2015-02-07']\n"
     ]
    },
    {
     "name": "stdout",
     "output_type": "stream",
     "text": [
      "23\n",
      "2015-02-05\n",
      "120\n"
     ]
    },
    {
     "name": "stderr",
     "output_type": "stream",
     "text": [
      "INFO: Got 119 tweets (119 new).\n",
      "INFO: queries: ['FB OR AMZN OR AAPL OR NFLX OR GOOG OR FAANG AND stocks since:2015-02-09 until:2015-02-10']\n"
     ]
    },
    {
     "name": "stdout",
     "output_type": "stream",
     "text": [
      "24\n",
      "2015-02-06\n",
      "119\n"
     ]
    },
    {
     "name": "stderr",
     "output_type": "stream",
     "text": [
      "INFO: Got 101 tweets (101 new).\n",
      "INFO: queries: ['FB OR AMZN OR AAPL OR NFLX OR GOOG OR FAANG AND stocks since:2015-02-10 until:2015-02-11']\n"
     ]
    },
    {
     "name": "stdout",
     "output_type": "stream",
     "text": [
      "25\n",
      "2015-02-09\n",
      "101\n"
     ]
    },
    {
     "name": "stderr",
     "output_type": "stream",
     "text": [
      "INFO: Got 120 tweets (120 new).\n",
      "INFO: queries: ['FB OR AMZN OR AAPL OR NFLX OR GOOG OR FAANG AND stocks since:2015-02-11 until:2015-02-12']\n"
     ]
    },
    {
     "name": "stdout",
     "output_type": "stream",
     "text": [
      "26\n",
      "2015-02-10\n",
      "120\n"
     ]
    },
    {
     "name": "stderr",
     "output_type": "stream",
     "text": [
      "INFO: Got 118 tweets (118 new).\n",
      "INFO: queries: ['FB OR AMZN OR AAPL OR NFLX OR GOOG OR FAANG AND stocks since:2015-02-12 until:2015-02-13']\n"
     ]
    },
    {
     "name": "stdout",
     "output_type": "stream",
     "text": [
      "27\n",
      "2015-02-11\n",
      "118\n"
     ]
    },
    {
     "name": "stderr",
     "output_type": "stream",
     "text": [
      "INFO: Got 120 tweets (120 new).\n",
      "INFO: queries: ['FB OR AMZN OR AAPL OR NFLX OR GOOG OR FAANG AND stocks since:2015-02-13 until:2015-02-14']\n"
     ]
    },
    {
     "name": "stdout",
     "output_type": "stream",
     "text": [
      "28\n",
      "2015-02-12\n",
      "120\n"
     ]
    },
    {
     "name": "stderr",
     "output_type": "stream",
     "text": [
      "INFO: Got 118 tweets (118 new).\n",
      "INFO: queries: ['FB OR AMZN OR AAPL OR NFLX OR GOOG OR FAANG AND stocks since:2015-02-17 until:2015-02-18']\n"
     ]
    },
    {
     "name": "stdout",
     "output_type": "stream",
     "text": [
      "29\n",
      "2015-02-13\n",
      "118\n"
     ]
    },
    {
     "name": "stderr",
     "output_type": "stream",
     "text": [
      "INFO: Got 120 tweets (120 new).\n",
      "INFO: queries: ['FB OR AMZN OR AAPL OR NFLX OR GOOG OR FAANG AND stocks since:2015-02-18 until:2015-02-19']\n"
     ]
    },
    {
     "name": "stdout",
     "output_type": "stream",
     "text": [
      "30\n",
      "2015-02-17\n",
      "120\n"
     ]
    },
    {
     "name": "stderr",
     "output_type": "stream",
     "text": [
      "INFO: Got 120 tweets (120 new).\n",
      "INFO: queries: ['FB OR AMZN OR AAPL OR NFLX OR GOOG OR FAANG AND stocks since:2015-02-19 until:2015-02-20']\n"
     ]
    },
    {
     "name": "stdout",
     "output_type": "stream",
     "text": [
      "31\n",
      "2015-02-18\n",
      "120\n"
     ]
    },
    {
     "name": "stderr",
     "output_type": "stream",
     "text": [
      "INFO: Got 120 tweets (120 new).\n",
      "INFO: queries: ['FB OR AMZN OR AAPL OR NFLX OR GOOG OR FAANG AND stocks since:2015-02-20 until:2015-02-21']\n"
     ]
    },
    {
     "name": "stdout",
     "output_type": "stream",
     "text": [
      "32\n",
      "2015-02-19\n",
      "120\n"
     ]
    },
    {
     "name": "stderr",
     "output_type": "stream",
     "text": [
      "INFO: Got 120 tweets (120 new).\n",
      "INFO: queries: ['FB OR AMZN OR AAPL OR NFLX OR GOOG OR FAANG AND stocks since:2015-02-23 until:2015-02-24']\n"
     ]
    },
    {
     "name": "stdout",
     "output_type": "stream",
     "text": [
      "33\n",
      "2015-02-20\n",
      "120\n"
     ]
    },
    {
     "name": "stderr",
     "output_type": "stream",
     "text": [
      "INFO: Got 120 tweets (120 new).\n",
      "INFO: queries: ['FB OR AMZN OR AAPL OR NFLX OR GOOG OR FAANG AND stocks since:2015-02-24 until:2015-02-25']\n"
     ]
    },
    {
     "name": "stdout",
     "output_type": "stream",
     "text": [
      "34\n",
      "2015-02-23\n",
      "120\n"
     ]
    },
    {
     "name": "stderr",
     "output_type": "stream",
     "text": [
      "INFO: Got 120 tweets (120 new).\n",
      "INFO: queries: ['FB OR AMZN OR AAPL OR NFLX OR GOOG OR FAANG AND stocks since:2015-02-25 until:2015-02-26']\n"
     ]
    },
    {
     "name": "stdout",
     "output_type": "stream",
     "text": [
      "35\n",
      "2015-02-24\n",
      "120\n"
     ]
    },
    {
     "name": "stderr",
     "output_type": "stream",
     "text": [
      "INFO: Got 118 tweets (118 new).\n",
      "INFO: queries: ['FB OR AMZN OR AAPL OR NFLX OR GOOG OR FAANG AND stocks since:2015-02-26 until:2015-02-27']\n"
     ]
    },
    {
     "name": "stdout",
     "output_type": "stream",
     "text": [
      "36\n",
      "2015-02-25\n",
      "118\n"
     ]
    },
    {
     "name": "stderr",
     "output_type": "stream",
     "text": [
      "INFO: Got 107 tweets (107 new).\n",
      "INFO: queries: ['FB OR AMZN OR AAPL OR NFLX OR GOOG OR FAANG AND stocks since:2015-02-27 until:2015-02-28']\n"
     ]
    },
    {
     "name": "stdout",
     "output_type": "stream",
     "text": [
      "37\n",
      "2015-02-26\n",
      "107\n"
     ]
    },
    {
     "name": "stderr",
     "output_type": "stream",
     "text": [
      "INFO: Got 117 tweets (117 new).\n",
      "INFO: queries: ['FB OR AMZN OR AAPL OR NFLX OR GOOG OR FAANG AND stocks since:2015-03-02 until:2015-03-03']\n"
     ]
    },
    {
     "name": "stdout",
     "output_type": "stream",
     "text": [
      "38\n",
      "2015-02-27\n",
      "117\n"
     ]
    },
    {
     "name": "stderr",
     "output_type": "stream",
     "text": [
      "INFO: Got 113 tweets (113 new).\n",
      "INFO: queries: ['FB OR AMZN OR AAPL OR NFLX OR GOOG OR FAANG AND stocks since:2015-03-03 until:2015-03-04']\n"
     ]
    },
    {
     "name": "stdout",
     "output_type": "stream",
     "text": [
      "39\n",
      "2015-03-02\n",
      "113\n"
     ]
    },
    {
     "name": "stderr",
     "output_type": "stream",
     "text": [
      "INFO: Got 120 tweets (120 new).\n",
      "INFO: queries: ['FB OR AMZN OR AAPL OR NFLX OR GOOG OR FAANG AND stocks since:2015-03-04 until:2015-03-05']\n"
     ]
    },
    {
     "name": "stdout",
     "output_type": "stream",
     "text": [
      "40\n",
      "2015-03-03\n",
      "120\n"
     ]
    },
    {
     "name": "stderr",
     "output_type": "stream",
     "text": [
      "INFO: Got 120 tweets (120 new).\n",
      "INFO: queries: ['FB OR AMZN OR AAPL OR NFLX OR GOOG OR FAANG AND stocks since:2015-03-05 until:2015-03-06']\n"
     ]
    },
    {
     "name": "stdout",
     "output_type": "stream",
     "text": [
      "41\n",
      "2015-03-04\n",
      "120\n"
     ]
    },
    {
     "name": "stderr",
     "output_type": "stream",
     "text": [
      "INFO: Got 118 tweets (118 new).\n",
      "INFO: queries: ['FB OR AMZN OR AAPL OR NFLX OR GOOG OR FAANG AND stocks since:2015-03-06 until:2015-03-07']\n"
     ]
    },
    {
     "name": "stdout",
     "output_type": "stream",
     "text": [
      "42\n",
      "2015-03-05\n",
      "118\n"
     ]
    },
    {
     "name": "stderr",
     "output_type": "stream",
     "text": [
      "INFO: Got 120 tweets (120 new).\n",
      "INFO: queries: ['FB OR AMZN OR AAPL OR NFLX OR GOOG OR FAANG AND stocks since:2015-03-09 until:2015-03-10']\n"
     ]
    },
    {
     "name": "stdout",
     "output_type": "stream",
     "text": [
      "43\n",
      "2015-03-06\n",
      "120\n"
     ]
    },
    {
     "name": "stderr",
     "output_type": "stream",
     "text": [
      "INFO: Got 116 tweets (116 new).\n",
      "INFO: queries: ['FB OR AMZN OR AAPL OR NFLX OR GOOG OR FAANG AND stocks since:2015-03-10 until:2015-03-11']\n"
     ]
    },
    {
     "name": "stdout",
     "output_type": "stream",
     "text": [
      "44\n",
      "2015-03-09\n",
      "116\n"
     ]
    },
    {
     "name": "stderr",
     "output_type": "stream",
     "text": [
      "INFO: Got 114 tweets (114 new).\n",
      "INFO: queries: ['FB OR AMZN OR AAPL OR NFLX OR GOOG OR FAANG AND stocks since:2015-03-11 until:2015-03-12']\n"
     ]
    },
    {
     "name": "stdout",
     "output_type": "stream",
     "text": [
      "45\n",
      "2015-03-10\n",
      "114\n"
     ]
    },
    {
     "name": "stderr",
     "output_type": "stream",
     "text": [
      "INFO: Got 120 tweets (120 new).\n",
      "INFO: queries: ['FB OR AMZN OR AAPL OR NFLX OR GOOG OR FAANG AND stocks since:2015-03-12 until:2015-03-13']\n"
     ]
    },
    {
     "name": "stdout",
     "output_type": "stream",
     "text": [
      "46\n",
      "2015-03-11\n",
      "120\n"
     ]
    },
    {
     "name": "stderr",
     "output_type": "stream",
     "text": [
      "INFO: Got 120 tweets (120 new).\n",
      "INFO: queries: ['FB OR AMZN OR AAPL OR NFLX OR GOOG OR FAANG AND stocks since:2015-03-13 until:2015-03-14']\n"
     ]
    },
    {
     "name": "stdout",
     "output_type": "stream",
     "text": [
      "47\n",
      "2015-03-12\n",
      "120\n"
     ]
    },
    {
     "name": "stderr",
     "output_type": "stream",
     "text": [
      "INFO: Got 118 tweets (118 new).\n",
      "INFO: queries: ['FB OR AMZN OR AAPL OR NFLX OR GOOG OR FAANG AND stocks since:2015-03-16 until:2015-03-17']\n"
     ]
    },
    {
     "name": "stdout",
     "output_type": "stream",
     "text": [
      "48\n",
      "2015-03-13\n",
      "118\n"
     ]
    },
    {
     "name": "stderr",
     "output_type": "stream",
     "text": [
      "INFO: Got 120 tweets (120 new).\n",
      "INFO: queries: ['FB OR AMZN OR AAPL OR NFLX OR GOOG OR FAANG AND stocks since:2015-03-17 until:2015-03-18']\n"
     ]
    },
    {
     "name": "stdout",
     "output_type": "stream",
     "text": [
      "49\n",
      "2015-03-16\n",
      "120\n"
     ]
    },
    {
     "name": "stderr",
     "output_type": "stream",
     "text": [
      "INFO: Got 120 tweets (120 new).\n",
      "INFO: queries: ['FB OR AMZN OR AAPL OR NFLX OR GOOG OR FAANG AND stocks since:2015-03-18 until:2015-03-19']\n"
     ]
    },
    {
     "name": "stdout",
     "output_type": "stream",
     "text": [
      "50\n",
      "2015-03-17\n",
      "120\n"
     ]
    },
    {
     "name": "stderr",
     "output_type": "stream",
     "text": [
      "INFO: Got 119 tweets (119 new).\n",
      "INFO: queries: ['FB OR AMZN OR AAPL OR NFLX OR GOOG OR FAANG AND stocks since:2015-03-19 until:2015-03-20']\n"
     ]
    },
    {
     "name": "stdout",
     "output_type": "stream",
     "text": [
      "51\n",
      "2015-03-18\n",
      "119\n"
     ]
    },
    {
     "name": "stderr",
     "output_type": "stream",
     "text": [
      "INFO: Got 120 tweets (120 new).\n",
      "INFO: queries: ['FB OR AMZN OR AAPL OR NFLX OR GOOG OR FAANG AND stocks since:2015-03-20 until:2015-03-21']\n"
     ]
    },
    {
     "name": "stdout",
     "output_type": "stream",
     "text": [
      "52\n",
      "2015-03-19\n",
      "120\n"
     ]
    },
    {
     "name": "stderr",
     "output_type": "stream",
     "text": [
      "INFO: Got 119 tweets (119 new).\n",
      "INFO: queries: ['FB OR AMZN OR AAPL OR NFLX OR GOOG OR FAANG AND stocks since:2015-03-23 until:2015-03-24']\n"
     ]
    },
    {
     "name": "stdout",
     "output_type": "stream",
     "text": [
      "53\n",
      "2015-03-20\n",
      "119\n"
     ]
    },
    {
     "name": "stderr",
     "output_type": "stream",
     "text": [
      "INFO: Got 118 tweets (118 new).\n",
      "INFO: queries: ['FB OR AMZN OR AAPL OR NFLX OR GOOG OR FAANG AND stocks since:2015-03-24 until:2015-03-25']\n"
     ]
    },
    {
     "name": "stdout",
     "output_type": "stream",
     "text": [
      "54\n",
      "2015-03-23\n",
      "118\n"
     ]
    },
    {
     "name": "stderr",
     "output_type": "stream",
     "text": [
      "INFO: Got 120 tweets (120 new).\n",
      "INFO: queries: ['FB OR AMZN OR AAPL OR NFLX OR GOOG OR FAANG AND stocks since:2015-03-25 until:2015-03-26']\n"
     ]
    },
    {
     "name": "stdout",
     "output_type": "stream",
     "text": [
      "55\n",
      "2015-03-24\n",
      "120\n"
     ]
    },
    {
     "name": "stderr",
     "output_type": "stream",
     "text": [
      "INFO: Got 120 tweets (120 new).\n",
      "INFO: queries: ['FB OR AMZN OR AAPL OR NFLX OR GOOG OR FAANG AND stocks since:2015-03-26 until:2015-03-27']\n"
     ]
    },
    {
     "name": "stdout",
     "output_type": "stream",
     "text": [
      "56\n",
      "2015-03-25\n",
      "120\n"
     ]
    },
    {
     "name": "stderr",
     "output_type": "stream",
     "text": [
      "INFO: Got 120 tweets (120 new).\n",
      "INFO: queries: ['FB OR AMZN OR AAPL OR NFLX OR GOOG OR FAANG AND stocks since:2015-03-27 until:2015-03-28']\n"
     ]
    },
    {
     "name": "stdout",
     "output_type": "stream",
     "text": [
      "57\n",
      "2015-03-26\n",
      "120\n"
     ]
    },
    {
     "name": "stderr",
     "output_type": "stream",
     "text": [
      "INFO: Got 120 tweets (120 new).\n",
      "INFO: queries: ['FB OR AMZN OR AAPL OR NFLX OR GOOG OR FAANG AND stocks since:2015-03-30 until:2015-03-31']\n"
     ]
    },
    {
     "name": "stdout",
     "output_type": "stream",
     "text": [
      "58\n",
      "2015-03-27\n",
      "120\n"
     ]
    },
    {
     "name": "stderr",
     "output_type": "stream",
     "text": [
      "INFO: Got 120 tweets (120 new).\n",
      "INFO: queries: ['FB OR AMZN OR AAPL OR NFLX OR GOOG OR FAANG AND stocks since:2015-03-31 until:2015-04-01']\n"
     ]
    },
    {
     "name": "stdout",
     "output_type": "stream",
     "text": [
      "59\n",
      "2015-03-30\n",
      "120\n"
     ]
    },
    {
     "name": "stderr",
     "output_type": "stream",
     "text": [
      "INFO: Got 117 tweets (117 new).\n",
      "INFO: queries: ['FB OR AMZN OR AAPL OR NFLX OR GOOG OR FAANG AND stocks since:2015-04-01 until:2015-04-02']\n"
     ]
    },
    {
     "name": "stdout",
     "output_type": "stream",
     "text": [
      "60\n",
      "2015-03-31\n",
      "117\n"
     ]
    },
    {
     "name": "stderr",
     "output_type": "stream",
     "text": [
      "INFO: Got 120 tweets (120 new).\n",
      "INFO: queries: ['FB OR AMZN OR AAPL OR NFLX OR GOOG OR FAANG AND stocks since:2015-04-02 until:2015-04-03']\n"
     ]
    },
    {
     "name": "stdout",
     "output_type": "stream",
     "text": [
      "61\n",
      "2015-04-01\n",
      "120\n"
     ]
    },
    {
     "name": "stderr",
     "output_type": "stream",
     "text": [
      "INFO: Got 101 tweets (101 new).\n",
      "INFO: queries: ['FB OR AMZN OR AAPL OR NFLX OR GOOG OR FAANG AND stocks since:2015-04-06 until:2015-04-07']\n"
     ]
    },
    {
     "name": "stdout",
     "output_type": "stream",
     "text": [
      "62\n",
      "2015-04-02\n",
      "101\n"
     ]
    },
    {
     "name": "stderr",
     "output_type": "stream",
     "text": [
      "INFO: Got 118 tweets (118 new).\n",
      "INFO: queries: ['FB OR AMZN OR AAPL OR NFLX OR GOOG OR FAANG AND stocks since:2015-04-07 until:2015-04-08']\n"
     ]
    },
    {
     "name": "stdout",
     "output_type": "stream",
     "text": [
      "63\n",
      "2015-04-06\n",
      "118\n"
     ]
    },
    {
     "name": "stderr",
     "output_type": "stream",
     "text": [
      "INFO: Got 120 tweets (120 new).\n",
      "INFO: queries: ['FB OR AMZN OR AAPL OR NFLX OR GOOG OR FAANG AND stocks since:2015-04-08 until:2015-04-09']\n"
     ]
    },
    {
     "name": "stdout",
     "output_type": "stream",
     "text": [
      "64\n",
      "2015-04-07\n",
      "120\n"
     ]
    },
    {
     "name": "stderr",
     "output_type": "stream",
     "text": [
      "INFO: Got 120 tweets (120 new).\n",
      "INFO: queries: ['FB OR AMZN OR AAPL OR NFLX OR GOOG OR FAANG AND stocks since:2015-04-09 until:2015-04-10']\n"
     ]
    },
    {
     "name": "stdout",
     "output_type": "stream",
     "text": [
      "65\n",
      "2015-04-08\n",
      "120\n"
     ]
    },
    {
     "name": "stderr",
     "output_type": "stream",
     "text": [
      "INFO: Got 119 tweets (119 new).\n",
      "INFO: queries: ['FB OR AMZN OR AAPL OR NFLX OR GOOG OR FAANG AND stocks since:2015-04-10 until:2015-04-11']\n"
     ]
    },
    {
     "name": "stdout",
     "output_type": "stream",
     "text": [
      "66\n",
      "2015-04-09\n",
      "119\n"
     ]
    },
    {
     "name": "stderr",
     "output_type": "stream",
     "text": [
      "INFO: Got 119 tweets (119 new).\n",
      "INFO: queries: ['FB OR AMZN OR AAPL OR NFLX OR GOOG OR FAANG AND stocks since:2015-04-13 until:2015-04-14']\n"
     ]
    },
    {
     "name": "stdout",
     "output_type": "stream",
     "text": [
      "67\n",
      "2015-04-10\n",
      "119\n"
     ]
    },
    {
     "name": "stderr",
     "output_type": "stream",
     "text": [
      "INFO: Got 120 tweets (120 new).\n",
      "INFO: queries: ['FB OR AMZN OR AAPL OR NFLX OR GOOG OR FAANG AND stocks since:2015-04-14 until:2015-04-15']\n"
     ]
    },
    {
     "name": "stdout",
     "output_type": "stream",
     "text": [
      "68\n",
      "2015-04-13\n",
      "120\n"
     ]
    },
    {
     "name": "stderr",
     "output_type": "stream",
     "text": [
      "INFO: Got 120 tweets (120 new).\n",
      "INFO: queries: ['FB OR AMZN OR AAPL OR NFLX OR GOOG OR FAANG AND stocks since:2015-04-15 until:2015-04-16']\n"
     ]
    },
    {
     "name": "stdout",
     "output_type": "stream",
     "text": [
      "69\n",
      "2015-04-14\n",
      "120\n"
     ]
    },
    {
     "name": "stderr",
     "output_type": "stream",
     "text": [
      "INFO: Got 110 tweets (110 new).\n",
      "INFO: queries: ['FB OR AMZN OR AAPL OR NFLX OR GOOG OR FAANG AND stocks since:2015-04-16 until:2015-04-17']\n"
     ]
    },
    {
     "name": "stdout",
     "output_type": "stream",
     "text": [
      "70\n",
      "2015-04-15\n",
      "110\n"
     ]
    },
    {
     "name": "stderr",
     "output_type": "stream",
     "text": [
      "INFO: Got 120 tweets (120 new).\n",
      "INFO: queries: ['FB OR AMZN OR AAPL OR NFLX OR GOOG OR FAANG AND stocks since:2015-04-17 until:2015-04-18']\n"
     ]
    },
    {
     "name": "stdout",
     "output_type": "stream",
     "text": [
      "71\n",
      "2015-04-16\n",
      "120\n"
     ]
    },
    {
     "name": "stderr",
     "output_type": "stream",
     "text": [
      "INFO: Got 120 tweets (120 new).\n",
      "INFO: queries: ['FB OR AMZN OR AAPL OR NFLX OR GOOG OR FAANG AND stocks since:2015-04-20 until:2015-04-21']\n"
     ]
    },
    {
     "name": "stdout",
     "output_type": "stream",
     "text": [
      "72\n",
      "2015-04-17\n",
      "120\n"
     ]
    },
    {
     "name": "stderr",
     "output_type": "stream",
     "text": [
      "INFO: Got 120 tweets (120 new).\n",
      "INFO: queries: ['FB OR AMZN OR AAPL OR NFLX OR GOOG OR FAANG AND stocks since:2015-04-21 until:2015-04-22']\n"
     ]
    },
    {
     "name": "stdout",
     "output_type": "stream",
     "text": [
      "73\n",
      "2015-04-20\n",
      "120\n"
     ]
    },
    {
     "name": "stderr",
     "output_type": "stream",
     "text": [
      "INFO: Got 120 tweets (120 new).\n",
      "INFO: queries: ['FB OR AMZN OR AAPL OR NFLX OR GOOG OR FAANG AND stocks since:2015-04-22 until:2015-04-23']\n"
     ]
    },
    {
     "name": "stdout",
     "output_type": "stream",
     "text": [
      "74\n",
      "2015-04-21\n",
      "120\n"
     ]
    },
    {
     "name": "stderr",
     "output_type": "stream",
     "text": [
      "INFO: Got 112 tweets (112 new).\n",
      "INFO: queries: ['FB OR AMZN OR AAPL OR NFLX OR GOOG OR FAANG AND stocks since:2015-04-23 until:2015-04-24']\n"
     ]
    },
    {
     "name": "stdout",
     "output_type": "stream",
     "text": [
      "75\n",
      "2015-04-22\n",
      "112\n"
     ]
    },
    {
     "name": "stderr",
     "output_type": "stream",
     "text": [
      "INFO: Got 116 tweets (116 new).\n",
      "INFO: queries: ['FB OR AMZN OR AAPL OR NFLX OR GOOG OR FAANG AND stocks since:2015-04-24 until:2015-04-25']\n"
     ]
    },
    {
     "name": "stdout",
     "output_type": "stream",
     "text": [
      "76\n",
      "2015-04-23\n",
      "116\n"
     ]
    },
    {
     "name": "stderr",
     "output_type": "stream",
     "text": [
      "INFO: Got 118 tweets (118 new).\n",
      "INFO: queries: ['FB OR AMZN OR AAPL OR NFLX OR GOOG OR FAANG AND stocks since:2015-04-27 until:2015-04-28']\n"
     ]
    },
    {
     "name": "stdout",
     "output_type": "stream",
     "text": [
      "77\n",
      "2015-04-24\n",
      "118\n"
     ]
    },
    {
     "name": "stderr",
     "output_type": "stream",
     "text": [
      "INFO: Got 116 tweets (116 new).\n",
      "INFO: queries: ['FB OR AMZN OR AAPL OR NFLX OR GOOG OR FAANG AND stocks since:2015-04-28 until:2015-04-29']\n"
     ]
    },
    {
     "name": "stdout",
     "output_type": "stream",
     "text": [
      "78\n",
      "2015-04-27\n",
      "116\n"
     ]
    },
    {
     "name": "stderr",
     "output_type": "stream",
     "text": [
      "INFO: Got 120 tweets (120 new).\n",
      "INFO: queries: ['FB OR AMZN OR AAPL OR NFLX OR GOOG OR FAANG AND stocks since:2015-04-29 until:2015-04-30']\n"
     ]
    },
    {
     "name": "stdout",
     "output_type": "stream",
     "text": [
      "79\n",
      "2015-04-28\n",
      "120\n"
     ]
    },
    {
     "name": "stderr",
     "output_type": "stream",
     "text": [
      "INFO: Got 117 tweets (117 new).\n",
      "INFO: queries: ['FB OR AMZN OR AAPL OR NFLX OR GOOG OR FAANG AND stocks since:2015-04-30 until:2015-05-01']\n"
     ]
    },
    {
     "name": "stdout",
     "output_type": "stream",
     "text": [
      "80\n",
      "2015-04-29\n",
      "117\n"
     ]
    },
    {
     "name": "stderr",
     "output_type": "stream",
     "text": [
      "INFO: Got 120 tweets (120 new).\n",
      "INFO: queries: ['FB OR AMZN OR AAPL OR NFLX OR GOOG OR FAANG AND stocks since:2015-05-01 until:2015-05-02']\n"
     ]
    },
    {
     "name": "stdout",
     "output_type": "stream",
     "text": [
      "81\n",
      "2015-04-30\n",
      "120\n"
     ]
    },
    {
     "name": "stderr",
     "output_type": "stream",
     "text": [
      "INFO: Got 116 tweets (116 new).\n",
      "INFO: queries: ['FB OR AMZN OR AAPL OR NFLX OR GOOG OR FAANG AND stocks since:2015-05-04 until:2015-05-05']\n"
     ]
    },
    {
     "name": "stdout",
     "output_type": "stream",
     "text": [
      "82\n",
      "2015-05-01\n",
      "116\n"
     ]
    },
    {
     "name": "stderr",
     "output_type": "stream",
     "text": [
      "INFO: Got 109 tweets (109 new).\n",
      "INFO: queries: ['FB OR AMZN OR AAPL OR NFLX OR GOOG OR FAANG AND stocks since:2015-05-05 until:2015-05-06']\n"
     ]
    },
    {
     "name": "stdout",
     "output_type": "stream",
     "text": [
      "83\n",
      "2015-05-04\n",
      "109\n"
     ]
    },
    {
     "name": "stderr",
     "output_type": "stream",
     "text": [
      "INFO: Got 110 tweets (110 new).\n",
      "INFO: queries: ['FB OR AMZN OR AAPL OR NFLX OR GOOG OR FAANG AND stocks since:2015-05-06 until:2015-05-07']\n"
     ]
    },
    {
     "name": "stdout",
     "output_type": "stream",
     "text": [
      "84\n",
      "2015-05-05\n",
      "110\n"
     ]
    },
    {
     "name": "stderr",
     "output_type": "stream",
     "text": [
      "INFO: Got 112 tweets (112 new).\n",
      "INFO: queries: ['FB OR AMZN OR AAPL OR NFLX OR GOOG OR FAANG AND stocks since:2015-05-07 until:2015-05-08']\n"
     ]
    },
    {
     "name": "stdout",
     "output_type": "stream",
     "text": [
      "85\n",
      "2015-05-06\n",
      "112\n"
     ]
    },
    {
     "name": "stderr",
     "output_type": "stream",
     "text": [
      "INFO: Got 112 tweets (112 new).\n",
      "INFO: queries: ['FB OR AMZN OR AAPL OR NFLX OR GOOG OR FAANG AND stocks since:2015-05-08 until:2015-05-09']\n"
     ]
    },
    {
     "name": "stdout",
     "output_type": "stream",
     "text": [
      "86\n",
      "2015-05-07\n",
      "112\n"
     ]
    },
    {
     "name": "stderr",
     "output_type": "stream",
     "text": [
      "INFO: Got 116 tweets (116 new).\n",
      "INFO: queries: ['FB OR AMZN OR AAPL OR NFLX OR GOOG OR FAANG AND stocks since:2015-05-11 until:2015-05-12']\n"
     ]
    },
    {
     "name": "stdout",
     "output_type": "stream",
     "text": [
      "87\n",
      "2015-05-08\n",
      "116\n"
     ]
    },
    {
     "name": "stderr",
     "output_type": "stream",
     "text": [
      "INFO: Got 119 tweets (119 new).\n",
      "INFO: queries: ['FB OR AMZN OR AAPL OR NFLX OR GOOG OR FAANG AND stocks since:2015-05-12 until:2015-05-13']\n"
     ]
    },
    {
     "name": "stdout",
     "output_type": "stream",
     "text": [
      "88\n",
      "2015-05-11\n",
      "119\n"
     ]
    },
    {
     "name": "stderr",
     "output_type": "stream",
     "text": [
      "INFO: Got 120 tweets (120 new).\n",
      "INFO: queries: ['FB OR AMZN OR AAPL OR NFLX OR GOOG OR FAANG AND stocks since:2015-05-13 until:2015-05-14']\n"
     ]
    },
    {
     "name": "stdout",
     "output_type": "stream",
     "text": [
      "89\n",
      "2015-05-12\n",
      "120\n"
     ]
    },
    {
     "name": "stderr",
     "output_type": "stream",
     "text": [
      "INFO: Got 118 tweets (118 new).\n",
      "INFO: queries: ['FB OR AMZN OR AAPL OR NFLX OR GOOG OR FAANG AND stocks since:2015-05-14 until:2015-05-15']\n"
     ]
    },
    {
     "name": "stdout",
     "output_type": "stream",
     "text": [
      "90\n",
      "2015-05-13\n",
      "118\n"
     ]
    },
    {
     "name": "stderr",
     "output_type": "stream",
     "text": [
      "INFO: Got 114 tweets (114 new).\n",
      "INFO: queries: ['FB OR AMZN OR AAPL OR NFLX OR GOOG OR FAANG AND stocks since:2015-05-15 until:2015-05-16']\n"
     ]
    },
    {
     "name": "stdout",
     "output_type": "stream",
     "text": [
      "91\n",
      "2015-05-14\n",
      "114\n"
     ]
    },
    {
     "name": "stderr",
     "output_type": "stream",
     "text": [
      "INFO: Got 119 tweets (119 new).\n",
      "INFO: queries: ['FB OR AMZN OR AAPL OR NFLX OR GOOG OR FAANG AND stocks since:2015-05-18 until:2015-05-19']\n"
     ]
    },
    {
     "name": "stdout",
     "output_type": "stream",
     "text": [
      "92\n",
      "2015-05-15\n",
      "119\n"
     ]
    },
    {
     "name": "stderr",
     "output_type": "stream",
     "text": [
      "INFO: Got 117 tweets (117 new).\n",
      "INFO: queries: ['FB OR AMZN OR AAPL OR NFLX OR GOOG OR FAANG AND stocks since:2015-05-19 until:2015-05-20']\n"
     ]
    },
    {
     "name": "stdout",
     "output_type": "stream",
     "text": [
      "93\n",
      "2015-05-18\n",
      "117\n"
     ]
    },
    {
     "name": "stderr",
     "output_type": "stream",
     "text": [
      "INFO: Got 117 tweets (117 new).\n",
      "INFO: queries: ['FB OR AMZN OR AAPL OR NFLX OR GOOG OR FAANG AND stocks since:2015-05-20 until:2015-05-21']\n"
     ]
    },
    {
     "name": "stdout",
     "output_type": "stream",
     "text": [
      "94\n",
      "2015-05-19\n",
      "117\n"
     ]
    },
    {
     "name": "stderr",
     "output_type": "stream",
     "text": [
      "INFO: Got 111 tweets (111 new).\n",
      "INFO: queries: ['FB OR AMZN OR AAPL OR NFLX OR GOOG OR FAANG AND stocks since:2015-05-21 until:2015-05-22']\n"
     ]
    },
    {
     "name": "stdout",
     "output_type": "stream",
     "text": [
      "95\n",
      "2015-05-20\n",
      "111\n"
     ]
    },
    {
     "name": "stderr",
     "output_type": "stream",
     "text": [
      "INFO: Got 114 tweets (114 new).\n",
      "INFO: queries: ['FB OR AMZN OR AAPL OR NFLX OR GOOG OR FAANG AND stocks since:2015-05-22 until:2015-05-23']\n"
     ]
    },
    {
     "name": "stdout",
     "output_type": "stream",
     "text": [
      "96\n",
      "2015-05-21\n",
      "114\n"
     ]
    },
    {
     "name": "stderr",
     "output_type": "stream",
     "text": [
      "INFO: Got 105 tweets (105 new).\n",
      "INFO: queries: ['FB OR AMZN OR AAPL OR NFLX OR GOOG OR FAANG AND stocks since:2015-05-26 until:2015-05-27']\n"
     ]
    },
    {
     "name": "stdout",
     "output_type": "stream",
     "text": [
      "97\n",
      "2015-05-22\n",
      "105\n"
     ]
    },
    {
     "name": "stderr",
     "output_type": "stream",
     "text": [
      "INFO: Got 111 tweets (111 new).\n",
      "INFO: queries: ['FB OR AMZN OR AAPL OR NFLX OR GOOG OR FAANG AND stocks since:2015-05-27 until:2015-05-28']\n"
     ]
    },
    {
     "name": "stdout",
     "output_type": "stream",
     "text": [
      "98\n",
      "2015-05-26\n",
      "111\n"
     ]
    },
    {
     "name": "stderr",
     "output_type": "stream",
     "text": [
      "INFO: Got 101 tweets (101 new).\n",
      "INFO: queries: ['FB OR AMZN OR AAPL OR NFLX OR GOOG OR FAANG AND stocks since:2015-05-28 until:2015-05-29']\n"
     ]
    },
    {
     "name": "stdout",
     "output_type": "stream",
     "text": [
      "99\n",
      "2015-05-27\n",
      "101\n"
     ]
    },
    {
     "name": "stderr",
     "output_type": "stream",
     "text": [
      "INFO: Got 111 tweets (111 new).\n",
      "INFO: queries: ['FB OR AMZN OR AAPL OR NFLX OR GOOG OR FAANG AND stocks since:2015-05-29 until:2015-05-30']\n"
     ]
    },
    {
     "name": "stdout",
     "output_type": "stream",
     "text": [
      "100\n",
      "2015-05-28\n",
      "111\n"
     ]
    },
    {
     "name": "stderr",
     "output_type": "stream",
     "text": [
      "INFO: Got 116 tweets (116 new).\n",
      "INFO: queries: ['FB OR AMZN OR AAPL OR NFLX OR GOOG OR FAANG AND stocks since:2015-06-01 until:2015-06-02']\n"
     ]
    },
    {
     "name": "stdout",
     "output_type": "stream",
     "text": [
      "101\n",
      "2015-05-29\n",
      "116\n"
     ]
    },
    {
     "name": "stderr",
     "output_type": "stream",
     "text": [
      "INFO: Got 120 tweets (120 new).\n",
      "INFO: queries: ['FB OR AMZN OR AAPL OR NFLX OR GOOG OR FAANG AND stocks since:2015-06-02 until:2015-06-03']\n"
     ]
    },
    {
     "name": "stdout",
     "output_type": "stream",
     "text": [
      "102\n",
      "2015-06-01\n",
      "120\n"
     ]
    },
    {
     "name": "stderr",
     "output_type": "stream",
     "text": [
      "INFO: Got 116 tweets (116 new).\n",
      "INFO: queries: ['FB OR AMZN OR AAPL OR NFLX OR GOOG OR FAANG AND stocks since:2015-06-03 until:2015-06-04']\n"
     ]
    },
    {
     "name": "stdout",
     "output_type": "stream",
     "text": [
      "103\n",
      "2015-06-02\n",
      "116\n"
     ]
    },
    {
     "name": "stderr",
     "output_type": "stream",
     "text": [
      "INFO: Got 119 tweets (119 new).\n",
      "INFO: queries: ['FB OR AMZN OR AAPL OR NFLX OR GOOG OR FAANG AND stocks since:2015-06-04 until:2015-06-05']\n"
     ]
    },
    {
     "name": "stdout",
     "output_type": "stream",
     "text": [
      "104\n",
      "2015-06-03\n",
      "119\n"
     ]
    },
    {
     "name": "stderr",
     "output_type": "stream",
     "text": [
      "INFO: Got 118 tweets (118 new).\n",
      "INFO: queries: ['FB OR AMZN OR AAPL OR NFLX OR GOOG OR FAANG AND stocks since:2015-06-05 until:2015-06-06']\n"
     ]
    },
    {
     "name": "stdout",
     "output_type": "stream",
     "text": [
      "105\n",
      "2015-06-04\n",
      "118\n"
     ]
    },
    {
     "name": "stderr",
     "output_type": "stream",
     "text": [
      "INFO: Got 103 tweets (103 new).\n",
      "INFO: queries: ['FB OR AMZN OR AAPL OR NFLX OR GOOG OR FAANG AND stocks since:2015-06-08 until:2015-06-09']\n"
     ]
    },
    {
     "name": "stdout",
     "output_type": "stream",
     "text": [
      "106\n",
      "2015-06-05\n",
      "103\n"
     ]
    },
    {
     "name": "stderr",
     "output_type": "stream",
     "text": [
      "INFO: Got 114 tweets (114 new).\n",
      "INFO: queries: ['FB OR AMZN OR AAPL OR NFLX OR GOOG OR FAANG AND stocks since:2015-06-09 until:2015-06-10']\n"
     ]
    },
    {
     "name": "stdout",
     "output_type": "stream",
     "text": [
      "107\n",
      "2015-06-08\n",
      "114\n"
     ]
    },
    {
     "name": "stderr",
     "output_type": "stream",
     "text": [
      "INFO: Got 113 tweets (113 new).\n",
      "INFO: queries: ['FB OR AMZN OR AAPL OR NFLX OR GOOG OR FAANG AND stocks since:2015-06-10 until:2015-06-11']\n"
     ]
    },
    {
     "name": "stdout",
     "output_type": "stream",
     "text": [
      "108\n",
      "2015-06-09\n",
      "113\n"
     ]
    },
    {
     "name": "stderr",
     "output_type": "stream",
     "text": [
      "INFO: Got 108 tweets (108 new).\n",
      "INFO: queries: ['FB OR AMZN OR AAPL OR NFLX OR GOOG OR FAANG AND stocks since:2015-06-11 until:2015-06-12']\n"
     ]
    },
    {
     "name": "stdout",
     "output_type": "stream",
     "text": [
      "109\n",
      "2015-06-10\n",
      "108\n"
     ]
    },
    {
     "name": "stderr",
     "output_type": "stream",
     "text": [
      "INFO: Got 116 tweets (116 new).\n",
      "INFO: queries: ['FB OR AMZN OR AAPL OR NFLX OR GOOG OR FAANG AND stocks since:2015-06-12 until:2015-06-13']\n"
     ]
    },
    {
     "name": "stdout",
     "output_type": "stream",
     "text": [
      "110\n",
      "2015-06-11\n",
      "116\n"
     ]
    },
    {
     "name": "stderr",
     "output_type": "stream",
     "text": [
      "INFO: Got 103 tweets (103 new).\n",
      "INFO: queries: ['FB OR AMZN OR AAPL OR NFLX OR GOOG OR FAANG AND stocks since:2015-06-15 until:2015-06-16']\n"
     ]
    },
    {
     "name": "stdout",
     "output_type": "stream",
     "text": [
      "111\n",
      "2015-06-12\n",
      "103\n"
     ]
    },
    {
     "name": "stderr",
     "output_type": "stream",
     "text": [
      "INFO: Got 103 tweets (103 new).\n",
      "INFO: queries: ['FB OR AMZN OR AAPL OR NFLX OR GOOG OR FAANG AND stocks since:2015-06-16 until:2015-06-17']\n"
     ]
    },
    {
     "name": "stdout",
     "output_type": "stream",
     "text": [
      "112\n",
      "2015-06-15\n",
      "103\n"
     ]
    },
    {
     "name": "stderr",
     "output_type": "stream",
     "text": [
      "INFO: Got 116 tweets (116 new).\n",
      "INFO: queries: ['FB OR AMZN OR AAPL OR NFLX OR GOOG OR FAANG AND stocks since:2015-06-17 until:2015-06-18']\n"
     ]
    },
    {
     "name": "stdout",
     "output_type": "stream",
     "text": [
      "113\n",
      "2015-06-16\n",
      "116\n"
     ]
    },
    {
     "name": "stderr",
     "output_type": "stream",
     "text": [
      "INFO: Got 105 tweets (105 new).\n",
      "INFO: queries: ['FB OR AMZN OR AAPL OR NFLX OR GOOG OR FAANG AND stocks since:2015-06-18 until:2015-06-19']\n"
     ]
    },
    {
     "name": "stdout",
     "output_type": "stream",
     "text": [
      "114\n",
      "2015-06-17\n",
      "105\n"
     ]
    },
    {
     "name": "stderr",
     "output_type": "stream",
     "text": [
      "INFO: Got 102 tweets (102 new).\n",
      "INFO: queries: ['FB OR AMZN OR AAPL OR NFLX OR GOOG OR FAANG AND stocks since:2015-06-19 until:2015-06-20']\n"
     ]
    },
    {
     "name": "stdout",
     "output_type": "stream",
     "text": [
      "115\n",
      "2015-06-18\n",
      "102\n"
     ]
    },
    {
     "name": "stderr",
     "output_type": "stream",
     "text": [
      "INFO: Got 105 tweets (105 new).\n",
      "INFO: queries: ['FB OR AMZN OR AAPL OR NFLX OR GOOG OR FAANG AND stocks since:2015-06-22 until:2015-06-23']\n"
     ]
    },
    {
     "name": "stdout",
     "output_type": "stream",
     "text": [
      "116\n",
      "2015-06-19\n",
      "105\n"
     ]
    },
    {
     "name": "stderr",
     "output_type": "stream",
     "text": [
      "INFO: Got 102 tweets (102 new).\n",
      "INFO: queries: ['FB OR AMZN OR AAPL OR NFLX OR GOOG OR FAANG AND stocks since:2015-06-23 until:2015-06-24']\n"
     ]
    },
    {
     "name": "stdout",
     "output_type": "stream",
     "text": [
      "117\n",
      "2015-06-22\n",
      "102\n"
     ]
    },
    {
     "name": "stderr",
     "output_type": "stream",
     "text": [
      "INFO: Got 114 tweets (114 new).\n",
      "INFO: queries: ['FB OR AMZN OR AAPL OR NFLX OR GOOG OR FAANG AND stocks since:2015-06-24 until:2015-06-25']\n"
     ]
    },
    {
     "name": "stdout",
     "output_type": "stream",
     "text": [
      "118\n",
      "2015-06-23\n",
      "114\n"
     ]
    },
    {
     "name": "stderr",
     "output_type": "stream",
     "text": [
      "INFO: Got 109 tweets (109 new).\n",
      "INFO: queries: ['FB OR AMZN OR AAPL OR NFLX OR GOOG OR FAANG AND stocks since:2015-06-25 until:2015-06-26']\n"
     ]
    },
    {
     "name": "stdout",
     "output_type": "stream",
     "text": [
      "119\n",
      "2015-06-24\n",
      "109\n"
     ]
    },
    {
     "name": "stderr",
     "output_type": "stream",
     "text": [
      "INFO: Got 107 tweets (107 new).\n",
      "INFO: queries: ['FB OR AMZN OR AAPL OR NFLX OR GOOG OR FAANG AND stocks since:2015-06-26 until:2015-06-27']\n"
     ]
    },
    {
     "name": "stdout",
     "output_type": "stream",
     "text": [
      "120\n",
      "2015-06-25\n",
      "107\n"
     ]
    },
    {
     "name": "stderr",
     "output_type": "stream",
     "text": [
      "INFO: Got 101 tweets (101 new).\n",
      "INFO: queries: ['FB OR AMZN OR AAPL OR NFLX OR GOOG OR FAANG AND stocks since:2015-06-29 until:2015-06-30']\n"
     ]
    },
    {
     "name": "stdout",
     "output_type": "stream",
     "text": [
      "121\n",
      "2015-06-26\n",
      "101\n"
     ]
    },
    {
     "name": "stderr",
     "output_type": "stream",
     "text": [
      "INFO: Got 106 tweets (106 new).\n",
      "INFO: queries: ['FB OR AMZN OR AAPL OR NFLX OR GOOG OR FAANG AND stocks since:2015-06-30 until:2015-07-01']\n"
     ]
    },
    {
     "name": "stdout",
     "output_type": "stream",
     "text": [
      "122\n",
      "2015-06-29\n",
      "106\n"
     ]
    },
    {
     "name": "stderr",
     "output_type": "stream",
     "text": [
      "INFO: Got 102 tweets (102 new).\n",
      "INFO: queries: ['FB OR AMZN OR AAPL OR NFLX OR GOOG OR FAANG AND stocks since:2015-07-01 until:2015-07-02']\n"
     ]
    },
    {
     "name": "stdout",
     "output_type": "stream",
     "text": [
      "123\n",
      "2015-06-30\n",
      "102\n"
     ]
    },
    {
     "name": "stderr",
     "output_type": "stream",
     "text": [
      "INFO: Got 107 tweets (107 new).\n",
      "INFO: queries: ['FB OR AMZN OR AAPL OR NFLX OR GOOG OR FAANG AND stocks since:2015-07-02 until:2015-07-03']\n"
     ]
    },
    {
     "name": "stdout",
     "output_type": "stream",
     "text": [
      "124\n",
      "2015-07-01\n",
      "107\n"
     ]
    },
    {
     "name": "stderr",
     "output_type": "stream",
     "text": [
      "INFO: Got 121 tweets (121 new).\n",
      "INFO: queries: ['FB OR AMZN OR AAPL OR NFLX OR GOOG OR FAANG AND stocks since:2015-07-06 until:2015-07-07']\n"
     ]
    },
    {
     "name": "stdout",
     "output_type": "stream",
     "text": [
      "125\n",
      "2015-07-02\n",
      "121\n"
     ]
    },
    {
     "name": "stderr",
     "output_type": "stream",
     "text": [
      "INFO: Got 118 tweets (118 new).\n",
      "INFO: queries: ['FB OR AMZN OR AAPL OR NFLX OR GOOG OR FAANG AND stocks since:2015-07-07 until:2015-07-08']\n"
     ]
    },
    {
     "name": "stdout",
     "output_type": "stream",
     "text": [
      "126\n",
      "2015-07-06\n",
      "118\n"
     ]
    },
    {
     "name": "stderr",
     "output_type": "stream",
     "text": [
      "INFO: Got 113 tweets (113 new).\n",
      "INFO: queries: ['FB OR AMZN OR AAPL OR NFLX OR GOOG OR FAANG AND stocks since:2015-07-08 until:2015-07-09']\n"
     ]
    },
    {
     "name": "stdout",
     "output_type": "stream",
     "text": [
      "127\n",
      "2015-07-07\n",
      "113\n"
     ]
    },
    {
     "name": "stderr",
     "output_type": "stream",
     "text": [
      "INFO: Got 118 tweets (118 new).\n",
      "INFO: queries: ['FB OR AMZN OR AAPL OR NFLX OR GOOG OR FAANG AND stocks since:2015-07-09 until:2015-07-10']\n"
     ]
    },
    {
     "name": "stdout",
     "output_type": "stream",
     "text": [
      "128\n",
      "2015-07-08\n",
      "118\n"
     ]
    },
    {
     "name": "stderr",
     "output_type": "stream",
     "text": [
      "INFO: Got 120 tweets (120 new).\n",
      "INFO: queries: ['FB OR AMZN OR AAPL OR NFLX OR GOOG OR FAANG AND stocks since:2015-07-10 until:2015-07-11']\n"
     ]
    },
    {
     "name": "stdout",
     "output_type": "stream",
     "text": [
      "129\n",
      "2015-07-09\n",
      "120\n"
     ]
    },
    {
     "name": "stderr",
     "output_type": "stream",
     "text": [
      "INFO: Got 113 tweets (113 new).\n",
      "INFO: queries: ['FB OR AMZN OR AAPL OR NFLX OR GOOG OR FAANG AND stocks since:2015-07-13 until:2015-07-14']\n"
     ]
    },
    {
     "name": "stdout",
     "output_type": "stream",
     "text": [
      "130\n",
      "2015-07-10\n",
      "113\n"
     ]
    },
    {
     "name": "stderr",
     "output_type": "stream",
     "text": [
      "INFO: Got 111 tweets (111 new).\n",
      "INFO: queries: ['FB OR AMZN OR AAPL OR NFLX OR GOOG OR FAANG AND stocks since:2015-07-14 until:2015-07-15']\n"
     ]
    },
    {
     "name": "stdout",
     "output_type": "stream",
     "text": [
      "131\n",
      "2015-07-13\n",
      "111\n"
     ]
    },
    {
     "name": "stderr",
     "output_type": "stream",
     "text": [
      "INFO: Got 120 tweets (120 new).\n",
      "INFO: queries: ['FB OR AMZN OR AAPL OR NFLX OR GOOG OR FAANG AND stocks since:2015-07-15 until:2015-07-16']\n"
     ]
    },
    {
     "name": "stdout",
     "output_type": "stream",
     "text": [
      "132\n",
      "2015-07-14\n",
      "120\n"
     ]
    },
    {
     "name": "stderr",
     "output_type": "stream",
     "text": [
      "INFO: Got 117 tweets (117 new).\n",
      "INFO: queries: ['FB OR AMZN OR AAPL OR NFLX OR GOOG OR FAANG AND stocks since:2015-07-16 until:2015-07-17']\n"
     ]
    },
    {
     "name": "stdout",
     "output_type": "stream",
     "text": [
      "133\n",
      "2015-07-15\n",
      "117\n"
     ]
    },
    {
     "name": "stderr",
     "output_type": "stream",
     "text": [
      "INFO: Got 104 tweets (104 new).\n",
      "INFO: queries: ['FB OR AMZN OR AAPL OR NFLX OR GOOG OR FAANG AND stocks since:2015-07-17 until:2015-07-18']\n"
     ]
    },
    {
     "name": "stdout",
     "output_type": "stream",
     "text": [
      "134\n",
      "2015-07-16\n",
      "104\n"
     ]
    },
    {
     "name": "stderr",
     "output_type": "stream",
     "text": [
      "INFO: Got 117 tweets (117 new).\n",
      "INFO: queries: ['FB OR AMZN OR AAPL OR NFLX OR GOOG OR FAANG AND stocks since:2015-07-20 until:2015-07-21']\n"
     ]
    },
    {
     "name": "stdout",
     "output_type": "stream",
     "text": [
      "135\n",
      "2015-07-17\n",
      "117\n"
     ]
    },
    {
     "name": "stderr",
     "output_type": "stream",
     "text": [
      "INFO: Got 118 tweets (118 new).\n",
      "INFO: queries: ['FB OR AMZN OR AAPL OR NFLX OR GOOG OR FAANG AND stocks since:2015-07-21 until:2015-07-22']\n"
     ]
    },
    {
     "name": "stdout",
     "output_type": "stream",
     "text": [
      "136\n",
      "2015-07-20\n",
      "118\n"
     ]
    },
    {
     "name": "stderr",
     "output_type": "stream",
     "text": [
      "INFO: Got 113 tweets (113 new).\n",
      "INFO: queries: ['FB OR AMZN OR AAPL OR NFLX OR GOOG OR FAANG AND stocks since:2015-07-22 until:2015-07-23']\n"
     ]
    },
    {
     "name": "stdout",
     "output_type": "stream",
     "text": [
      "137\n",
      "2015-07-21\n",
      "113\n"
     ]
    },
    {
     "name": "stderr",
     "output_type": "stream",
     "text": [
      "INFO: Got 110 tweets (110 new).\n",
      "INFO: queries: ['FB OR AMZN OR AAPL OR NFLX OR GOOG OR FAANG AND stocks since:2015-07-23 until:2015-07-24']\n"
     ]
    },
    {
     "name": "stdout",
     "output_type": "stream",
     "text": [
      "138\n",
      "2015-07-22\n",
      "110\n"
     ]
    },
    {
     "name": "stderr",
     "output_type": "stream",
     "text": [
      "INFO: Got 108 tweets (108 new).\n",
      "INFO: queries: ['FB OR AMZN OR AAPL OR NFLX OR GOOG OR FAANG AND stocks since:2015-07-24 until:2015-07-25']\n"
     ]
    },
    {
     "name": "stdout",
     "output_type": "stream",
     "text": [
      "139\n",
      "2015-07-23\n",
      "108\n"
     ]
    },
    {
     "name": "stderr",
     "output_type": "stream",
     "text": [
      "INFO: Got 106 tweets (106 new).\n",
      "INFO: queries: ['FB OR AMZN OR AAPL OR NFLX OR GOOG OR FAANG AND stocks since:2015-07-27 until:2015-07-28']\n"
     ]
    },
    {
     "name": "stdout",
     "output_type": "stream",
     "text": [
      "140\n",
      "2015-07-24\n",
      "106\n"
     ]
    },
    {
     "name": "stderr",
     "output_type": "stream",
     "text": [
      "INFO: Got 101 tweets (101 new).\n",
      "INFO: queries: ['FB OR AMZN OR AAPL OR NFLX OR GOOG OR FAANG AND stocks since:2015-07-28 until:2015-07-29']\n"
     ]
    },
    {
     "name": "stdout",
     "output_type": "stream",
     "text": [
      "141\n",
      "2015-07-27\n",
      "101\n"
     ]
    },
    {
     "name": "stderr",
     "output_type": "stream",
     "text": [
      "INFO: Got 115 tweets (115 new).\n",
      "INFO: queries: ['FB OR AMZN OR AAPL OR NFLX OR GOOG OR FAANG AND stocks since:2015-07-29 until:2015-07-30']\n"
     ]
    },
    {
     "name": "stdout",
     "output_type": "stream",
     "text": [
      "142\n",
      "2015-07-28\n",
      "115\n"
     ]
    },
    {
     "name": "stderr",
     "output_type": "stream",
     "text": [
      "INFO: Got 103 tweets (103 new).\n",
      "INFO: queries: ['FB OR AMZN OR AAPL OR NFLX OR GOOG OR FAANG AND stocks since:2015-07-30 until:2015-07-31']\n"
     ]
    },
    {
     "name": "stdout",
     "output_type": "stream",
     "text": [
      "143\n",
      "2015-07-29\n",
      "103\n"
     ]
    },
    {
     "name": "stderr",
     "output_type": "stream",
     "text": [
      "INFO: Got 113 tweets (113 new).\n",
      "INFO: queries: ['FB OR AMZN OR AAPL OR NFLX OR GOOG OR FAANG AND stocks since:2015-07-31 until:2015-08-01']\n"
     ]
    },
    {
     "name": "stdout",
     "output_type": "stream",
     "text": [
      "144\n",
      "2015-07-30\n",
      "113\n"
     ]
    },
    {
     "name": "stderr",
     "output_type": "stream",
     "text": [
      "INFO: Got 101 tweets (101 new).\n",
      "INFO: queries: ['FB OR AMZN OR AAPL OR NFLX OR GOOG OR FAANG AND stocks since:2015-08-03 until:2015-08-04']\n"
     ]
    },
    {
     "name": "stdout",
     "output_type": "stream",
     "text": [
      "145\n",
      "2015-07-31\n",
      "101\n"
     ]
    },
    {
     "name": "stderr",
     "output_type": "stream",
     "text": [
      "INFO: Got 102 tweets (102 new).\n",
      "INFO: queries: ['FB OR AMZN OR AAPL OR NFLX OR GOOG OR FAANG AND stocks since:2015-08-04 until:2015-08-05']\n"
     ]
    },
    {
     "name": "stdout",
     "output_type": "stream",
     "text": [
      "146\n",
      "2015-08-03\n",
      "102\n"
     ]
    },
    {
     "name": "stderr",
     "output_type": "stream",
     "text": [
      "INFO: Got 120 tweets (120 new).\n",
      "INFO: queries: ['FB OR AMZN OR AAPL OR NFLX OR GOOG OR FAANG AND stocks since:2015-08-05 until:2015-08-06']\n"
     ]
    },
    {
     "name": "stdout",
     "output_type": "stream",
     "text": [
      "147\n",
      "2015-08-04\n",
      "120\n"
     ]
    },
    {
     "name": "stderr",
     "output_type": "stream",
     "text": [
      "INFO: Got 120 tweets (120 new).\n",
      "INFO: queries: ['FB OR AMZN OR AAPL OR NFLX OR GOOG OR FAANG AND stocks since:2015-08-06 until:2015-08-07']\n"
     ]
    },
    {
     "name": "stdout",
     "output_type": "stream",
     "text": [
      "148\n",
      "2015-08-05\n",
      "120\n"
     ]
    },
    {
     "name": "stderr",
     "output_type": "stream",
     "text": [
      "INFO: Got 108 tweets (108 new).\n",
      "INFO: queries: ['FB OR AMZN OR AAPL OR NFLX OR GOOG OR FAANG AND stocks since:2015-08-07 until:2015-08-08']\n"
     ]
    },
    {
     "name": "stdout",
     "output_type": "stream",
     "text": [
      "149\n",
      "2015-08-06\n",
      "108\n"
     ]
    },
    {
     "name": "stderr",
     "output_type": "stream",
     "text": [
      "INFO: Got 111 tweets (111 new).\n",
      "INFO: queries: ['FB OR AMZN OR AAPL OR NFLX OR GOOG OR FAANG AND stocks since:2015-08-10 until:2015-08-11']\n"
     ]
    },
    {
     "name": "stdout",
     "output_type": "stream",
     "text": [
      "150\n",
      "2015-08-07\n",
      "111\n"
     ]
    },
    {
     "name": "stderr",
     "output_type": "stream",
     "text": [
      "INFO: Got 120 tweets (120 new).\n",
      "INFO: queries: ['FB OR AMZN OR AAPL OR NFLX OR GOOG OR FAANG AND stocks since:2015-08-11 until:2015-08-12']\n"
     ]
    },
    {
     "name": "stdout",
     "output_type": "stream",
     "text": [
      "151\n",
      "2015-08-10\n",
      "120\n"
     ]
    },
    {
     "name": "stderr",
     "output_type": "stream",
     "text": [
      "INFO: Got 120 tweets (120 new).\n",
      "INFO: queries: ['FB OR AMZN OR AAPL OR NFLX OR GOOG OR FAANG AND stocks since:2015-08-12 until:2015-08-13']\n"
     ]
    },
    {
     "name": "stdout",
     "output_type": "stream",
     "text": [
      "152\n",
      "2015-08-11\n",
      "120\n"
     ]
    },
    {
     "name": "stderr",
     "output_type": "stream",
     "text": [
      "INFO: Got 120 tweets (120 new).\n",
      "INFO: queries: ['FB OR AMZN OR AAPL OR NFLX OR GOOG OR FAANG AND stocks since:2015-08-13 until:2015-08-14']\n"
     ]
    },
    {
     "name": "stdout",
     "output_type": "stream",
     "text": [
      "153\n",
      "2015-08-12\n",
      "120\n"
     ]
    },
    {
     "name": "stderr",
     "output_type": "stream",
     "text": [
      "INFO: Got 102 tweets (102 new).\n",
      "INFO: queries: ['FB OR AMZN OR AAPL OR NFLX OR GOOG OR FAANG AND stocks since:2015-08-14 until:2015-08-15']\n"
     ]
    },
    {
     "name": "stdout",
     "output_type": "stream",
     "text": [
      "154\n",
      "2015-08-13\n",
      "102\n"
     ]
    },
    {
     "name": "stderr",
     "output_type": "stream",
     "text": [
      "INFO: Got 113 tweets (113 new).\n",
      "INFO: queries: ['FB OR AMZN OR AAPL OR NFLX OR GOOG OR FAANG AND stocks since:2015-08-17 until:2015-08-18']\n"
     ]
    },
    {
     "name": "stdout",
     "output_type": "stream",
     "text": [
      "155\n",
      "2015-08-14\n",
      "113\n"
     ]
    },
    {
     "name": "stderr",
     "output_type": "stream",
     "text": [
      "INFO: Got 101 tweets (101 new).\n",
      "INFO: queries: ['FB OR AMZN OR AAPL OR NFLX OR GOOG OR FAANG AND stocks since:2015-08-18 until:2015-08-19']\n"
     ]
    },
    {
     "name": "stdout",
     "output_type": "stream",
     "text": [
      "156\n",
      "2015-08-17\n",
      "101\n"
     ]
    },
    {
     "name": "stderr",
     "output_type": "stream",
     "text": [
      "INFO: Got 120 tweets (120 new).\n",
      "INFO: queries: ['FB OR AMZN OR AAPL OR NFLX OR GOOG OR FAANG AND stocks since:2015-08-19 until:2015-08-20']\n"
     ]
    },
    {
     "name": "stdout",
     "output_type": "stream",
     "text": [
      "157\n",
      "2015-08-18\n",
      "120\n"
     ]
    },
    {
     "name": "stderr",
     "output_type": "stream",
     "text": [
      "INFO: Got 120 tweets (120 new).\n",
      "INFO: queries: ['FB OR AMZN OR AAPL OR NFLX OR GOOG OR FAANG AND stocks since:2015-08-20 until:2015-08-21']\n"
     ]
    },
    {
     "name": "stdout",
     "output_type": "stream",
     "text": [
      "158\n",
      "2015-08-19\n",
      "120\n"
     ]
    },
    {
     "name": "stderr",
     "output_type": "stream",
     "text": [
      "INFO: Got 101 tweets (101 new).\n",
      "INFO: queries: ['FB OR AMZN OR AAPL OR NFLX OR GOOG OR FAANG AND stocks since:2015-08-21 until:2015-08-22']\n"
     ]
    },
    {
     "name": "stdout",
     "output_type": "stream",
     "text": [
      "159\n",
      "2015-08-20\n",
      "101\n"
     ]
    },
    {
     "name": "stderr",
     "output_type": "stream",
     "text": [
      "INFO: Got 120 tweets (120 new).\n",
      "INFO: queries: ['FB OR AMZN OR AAPL OR NFLX OR GOOG OR FAANG AND stocks since:2015-08-24 until:2015-08-25']\n"
     ]
    },
    {
     "name": "stdout",
     "output_type": "stream",
     "text": [
      "160\n",
      "2015-08-21\n",
      "120\n"
     ]
    },
    {
     "name": "stderr",
     "output_type": "stream",
     "text": [
      "INFO: Got 119 tweets (119 new).\n",
      "INFO: queries: ['FB OR AMZN OR AAPL OR NFLX OR GOOG OR FAANG AND stocks since:2015-08-25 until:2015-08-26']\n"
     ]
    },
    {
     "name": "stdout",
     "output_type": "stream",
     "text": [
      "161\n",
      "2015-08-24\n",
      "119\n"
     ]
    },
    {
     "name": "stderr",
     "output_type": "stream",
     "text": [
      "INFO: Got 104 tweets (104 new).\n",
      "INFO: queries: ['FB OR AMZN OR AAPL OR NFLX OR GOOG OR FAANG AND stocks since:2015-08-26 until:2015-08-27']\n"
     ]
    },
    {
     "name": "stdout",
     "output_type": "stream",
     "text": [
      "162\n",
      "2015-08-25\n",
      "104\n"
     ]
    },
    {
     "name": "stderr",
     "output_type": "stream",
     "text": [
      "INFO: Got 114 tweets (114 new).\n",
      "INFO: queries: ['FB OR AMZN OR AAPL OR NFLX OR GOOG OR FAANG AND stocks since:2015-08-27 until:2015-08-28']\n"
     ]
    },
    {
     "name": "stdout",
     "output_type": "stream",
     "text": [
      "163\n",
      "2015-08-26\n",
      "114\n"
     ]
    },
    {
     "name": "stderr",
     "output_type": "stream",
     "text": [
      "INFO: Got 112 tweets (112 new).\n",
      "INFO: queries: ['FB OR AMZN OR AAPL OR NFLX OR GOOG OR FAANG AND stocks since:2015-08-28 until:2015-08-29']\n"
     ]
    },
    {
     "name": "stdout",
     "output_type": "stream",
     "text": [
      "164\n",
      "2015-08-27\n",
      "112\n"
     ]
    },
    {
     "name": "stderr",
     "output_type": "stream",
     "text": [
      "INFO: Got 108 tweets (108 new).\n",
      "INFO: queries: ['FB OR AMZN OR AAPL OR NFLX OR GOOG OR FAANG AND stocks since:2015-08-31 until:2015-09-01']\n"
     ]
    },
    {
     "name": "stdout",
     "output_type": "stream",
     "text": [
      "165\n",
      "2015-08-28\n",
      "108\n"
     ]
    },
    {
     "name": "stderr",
     "output_type": "stream",
     "text": [
      "INFO: Got 120 tweets (120 new).\n",
      "INFO: queries: ['FB OR AMZN OR AAPL OR NFLX OR GOOG OR FAANG AND stocks since:2015-09-01 until:2015-09-02']\n"
     ]
    },
    {
     "name": "stdout",
     "output_type": "stream",
     "text": [
      "166\n",
      "2015-08-31\n",
      "120\n"
     ]
    },
    {
     "name": "stderr",
     "output_type": "stream",
     "text": [
      "INFO: Got 117 tweets (117 new).\n",
      "INFO: queries: ['FB OR AMZN OR AAPL OR NFLX OR GOOG OR FAANG AND stocks since:2015-09-02 until:2015-09-03']\n"
     ]
    },
    {
     "name": "stdout",
     "output_type": "stream",
     "text": [
      "167\n",
      "2015-09-01\n",
      "117\n"
     ]
    },
    {
     "name": "stderr",
     "output_type": "stream",
     "text": [
      "INFO: Got 120 tweets (120 new).\n",
      "INFO: queries: ['FB OR AMZN OR AAPL OR NFLX OR GOOG OR FAANG AND stocks since:2015-09-03 until:2015-09-04']\n"
     ]
    },
    {
     "name": "stdout",
     "output_type": "stream",
     "text": [
      "168\n",
      "2015-09-02\n",
      "120\n"
     ]
    },
    {
     "name": "stderr",
     "output_type": "stream",
     "text": [
      "INFO: Got 120 tweets (120 new).\n",
      "INFO: queries: ['FB OR AMZN OR AAPL OR NFLX OR GOOG OR FAANG AND stocks since:2015-09-04 until:2015-09-05']\n"
     ]
    },
    {
     "name": "stdout",
     "output_type": "stream",
     "text": [
      "169\n",
      "2015-09-03\n",
      "120\n"
     ]
    },
    {
     "name": "stderr",
     "output_type": "stream",
     "text": [
      "INFO: Got 120 tweets (120 new).\n",
      "INFO: queries: ['FB OR AMZN OR AAPL OR NFLX OR GOOG OR FAANG AND stocks since:2015-09-08 until:2015-09-09']\n"
     ]
    },
    {
     "name": "stdout",
     "output_type": "stream",
     "text": [
      "170\n",
      "2015-09-04\n",
      "120\n"
     ]
    },
    {
     "name": "stderr",
     "output_type": "stream",
     "text": [
      "INFO: Got 107 tweets (107 new).\n",
      "INFO: queries: ['FB OR AMZN OR AAPL OR NFLX OR GOOG OR FAANG AND stocks since:2015-09-09 until:2015-09-10']\n"
     ]
    },
    {
     "name": "stdout",
     "output_type": "stream",
     "text": [
      "171\n",
      "2015-09-08\n",
      "107\n"
     ]
    },
    {
     "name": "stderr",
     "output_type": "stream",
     "text": [
      "INFO: Got 110 tweets (110 new).\n",
      "INFO: queries: ['FB OR AMZN OR AAPL OR NFLX OR GOOG OR FAANG AND stocks since:2015-09-10 until:2015-09-11']\n"
     ]
    },
    {
     "name": "stdout",
     "output_type": "stream",
     "text": [
      "172\n",
      "2015-09-09\n",
      "110\n"
     ]
    },
    {
     "name": "stderr",
     "output_type": "stream",
     "text": [
      "INFO: Got 107 tweets (107 new).\n",
      "INFO: queries: ['FB OR AMZN OR AAPL OR NFLX OR GOOG OR FAANG AND stocks since:2015-09-11 until:2015-09-12']\n"
     ]
    },
    {
     "name": "stdout",
     "output_type": "stream",
     "text": [
      "173\n",
      "2015-09-10\n",
      "107\n"
     ]
    },
    {
     "name": "stderr",
     "output_type": "stream",
     "text": [
      "INFO: Got 111 tweets (111 new).\n",
      "INFO: queries: ['FB OR AMZN OR AAPL OR NFLX OR GOOG OR FAANG AND stocks since:2015-09-14 until:2015-09-15']\n"
     ]
    },
    {
     "name": "stdout",
     "output_type": "stream",
     "text": [
      "174\n",
      "2015-09-11\n",
      "111\n"
     ]
    },
    {
     "name": "stderr",
     "output_type": "stream",
     "text": [
      "INFO: Got 101 tweets (101 new).\n",
      "INFO: queries: ['FB OR AMZN OR AAPL OR NFLX OR GOOG OR FAANG AND stocks since:2015-09-15 until:2015-09-16']\n"
     ]
    },
    {
     "name": "stdout",
     "output_type": "stream",
     "text": [
      "175\n",
      "2015-09-14\n",
      "101\n"
     ]
    },
    {
     "name": "stderr",
     "output_type": "stream",
     "text": [
      "INFO: Got 103 tweets (103 new).\n",
      "INFO: queries: ['FB OR AMZN OR AAPL OR NFLX OR GOOG OR FAANG AND stocks since:2015-09-16 until:2015-09-17']\n"
     ]
    },
    {
     "name": "stdout",
     "output_type": "stream",
     "text": [
      "176\n",
      "2015-09-15\n",
      "103\n"
     ]
    },
    {
     "name": "stderr",
     "output_type": "stream",
     "text": [
      "INFO: Got 113 tweets (113 new).\n",
      "INFO: queries: ['FB OR AMZN OR AAPL OR NFLX OR GOOG OR FAANG AND stocks since:2015-09-17 until:2015-09-18']\n"
     ]
    },
    {
     "name": "stdout",
     "output_type": "stream",
     "text": [
      "177\n",
      "2015-09-16\n",
      "113\n"
     ]
    },
    {
     "name": "stderr",
     "output_type": "stream",
     "text": [
      "INFO: Got 109 tweets (109 new).\n",
      "INFO: queries: ['FB OR AMZN OR AAPL OR NFLX OR GOOG OR FAANG AND stocks since:2015-09-18 until:2015-09-19']\n"
     ]
    },
    {
     "name": "stdout",
     "output_type": "stream",
     "text": [
      "178\n",
      "2015-09-17\n",
      "109\n"
     ]
    },
    {
     "name": "stderr",
     "output_type": "stream",
     "text": [
      "INFO: Got 101 tweets (101 new).\n",
      "INFO: queries: ['FB OR AMZN OR AAPL OR NFLX OR GOOG OR FAANG AND stocks since:2015-09-21 until:2015-09-22']\n"
     ]
    },
    {
     "name": "stdout",
     "output_type": "stream",
     "text": [
      "179\n",
      "2015-09-18\n",
      "101\n"
     ]
    },
    {
     "name": "stderr",
     "output_type": "stream",
     "text": [
      "INFO: Got 120 tweets (120 new).\n",
      "INFO: queries: ['FB OR AMZN OR AAPL OR NFLX OR GOOG OR FAANG AND stocks since:2015-09-22 until:2015-09-23']\n"
     ]
    },
    {
     "name": "stdout",
     "output_type": "stream",
     "text": [
      "180\n",
      "2015-09-21\n",
      "120\n"
     ]
    },
    {
     "name": "stderr",
     "output_type": "stream",
     "text": [
      "INFO: Got 119 tweets (119 new).\n",
      "INFO: queries: ['FB OR AMZN OR AAPL OR NFLX OR GOOG OR FAANG AND stocks since:2015-09-23 until:2015-09-24']\n"
     ]
    },
    {
     "name": "stdout",
     "output_type": "stream",
     "text": [
      "181\n",
      "2015-09-22\n",
      "119\n"
     ]
    },
    {
     "name": "stderr",
     "output_type": "stream",
     "text": [
      "INFO: Got 101 tweets (101 new).\n",
      "INFO: queries: ['FB OR AMZN OR AAPL OR NFLX OR GOOG OR FAANG AND stocks since:2015-09-24 until:2015-09-25']\n"
     ]
    },
    {
     "name": "stdout",
     "output_type": "stream",
     "text": [
      "182\n",
      "2015-09-23\n",
      "101\n"
     ]
    },
    {
     "name": "stderr",
     "output_type": "stream",
     "text": [
      "INFO: Got 111 tweets (111 new).\n",
      "INFO: queries: ['FB OR AMZN OR AAPL OR NFLX OR GOOG OR FAANG AND stocks since:2015-09-25 until:2015-09-26']\n"
     ]
    },
    {
     "name": "stdout",
     "output_type": "stream",
     "text": [
      "183\n",
      "2015-09-24\n",
      "111\n"
     ]
    },
    {
     "name": "stderr",
     "output_type": "stream",
     "text": [
      "INFO: Got 103 tweets (103 new).\n",
      "INFO: queries: ['FB OR AMZN OR AAPL OR NFLX OR GOOG OR FAANG AND stocks since:2015-09-28 until:2015-09-29']\n"
     ]
    },
    {
     "name": "stdout",
     "output_type": "stream",
     "text": [
      "184\n",
      "2015-09-25\n",
      "103\n"
     ]
    },
    {
     "name": "stderr",
     "output_type": "stream",
     "text": [
      "INFO: Got 110 tweets (110 new).\n",
      "INFO: queries: ['FB OR AMZN OR AAPL OR NFLX OR GOOG OR FAANG AND stocks since:2015-09-29 until:2015-09-30']\n"
     ]
    },
    {
     "name": "stdout",
     "output_type": "stream",
     "text": [
      "185\n",
      "2015-09-28\n",
      "110\n"
     ]
    },
    {
     "name": "stderr",
     "output_type": "stream",
     "text": [
      "INFO: Got 101 tweets (101 new).\n",
      "INFO: queries: ['FB OR AMZN OR AAPL OR NFLX OR GOOG OR FAANG AND stocks since:2015-09-30 until:2015-10-01']\n"
     ]
    },
    {
     "name": "stdout",
     "output_type": "stream",
     "text": [
      "186\n",
      "2015-09-29\n",
      "101\n"
     ]
    },
    {
     "name": "stderr",
     "output_type": "stream",
     "text": [
      "INFO: Got 119 tweets (119 new).\n",
      "INFO: queries: ['FB OR AMZN OR AAPL OR NFLX OR GOOG OR FAANG AND stocks since:2015-10-01 until:2015-10-02']\n"
     ]
    },
    {
     "name": "stdout",
     "output_type": "stream",
     "text": [
      "187\n",
      "2015-09-30\n",
      "119\n"
     ]
    },
    {
     "name": "stderr",
     "output_type": "stream",
     "text": [
      "INFO: Got 108 tweets (108 new).\n",
      "INFO: queries: ['FB OR AMZN OR AAPL OR NFLX OR GOOG OR FAANG AND stocks since:2015-10-02 until:2015-10-03']\n"
     ]
    },
    {
     "name": "stdout",
     "output_type": "stream",
     "text": [
      "188\n",
      "2015-10-01\n",
      "108\n"
     ]
    },
    {
     "name": "stderr",
     "output_type": "stream",
     "text": [
      "INFO: Got 110 tweets (110 new).\n",
      "INFO: queries: ['FB OR AMZN OR AAPL OR NFLX OR GOOG OR FAANG AND stocks since:2015-10-05 until:2015-10-06']\n"
     ]
    },
    {
     "name": "stdout",
     "output_type": "stream",
     "text": [
      "189\n",
      "2015-10-02\n",
      "110\n"
     ]
    },
    {
     "name": "stderr",
     "output_type": "stream",
     "text": [
      "INFO: Got 118 tweets (118 new).\n",
      "INFO: queries: ['FB OR AMZN OR AAPL OR NFLX OR GOOG OR FAANG AND stocks since:2015-10-06 until:2015-10-07']\n"
     ]
    },
    {
     "name": "stdout",
     "output_type": "stream",
     "text": [
      "190\n",
      "2015-10-05\n",
      "118\n"
     ]
    },
    {
     "name": "stderr",
     "output_type": "stream",
     "text": [
      "INFO: Got 116 tweets (116 new).\n",
      "INFO: queries: ['FB OR AMZN OR AAPL OR NFLX OR GOOG OR FAANG AND stocks since:2015-10-07 until:2015-10-08']\n"
     ]
    },
    {
     "name": "stdout",
     "output_type": "stream",
     "text": [
      "191\n",
      "2015-10-06\n",
      "116\n"
     ]
    },
    {
     "name": "stderr",
     "output_type": "stream",
     "text": [
      "INFO: Got 101 tweets (101 new).\n",
      "INFO: queries: ['FB OR AMZN OR AAPL OR NFLX OR GOOG OR FAANG AND stocks since:2015-10-08 until:2015-10-09']\n"
     ]
    },
    {
     "name": "stdout",
     "output_type": "stream",
     "text": [
      "192\n",
      "2015-10-07\n",
      "101\n"
     ]
    },
    {
     "name": "stderr",
     "output_type": "stream",
     "text": [
      "INFO: Got 102 tweets (102 new).\n",
      "INFO: queries: ['FB OR AMZN OR AAPL OR NFLX OR GOOG OR FAANG AND stocks since:2015-10-09 until:2015-10-10']\n"
     ]
    },
    {
     "name": "stdout",
     "output_type": "stream",
     "text": [
      "193\n",
      "2015-10-08\n",
      "102\n"
     ]
    },
    {
     "name": "stderr",
     "output_type": "stream",
     "text": [
      "INFO: Got 119 tweets (119 new).\n",
      "INFO: queries: ['FB OR AMZN OR AAPL OR NFLX OR GOOG OR FAANG AND stocks since:2015-10-12 until:2015-10-13']\n"
     ]
    },
    {
     "name": "stdout",
     "output_type": "stream",
     "text": [
      "194\n",
      "2015-10-09\n",
      "119\n"
     ]
    },
    {
     "name": "stderr",
     "output_type": "stream",
     "text": [
      "INFO: Got 111 tweets (111 new).\n",
      "INFO: queries: ['FB OR AMZN OR AAPL OR NFLX OR GOOG OR FAANG AND stocks since:2015-10-13 until:2015-10-14']\n"
     ]
    },
    {
     "name": "stdout",
     "output_type": "stream",
     "text": [
      "195\n",
      "2015-10-12\n",
      "111\n"
     ]
    },
    {
     "name": "stderr",
     "output_type": "stream",
     "text": [
      "INFO: Got 118 tweets (118 new).\n",
      "INFO: queries: ['FB OR AMZN OR AAPL OR NFLX OR GOOG OR FAANG AND stocks since:2015-10-14 until:2015-10-15']\n"
     ]
    },
    {
     "name": "stdout",
     "output_type": "stream",
     "text": [
      "196\n",
      "2015-10-13\n",
      "118\n"
     ]
    },
    {
     "name": "stderr",
     "output_type": "stream",
     "text": [
      "INFO: Got 107 tweets (107 new).\n",
      "INFO: queries: ['FB OR AMZN OR AAPL OR NFLX OR GOOG OR FAANG AND stocks since:2015-10-15 until:2015-10-16']\n"
     ]
    },
    {
     "name": "stdout",
     "output_type": "stream",
     "text": [
      "197\n",
      "2015-10-14\n",
      "107\n"
     ]
    },
    {
     "name": "stderr",
     "output_type": "stream",
     "text": [
      "INFO: Got 111 tweets (111 new).\n",
      "INFO: queries: ['FB OR AMZN OR AAPL OR NFLX OR GOOG OR FAANG AND stocks since:2015-10-16 until:2015-10-17']\n"
     ]
    },
    {
     "name": "stdout",
     "output_type": "stream",
     "text": [
      "198\n",
      "2015-10-15\n",
      "111\n"
     ]
    },
    {
     "name": "stderr",
     "output_type": "stream",
     "text": [
      "INFO: Got 106 tweets (106 new).\n",
      "INFO: queries: ['FB OR AMZN OR AAPL OR NFLX OR GOOG OR FAANG AND stocks since:2015-10-19 until:2015-10-20']\n"
     ]
    },
    {
     "name": "stdout",
     "output_type": "stream",
     "text": [
      "199\n",
      "2015-10-16\n",
      "106\n"
     ]
    },
    {
     "name": "stderr",
     "output_type": "stream",
     "text": [
      "INFO: Got 117 tweets (117 new).\n",
      "INFO: queries: ['FB OR AMZN OR AAPL OR NFLX OR GOOG OR FAANG AND stocks since:2015-10-20 until:2015-10-21']\n"
     ]
    },
    {
     "name": "stdout",
     "output_type": "stream",
     "text": [
      "200\n",
      "2015-10-19\n",
      "117\n"
     ]
    },
    {
     "name": "stderr",
     "output_type": "stream",
     "text": [
      "INFO: Got 104 tweets (104 new).\n",
      "INFO: queries: ['FB OR AMZN OR AAPL OR NFLX OR GOOG OR FAANG AND stocks since:2015-10-21 until:2015-10-22']\n"
     ]
    },
    {
     "name": "stdout",
     "output_type": "stream",
     "text": [
      "201\n",
      "2015-10-20\n",
      "104\n"
     ]
    },
    {
     "name": "stderr",
     "output_type": "stream",
     "text": [
      "INFO: Got 112 tweets (112 new).\n",
      "INFO: queries: ['FB OR AMZN OR AAPL OR NFLX OR GOOG OR FAANG AND stocks since:2015-10-22 until:2015-10-23']\n"
     ]
    },
    {
     "name": "stdout",
     "output_type": "stream",
     "text": [
      "202\n",
      "2015-10-21\n",
      "112\n"
     ]
    },
    {
     "name": "stderr",
     "output_type": "stream",
     "text": [
      "INFO: Got 120 tweets (120 new).\n",
      "INFO: queries: ['FB OR AMZN OR AAPL OR NFLX OR GOOG OR FAANG AND stocks since:2015-10-23 until:2015-10-24']\n"
     ]
    },
    {
     "name": "stdout",
     "output_type": "stream",
     "text": [
      "203\n",
      "2015-10-22\n",
      "120\n"
     ]
    },
    {
     "name": "stderr",
     "output_type": "stream",
     "text": [
      "INFO: Got 118 tweets (118 new).\n",
      "INFO: queries: ['FB OR AMZN OR AAPL OR NFLX OR GOOG OR FAANG AND stocks since:2015-10-26 until:2015-10-27']\n"
     ]
    },
    {
     "name": "stdout",
     "output_type": "stream",
     "text": [
      "204\n",
      "2015-10-23\n",
      "118\n"
     ]
    },
    {
     "name": "stderr",
     "output_type": "stream",
     "text": [
      "INFO: Got 108 tweets (108 new).\n",
      "INFO: queries: ['FB OR AMZN OR AAPL OR NFLX OR GOOG OR FAANG AND stocks since:2015-10-27 until:2015-10-28']\n"
     ]
    },
    {
     "name": "stdout",
     "output_type": "stream",
     "text": [
      "205\n",
      "2015-10-26\n",
      "108\n"
     ]
    },
    {
     "name": "stderr",
     "output_type": "stream",
     "text": [
      "INFO: Got 109 tweets (109 new).\n",
      "INFO: queries: ['FB OR AMZN OR AAPL OR NFLX OR GOOG OR FAANG AND stocks since:2015-10-28 until:2015-10-29']\n"
     ]
    },
    {
     "name": "stdout",
     "output_type": "stream",
     "text": [
      "206\n",
      "2015-10-27\n",
      "109\n"
     ]
    },
    {
     "name": "stderr",
     "output_type": "stream",
     "text": [
      "INFO: Got 120 tweets (120 new).\n",
      "INFO: queries: ['FB OR AMZN OR AAPL OR NFLX OR GOOG OR FAANG AND stocks since:2015-10-29 until:2015-10-30']\n"
     ]
    },
    {
     "name": "stdout",
     "output_type": "stream",
     "text": [
      "207\n",
      "2015-10-28\n",
      "120\n"
     ]
    },
    {
     "name": "stderr",
     "output_type": "stream",
     "text": [
      "INFO: Got 107 tweets (107 new).\n",
      "INFO: queries: ['FB OR AMZN OR AAPL OR NFLX OR GOOG OR FAANG AND stocks since:2015-10-30 until:2015-10-31']\n"
     ]
    },
    {
     "name": "stdout",
     "output_type": "stream",
     "text": [
      "208\n",
      "2015-10-29\n",
      "107\n"
     ]
    },
    {
     "name": "stderr",
     "output_type": "stream",
     "text": [
      "INFO: Got 117 tweets (117 new).\n",
      "INFO: queries: ['FB OR AMZN OR AAPL OR NFLX OR GOOG OR FAANG AND stocks since:2015-11-02 until:2015-11-03']\n"
     ]
    },
    {
     "name": "stdout",
     "output_type": "stream",
     "text": [
      "209\n",
      "2015-10-30\n",
      "117\n"
     ]
    },
    {
     "name": "stderr",
     "output_type": "stream",
     "text": [
      "INFO: Got 119 tweets (119 new).\n",
      "INFO: queries: ['FB OR AMZN OR AAPL OR NFLX OR GOOG OR FAANG AND stocks since:2015-11-03 until:2015-11-04']\n"
     ]
    },
    {
     "name": "stdout",
     "output_type": "stream",
     "text": [
      "210\n",
      "2015-11-02\n",
      "119\n"
     ]
    },
    {
     "name": "stderr",
     "output_type": "stream",
     "text": [
      "INFO: Got 116 tweets (116 new).\n",
      "INFO: queries: ['FB OR AMZN OR AAPL OR NFLX OR GOOG OR FAANG AND stocks since:2015-11-04 until:2015-11-05']\n"
     ]
    },
    {
     "name": "stdout",
     "output_type": "stream",
     "text": [
      "211\n",
      "2015-11-03\n",
      "116\n"
     ]
    },
    {
     "name": "stderr",
     "output_type": "stream",
     "text": [
      "INFO: Got 116 tweets (116 new).\n",
      "INFO: queries: ['FB OR AMZN OR AAPL OR NFLX OR GOOG OR FAANG AND stocks since:2015-11-05 until:2015-11-06']\n"
     ]
    },
    {
     "name": "stdout",
     "output_type": "stream",
     "text": [
      "212\n",
      "2015-11-04\n",
      "116\n"
     ]
    },
    {
     "name": "stderr",
     "output_type": "stream",
     "text": [
      "INFO: Got 120 tweets (120 new).\n",
      "INFO: queries: ['FB OR AMZN OR AAPL OR NFLX OR GOOG OR FAANG AND stocks since:2015-11-06 until:2015-11-07']\n"
     ]
    },
    {
     "name": "stdout",
     "output_type": "stream",
     "text": [
      "213\n",
      "2015-11-05\n",
      "120\n"
     ]
    },
    {
     "name": "stderr",
     "output_type": "stream",
     "text": [
      "INFO: Got 120 tweets (120 new).\n",
      "INFO: queries: ['FB OR AMZN OR AAPL OR NFLX OR GOOG OR FAANG AND stocks since:2015-11-09 until:2015-11-10']\n"
     ]
    },
    {
     "name": "stdout",
     "output_type": "stream",
     "text": [
      "214\n",
      "2015-11-06\n",
      "120\n"
     ]
    },
    {
     "name": "stderr",
     "output_type": "stream",
     "text": [
      "INFO: Got 120 tweets (120 new).\n",
      "INFO: queries: ['FB OR AMZN OR AAPL OR NFLX OR GOOG OR FAANG AND stocks since:2015-11-10 until:2015-11-11']\n"
     ]
    },
    {
     "name": "stdout",
     "output_type": "stream",
     "text": [
      "215\n",
      "2015-11-09\n",
      "120\n"
     ]
    },
    {
     "name": "stderr",
     "output_type": "stream",
     "text": [
      "INFO: Got 109 tweets (109 new).\n",
      "INFO: queries: ['FB OR AMZN OR AAPL OR NFLX OR GOOG OR FAANG AND stocks since:2015-11-11 until:2015-11-12']\n"
     ]
    },
    {
     "name": "stdout",
     "output_type": "stream",
     "text": [
      "216\n",
      "2015-11-10\n",
      "109\n"
     ]
    },
    {
     "name": "stderr",
     "output_type": "stream",
     "text": [
      "INFO: Got 116 tweets (116 new).\n",
      "INFO: queries: ['FB OR AMZN OR AAPL OR NFLX OR GOOG OR FAANG AND stocks since:2015-11-12 until:2015-11-13']\n"
     ]
    },
    {
     "name": "stdout",
     "output_type": "stream",
     "text": [
      "217\n",
      "2015-11-11\n",
      "116\n"
     ]
    },
    {
     "name": "stderr",
     "output_type": "stream",
     "text": [
      "INFO: Got 113 tweets (113 new).\n",
      "INFO: queries: ['FB OR AMZN OR AAPL OR NFLX OR GOOG OR FAANG AND stocks since:2015-11-13 until:2015-11-14']\n"
     ]
    },
    {
     "name": "stdout",
     "output_type": "stream",
     "text": [
      "218\n",
      "2015-11-12\n",
      "113\n"
     ]
    },
    {
     "name": "stderr",
     "output_type": "stream",
     "text": [
      "INFO: Got 120 tweets (120 new).\n",
      "INFO: queries: ['FB OR AMZN OR AAPL OR NFLX OR GOOG OR FAANG AND stocks since:2015-11-16 until:2015-11-17']\n"
     ]
    },
    {
     "name": "stdout",
     "output_type": "stream",
     "text": [
      "219\n",
      "2015-11-13\n",
      "120\n"
     ]
    },
    {
     "name": "stderr",
     "output_type": "stream",
     "text": [
      "INFO: Got 120 tweets (120 new).\n",
      "INFO: queries: ['FB OR AMZN OR AAPL OR NFLX OR GOOG OR FAANG AND stocks since:2015-11-17 until:2015-11-18']\n"
     ]
    },
    {
     "name": "stdout",
     "output_type": "stream",
     "text": [
      "220\n",
      "2015-11-16\n",
      "120\n"
     ]
    },
    {
     "name": "stderr",
     "output_type": "stream",
     "text": [
      "INFO: Got 106 tweets (106 new).\n",
      "INFO: queries: ['FB OR AMZN OR AAPL OR NFLX OR GOOG OR FAANG AND stocks since:2015-11-18 until:2015-11-19']\n"
     ]
    },
    {
     "name": "stdout",
     "output_type": "stream",
     "text": [
      "221\n",
      "2015-11-17\n",
      "106\n"
     ]
    },
    {
     "name": "stderr",
     "output_type": "stream",
     "text": [
      "INFO: Got 119 tweets (119 new).\n",
      "INFO: queries: ['FB OR AMZN OR AAPL OR NFLX OR GOOG OR FAANG AND stocks since:2015-11-19 until:2015-11-20']\n"
     ]
    },
    {
     "name": "stdout",
     "output_type": "stream",
     "text": [
      "222\n",
      "2015-11-18\n",
      "119\n"
     ]
    },
    {
     "name": "stderr",
     "output_type": "stream",
     "text": [
      "INFO: Got 107 tweets (107 new).\n",
      "INFO: queries: ['FB OR AMZN OR AAPL OR NFLX OR GOOG OR FAANG AND stocks since:2015-11-20 until:2015-11-21']\n"
     ]
    },
    {
     "name": "stdout",
     "output_type": "stream",
     "text": [
      "223\n",
      "2015-11-19\n",
      "107\n"
     ]
    },
    {
     "name": "stderr",
     "output_type": "stream",
     "text": [
      "INFO: Got 117 tweets (117 new).\n",
      "INFO: queries: ['FB OR AMZN OR AAPL OR NFLX OR GOOG OR FAANG AND stocks since:2015-11-23 until:2015-11-24']\n"
     ]
    },
    {
     "name": "stdout",
     "output_type": "stream",
     "text": [
      "224\n",
      "2015-11-20\n",
      "117\n"
     ]
    },
    {
     "name": "stderr",
     "output_type": "stream",
     "text": [
      "INFO: Got 120 tweets (120 new).\n",
      "INFO: queries: ['FB OR AMZN OR AAPL OR NFLX OR GOOG OR FAANG AND stocks since:2015-11-24 until:2015-11-25']\n"
     ]
    },
    {
     "name": "stdout",
     "output_type": "stream",
     "text": [
      "225\n",
      "2015-11-23\n",
      "120\n"
     ]
    },
    {
     "name": "stderr",
     "output_type": "stream",
     "text": [
      "INFO: Got 114 tweets (114 new).\n",
      "INFO: queries: ['FB OR AMZN OR AAPL OR NFLX OR GOOG OR FAANG AND stocks since:2015-11-25 until:2015-11-26']\n"
     ]
    },
    {
     "name": "stdout",
     "output_type": "stream",
     "text": [
      "226\n",
      "2015-11-24\n",
      "114\n"
     ]
    },
    {
     "name": "stderr",
     "output_type": "stream",
     "text": [
      "INFO: Got 120 tweets (120 new).\n",
      "INFO: queries: ['FB OR AMZN OR AAPL OR NFLX OR GOOG OR FAANG AND stocks since:2015-11-27 until:2015-11-28']\n"
     ]
    },
    {
     "name": "stdout",
     "output_type": "stream",
     "text": [
      "227\n",
      "2015-11-25\n",
      "120\n"
     ]
    },
    {
     "name": "stderr",
     "output_type": "stream",
     "text": [
      "INFO: Got 116 tweets (116 new).\n",
      "INFO: queries: ['FB OR AMZN OR AAPL OR NFLX OR GOOG OR FAANG AND stocks since:2015-11-30 until:2015-12-01']\n"
     ]
    },
    {
     "name": "stdout",
     "output_type": "stream",
     "text": [
      "228\n",
      "2015-11-27\n",
      "116\n"
     ]
    },
    {
     "name": "stderr",
     "output_type": "stream",
     "text": [
      "INFO: Got 120 tweets (120 new).\n",
      "INFO: queries: ['FB OR AMZN OR AAPL OR NFLX OR GOOG OR FAANG AND stocks since:2015-12-01 until:2015-12-02']\n"
     ]
    },
    {
     "name": "stdout",
     "output_type": "stream",
     "text": [
      "229\n",
      "2015-11-30\n",
      "120\n"
     ]
    },
    {
     "name": "stderr",
     "output_type": "stream",
     "text": [
      "INFO: Got 117 tweets (117 new).\n",
      "INFO: queries: ['FB OR AMZN OR AAPL OR NFLX OR GOOG OR FAANG AND stocks since:2015-12-02 until:2015-12-03']\n"
     ]
    },
    {
     "name": "stdout",
     "output_type": "stream",
     "text": [
      "230\n",
      "2015-12-01\n",
      "117\n"
     ]
    },
    {
     "name": "stderr",
     "output_type": "stream",
     "text": [
      "INFO: Got 117 tweets (117 new).\n",
      "INFO: queries: ['FB OR AMZN OR AAPL OR NFLX OR GOOG OR FAANG AND stocks since:2015-12-03 until:2015-12-04']\n"
     ]
    },
    {
     "name": "stdout",
     "output_type": "stream",
     "text": [
      "231\n",
      "2015-12-02\n",
      "117\n"
     ]
    },
    {
     "name": "stderr",
     "output_type": "stream",
     "text": [
      "INFO: Got 116 tweets (116 new).\n",
      "INFO: queries: ['FB OR AMZN OR AAPL OR NFLX OR GOOG OR FAANG AND stocks since:2015-12-04 until:2015-12-05']\n"
     ]
    },
    {
     "name": "stdout",
     "output_type": "stream",
     "text": [
      "232\n",
      "2015-12-03\n",
      "116\n"
     ]
    },
    {
     "name": "stderr",
     "output_type": "stream",
     "text": [
      "INFO: Got 116 tweets (116 new).\n",
      "INFO: queries: ['FB OR AMZN OR AAPL OR NFLX OR GOOG OR FAANG AND stocks since:2015-12-07 until:2015-12-08']\n"
     ]
    },
    {
     "name": "stdout",
     "output_type": "stream",
     "text": [
      "233\n",
      "2015-12-04\n",
      "116\n"
     ]
    },
    {
     "name": "stderr",
     "output_type": "stream",
     "text": [
      "INFO: Got 119 tweets (119 new).\n",
      "INFO: queries: ['FB OR AMZN OR AAPL OR NFLX OR GOOG OR FAANG AND stocks since:2015-12-08 until:2015-12-09']\n"
     ]
    },
    {
     "name": "stdout",
     "output_type": "stream",
     "text": [
      "234\n",
      "2015-12-07\n",
      "119\n"
     ]
    },
    {
     "name": "stderr",
     "output_type": "stream",
     "text": [
      "INFO: Got 109 tweets (109 new).\n",
      "INFO: queries: ['FB OR AMZN OR AAPL OR NFLX OR GOOG OR FAANG AND stocks since:2015-12-09 until:2015-12-10']\n"
     ]
    },
    {
     "name": "stdout",
     "output_type": "stream",
     "text": [
      "235\n",
      "2015-12-08\n",
      "109\n"
     ]
    },
    {
     "name": "stderr",
     "output_type": "stream",
     "text": [
      "INFO: Got 120 tweets (120 new).\n",
      "INFO: queries: ['FB OR AMZN OR AAPL OR NFLX OR GOOG OR FAANG AND stocks since:2015-12-10 until:2015-12-11']\n"
     ]
    },
    {
     "name": "stdout",
     "output_type": "stream",
     "text": [
      "236\n",
      "2015-12-09\n",
      "120\n"
     ]
    },
    {
     "name": "stderr",
     "output_type": "stream",
     "text": [
      "INFO: Got 120 tweets (120 new).\n",
      "INFO: queries: ['FB OR AMZN OR AAPL OR NFLX OR GOOG OR FAANG AND stocks since:2015-12-11 until:2015-12-12']\n"
     ]
    },
    {
     "name": "stdout",
     "output_type": "stream",
     "text": [
      "237\n",
      "2015-12-10\n",
      "120\n"
     ]
    },
    {
     "name": "stderr",
     "output_type": "stream",
     "text": [
      "INFO: Got 119 tweets (119 new).\n",
      "INFO: queries: ['FB OR AMZN OR AAPL OR NFLX OR GOOG OR FAANG AND stocks since:2015-12-14 until:2015-12-15']\n"
     ]
    },
    {
     "name": "stdout",
     "output_type": "stream",
     "text": [
      "238\n",
      "2015-12-11\n",
      "119\n"
     ]
    },
    {
     "name": "stderr",
     "output_type": "stream",
     "text": [
      "INFO: Got 120 tweets (120 new).\n",
      "INFO: queries: ['FB OR AMZN OR AAPL OR NFLX OR GOOG OR FAANG AND stocks since:2015-12-15 until:2015-12-16']\n"
     ]
    },
    {
     "name": "stdout",
     "output_type": "stream",
     "text": [
      "239\n",
      "2015-12-14\n",
      "120\n"
     ]
    },
    {
     "name": "stderr",
     "output_type": "stream",
     "text": [
      "INFO: Got 111 tweets (111 new).\n",
      "INFO: queries: ['FB OR AMZN OR AAPL OR NFLX OR GOOG OR FAANG AND stocks since:2015-12-16 until:2015-12-17']\n"
     ]
    },
    {
     "name": "stdout",
     "output_type": "stream",
     "text": [
      "240\n",
      "2015-12-15\n",
      "111\n"
     ]
    },
    {
     "name": "stderr",
     "output_type": "stream",
     "text": [
      "INFO: Got 119 tweets (119 new).\n",
      "INFO: queries: ['FB OR AMZN OR AAPL OR NFLX OR GOOG OR FAANG AND stocks since:2015-12-17 until:2015-12-18']\n"
     ]
    },
    {
     "name": "stdout",
     "output_type": "stream",
     "text": [
      "241\n",
      "2015-12-16\n",
      "119\n"
     ]
    },
    {
     "name": "stderr",
     "output_type": "stream",
     "text": [
      "INFO: Got 117 tweets (117 new).\n",
      "INFO: queries: ['FB OR AMZN OR AAPL OR NFLX OR GOOG OR FAANG AND stocks since:2015-12-18 until:2015-12-19']\n"
     ]
    },
    {
     "name": "stdout",
     "output_type": "stream",
     "text": [
      "242\n",
      "2015-12-17\n",
      "117\n"
     ]
    },
    {
     "name": "stderr",
     "output_type": "stream",
     "text": [
      "INFO: Got 120 tweets (120 new).\n",
      "INFO: queries: ['FB OR AMZN OR AAPL OR NFLX OR GOOG OR FAANG AND stocks since:2015-12-21 until:2015-12-22']\n"
     ]
    },
    {
     "name": "stdout",
     "output_type": "stream",
     "text": [
      "243\n",
      "2015-12-18\n",
      "120\n"
     ]
    },
    {
     "name": "stderr",
     "output_type": "stream",
     "text": [
      "INFO: Got 101 tweets (101 new).\n",
      "INFO: queries: ['FB OR AMZN OR AAPL OR NFLX OR GOOG OR FAANG AND stocks since:2015-12-22 until:2015-12-23']\n"
     ]
    },
    {
     "name": "stdout",
     "output_type": "stream",
     "text": [
      "244\n",
      "2015-12-21\n",
      "101\n"
     ]
    },
    {
     "name": "stderr",
     "output_type": "stream",
     "text": [
      "INFO: Got 116 tweets (116 new).\n",
      "INFO: queries: ['FB OR AMZN OR AAPL OR NFLX OR GOOG OR FAANG AND stocks since:2015-12-23 until:2015-12-24']\n"
     ]
    },
    {
     "name": "stdout",
     "output_type": "stream",
     "text": [
      "245\n",
      "2015-12-22\n",
      "116\n"
     ]
    },
    {
     "name": "stderr",
     "output_type": "stream",
     "text": [
      "INFO: Got 118 tweets (118 new).\n",
      "INFO: queries: ['FB OR AMZN OR AAPL OR NFLX OR GOOG OR FAANG AND stocks since:2015-12-24 until:2015-12-25']\n"
     ]
    },
    {
     "name": "stdout",
     "output_type": "stream",
     "text": [
      "246\n",
      "2015-12-23\n",
      "118\n"
     ]
    },
    {
     "name": "stderr",
     "output_type": "stream",
     "text": [
      "INFO: Got 119 tweets (119 new).\n",
      "INFO: queries: ['FB OR AMZN OR AAPL OR NFLX OR GOOG OR FAANG AND stocks since:2015-12-28 until:2015-12-29']\n"
     ]
    },
    {
     "name": "stdout",
     "output_type": "stream",
     "text": [
      "247\n",
      "2015-12-24\n",
      "119\n"
     ]
    },
    {
     "name": "stderr",
     "output_type": "stream",
     "text": [
      "INFO: Got 114 tweets (114 new).\n",
      "INFO: queries: ['FB OR AMZN OR AAPL OR NFLX OR GOOG OR FAANG AND stocks since:2015-12-29 until:2015-12-30']\n"
     ]
    },
    {
     "name": "stdout",
     "output_type": "stream",
     "text": [
      "248\n",
      "2015-12-28\n",
      "114\n"
     ]
    },
    {
     "name": "stderr",
     "output_type": "stream",
     "text": [
      "INFO: Got 120 tweets (120 new).\n",
      "INFO: queries: ['FB OR AMZN OR AAPL OR NFLX OR GOOG OR FAANG AND stocks since:2015-12-30 until:2015-12-31']\n"
     ]
    },
    {
     "name": "stdout",
     "output_type": "stream",
     "text": [
      "249\n",
      "2015-12-29\n",
      "120\n"
     ]
    },
    {
     "name": "stderr",
     "output_type": "stream",
     "text": [
      "INFO: Got 120 tweets (120 new).\n",
      "INFO: queries: ['FB OR AMZN OR AAPL OR NFLX OR GOOG OR FAANG AND stocks since:2015-12-31 until:2016-01-01']\n"
     ]
    },
    {
     "name": "stdout",
     "output_type": "stream",
     "text": [
      "250\n",
      "2015-12-30\n",
      "120\n"
     ]
    },
    {
     "name": "stderr",
     "output_type": "stream",
     "text": [
      "INFO: Got 120 tweets (120 new).\n",
      "INFO: queries: ['FB OR AMZN OR AAPL OR NFLX OR GOOG OR FAANG AND stocks since:2016-01-04 until:2016-01-05']\n"
     ]
    },
    {
     "name": "stdout",
     "output_type": "stream",
     "text": [
      "251\n",
      "2015-12-31\n",
      "120\n"
     ]
    },
    {
     "name": "stderr",
     "output_type": "stream",
     "text": [
      "INFO: Got 111 tweets (111 new).\n",
      "INFO: queries: ['FB OR AMZN OR AAPL OR NFLX OR GOOG OR FAANG AND stocks since:2016-01-05 until:2016-01-06']\n"
     ]
    },
    {
     "name": "stdout",
     "output_type": "stream",
     "text": [
      "252\n",
      "2016-01-04\n",
      "111\n"
     ]
    },
    {
     "name": "stderr",
     "output_type": "stream",
     "text": [
      "INFO: Got 106 tweets (106 new).\n",
      "INFO: queries: ['FB OR AMZN OR AAPL OR NFLX OR GOOG OR FAANG AND stocks since:2016-01-06 until:2016-01-07']\n"
     ]
    },
    {
     "name": "stdout",
     "output_type": "stream",
     "text": [
      "253\n",
      "2016-01-05\n",
      "106\n"
     ]
    },
    {
     "name": "stderr",
     "output_type": "stream",
     "text": [
      "INFO: Got 106 tweets (106 new).\n",
      "INFO: queries: ['FB OR AMZN OR AAPL OR NFLX OR GOOG OR FAANG AND stocks since:2016-01-07 until:2016-01-08']\n"
     ]
    },
    {
     "name": "stdout",
     "output_type": "stream",
     "text": [
      "254\n",
      "2016-01-06\n",
      "106\n"
     ]
    },
    {
     "name": "stderr",
     "output_type": "stream",
     "text": [
      "INFO: Got 120 tweets (120 new).\n",
      "INFO: queries: ['FB OR AMZN OR AAPL OR NFLX OR GOOG OR FAANG AND stocks since:2016-01-08 until:2016-01-09']\n"
     ]
    },
    {
     "name": "stdout",
     "output_type": "stream",
     "text": [
      "255\n",
      "2016-01-07\n",
      "120\n"
     ]
    },
    {
     "name": "stderr",
     "output_type": "stream",
     "text": [
      "INFO: Got 112 tweets (112 new).\n",
      "INFO: queries: ['FB OR AMZN OR AAPL OR NFLX OR GOOG OR FAANG AND stocks since:2016-01-11 until:2016-01-12']\n"
     ]
    },
    {
     "name": "stdout",
     "output_type": "stream",
     "text": [
      "256\n",
      "2016-01-08\n",
      "112\n"
     ]
    },
    {
     "name": "stderr",
     "output_type": "stream",
     "text": [
      "INFO: Got 120 tweets (120 new).\n",
      "INFO: queries: ['FB OR AMZN OR AAPL OR NFLX OR GOOG OR FAANG AND stocks since:2016-01-12 until:2016-01-13']\n"
     ]
    },
    {
     "name": "stdout",
     "output_type": "stream",
     "text": [
      "257\n",
      "2016-01-11\n",
      "120\n"
     ]
    },
    {
     "name": "stderr",
     "output_type": "stream",
     "text": [
      "INFO: Got 116 tweets (116 new).\n",
      "INFO: queries: ['FB OR AMZN OR AAPL OR NFLX OR GOOG OR FAANG AND stocks since:2016-01-13 until:2016-01-14']\n"
     ]
    },
    {
     "name": "stdout",
     "output_type": "stream",
     "text": [
      "258\n",
      "2016-01-12\n",
      "116\n"
     ]
    },
    {
     "name": "stderr",
     "output_type": "stream",
     "text": [
      "INFO: Got 119 tweets (119 new).\n",
      "INFO: queries: ['FB OR AMZN OR AAPL OR NFLX OR GOOG OR FAANG AND stocks since:2016-01-14 until:2016-01-15']\n"
     ]
    },
    {
     "name": "stdout",
     "output_type": "stream",
     "text": [
      "259\n",
      "2016-01-13\n",
      "119\n"
     ]
    },
    {
     "name": "stderr",
     "output_type": "stream",
     "text": [
      "INFO: Got 119 tweets (119 new).\n",
      "INFO: queries: ['FB OR AMZN OR AAPL OR NFLX OR GOOG OR FAANG AND stocks since:2016-01-15 until:2016-01-16']\n"
     ]
    },
    {
     "name": "stdout",
     "output_type": "stream",
     "text": [
      "260\n",
      "2016-01-14\n",
      "119\n"
     ]
    },
    {
     "name": "stderr",
     "output_type": "stream",
     "text": [
      "INFO: Got 112 tweets (112 new).\n",
      "INFO: queries: ['FB OR AMZN OR AAPL OR NFLX OR GOOG OR FAANG AND stocks since:2016-01-19 until:2016-01-20']\n"
     ]
    },
    {
     "name": "stdout",
     "output_type": "stream",
     "text": [
      "261\n",
      "2016-01-15\n",
      "112\n"
     ]
    },
    {
     "name": "stderr",
     "output_type": "stream",
     "text": [
      "INFO: Got 115 tweets (115 new).\n",
      "INFO: queries: ['FB OR AMZN OR AAPL OR NFLX OR GOOG OR FAANG AND stocks since:2016-01-20 until:2016-01-21']\n"
     ]
    },
    {
     "name": "stdout",
     "output_type": "stream",
     "text": [
      "262\n",
      "2016-01-19\n",
      "115\n"
     ]
    },
    {
     "name": "stderr",
     "output_type": "stream",
     "text": [
      "INFO: Got 117 tweets (117 new).\n",
      "INFO: queries: ['FB OR AMZN OR AAPL OR NFLX OR GOOG OR FAANG AND stocks since:2016-01-21 until:2016-01-22']\n"
     ]
    },
    {
     "name": "stdout",
     "output_type": "stream",
     "text": [
      "263\n",
      "2016-01-20\n",
      "117\n"
     ]
    },
    {
     "name": "stderr",
     "output_type": "stream",
     "text": [
      "INFO: Got 113 tweets (113 new).\n",
      "INFO: queries: ['FB OR AMZN OR AAPL OR NFLX OR GOOG OR FAANG AND stocks since:2016-01-22 until:2016-01-23']\n"
     ]
    },
    {
     "name": "stdout",
     "output_type": "stream",
     "text": [
      "264\n",
      "2016-01-21\n",
      "113\n"
     ]
    },
    {
     "name": "stderr",
     "output_type": "stream",
     "text": [
      "INFO: Got 118 tweets (118 new).\n",
      "INFO: queries: ['FB OR AMZN OR AAPL OR NFLX OR GOOG OR FAANG AND stocks since:2016-01-25 until:2016-01-26']\n"
     ]
    },
    {
     "name": "stdout",
     "output_type": "stream",
     "text": [
      "265\n",
      "2016-01-22\n",
      "118\n"
     ]
    },
    {
     "name": "stderr",
     "output_type": "stream",
     "text": [
      "INFO: Got 120 tweets (120 new).\n",
      "INFO: queries: ['FB OR AMZN OR AAPL OR NFLX OR GOOG OR FAANG AND stocks since:2016-01-26 until:2016-01-27']\n"
     ]
    },
    {
     "name": "stdout",
     "output_type": "stream",
     "text": [
      "266\n",
      "2016-01-25\n",
      "120\n"
     ]
    },
    {
     "name": "stderr",
     "output_type": "stream",
     "text": [
      "INFO: Got 102 tweets (102 new).\n",
      "INFO: queries: ['FB OR AMZN OR AAPL OR NFLX OR GOOG OR FAANG AND stocks since:2016-01-27 until:2016-01-28']\n"
     ]
    },
    {
     "name": "stdout",
     "output_type": "stream",
     "text": [
      "267\n",
      "2016-01-26\n",
      "102\n"
     ]
    },
    {
     "name": "stderr",
     "output_type": "stream",
     "text": [
      "INFO: Got 107 tweets (107 new).\n",
      "INFO: queries: ['FB OR AMZN OR AAPL OR NFLX OR GOOG OR FAANG AND stocks since:2016-01-28 until:2016-01-29']\n"
     ]
    },
    {
     "name": "stdout",
     "output_type": "stream",
     "text": [
      "268\n",
      "2016-01-27\n",
      "107\n"
     ]
    },
    {
     "name": "stderr",
     "output_type": "stream",
     "text": [
      "INFO: Got 119 tweets (119 new).\n",
      "INFO: queries: ['FB OR AMZN OR AAPL OR NFLX OR GOOG OR FAANG AND stocks since:2016-01-29 until:2016-01-30']\n"
     ]
    },
    {
     "name": "stdout",
     "output_type": "stream",
     "text": [
      "269\n",
      "2016-01-28\n",
      "119\n"
     ]
    },
    {
     "name": "stderr",
     "output_type": "stream",
     "text": [
      "INFO: Got 118 tweets (118 new).\n",
      "INFO: queries: ['FB OR AMZN OR AAPL OR NFLX OR GOOG OR FAANG AND stocks since:2016-02-01 until:2016-02-02']\n"
     ]
    },
    {
     "name": "stdout",
     "output_type": "stream",
     "text": [
      "270\n",
      "2016-01-29\n",
      "118\n"
     ]
    },
    {
     "name": "stderr",
     "output_type": "stream",
     "text": [
      "INFO: Got 116 tweets (116 new).\n",
      "INFO: queries: ['FB OR AMZN OR AAPL OR NFLX OR GOOG OR FAANG AND stocks since:2016-02-02 until:2016-02-03']\n"
     ]
    },
    {
     "name": "stdout",
     "output_type": "stream",
     "text": [
      "271\n",
      "2016-02-01\n",
      "116\n"
     ]
    },
    {
     "name": "stderr",
     "output_type": "stream",
     "text": [
      "INFO: Got 120 tweets (120 new).\n",
      "INFO: queries: ['FB OR AMZN OR AAPL OR NFLX OR GOOG OR FAANG AND stocks since:2016-02-03 until:2016-02-04']\n"
     ]
    },
    {
     "name": "stdout",
     "output_type": "stream",
     "text": [
      "272\n",
      "2016-02-02\n",
      "120\n"
     ]
    },
    {
     "name": "stderr",
     "output_type": "stream",
     "text": [
      "INFO: Got 119 tweets (119 new).\n",
      "INFO: queries: ['FB OR AMZN OR AAPL OR NFLX OR GOOG OR FAANG AND stocks since:2016-02-04 until:2016-02-05']\n"
     ]
    },
    {
     "name": "stdout",
     "output_type": "stream",
     "text": [
      "273\n",
      "2016-02-03\n",
      "119\n"
     ]
    },
    {
     "name": "stderr",
     "output_type": "stream",
     "text": [
      "INFO: Got 120 tweets (120 new).\n",
      "INFO: queries: ['FB OR AMZN OR AAPL OR NFLX OR GOOG OR FAANG AND stocks since:2016-02-05 until:2016-02-06']\n"
     ]
    },
    {
     "name": "stdout",
     "output_type": "stream",
     "text": [
      "274\n",
      "2016-02-04\n",
      "120\n"
     ]
    },
    {
     "name": "stderr",
     "output_type": "stream",
     "text": [
      "INFO: Got 120 tweets (120 new).\n",
      "INFO: queries: ['FB OR AMZN OR AAPL OR NFLX OR GOOG OR FAANG AND stocks since:2016-02-08 until:2016-02-09']\n"
     ]
    },
    {
     "name": "stdout",
     "output_type": "stream",
     "text": [
      "275\n",
      "2016-02-05\n",
      "120\n"
     ]
    },
    {
     "name": "stderr",
     "output_type": "stream",
     "text": [
      "INFO: Got 120 tweets (120 new).\n",
      "INFO: queries: ['FB OR AMZN OR AAPL OR NFLX OR GOOG OR FAANG AND stocks since:2016-02-09 until:2016-02-10']\n"
     ]
    },
    {
     "name": "stdout",
     "output_type": "stream",
     "text": [
      "276\n",
      "2016-02-08\n",
      "120\n"
     ]
    },
    {
     "name": "stderr",
     "output_type": "stream",
     "text": [
      "INFO: Got 119 tweets (119 new).\n",
      "INFO: queries: ['FB OR AMZN OR AAPL OR NFLX OR GOOG OR FAANG AND stocks since:2016-02-10 until:2016-02-11']\n"
     ]
    },
    {
     "name": "stdout",
     "output_type": "stream",
     "text": [
      "277\n",
      "2016-02-09\n",
      "119\n"
     ]
    },
    {
     "name": "stderr",
     "output_type": "stream",
     "text": [
      "INFO: Got 108 tweets (108 new).\n",
      "INFO: queries: ['FB OR AMZN OR AAPL OR NFLX OR GOOG OR FAANG AND stocks since:2016-02-11 until:2016-02-12']\n"
     ]
    },
    {
     "name": "stdout",
     "output_type": "stream",
     "text": [
      "278\n",
      "2016-02-10\n",
      "108\n"
     ]
    },
    {
     "name": "stderr",
     "output_type": "stream",
     "text": [
      "INFO: Got 120 tweets (120 new).\n",
      "INFO: queries: ['FB OR AMZN OR AAPL OR NFLX OR GOOG OR FAANG AND stocks since:2016-02-12 until:2016-02-13']\n"
     ]
    },
    {
     "name": "stdout",
     "output_type": "stream",
     "text": [
      "279\n",
      "2016-02-11\n",
      "120\n"
     ]
    },
    {
     "name": "stderr",
     "output_type": "stream",
     "text": [
      "INFO: Got 119 tweets (119 new).\n",
      "INFO: queries: ['FB OR AMZN OR AAPL OR NFLX OR GOOG OR FAANG AND stocks since:2016-02-16 until:2016-02-17']\n"
     ]
    },
    {
     "name": "stdout",
     "output_type": "stream",
     "text": [
      "280\n",
      "2016-02-12\n",
      "119\n"
     ]
    },
    {
     "name": "stderr",
     "output_type": "stream",
     "text": [
      "INFO: Got 119 tweets (119 new).\n",
      "INFO: queries: ['FB OR AMZN OR AAPL OR NFLX OR GOOG OR FAANG AND stocks since:2016-02-17 until:2016-02-18']\n"
     ]
    },
    {
     "name": "stdout",
     "output_type": "stream",
     "text": [
      "281\n",
      "2016-02-16\n",
      "119\n"
     ]
    },
    {
     "name": "stderr",
     "output_type": "stream",
     "text": [
      "INFO: Got 101 tweets (101 new).\n",
      "INFO: queries: ['FB OR AMZN OR AAPL OR NFLX OR GOOG OR FAANG AND stocks since:2016-02-18 until:2016-02-19']\n"
     ]
    },
    {
     "name": "stdout",
     "output_type": "stream",
     "text": [
      "282\n",
      "2016-02-17\n",
      "101\n"
     ]
    },
    {
     "name": "stderr",
     "output_type": "stream",
     "text": [
      "INFO: Got 103 tweets (103 new).\n",
      "INFO: queries: ['FB OR AMZN OR AAPL OR NFLX OR GOOG OR FAANG AND stocks since:2016-02-19 until:2016-02-20']\n"
     ]
    },
    {
     "name": "stdout",
     "output_type": "stream",
     "text": [
      "283\n",
      "2016-02-18\n",
      "103\n"
     ]
    },
    {
     "name": "stderr",
     "output_type": "stream",
     "text": [
      "INFO: Got 118 tweets (118 new).\n",
      "INFO: queries: ['FB OR AMZN OR AAPL OR NFLX OR GOOG OR FAANG AND stocks since:2016-02-22 until:2016-02-23']\n"
     ]
    },
    {
     "name": "stdout",
     "output_type": "stream",
     "text": [
      "284\n",
      "2016-02-19\n",
      "118\n"
     ]
    },
    {
     "name": "stderr",
     "output_type": "stream",
     "text": [
      "INFO: Got 120 tweets (120 new).\n",
      "INFO: queries: ['FB OR AMZN OR AAPL OR NFLX OR GOOG OR FAANG AND stocks since:2016-02-23 until:2016-02-24']\n"
     ]
    },
    {
     "name": "stdout",
     "output_type": "stream",
     "text": [
      "285\n",
      "2016-02-22\n",
      "120\n"
     ]
    },
    {
     "name": "stderr",
     "output_type": "stream",
     "text": [
      "INFO: Got 119 tweets (119 new).\n",
      "INFO: queries: ['FB OR AMZN OR AAPL OR NFLX OR GOOG OR FAANG AND stocks since:2016-02-24 until:2016-02-25']\n"
     ]
    },
    {
     "name": "stdout",
     "output_type": "stream",
     "text": [
      "286\n",
      "2016-02-23\n",
      "119\n"
     ]
    },
    {
     "name": "stderr",
     "output_type": "stream",
     "text": [
      "INFO: Got 120 tweets (120 new).\n",
      "INFO: queries: ['FB OR AMZN OR AAPL OR NFLX OR GOOG OR FAANG AND stocks since:2016-02-25 until:2016-02-26']\n"
     ]
    },
    {
     "name": "stdout",
     "output_type": "stream",
     "text": [
      "287\n",
      "2016-02-24\n",
      "120\n"
     ]
    },
    {
     "name": "stderr",
     "output_type": "stream",
     "text": [
      "INFO: Got 117 tweets (117 new).\n",
      "INFO: queries: ['FB OR AMZN OR AAPL OR NFLX OR GOOG OR FAANG AND stocks since:2016-02-26 until:2016-02-27']\n"
     ]
    },
    {
     "name": "stdout",
     "output_type": "stream",
     "text": [
      "288\n",
      "2016-02-25\n",
      "117\n"
     ]
    },
    {
     "name": "stderr",
     "output_type": "stream",
     "text": [
      "INFO: Got 120 tweets (120 new).\n",
      "INFO: queries: ['FB OR AMZN OR AAPL OR NFLX OR GOOG OR FAANG AND stocks since:2016-02-29 until:2016-03-01']\n"
     ]
    },
    {
     "name": "stdout",
     "output_type": "stream",
     "text": [
      "289\n",
      "2016-02-26\n",
      "120\n"
     ]
    },
    {
     "name": "stderr",
     "output_type": "stream",
     "text": [
      "INFO: Got 119 tweets (119 new).\n",
      "INFO: queries: ['FB OR AMZN OR AAPL OR NFLX OR GOOG OR FAANG AND stocks since:2016-03-01 until:2016-03-02']\n"
     ]
    },
    {
     "name": "stdout",
     "output_type": "stream",
     "text": [
      "290\n",
      "2016-02-29\n",
      "119\n"
     ]
    },
    {
     "name": "stderr",
     "output_type": "stream",
     "text": [
      "INFO: Got 120 tweets (120 new).\n",
      "INFO: queries: ['FB OR AMZN OR AAPL OR NFLX OR GOOG OR FAANG AND stocks since:2016-03-02 until:2016-03-03']\n"
     ]
    },
    {
     "name": "stdout",
     "output_type": "stream",
     "text": [
      "291\n",
      "2016-03-01\n",
      "120\n"
     ]
    },
    {
     "name": "stderr",
     "output_type": "stream",
     "text": [
      "INFO: Got 120 tweets (120 new).\n",
      "INFO: queries: ['FB OR AMZN OR AAPL OR NFLX OR GOOG OR FAANG AND stocks since:2016-03-03 until:2016-03-04']\n"
     ]
    },
    {
     "name": "stdout",
     "output_type": "stream",
     "text": [
      "292\n",
      "2016-03-02\n",
      "120\n"
     ]
    },
    {
     "name": "stderr",
     "output_type": "stream",
     "text": [
      "INFO: Got 120 tweets (120 new).\n",
      "INFO: queries: ['FB OR AMZN OR AAPL OR NFLX OR GOOG OR FAANG AND stocks since:2016-03-04 until:2016-03-05']\n"
     ]
    },
    {
     "name": "stdout",
     "output_type": "stream",
     "text": [
      "293\n",
      "2016-03-03\n",
      "120\n"
     ]
    },
    {
     "name": "stderr",
     "output_type": "stream",
     "text": [
      "INFO: Got 119 tweets (119 new).\n",
      "INFO: queries: ['FB OR AMZN OR AAPL OR NFLX OR GOOG OR FAANG AND stocks since:2016-03-07 until:2016-03-08']\n"
     ]
    },
    {
     "name": "stdout",
     "output_type": "stream",
     "text": [
      "294\n",
      "2016-03-04\n",
      "119\n"
     ]
    },
    {
     "name": "stderr",
     "output_type": "stream",
     "text": [
      "INFO: Got 120 tweets (120 new).\n",
      "INFO: queries: ['FB OR AMZN OR AAPL OR NFLX OR GOOG OR FAANG AND stocks since:2016-03-08 until:2016-03-09']\n"
     ]
    },
    {
     "name": "stdout",
     "output_type": "stream",
     "text": [
      "295\n",
      "2016-03-07\n",
      "120\n"
     ]
    },
    {
     "name": "stderr",
     "output_type": "stream",
     "text": [
      "INFO: Got 120 tweets (120 new).\n",
      "INFO: queries: ['FB OR AMZN OR AAPL OR NFLX OR GOOG OR FAANG AND stocks since:2016-03-09 until:2016-03-10']\n"
     ]
    },
    {
     "name": "stdout",
     "output_type": "stream",
     "text": [
      "296\n",
      "2016-03-08\n",
      "120\n"
     ]
    },
    {
     "name": "stderr",
     "output_type": "stream",
     "text": [
      "INFO: Got 120 tweets (120 new).\n",
      "INFO: queries: ['FB OR AMZN OR AAPL OR NFLX OR GOOG OR FAANG AND stocks since:2016-03-10 until:2016-03-11']\n"
     ]
    },
    {
     "name": "stdout",
     "output_type": "stream",
     "text": [
      "297\n",
      "2016-03-09\n",
      "120\n"
     ]
    },
    {
     "name": "stderr",
     "output_type": "stream",
     "text": [
      "INFO: Got 119 tweets (119 new).\n",
      "INFO: queries: ['FB OR AMZN OR AAPL OR NFLX OR GOOG OR FAANG AND stocks since:2016-03-11 until:2016-03-12']\n"
     ]
    },
    {
     "name": "stdout",
     "output_type": "stream",
     "text": [
      "298\n",
      "2016-03-10\n",
      "119\n"
     ]
    },
    {
     "name": "stderr",
     "output_type": "stream",
     "text": [
      "INFO: Got 118 tweets (118 new).\n",
      "INFO: queries: ['FB OR AMZN OR AAPL OR NFLX OR GOOG OR FAANG AND stocks since:2016-03-14 until:2016-03-15']\n"
     ]
    },
    {
     "name": "stdout",
     "output_type": "stream",
     "text": [
      "299\n",
      "2016-03-11\n",
      "118\n"
     ]
    },
    {
     "name": "stderr",
     "output_type": "stream",
     "text": [
      "INFO: Got 119 tweets (119 new).\n",
      "INFO: queries: ['FB OR AMZN OR AAPL OR NFLX OR GOOG OR FAANG AND stocks since:2016-03-15 until:2016-03-16']\n"
     ]
    },
    {
     "name": "stdout",
     "output_type": "stream",
     "text": [
      "300\n",
      "2016-03-14\n",
      "119\n"
     ]
    },
    {
     "name": "stderr",
     "output_type": "stream",
     "text": [
      "INFO: Got 120 tweets (120 new).\n",
      "INFO: queries: ['FB OR AMZN OR AAPL OR NFLX OR GOOG OR FAANG AND stocks since:2016-03-16 until:2016-03-17']\n"
     ]
    },
    {
     "name": "stdout",
     "output_type": "stream",
     "text": [
      "301\n",
      "2016-03-15\n",
      "120\n"
     ]
    },
    {
     "name": "stderr",
     "output_type": "stream",
     "text": [
      "INFO: Got 120 tweets (120 new).\n",
      "INFO: queries: ['FB OR AMZN OR AAPL OR NFLX OR GOOG OR FAANG AND stocks since:2016-03-17 until:2016-03-18']\n"
     ]
    },
    {
     "name": "stdout",
     "output_type": "stream",
     "text": [
      "302\n",
      "2016-03-16\n",
      "120\n"
     ]
    },
    {
     "name": "stderr",
     "output_type": "stream",
     "text": [
      "INFO: Got 120 tweets (120 new).\n",
      "INFO: queries: ['FB OR AMZN OR AAPL OR NFLX OR GOOG OR FAANG AND stocks since:2016-03-18 until:2016-03-19']\n"
     ]
    },
    {
     "name": "stdout",
     "output_type": "stream",
     "text": [
      "303\n",
      "2016-03-17\n",
      "120\n"
     ]
    },
    {
     "name": "stderr",
     "output_type": "stream",
     "text": [
      "INFO: Got 120 tweets (120 new).\n",
      "INFO: queries: ['FB OR AMZN OR AAPL OR NFLX OR GOOG OR FAANG AND stocks since:2016-03-21 until:2016-03-22']\n"
     ]
    },
    {
     "name": "stdout",
     "output_type": "stream",
     "text": [
      "304\n",
      "2016-03-18\n",
      "120\n"
     ]
    },
    {
     "name": "stderr",
     "output_type": "stream",
     "text": [
      "INFO: Got 114 tweets (114 new).\n",
      "INFO: queries: ['FB OR AMZN OR AAPL OR NFLX OR GOOG OR FAANG AND stocks since:2016-03-22 until:2016-03-23']\n"
     ]
    },
    {
     "name": "stdout",
     "output_type": "stream",
     "text": [
      "305\n",
      "2016-03-21\n",
      "114\n"
     ]
    },
    {
     "name": "stderr",
     "output_type": "stream",
     "text": [
      "INFO: Got 118 tweets (118 new).\n",
      "INFO: queries: ['FB OR AMZN OR AAPL OR NFLX OR GOOG OR FAANG AND stocks since:2016-03-23 until:2016-03-24']\n"
     ]
    },
    {
     "name": "stdout",
     "output_type": "stream",
     "text": [
      "306\n",
      "2016-03-22\n",
      "118\n"
     ]
    },
    {
     "name": "stderr",
     "output_type": "stream",
     "text": [
      "INFO: Got 120 tweets (120 new).\n",
      "INFO: queries: ['FB OR AMZN OR AAPL OR NFLX OR GOOG OR FAANG AND stocks since:2016-03-24 until:2016-03-25']\n"
     ]
    },
    {
     "name": "stdout",
     "output_type": "stream",
     "text": [
      "307\n",
      "2016-03-23\n",
      "120\n"
     ]
    },
    {
     "name": "stderr",
     "output_type": "stream",
     "text": [
      "INFO: Got 120 tweets (120 new).\n",
      "INFO: queries: ['FB OR AMZN OR AAPL OR NFLX OR GOOG OR FAANG AND stocks since:2016-03-28 until:2016-03-29']\n"
     ]
    },
    {
     "name": "stdout",
     "output_type": "stream",
     "text": [
      "308\n",
      "2016-03-24\n",
      "120\n"
     ]
    },
    {
     "name": "stderr",
     "output_type": "stream",
     "text": [
      "INFO: Got 120 tweets (120 new).\n",
      "INFO: queries: ['FB OR AMZN OR AAPL OR NFLX OR GOOG OR FAANG AND stocks since:2016-03-29 until:2016-03-30']\n"
     ]
    },
    {
     "name": "stdout",
     "output_type": "stream",
     "text": [
      "309\n",
      "2016-03-28\n",
      "120\n"
     ]
    },
    {
     "name": "stderr",
     "output_type": "stream",
     "text": [
      "INFO: Got 120 tweets (120 new).\n",
      "INFO: queries: ['FB OR AMZN OR AAPL OR NFLX OR GOOG OR FAANG AND stocks since:2016-03-30 until:2016-03-31']\n"
     ]
    },
    {
     "name": "stdout",
     "output_type": "stream",
     "text": [
      "310\n",
      "2016-03-29\n",
      "120\n"
     ]
    },
    {
     "name": "stderr",
     "output_type": "stream",
     "text": [
      "INFO: Got 120 tweets (120 new).\n",
      "INFO: queries: ['FB OR AMZN OR AAPL OR NFLX OR GOOG OR FAANG AND stocks since:2016-03-31 until:2016-04-01']\n"
     ]
    },
    {
     "name": "stdout",
     "output_type": "stream",
     "text": [
      "311\n",
      "2016-03-30\n",
      "120\n"
     ]
    },
    {
     "name": "stderr",
     "output_type": "stream",
     "text": [
      "INFO: Got 119 tweets (119 new).\n",
      "INFO: queries: ['FB OR AMZN OR AAPL OR NFLX OR GOOG OR FAANG AND stocks since:2016-04-01 until:2016-04-02']\n"
     ]
    },
    {
     "name": "stdout",
     "output_type": "stream",
     "text": [
      "312\n",
      "2016-03-31\n",
      "119\n"
     ]
    },
    {
     "name": "stderr",
     "output_type": "stream",
     "text": [
      "INFO: Got 120 tweets (120 new).\n",
      "INFO: queries: ['FB OR AMZN OR AAPL OR NFLX OR GOOG OR FAANG AND stocks since:2016-04-04 until:2016-04-05']\n"
     ]
    },
    {
     "name": "stdout",
     "output_type": "stream",
     "text": [
      "313\n",
      "2016-04-01\n",
      "120\n"
     ]
    },
    {
     "name": "stderr",
     "output_type": "stream",
     "text": [
      "INFO: Got 120 tweets (120 new).\n",
      "INFO: queries: ['FB OR AMZN OR AAPL OR NFLX OR GOOG OR FAANG AND stocks since:2016-04-05 until:2016-04-06']\n"
     ]
    },
    {
     "name": "stdout",
     "output_type": "stream",
     "text": [
      "314\n",
      "2016-04-04\n",
      "120\n"
     ]
    },
    {
     "name": "stderr",
     "output_type": "stream",
     "text": [
      "INFO: Got 120 tweets (120 new).\n",
      "INFO: queries: ['FB OR AMZN OR AAPL OR NFLX OR GOOG OR FAANG AND stocks since:2016-04-06 until:2016-04-07']\n"
     ]
    },
    {
     "name": "stdout",
     "output_type": "stream",
     "text": [
      "315\n",
      "2016-04-05\n",
      "120\n"
     ]
    },
    {
     "name": "stderr",
     "output_type": "stream",
     "text": [
      "INFO: Got 120 tweets (120 new).\n",
      "INFO: queries: ['FB OR AMZN OR AAPL OR NFLX OR GOOG OR FAANG AND stocks since:2016-04-07 until:2016-04-08']\n"
     ]
    },
    {
     "name": "stdout",
     "output_type": "stream",
     "text": [
      "316\n",
      "2016-04-06\n",
      "120\n"
     ]
    },
    {
     "name": "stderr",
     "output_type": "stream",
     "text": [
      "INFO: Got 120 tweets (120 new).\n",
      "INFO: queries: ['FB OR AMZN OR AAPL OR NFLX OR GOOG OR FAANG AND stocks since:2016-04-08 until:2016-04-09']\n"
     ]
    },
    {
     "name": "stdout",
     "output_type": "stream",
     "text": [
      "317\n",
      "2016-04-07\n",
      "120\n"
     ]
    },
    {
     "name": "stderr",
     "output_type": "stream",
     "text": [
      "INFO: Got 101 tweets (101 new).\n",
      "INFO: queries: ['FB OR AMZN OR AAPL OR NFLX OR GOOG OR FAANG AND stocks since:2016-04-11 until:2016-04-12']\n"
     ]
    },
    {
     "name": "stdout",
     "output_type": "stream",
     "text": [
      "318\n",
      "2016-04-08\n",
      "101\n"
     ]
    },
    {
     "name": "stderr",
     "output_type": "stream",
     "text": [
      "INFO: Got 120 tweets (120 new).\n",
      "INFO: queries: ['FB OR AMZN OR AAPL OR NFLX OR GOOG OR FAANG AND stocks since:2016-04-12 until:2016-04-13']\n"
     ]
    },
    {
     "name": "stdout",
     "output_type": "stream",
     "text": [
      "319\n",
      "2016-04-11\n",
      "120\n"
     ]
    },
    {
     "name": "stderr",
     "output_type": "stream",
     "text": [
      "INFO: Got 101 tweets (101 new).\n",
      "INFO: queries: ['FB OR AMZN OR AAPL OR NFLX OR GOOG OR FAANG AND stocks since:2016-04-13 until:2016-04-14']\n"
     ]
    },
    {
     "name": "stdout",
     "output_type": "stream",
     "text": [
      "320\n",
      "2016-04-12\n",
      "101\n"
     ]
    },
    {
     "name": "stderr",
     "output_type": "stream",
     "text": [
      "INFO: Got 120 tweets (120 new).\n",
      "INFO: queries: ['FB OR AMZN OR AAPL OR NFLX OR GOOG OR FAANG AND stocks since:2016-04-14 until:2016-04-15']\n"
     ]
    },
    {
     "name": "stdout",
     "output_type": "stream",
     "text": [
      "321\n",
      "2016-04-13\n",
      "120\n"
     ]
    },
    {
     "name": "stderr",
     "output_type": "stream",
     "text": [
      "INFO: Got 120 tweets (120 new).\n",
      "INFO: queries: ['FB OR AMZN OR AAPL OR NFLX OR GOOG OR FAANG AND stocks since:2016-04-15 until:2016-04-16']\n"
     ]
    },
    {
     "name": "stdout",
     "output_type": "stream",
     "text": [
      "322\n",
      "2016-04-14\n",
      "120\n"
     ]
    },
    {
     "name": "stderr",
     "output_type": "stream",
     "text": [
      "INFO: Got 120 tweets (120 new).\n",
      "INFO: queries: ['FB OR AMZN OR AAPL OR NFLX OR GOOG OR FAANG AND stocks since:2016-04-18 until:2016-04-19']\n"
     ]
    },
    {
     "name": "stdout",
     "output_type": "stream",
     "text": [
      "323\n",
      "2016-04-15\n",
      "120\n"
     ]
    },
    {
     "name": "stderr",
     "output_type": "stream",
     "text": [
      "INFO: Got 101 tweets (101 new).\n",
      "INFO: queries: ['FB OR AMZN OR AAPL OR NFLX OR GOOG OR FAANG AND stocks since:2016-04-19 until:2016-04-20']\n"
     ]
    },
    {
     "name": "stdout",
     "output_type": "stream",
     "text": [
      "324\n",
      "2016-04-18\n",
      "101\n"
     ]
    },
    {
     "name": "stderr",
     "output_type": "stream",
     "text": [
      "INFO: Got 119 tweets (119 new).\n",
      "INFO: queries: ['FB OR AMZN OR AAPL OR NFLX OR GOOG OR FAANG AND stocks since:2016-04-20 until:2016-04-21']\n"
     ]
    },
    {
     "name": "stdout",
     "output_type": "stream",
     "text": [
      "325\n",
      "2016-04-19\n",
      "119\n"
     ]
    },
    {
     "name": "stderr",
     "output_type": "stream",
     "text": [
      "INFO: Got 120 tweets (120 new).\n",
      "INFO: queries: ['FB OR AMZN OR AAPL OR NFLX OR GOOG OR FAANG AND stocks since:2016-04-21 until:2016-04-22']\n"
     ]
    },
    {
     "name": "stdout",
     "output_type": "stream",
     "text": [
      "326\n",
      "2016-04-20\n",
      "120\n"
     ]
    },
    {
     "name": "stderr",
     "output_type": "stream",
     "text": [
      "INFO: Got 120 tweets (120 new).\n",
      "INFO: queries: ['FB OR AMZN OR AAPL OR NFLX OR GOOG OR FAANG AND stocks since:2016-04-22 until:2016-04-23']\n"
     ]
    },
    {
     "name": "stdout",
     "output_type": "stream",
     "text": [
      "327\n",
      "2016-04-21\n",
      "120\n"
     ]
    },
    {
     "name": "stderr",
     "output_type": "stream",
     "text": [
      "INFO: Got 120 tweets (120 new).\n",
      "INFO: queries: ['FB OR AMZN OR AAPL OR NFLX OR GOOG OR FAANG AND stocks since:2016-04-25 until:2016-04-26']\n"
     ]
    },
    {
     "name": "stdout",
     "output_type": "stream",
     "text": [
      "328\n",
      "2016-04-22\n",
      "120\n"
     ]
    },
    {
     "name": "stderr",
     "output_type": "stream",
     "text": [
      "INFO: Got 120 tweets (120 new).\n",
      "INFO: queries: ['FB OR AMZN OR AAPL OR NFLX OR GOOG OR FAANG AND stocks since:2016-04-26 until:2016-04-27']\n"
     ]
    },
    {
     "name": "stdout",
     "output_type": "stream",
     "text": [
      "329\n",
      "2016-04-25\n",
      "120\n"
     ]
    },
    {
     "name": "stderr",
     "output_type": "stream",
     "text": [
      "INFO: Got 115 tweets (115 new).\n",
      "INFO: queries: ['FB OR AMZN OR AAPL OR NFLX OR GOOG OR FAANG AND stocks since:2016-04-27 until:2016-04-28']\n"
     ]
    },
    {
     "name": "stdout",
     "output_type": "stream",
     "text": [
      "330\n",
      "2016-04-26\n",
      "115\n"
     ]
    },
    {
     "name": "stderr",
     "output_type": "stream",
     "text": [
      "INFO: Got 116 tweets (116 new).\n",
      "INFO: queries: ['FB OR AMZN OR AAPL OR NFLX OR GOOG OR FAANG AND stocks since:2016-04-28 until:2016-04-29']\n"
     ]
    },
    {
     "name": "stdout",
     "output_type": "stream",
     "text": [
      "331\n",
      "2016-04-27\n",
      "116\n"
     ]
    },
    {
     "name": "stderr",
     "output_type": "stream",
     "text": [
      "INFO: Got 120 tweets (120 new).\n",
      "INFO: queries: ['FB OR AMZN OR AAPL OR NFLX OR GOOG OR FAANG AND stocks since:2016-04-29 until:2016-04-30']\n"
     ]
    },
    {
     "name": "stdout",
     "output_type": "stream",
     "text": [
      "332\n",
      "2016-04-28\n",
      "120\n"
     ]
    },
    {
     "name": "stderr",
     "output_type": "stream",
     "text": [
      "INFO: Got 120 tweets (120 new).\n",
      "INFO: queries: ['FB OR AMZN OR AAPL OR NFLX OR GOOG OR FAANG AND stocks since:2016-05-02 until:2016-05-03']\n"
     ]
    },
    {
     "name": "stdout",
     "output_type": "stream",
     "text": [
      "333\n",
      "2016-04-29\n",
      "120\n"
     ]
    },
    {
     "name": "stderr",
     "output_type": "stream",
     "text": [
      "INFO: Got 120 tweets (120 new).\n",
      "INFO: queries: ['FB OR AMZN OR AAPL OR NFLX OR GOOG OR FAANG AND stocks since:2016-05-03 until:2016-05-04']\n"
     ]
    },
    {
     "name": "stdout",
     "output_type": "stream",
     "text": [
      "334\n",
      "2016-05-02\n",
      "120\n"
     ]
    },
    {
     "name": "stderr",
     "output_type": "stream",
     "text": [
      "INFO: Got 120 tweets (120 new).\n",
      "INFO: queries: ['FB OR AMZN OR AAPL OR NFLX OR GOOG OR FAANG AND stocks since:2016-05-04 until:2016-05-05']\n"
     ]
    },
    {
     "name": "stdout",
     "output_type": "stream",
     "text": [
      "335\n",
      "2016-05-03\n",
      "120\n"
     ]
    },
    {
     "name": "stderr",
     "output_type": "stream",
     "text": [
      "INFO: Got 119 tweets (119 new).\n",
      "INFO: queries: ['FB OR AMZN OR AAPL OR NFLX OR GOOG OR FAANG AND stocks since:2016-05-05 until:2016-05-06']\n"
     ]
    },
    {
     "name": "stdout",
     "output_type": "stream",
     "text": [
      "336\n",
      "2016-05-04\n",
      "119\n"
     ]
    },
    {
     "name": "stderr",
     "output_type": "stream",
     "text": [
      "INFO: Got 114 tweets (114 new).\n",
      "INFO: queries: ['FB OR AMZN OR AAPL OR NFLX OR GOOG OR FAANG AND stocks since:2016-05-06 until:2016-05-07']\n"
     ]
    },
    {
     "name": "stdout",
     "output_type": "stream",
     "text": [
      "337\n",
      "2016-05-05\n",
      "114\n"
     ]
    },
    {
     "name": "stderr",
     "output_type": "stream",
     "text": [
      "INFO: Got 120 tweets (120 new).\n",
      "INFO: queries: ['FB OR AMZN OR AAPL OR NFLX OR GOOG OR FAANG AND stocks since:2016-05-09 until:2016-05-10']\n"
     ]
    },
    {
     "name": "stdout",
     "output_type": "stream",
     "text": [
      "338\n",
      "2016-05-06\n",
      "120\n"
     ]
    },
    {
     "name": "stderr",
     "output_type": "stream",
     "text": [
      "INFO: Got 120 tweets (120 new).\n",
      "INFO: queries: ['FB OR AMZN OR AAPL OR NFLX OR GOOG OR FAANG AND stocks since:2016-05-10 until:2016-05-11']\n"
     ]
    },
    {
     "name": "stdout",
     "output_type": "stream",
     "text": [
      "339\n",
      "2016-05-09\n",
      "120\n"
     ]
    },
    {
     "name": "stderr",
     "output_type": "stream",
     "text": [
      "INFO: Got 120 tweets (120 new).\n",
      "INFO: queries: ['FB OR AMZN OR AAPL OR NFLX OR GOOG OR FAANG AND stocks since:2016-05-11 until:2016-05-12']\n"
     ]
    },
    {
     "name": "stdout",
     "output_type": "stream",
     "text": [
      "340\n",
      "2016-05-10\n",
      "120\n"
     ]
    },
    {
     "name": "stderr",
     "output_type": "stream",
     "text": [
      "INFO: Got 117 tweets (117 new).\n",
      "INFO: queries: ['FB OR AMZN OR AAPL OR NFLX OR GOOG OR FAANG AND stocks since:2016-05-12 until:2016-05-13']\n"
     ]
    },
    {
     "name": "stdout",
     "output_type": "stream",
     "text": [
      "341\n",
      "2016-05-11\n",
      "117\n"
     ]
    },
    {
     "name": "stderr",
     "output_type": "stream",
     "text": [
      "INFO: Got 120 tweets (120 new).\n",
      "INFO: queries: ['FB OR AMZN OR AAPL OR NFLX OR GOOG OR FAANG AND stocks since:2016-05-13 until:2016-05-14']\n"
     ]
    },
    {
     "name": "stdout",
     "output_type": "stream",
     "text": [
      "342\n",
      "2016-05-12\n",
      "120\n"
     ]
    },
    {
     "name": "stderr",
     "output_type": "stream",
     "text": [
      "INFO: Got 119 tweets (119 new).\n",
      "INFO: queries: ['FB OR AMZN OR AAPL OR NFLX OR GOOG OR FAANG AND stocks since:2016-05-16 until:2016-05-17']\n"
     ]
    },
    {
     "name": "stdout",
     "output_type": "stream",
     "text": [
      "343\n",
      "2016-05-13\n",
      "119\n"
     ]
    },
    {
     "name": "stderr",
     "output_type": "stream",
     "text": [
      "INFO: Got 117 tweets (117 new).\n",
      "INFO: queries: ['FB OR AMZN OR AAPL OR NFLX OR GOOG OR FAANG AND stocks since:2016-05-17 until:2016-05-18']\n"
     ]
    },
    {
     "name": "stdout",
     "output_type": "stream",
     "text": [
      "344\n",
      "2016-05-16\n",
      "117\n"
     ]
    },
    {
     "name": "stderr",
     "output_type": "stream",
     "text": [
      "INFO: Got 120 tweets (120 new).\n",
      "INFO: queries: ['FB OR AMZN OR AAPL OR NFLX OR GOOG OR FAANG AND stocks since:2016-05-18 until:2016-05-19']\n"
     ]
    },
    {
     "name": "stdout",
     "output_type": "stream",
     "text": [
      "345\n",
      "2016-05-17\n",
      "120\n"
     ]
    },
    {
     "name": "stderr",
     "output_type": "stream",
     "text": [
      "INFO: Got 120 tweets (120 new).\n",
      "INFO: queries: ['FB OR AMZN OR AAPL OR NFLX OR GOOG OR FAANG AND stocks since:2016-05-19 until:2016-05-20']\n"
     ]
    },
    {
     "name": "stdout",
     "output_type": "stream",
     "text": [
      "346\n",
      "2016-05-18\n",
      "120\n"
     ]
    },
    {
     "name": "stderr",
     "output_type": "stream",
     "text": [
      "INFO: Got 120 tweets (120 new).\n",
      "INFO: queries: ['FB OR AMZN OR AAPL OR NFLX OR GOOG OR FAANG AND stocks since:2016-05-20 until:2016-05-21']\n"
     ]
    },
    {
     "name": "stdout",
     "output_type": "stream",
     "text": [
      "347\n",
      "2016-05-19\n",
      "120\n"
     ]
    },
    {
     "name": "stderr",
     "output_type": "stream",
     "text": [
      "INFO: Got 120 tweets (120 new).\n",
      "INFO: queries: ['FB OR AMZN OR AAPL OR NFLX OR GOOG OR FAANG AND stocks since:2016-05-23 until:2016-05-24']\n"
     ]
    },
    {
     "name": "stdout",
     "output_type": "stream",
     "text": [
      "348\n",
      "2016-05-20\n",
      "120\n"
     ]
    },
    {
     "name": "stderr",
     "output_type": "stream",
     "text": [
      "INFO: Got 117 tweets (117 new).\n",
      "INFO: queries: ['FB OR AMZN OR AAPL OR NFLX OR GOOG OR FAANG AND stocks since:2016-05-24 until:2016-05-25']\n"
     ]
    },
    {
     "name": "stdout",
     "output_type": "stream",
     "text": [
      "349\n",
      "2016-05-23\n",
      "117\n"
     ]
    },
    {
     "name": "stderr",
     "output_type": "stream",
     "text": [
      "INFO: Got 120 tweets (120 new).\n",
      "INFO: queries: ['FB OR AMZN OR AAPL OR NFLX OR GOOG OR FAANG AND stocks since:2016-05-25 until:2016-05-26']\n"
     ]
    },
    {
     "name": "stdout",
     "output_type": "stream",
     "text": [
      "350\n",
      "2016-05-24\n",
      "120\n"
     ]
    },
    {
     "name": "stderr",
     "output_type": "stream",
     "text": [
      "INFO: Got 120 tweets (120 new).\n",
      "INFO: queries: ['FB OR AMZN OR AAPL OR NFLX OR GOOG OR FAANG AND stocks since:2016-05-26 until:2016-05-27']\n"
     ]
    },
    {
     "name": "stdout",
     "output_type": "stream",
     "text": [
      "351\n",
      "2016-05-25\n",
      "120\n"
     ]
    },
    {
     "name": "stderr",
     "output_type": "stream",
     "text": [
      "INFO: Got 120 tweets (120 new).\n",
      "INFO: queries: ['FB OR AMZN OR AAPL OR NFLX OR GOOG OR FAANG AND stocks since:2016-05-27 until:2016-05-28']\n"
     ]
    },
    {
     "name": "stdout",
     "output_type": "stream",
     "text": [
      "352\n",
      "2016-05-26\n",
      "120\n"
     ]
    },
    {
     "name": "stderr",
     "output_type": "stream",
     "text": [
      "INFO: Got 120 tweets (120 new).\n",
      "INFO: queries: ['FB OR AMZN OR AAPL OR NFLX OR GOOG OR FAANG AND stocks since:2016-05-31 until:2016-06-01']\n"
     ]
    },
    {
     "name": "stdout",
     "output_type": "stream",
     "text": [
      "353\n",
      "2016-05-27\n",
      "120\n"
     ]
    },
    {
     "name": "stderr",
     "output_type": "stream",
     "text": [
      "INFO: Got 120 tweets (120 new).\n",
      "INFO: queries: ['FB OR AMZN OR AAPL OR NFLX OR GOOG OR FAANG AND stocks since:2016-06-01 until:2016-06-02']\n"
     ]
    },
    {
     "name": "stdout",
     "output_type": "stream",
     "text": [
      "354\n",
      "2016-05-31\n",
      "120\n"
     ]
    },
    {
     "name": "stderr",
     "output_type": "stream",
     "text": [
      "INFO: Got 120 tweets (120 new).\n",
      "INFO: queries: ['FB OR AMZN OR AAPL OR NFLX OR GOOG OR FAANG AND stocks since:2016-06-02 until:2016-06-03']\n"
     ]
    },
    {
     "name": "stdout",
     "output_type": "stream",
     "text": [
      "355\n",
      "2016-06-01\n",
      "120\n"
     ]
    },
    {
     "name": "stderr",
     "output_type": "stream",
     "text": [
      "INFO: Got 120 tweets (120 new).\n",
      "INFO: queries: ['FB OR AMZN OR AAPL OR NFLX OR GOOG OR FAANG AND stocks since:2016-06-03 until:2016-06-04']\n"
     ]
    },
    {
     "name": "stdout",
     "output_type": "stream",
     "text": [
      "356\n",
      "2016-06-02\n",
      "120\n"
     ]
    },
    {
     "name": "stderr",
     "output_type": "stream",
     "text": [
      "INFO: Got 119 tweets (119 new).\n",
      "INFO: queries: ['FB OR AMZN OR AAPL OR NFLX OR GOOG OR FAANG AND stocks since:2016-06-06 until:2016-06-07']\n"
     ]
    },
    {
     "name": "stdout",
     "output_type": "stream",
     "text": [
      "357\n",
      "2016-06-03\n",
      "119\n"
     ]
    },
    {
     "name": "stderr",
     "output_type": "stream",
     "text": [
      "INFO: Got 120 tweets (120 new).\n",
      "INFO: queries: ['FB OR AMZN OR AAPL OR NFLX OR GOOG OR FAANG AND stocks since:2016-06-07 until:2016-06-08']\n"
     ]
    },
    {
     "name": "stdout",
     "output_type": "stream",
     "text": [
      "358\n",
      "2016-06-06\n",
      "120\n"
     ]
    },
    {
     "name": "stderr",
     "output_type": "stream",
     "text": [
      "INFO: Got 119 tweets (119 new).\n",
      "INFO: queries: ['FB OR AMZN OR AAPL OR NFLX OR GOOG OR FAANG AND stocks since:2016-06-08 until:2016-06-09']\n"
     ]
    },
    {
     "name": "stdout",
     "output_type": "stream",
     "text": [
      "359\n",
      "2016-06-07\n",
      "119\n"
     ]
    },
    {
     "name": "stderr",
     "output_type": "stream",
     "text": [
      "INFO: Got 119 tweets (119 new).\n",
      "INFO: queries: ['FB OR AMZN OR AAPL OR NFLX OR GOOG OR FAANG AND stocks since:2016-06-09 until:2016-06-10']\n"
     ]
    },
    {
     "name": "stdout",
     "output_type": "stream",
     "text": [
      "360\n",
      "2016-06-08\n",
      "119\n"
     ]
    },
    {
     "name": "stderr",
     "output_type": "stream",
     "text": [
      "INFO: Got 119 tweets (119 new).\n",
      "INFO: queries: ['FB OR AMZN OR AAPL OR NFLX OR GOOG OR FAANG AND stocks since:2016-06-10 until:2016-06-11']\n"
     ]
    },
    {
     "name": "stdout",
     "output_type": "stream",
     "text": [
      "361\n",
      "2016-06-09\n",
      "119\n"
     ]
    },
    {
     "name": "stderr",
     "output_type": "stream",
     "text": [
      "INFO: Got 119 tweets (119 new).\n",
      "INFO: queries: ['FB OR AMZN OR AAPL OR NFLX OR GOOG OR FAANG AND stocks since:2016-06-13 until:2016-06-14']\n"
     ]
    },
    {
     "name": "stdout",
     "output_type": "stream",
     "text": [
      "362\n",
      "2016-06-10\n",
      "119\n"
     ]
    },
    {
     "name": "stderr",
     "output_type": "stream",
     "text": [
      "INFO: Got 119 tweets (119 new).\n",
      "INFO: queries: ['FB OR AMZN OR AAPL OR NFLX OR GOOG OR FAANG AND stocks since:2016-06-14 until:2016-06-15']\n"
     ]
    },
    {
     "name": "stdout",
     "output_type": "stream",
     "text": [
      "363\n",
      "2016-06-13\n",
      "119\n"
     ]
    },
    {
     "name": "stderr",
     "output_type": "stream",
     "text": [
      "INFO: Got 119 tweets (119 new).\n",
      "INFO: queries: ['FB OR AMZN OR AAPL OR NFLX OR GOOG OR FAANG AND stocks since:2016-06-15 until:2016-06-16']\n"
     ]
    },
    {
     "name": "stdout",
     "output_type": "stream",
     "text": [
      "364\n",
      "2016-06-14\n",
      "119\n"
     ]
    },
    {
     "name": "stderr",
     "output_type": "stream",
     "text": [
      "INFO: Got 116 tweets (116 new).\n",
      "INFO: queries: ['FB OR AMZN OR AAPL OR NFLX OR GOOG OR FAANG AND stocks since:2016-06-16 until:2016-06-17']\n"
     ]
    },
    {
     "name": "stdout",
     "output_type": "stream",
     "text": [
      "365\n",
      "2016-06-15\n",
      "116\n"
     ]
    },
    {
     "name": "stderr",
     "output_type": "stream",
     "text": [
      "INFO: Got 101 tweets (101 new).\n",
      "INFO: queries: ['FB OR AMZN OR AAPL OR NFLX OR GOOG OR FAANG AND stocks since:2016-06-17 until:2016-06-18']\n"
     ]
    },
    {
     "name": "stdout",
     "output_type": "stream",
     "text": [
      "366\n",
      "2016-06-16\n",
      "101\n"
     ]
    },
    {
     "name": "stderr",
     "output_type": "stream",
     "text": [
      "INFO: Got 119 tweets (119 new).\n",
      "INFO: queries: ['FB OR AMZN OR AAPL OR NFLX OR GOOG OR FAANG AND stocks since:2016-06-20 until:2016-06-21']\n"
     ]
    },
    {
     "name": "stdout",
     "output_type": "stream",
     "text": [
      "367\n",
      "2016-06-17\n",
      "119\n"
     ]
    },
    {
     "name": "stderr",
     "output_type": "stream",
     "text": [
      "INFO: Got 117 tweets (117 new).\n",
      "INFO: queries: ['FB OR AMZN OR AAPL OR NFLX OR GOOG OR FAANG AND stocks since:2016-06-21 until:2016-06-22']\n"
     ]
    },
    {
     "name": "stdout",
     "output_type": "stream",
     "text": [
      "368\n",
      "2016-06-20\n",
      "117\n"
     ]
    },
    {
     "name": "stderr",
     "output_type": "stream",
     "text": [
      "INFO: Got 120 tweets (120 new).\n",
      "INFO: queries: ['FB OR AMZN OR AAPL OR NFLX OR GOOG OR FAANG AND stocks since:2016-06-22 until:2016-06-23']\n"
     ]
    },
    {
     "name": "stdout",
     "output_type": "stream",
     "text": [
      "369\n",
      "2016-06-21\n",
      "120\n"
     ]
    },
    {
     "name": "stderr",
     "output_type": "stream",
     "text": [
      "INFO: Got 116 tweets (116 new).\n",
      "INFO: queries: ['FB OR AMZN OR AAPL OR NFLX OR GOOG OR FAANG AND stocks since:2016-06-23 until:2016-06-24']\n"
     ]
    },
    {
     "name": "stdout",
     "output_type": "stream",
     "text": [
      "370\n",
      "2016-06-22\n",
      "116\n"
     ]
    },
    {
     "name": "stderr",
     "output_type": "stream",
     "text": [
      "INFO: Got 118 tweets (118 new).\n",
      "INFO: queries: ['FB OR AMZN OR AAPL OR NFLX OR GOOG OR FAANG AND stocks since:2016-06-24 until:2016-06-25']\n"
     ]
    },
    {
     "name": "stdout",
     "output_type": "stream",
     "text": [
      "371\n",
      "2016-06-23\n",
      "118\n"
     ]
    },
    {
     "name": "stderr",
     "output_type": "stream",
     "text": [
      "INFO: Got 120 tweets (120 new).\n",
      "INFO: queries: ['FB OR AMZN OR AAPL OR NFLX OR GOOG OR FAANG AND stocks since:2016-06-27 until:2016-06-28']\n"
     ]
    },
    {
     "name": "stdout",
     "output_type": "stream",
     "text": [
      "372\n",
      "2016-06-24\n",
      "120\n"
     ]
    },
    {
     "name": "stderr",
     "output_type": "stream",
     "text": [
      "INFO: Got 120 tweets (120 new).\n",
      "INFO: queries: ['FB OR AMZN OR AAPL OR NFLX OR GOOG OR FAANG AND stocks since:2016-06-28 until:2016-06-29']\n"
     ]
    },
    {
     "name": "stdout",
     "output_type": "stream",
     "text": [
      "373\n",
      "2016-06-27\n",
      "120\n"
     ]
    },
    {
     "name": "stderr",
     "output_type": "stream",
     "text": [
      "INFO: Got 119 tweets (119 new).\n",
      "INFO: queries: ['FB OR AMZN OR AAPL OR NFLX OR GOOG OR FAANG AND stocks since:2016-06-29 until:2016-06-30']\n"
     ]
    },
    {
     "name": "stdout",
     "output_type": "stream",
     "text": [
      "374\n",
      "2016-06-28\n",
      "119\n"
     ]
    },
    {
     "name": "stderr",
     "output_type": "stream",
     "text": [
      "INFO: Got 120 tweets (120 new).\n",
      "INFO: queries: ['FB OR AMZN OR AAPL OR NFLX OR GOOG OR FAANG AND stocks since:2016-06-30 until:2016-07-01']\n"
     ]
    },
    {
     "name": "stdout",
     "output_type": "stream",
     "text": [
      "375\n",
      "2016-06-29\n",
      "120\n"
     ]
    },
    {
     "name": "stderr",
     "output_type": "stream",
     "text": [
      "INFO: Got 120 tweets (120 new).\n",
      "INFO: queries: ['FB OR AMZN OR AAPL OR NFLX OR GOOG OR FAANG AND stocks since:2016-07-01 until:2016-07-02']\n"
     ]
    },
    {
     "name": "stdout",
     "output_type": "stream",
     "text": [
      "376\n",
      "2016-06-30\n",
      "120\n"
     ]
    },
    {
     "name": "stderr",
     "output_type": "stream",
     "text": [
      "INFO: Got 120 tweets (120 new).\n",
      "INFO: queries: ['FB OR AMZN OR AAPL OR NFLX OR GOOG OR FAANG AND stocks since:2016-07-05 until:2016-07-06']\n"
     ]
    },
    {
     "name": "stdout",
     "output_type": "stream",
     "text": [
      "377\n",
      "2016-07-01\n",
      "120\n"
     ]
    },
    {
     "name": "stderr",
     "output_type": "stream",
     "text": [
      "INFO: Got 119 tweets (119 new).\n",
      "INFO: queries: ['FB OR AMZN OR AAPL OR NFLX OR GOOG OR FAANG AND stocks since:2016-07-06 until:2016-07-07']\n"
     ]
    },
    {
     "name": "stdout",
     "output_type": "stream",
     "text": [
      "378\n",
      "2016-07-05\n",
      "119\n"
     ]
    },
    {
     "name": "stderr",
     "output_type": "stream",
     "text": [
      "INFO: Got 120 tweets (120 new).\n",
      "INFO: queries: ['FB OR AMZN OR AAPL OR NFLX OR GOOG OR FAANG AND stocks since:2016-07-07 until:2016-07-08']\n"
     ]
    },
    {
     "name": "stdout",
     "output_type": "stream",
     "text": [
      "379\n",
      "2016-07-06\n",
      "120\n"
     ]
    },
    {
     "name": "stderr",
     "output_type": "stream",
     "text": [
      "INFO: Got 101 tweets (101 new).\n",
      "INFO: queries: ['FB OR AMZN OR AAPL OR NFLX OR GOOG OR FAANG AND stocks since:2016-07-08 until:2016-07-09']\n"
     ]
    },
    {
     "name": "stdout",
     "output_type": "stream",
     "text": [
      "380\n",
      "2016-07-07\n",
      "101\n"
     ]
    },
    {
     "name": "stderr",
     "output_type": "stream",
     "text": [
      "INFO: Got 116 tweets (116 new).\n",
      "INFO: queries: ['FB OR AMZN OR AAPL OR NFLX OR GOOG OR FAANG AND stocks since:2016-07-11 until:2016-07-12']\n"
     ]
    },
    {
     "name": "stdout",
     "output_type": "stream",
     "text": [
      "381\n",
      "2016-07-08\n",
      "116\n"
     ]
    },
    {
     "name": "stderr",
     "output_type": "stream",
     "text": [
      "INFO: Got 120 tweets (120 new).\n",
      "INFO: queries: ['FB OR AMZN OR AAPL OR NFLX OR GOOG OR FAANG AND stocks since:2016-07-12 until:2016-07-13']\n"
     ]
    },
    {
     "name": "stdout",
     "output_type": "stream",
     "text": [
      "382\n",
      "2016-07-11\n",
      "120\n"
     ]
    },
    {
     "name": "stderr",
     "output_type": "stream",
     "text": [
      "INFO: Got 119 tweets (119 new).\n",
      "INFO: queries: ['FB OR AMZN OR AAPL OR NFLX OR GOOG OR FAANG AND stocks since:2016-07-13 until:2016-07-14']\n"
     ]
    },
    {
     "name": "stdout",
     "output_type": "stream",
     "text": [
      "383\n",
      "2016-07-12\n",
      "119\n"
     ]
    },
    {
     "name": "stderr",
     "output_type": "stream",
     "text": [
      "INFO: Got 120 tweets (120 new).\n",
      "INFO: queries: ['FB OR AMZN OR AAPL OR NFLX OR GOOG OR FAANG AND stocks since:2016-07-14 until:2016-07-15']\n"
     ]
    },
    {
     "name": "stdout",
     "output_type": "stream",
     "text": [
      "384\n",
      "2016-07-13\n",
      "120\n"
     ]
    },
    {
     "name": "stderr",
     "output_type": "stream",
     "text": [
      "INFO: Got 119 tweets (119 new).\n",
      "INFO: queries: ['FB OR AMZN OR AAPL OR NFLX OR GOOG OR FAANG AND stocks since:2016-07-15 until:2016-07-16']\n"
     ]
    },
    {
     "name": "stdout",
     "output_type": "stream",
     "text": [
      "385\n",
      "2016-07-14\n",
      "119\n"
     ]
    },
    {
     "name": "stderr",
     "output_type": "stream",
     "text": [
      "INFO: Got 120 tweets (120 new).\n",
      "INFO: queries: ['FB OR AMZN OR AAPL OR NFLX OR GOOG OR FAANG AND stocks since:2016-07-18 until:2016-07-19']\n"
     ]
    },
    {
     "name": "stdout",
     "output_type": "stream",
     "text": [
      "386\n",
      "2016-07-15\n",
      "120\n"
     ]
    },
    {
     "name": "stderr",
     "output_type": "stream",
     "text": [
      "INFO: Got 119 tweets (119 new).\n",
      "INFO: queries: ['FB OR AMZN OR AAPL OR NFLX OR GOOG OR FAANG AND stocks since:2016-07-19 until:2016-07-20']\n"
     ]
    },
    {
     "name": "stdout",
     "output_type": "stream",
     "text": [
      "387\n",
      "2016-07-18\n",
      "119\n"
     ]
    },
    {
     "name": "stderr",
     "output_type": "stream",
     "text": [
      "INFO: Got 101 tweets (101 new).\n",
      "INFO: queries: ['FB OR AMZN OR AAPL OR NFLX OR GOOG OR FAANG AND stocks since:2016-07-20 until:2016-07-21']\n"
     ]
    },
    {
     "name": "stdout",
     "output_type": "stream",
     "text": [
      "388\n",
      "2016-07-19\n",
      "101\n"
     ]
    },
    {
     "name": "stderr",
     "output_type": "stream",
     "text": [
      "INFO: Got 120 tweets (120 new).\n",
      "INFO: queries: ['FB OR AMZN OR AAPL OR NFLX OR GOOG OR FAANG AND stocks since:2016-07-21 until:2016-07-22']\n"
     ]
    },
    {
     "name": "stdout",
     "output_type": "stream",
     "text": [
      "389\n",
      "2016-07-20\n",
      "120\n"
     ]
    },
    {
     "name": "stderr",
     "output_type": "stream",
     "text": [
      "INFO: Got 120 tweets (120 new).\n",
      "INFO: queries: ['FB OR AMZN OR AAPL OR NFLX OR GOOG OR FAANG AND stocks since:2016-07-22 until:2016-07-23']\n"
     ]
    },
    {
     "name": "stdout",
     "output_type": "stream",
     "text": [
      "390\n",
      "2016-07-21\n",
      "120\n"
     ]
    },
    {
     "name": "stderr",
     "output_type": "stream",
     "text": [
      "INFO: Got 120 tweets (120 new).\n",
      "INFO: queries: ['FB OR AMZN OR AAPL OR NFLX OR GOOG OR FAANG AND stocks since:2016-07-25 until:2016-07-26']\n"
     ]
    },
    {
     "name": "stdout",
     "output_type": "stream",
     "text": [
      "391\n",
      "2016-07-22\n",
      "120\n"
     ]
    },
    {
     "name": "stderr",
     "output_type": "stream",
     "text": [
      "INFO: Got 112 tweets (112 new).\n",
      "INFO: queries: ['FB OR AMZN OR AAPL OR NFLX OR GOOG OR FAANG AND stocks since:2016-07-26 until:2016-07-27']\n"
     ]
    },
    {
     "name": "stdout",
     "output_type": "stream",
     "text": [
      "392\n",
      "2016-07-25\n",
      "112\n"
     ]
    },
    {
     "name": "stderr",
     "output_type": "stream",
     "text": [
      "INFO: Got 102 tweets (102 new).\n",
      "INFO: queries: ['FB OR AMZN OR AAPL OR NFLX OR GOOG OR FAANG AND stocks since:2016-07-27 until:2016-07-28']\n"
     ]
    },
    {
     "name": "stdout",
     "output_type": "stream",
     "text": [
      "393\n",
      "2016-07-26\n",
      "102\n"
     ]
    },
    {
     "name": "stderr",
     "output_type": "stream",
     "text": [
      "INFO: Got 105 tweets (105 new).\n",
      "INFO: queries: ['FB OR AMZN OR AAPL OR NFLX OR GOOG OR FAANG AND stocks since:2016-07-28 until:2016-07-29']\n"
     ]
    },
    {
     "name": "stdout",
     "output_type": "stream",
     "text": [
      "394\n",
      "2016-07-27\n",
      "105\n"
     ]
    },
    {
     "name": "stderr",
     "output_type": "stream",
     "text": [
      "INFO: Got 117 tweets (117 new).\n",
      "INFO: queries: ['FB OR AMZN OR AAPL OR NFLX OR GOOG OR FAANG AND stocks since:2016-07-29 until:2016-07-30']\n"
     ]
    },
    {
     "name": "stdout",
     "output_type": "stream",
     "text": [
      "395\n",
      "2016-07-28\n",
      "117\n"
     ]
    },
    {
     "name": "stderr",
     "output_type": "stream",
     "text": [
      "INFO: Got 119 tweets (119 new).\n",
      "INFO: queries: ['FB OR AMZN OR AAPL OR NFLX OR GOOG OR FAANG AND stocks since:2016-08-01 until:2016-08-02']\n"
     ]
    },
    {
     "name": "stdout",
     "output_type": "stream",
     "text": [
      "396\n",
      "2016-07-29\n",
      "119\n"
     ]
    },
    {
     "name": "stderr",
     "output_type": "stream",
     "text": [
      "INFO: Got 117 tweets (117 new).\n",
      "INFO: queries: ['FB OR AMZN OR AAPL OR NFLX OR GOOG OR FAANG AND stocks since:2016-08-02 until:2016-08-03']\n"
     ]
    },
    {
     "name": "stdout",
     "output_type": "stream",
     "text": [
      "397\n",
      "2016-08-01\n",
      "117\n"
     ]
    },
    {
     "name": "stderr",
     "output_type": "stream",
     "text": [
      "INFO: Got 112 tweets (112 new).\n",
      "INFO: queries: ['FB OR AMZN OR AAPL OR NFLX OR GOOG OR FAANG AND stocks since:2016-08-03 until:2016-08-04']\n"
     ]
    },
    {
     "name": "stdout",
     "output_type": "stream",
     "text": [
      "398\n",
      "2016-08-02\n",
      "112\n"
     ]
    },
    {
     "name": "stderr",
     "output_type": "stream",
     "text": [
      "INFO: Got 119 tweets (119 new).\n",
      "INFO: queries: ['FB OR AMZN OR AAPL OR NFLX OR GOOG OR FAANG AND stocks since:2016-08-04 until:2016-08-05']\n"
     ]
    },
    {
     "name": "stdout",
     "output_type": "stream",
     "text": [
      "399\n",
      "2016-08-03\n",
      "119\n"
     ]
    },
    {
     "name": "stderr",
     "output_type": "stream",
     "text": [
      "INFO: Got 120 tweets (120 new).\n",
      "INFO: queries: ['FB OR AMZN OR AAPL OR NFLX OR GOOG OR FAANG AND stocks since:2016-08-05 until:2016-08-06']\n"
     ]
    },
    {
     "name": "stdout",
     "output_type": "stream",
     "text": [
      "400\n",
      "2016-08-04\n",
      "120\n"
     ]
    },
    {
     "name": "stderr",
     "output_type": "stream",
     "text": [
      "INFO: Got 120 tweets (120 new).\n",
      "INFO: queries: ['FB OR AMZN OR AAPL OR NFLX OR GOOG OR FAANG AND stocks since:2016-08-08 until:2016-08-09']\n"
     ]
    },
    {
     "name": "stdout",
     "output_type": "stream",
     "text": [
      "401\n",
      "2016-08-05\n",
      "120\n"
     ]
    },
    {
     "name": "stderr",
     "output_type": "stream",
     "text": [
      "INFO: Got 120 tweets (120 new).\n",
      "INFO: queries: ['FB OR AMZN OR AAPL OR NFLX OR GOOG OR FAANG AND stocks since:2016-08-09 until:2016-08-10']\n"
     ]
    },
    {
     "name": "stdout",
     "output_type": "stream",
     "text": [
      "402\n",
      "2016-08-08\n",
      "120\n"
     ]
    },
    {
     "name": "stderr",
     "output_type": "stream",
     "text": [
      "INFO: Got 120 tweets (120 new).\n",
      "INFO: queries: ['FB OR AMZN OR AAPL OR NFLX OR GOOG OR FAANG AND stocks since:2016-08-10 until:2016-08-11']\n"
     ]
    },
    {
     "name": "stdout",
     "output_type": "stream",
     "text": [
      "403\n",
      "2016-08-09\n",
      "120\n"
     ]
    },
    {
     "name": "stderr",
     "output_type": "stream",
     "text": [
      "INFO: Got 120 tweets (120 new).\n",
      "INFO: queries: ['FB OR AMZN OR AAPL OR NFLX OR GOOG OR FAANG AND stocks since:2016-08-11 until:2016-08-12']\n"
     ]
    },
    {
     "name": "stdout",
     "output_type": "stream",
     "text": [
      "404\n",
      "2016-08-10\n",
      "120\n"
     ]
    },
    {
     "name": "stderr",
     "output_type": "stream",
     "text": [
      "INFO: Got 120 tweets (120 new).\n",
      "INFO: queries: ['FB OR AMZN OR AAPL OR NFLX OR GOOG OR FAANG AND stocks since:2016-08-12 until:2016-08-13']\n"
     ]
    },
    {
     "name": "stdout",
     "output_type": "stream",
     "text": [
      "405\n",
      "2016-08-11\n",
      "120\n"
     ]
    },
    {
     "name": "stderr",
     "output_type": "stream",
     "text": [
      "INFO: Got 118 tweets (118 new).\n",
      "INFO: queries: ['FB OR AMZN OR AAPL OR NFLX OR GOOG OR FAANG AND stocks since:2016-08-15 until:2016-08-16']\n"
     ]
    },
    {
     "name": "stdout",
     "output_type": "stream",
     "text": [
      "406\n",
      "2016-08-12\n",
      "118\n"
     ]
    },
    {
     "name": "stderr",
     "output_type": "stream",
     "text": [
      "INFO: Got 120 tweets (120 new).\n",
      "INFO: queries: ['FB OR AMZN OR AAPL OR NFLX OR GOOG OR FAANG AND stocks since:2016-08-16 until:2016-08-17']\n"
     ]
    },
    {
     "name": "stdout",
     "output_type": "stream",
     "text": [
      "407\n",
      "2016-08-15\n",
      "120\n"
     ]
    },
    {
     "name": "stderr",
     "output_type": "stream",
     "text": [
      "INFO: Got 101 tweets (101 new).\n",
      "INFO: queries: ['FB OR AMZN OR AAPL OR NFLX OR GOOG OR FAANG AND stocks since:2016-08-17 until:2016-08-18']\n"
     ]
    },
    {
     "name": "stdout",
     "output_type": "stream",
     "text": [
      "408\n",
      "2016-08-16\n",
      "101\n"
     ]
    },
    {
     "name": "stderr",
     "output_type": "stream",
     "text": [
      "INFO: Got 102 tweets (102 new).\n",
      "INFO: queries: ['FB OR AMZN OR AAPL OR NFLX OR GOOG OR FAANG AND stocks since:2016-08-18 until:2016-08-19']\n"
     ]
    },
    {
     "name": "stdout",
     "output_type": "stream",
     "text": [
      "409\n",
      "2016-08-17\n",
      "102\n"
     ]
    },
    {
     "name": "stderr",
     "output_type": "stream",
     "text": [
      "INFO: Got 120 tweets (120 new).\n",
      "INFO: queries: ['FB OR AMZN OR AAPL OR NFLX OR GOOG OR FAANG AND stocks since:2016-08-19 until:2016-08-20']\n"
     ]
    },
    {
     "name": "stdout",
     "output_type": "stream",
     "text": [
      "410\n",
      "2016-08-18\n",
      "120\n"
     ]
    },
    {
     "name": "stderr",
     "output_type": "stream",
     "text": [
      "INFO: Got 120 tweets (120 new).\n",
      "INFO: queries: ['FB OR AMZN OR AAPL OR NFLX OR GOOG OR FAANG AND stocks since:2016-08-22 until:2016-08-23']\n"
     ]
    },
    {
     "name": "stdout",
     "output_type": "stream",
     "text": [
      "411\n",
      "2016-08-19\n",
      "120\n"
     ]
    },
    {
     "name": "stderr",
     "output_type": "stream",
     "text": [
      "INFO: Got 120 tweets (120 new).\n",
      "INFO: queries: ['FB OR AMZN OR AAPL OR NFLX OR GOOG OR FAANG AND stocks since:2016-08-23 until:2016-08-24']\n"
     ]
    },
    {
     "name": "stdout",
     "output_type": "stream",
     "text": [
      "412\n",
      "2016-08-22\n",
      "120\n"
     ]
    },
    {
     "name": "stderr",
     "output_type": "stream",
     "text": [
      "INFO: Got 120 tweets (120 new).\n",
      "INFO: queries: ['FB OR AMZN OR AAPL OR NFLX OR GOOG OR FAANG AND stocks since:2016-08-24 until:2016-08-25']\n"
     ]
    },
    {
     "name": "stdout",
     "output_type": "stream",
     "text": [
      "413\n",
      "2016-08-23\n",
      "120\n"
     ]
    },
    {
     "name": "stderr",
     "output_type": "stream",
     "text": [
      "INFO: Got 120 tweets (120 new).\n",
      "INFO: queries: ['FB OR AMZN OR AAPL OR NFLX OR GOOG OR FAANG AND stocks since:2016-08-25 until:2016-08-26']\n"
     ]
    },
    {
     "name": "stdout",
     "output_type": "stream",
     "text": [
      "414\n",
      "2016-08-24\n",
      "120\n"
     ]
    },
    {
     "name": "stderr",
     "output_type": "stream",
     "text": [
      "INFO: Got 120 tweets (120 new).\n",
      "INFO: queries: ['FB OR AMZN OR AAPL OR NFLX OR GOOG OR FAANG AND stocks since:2016-08-26 until:2016-08-27']\n"
     ]
    },
    {
     "name": "stdout",
     "output_type": "stream",
     "text": [
      "415\n",
      "2016-08-25\n",
      "120\n"
     ]
    },
    {
     "name": "stderr",
     "output_type": "stream",
     "text": [
      "INFO: Got 119 tweets (119 new).\n",
      "INFO: queries: ['FB OR AMZN OR AAPL OR NFLX OR GOOG OR FAANG AND stocks since:2016-08-29 until:2016-08-30']\n"
     ]
    },
    {
     "name": "stdout",
     "output_type": "stream",
     "text": [
      "416\n",
      "2016-08-26\n",
      "119\n"
     ]
    },
    {
     "name": "stderr",
     "output_type": "stream",
     "text": [
      "INFO: Got 114 tweets (114 new).\n",
      "INFO: queries: ['FB OR AMZN OR AAPL OR NFLX OR GOOG OR FAANG AND stocks since:2016-08-30 until:2016-08-31']\n"
     ]
    },
    {
     "name": "stdout",
     "output_type": "stream",
     "text": [
      "417\n",
      "2016-08-29\n",
      "114\n"
     ]
    },
    {
     "name": "stderr",
     "output_type": "stream",
     "text": [
      "INFO: Got 118 tweets (118 new).\n",
      "INFO: queries: ['FB OR AMZN OR AAPL OR NFLX OR GOOG OR FAANG AND stocks since:2016-08-31 until:2016-09-01']\n"
     ]
    },
    {
     "name": "stdout",
     "output_type": "stream",
     "text": [
      "418\n",
      "2016-08-30\n",
      "118\n"
     ]
    },
    {
     "name": "stderr",
     "output_type": "stream",
     "text": [
      "INFO: Got 117 tweets (117 new).\n",
      "INFO: queries: ['FB OR AMZN OR AAPL OR NFLX OR GOOG OR FAANG AND stocks since:2016-09-01 until:2016-09-02']\n"
     ]
    },
    {
     "name": "stdout",
     "output_type": "stream",
     "text": [
      "419\n",
      "2016-08-31\n",
      "117\n"
     ]
    },
    {
     "name": "stderr",
     "output_type": "stream",
     "text": [
      "INFO: Got 120 tweets (120 new).\n",
      "INFO: queries: ['FB OR AMZN OR AAPL OR NFLX OR GOOG OR FAANG AND stocks since:2016-09-02 until:2016-09-03']\n"
     ]
    },
    {
     "name": "stdout",
     "output_type": "stream",
     "text": [
      "420\n",
      "2016-09-01\n",
      "120\n"
     ]
    },
    {
     "name": "stderr",
     "output_type": "stream",
     "text": [
      "INFO: Got 120 tweets (120 new).\n",
      "INFO: queries: ['FB OR AMZN OR AAPL OR NFLX OR GOOG OR FAANG AND stocks since:2016-09-06 until:2016-09-07']\n"
     ]
    },
    {
     "name": "stdout",
     "output_type": "stream",
     "text": [
      "421\n",
      "2016-09-02\n",
      "120\n"
     ]
    },
    {
     "name": "stderr",
     "output_type": "stream",
     "text": [
      "INFO: Got 120 tweets (120 new).\n",
      "INFO: queries: ['FB OR AMZN OR AAPL OR NFLX OR GOOG OR FAANG AND stocks since:2016-09-07 until:2016-09-08']\n"
     ]
    },
    {
     "name": "stdout",
     "output_type": "stream",
     "text": [
      "422\n",
      "2016-09-06\n",
      "120\n"
     ]
    },
    {
     "name": "stderr",
     "output_type": "stream",
     "text": [
      "INFO: Got 120 tweets (120 new).\n",
      "INFO: queries: ['FB OR AMZN OR AAPL OR NFLX OR GOOG OR FAANG AND stocks since:2016-09-08 until:2016-09-09']\n"
     ]
    },
    {
     "name": "stdout",
     "output_type": "stream",
     "text": [
      "423\n",
      "2016-09-07\n",
      "120\n"
     ]
    },
    {
     "name": "stderr",
     "output_type": "stream",
     "text": [
      "INFO: Got 120 tweets (120 new).\n",
      "INFO: queries: ['FB OR AMZN OR AAPL OR NFLX OR GOOG OR FAANG AND stocks since:2016-09-09 until:2016-09-10']\n"
     ]
    },
    {
     "name": "stdout",
     "output_type": "stream",
     "text": [
      "424\n",
      "2016-09-08\n",
      "120\n"
     ]
    },
    {
     "name": "stderr",
     "output_type": "stream",
     "text": [
      "INFO: Got 120 tweets (120 new).\n",
      "INFO: queries: ['FB OR AMZN OR AAPL OR NFLX OR GOOG OR FAANG AND stocks since:2016-09-12 until:2016-09-13']\n"
     ]
    },
    {
     "name": "stdout",
     "output_type": "stream",
     "text": [
      "425\n",
      "2016-09-09\n",
      "120\n"
     ]
    },
    {
     "name": "stderr",
     "output_type": "stream",
     "text": [
      "INFO: Got 120 tweets (120 new).\n",
      "INFO: queries: ['FB OR AMZN OR AAPL OR NFLX OR GOOG OR FAANG AND stocks since:2016-09-13 until:2016-09-14']\n"
     ]
    },
    {
     "name": "stdout",
     "output_type": "stream",
     "text": [
      "426\n",
      "2016-09-12\n",
      "120\n"
     ]
    },
    {
     "name": "stderr",
     "output_type": "stream",
     "text": [
      "INFO: Got 119 tweets (119 new).\n",
      "INFO: queries: ['FB OR AMZN OR AAPL OR NFLX OR GOOG OR FAANG AND stocks since:2016-09-14 until:2016-09-15']\n"
     ]
    },
    {
     "name": "stdout",
     "output_type": "stream",
     "text": [
      "427\n",
      "2016-09-13\n",
      "119\n"
     ]
    },
    {
     "name": "stderr",
     "output_type": "stream",
     "text": [
      "INFO: Got 120 tweets (120 new).\n",
      "INFO: queries: ['FB OR AMZN OR AAPL OR NFLX OR GOOG OR FAANG AND stocks since:2016-09-15 until:2016-09-16']\n"
     ]
    },
    {
     "name": "stdout",
     "output_type": "stream",
     "text": [
      "428\n",
      "2016-09-14\n",
      "120\n"
     ]
    },
    {
     "name": "stderr",
     "output_type": "stream",
     "text": [
      "INFO: Got 101 tweets (101 new).\n",
      "INFO: queries: ['FB OR AMZN OR AAPL OR NFLX OR GOOG OR FAANG AND stocks since:2016-09-16 until:2016-09-17']\n"
     ]
    },
    {
     "name": "stdout",
     "output_type": "stream",
     "text": [
      "429\n",
      "2016-09-15\n",
      "101\n"
     ]
    },
    {
     "name": "stderr",
     "output_type": "stream",
     "text": [
      "INFO: Got 119 tweets (119 new).\n",
      "INFO: queries: ['FB OR AMZN OR AAPL OR NFLX OR GOOG OR FAANG AND stocks since:2016-09-19 until:2016-09-20']\n"
     ]
    },
    {
     "name": "stdout",
     "output_type": "stream",
     "text": [
      "430\n",
      "2016-09-16\n",
      "119\n"
     ]
    },
    {
     "name": "stderr",
     "output_type": "stream",
     "text": [
      "INFO: Got 120 tweets (120 new).\n",
      "INFO: queries: ['FB OR AMZN OR AAPL OR NFLX OR GOOG OR FAANG AND stocks since:2016-09-20 until:2016-09-21']\n"
     ]
    },
    {
     "name": "stdout",
     "output_type": "stream",
     "text": [
      "431\n",
      "2016-09-19\n",
      "120\n"
     ]
    },
    {
     "name": "stderr",
     "output_type": "stream",
     "text": [
      "INFO: Got 120 tweets (120 new).\n",
      "INFO: queries: ['FB OR AMZN OR AAPL OR NFLX OR GOOG OR FAANG AND stocks since:2016-09-21 until:2016-09-22']\n"
     ]
    },
    {
     "name": "stdout",
     "output_type": "stream",
     "text": [
      "432\n",
      "2016-09-20\n",
      "120\n"
     ]
    },
    {
     "name": "stderr",
     "output_type": "stream",
     "text": [
      "INFO: Got 120 tweets (120 new).\n",
      "INFO: queries: ['FB OR AMZN OR AAPL OR NFLX OR GOOG OR FAANG AND stocks since:2016-09-22 until:2016-09-23']\n"
     ]
    },
    {
     "name": "stdout",
     "output_type": "stream",
     "text": [
      "433\n",
      "2016-09-21\n",
      "120\n"
     ]
    },
    {
     "name": "stderr",
     "output_type": "stream",
     "text": [
      "INFO: Got 120 tweets (120 new).\n",
      "INFO: queries: ['FB OR AMZN OR AAPL OR NFLX OR GOOG OR FAANG AND stocks since:2016-09-23 until:2016-09-24']\n"
     ]
    },
    {
     "name": "stdout",
     "output_type": "stream",
     "text": [
      "434\n",
      "2016-09-22\n",
      "120\n"
     ]
    },
    {
     "name": "stderr",
     "output_type": "stream",
     "text": [
      "INFO: Got 118 tweets (118 new).\n",
      "INFO: queries: ['FB OR AMZN OR AAPL OR NFLX OR GOOG OR FAANG AND stocks since:2016-09-26 until:2016-09-27']\n"
     ]
    },
    {
     "name": "stdout",
     "output_type": "stream",
     "text": [
      "435\n",
      "2016-09-23\n",
      "118\n"
     ]
    },
    {
     "name": "stderr",
     "output_type": "stream",
     "text": [
      "INFO: Got 118 tweets (118 new).\n",
      "INFO: queries: ['FB OR AMZN OR AAPL OR NFLX OR GOOG OR FAANG AND stocks since:2016-09-27 until:2016-09-28']\n"
     ]
    },
    {
     "name": "stdout",
     "output_type": "stream",
     "text": [
      "436\n",
      "2016-09-26\n",
      "118\n"
     ]
    },
    {
     "name": "stderr",
     "output_type": "stream",
     "text": [
      "INFO: Got 120 tweets (120 new).\n",
      "INFO: queries: ['FB OR AMZN OR AAPL OR NFLX OR GOOG OR FAANG AND stocks since:2016-09-28 until:2016-09-29']\n"
     ]
    },
    {
     "name": "stdout",
     "output_type": "stream",
     "text": [
      "437\n",
      "2016-09-27\n",
      "120\n"
     ]
    },
    {
     "name": "stderr",
     "output_type": "stream",
     "text": [
      "INFO: Got 120 tweets (120 new).\n",
      "INFO: queries: ['FB OR AMZN OR AAPL OR NFLX OR GOOG OR FAANG AND stocks since:2016-09-29 until:2016-09-30']\n"
     ]
    },
    {
     "name": "stdout",
     "output_type": "stream",
     "text": [
      "438\n",
      "2016-09-28\n",
      "120\n"
     ]
    },
    {
     "name": "stderr",
     "output_type": "stream",
     "text": [
      "INFO: Got 120 tweets (120 new).\n",
      "INFO: queries: ['FB OR AMZN OR AAPL OR NFLX OR GOOG OR FAANG AND stocks since:2016-09-30 until:2016-10-01']\n"
     ]
    },
    {
     "name": "stdout",
     "output_type": "stream",
     "text": [
      "439\n",
      "2016-09-29\n",
      "120\n"
     ]
    },
    {
     "name": "stderr",
     "output_type": "stream",
     "text": [
      "INFO: Got 120 tweets (120 new).\n",
      "INFO: queries: ['FB OR AMZN OR AAPL OR NFLX OR GOOG OR FAANG AND stocks since:2016-10-03 until:2016-10-04']\n"
     ]
    },
    {
     "name": "stdout",
     "output_type": "stream",
     "text": [
      "440\n",
      "2016-09-30\n",
      "120\n"
     ]
    },
    {
     "name": "stderr",
     "output_type": "stream",
     "text": [
      "INFO: Got 120 tweets (120 new).\n",
      "INFO: queries: ['FB OR AMZN OR AAPL OR NFLX OR GOOG OR FAANG AND stocks since:2016-10-04 until:2016-10-05']\n"
     ]
    },
    {
     "name": "stdout",
     "output_type": "stream",
     "text": [
      "441\n",
      "2016-10-03\n",
      "120\n"
     ]
    },
    {
     "name": "stderr",
     "output_type": "stream",
     "text": [
      "INFO: Got 120 tweets (120 new).\n",
      "INFO: queries: ['FB OR AMZN OR AAPL OR NFLX OR GOOG OR FAANG AND stocks since:2016-10-05 until:2016-10-06']\n"
     ]
    },
    {
     "name": "stdout",
     "output_type": "stream",
     "text": [
      "442\n",
      "2016-10-04\n",
      "120\n"
     ]
    },
    {
     "name": "stderr",
     "output_type": "stream",
     "text": [
      "INFO: Got 120 tweets (120 new).\n",
      "INFO: queries: ['FB OR AMZN OR AAPL OR NFLX OR GOOG OR FAANG AND stocks since:2016-10-06 until:2016-10-07']\n"
     ]
    },
    {
     "name": "stdout",
     "output_type": "stream",
     "text": [
      "443\n",
      "2016-10-05\n",
      "120\n"
     ]
    },
    {
     "name": "stderr",
     "output_type": "stream",
     "text": [
      "INFO: Got 120 tweets (120 new).\n",
      "INFO: queries: ['FB OR AMZN OR AAPL OR NFLX OR GOOG OR FAANG AND stocks since:2016-10-07 until:2016-10-08']\n"
     ]
    },
    {
     "name": "stdout",
     "output_type": "stream",
     "text": [
      "444\n",
      "2016-10-06\n",
      "120\n"
     ]
    },
    {
     "name": "stderr",
     "output_type": "stream",
     "text": [
      "INFO: Got 119 tweets (119 new).\n",
      "INFO: queries: ['FB OR AMZN OR AAPL OR NFLX OR GOOG OR FAANG AND stocks since:2016-10-10 until:2016-10-11']\n"
     ]
    },
    {
     "name": "stdout",
     "output_type": "stream",
     "text": [
      "445\n",
      "2016-10-07\n",
      "119\n"
     ]
    },
    {
     "name": "stderr",
     "output_type": "stream",
     "text": [
      "INFO: Got 101 tweets (101 new).\n",
      "INFO: queries: ['FB OR AMZN OR AAPL OR NFLX OR GOOG OR FAANG AND stocks since:2016-10-11 until:2016-10-12']\n"
     ]
    },
    {
     "name": "stdout",
     "output_type": "stream",
     "text": [
      "446\n",
      "2016-10-10\n",
      "101\n"
     ]
    },
    {
     "name": "stderr",
     "output_type": "stream",
     "text": [
      "INFO: Got 116 tweets (116 new).\n",
      "INFO: queries: ['FB OR AMZN OR AAPL OR NFLX OR GOOG OR FAANG AND stocks since:2016-10-12 until:2016-10-13']\n"
     ]
    },
    {
     "name": "stdout",
     "output_type": "stream",
     "text": [
      "447\n",
      "2016-10-11\n",
      "116\n"
     ]
    },
    {
     "name": "stderr",
     "output_type": "stream",
     "text": [
      "INFO: Got 118 tweets (118 new).\n",
      "INFO: queries: ['FB OR AMZN OR AAPL OR NFLX OR GOOG OR FAANG AND stocks since:2016-10-13 until:2016-10-14']\n"
     ]
    },
    {
     "name": "stdout",
     "output_type": "stream",
     "text": [
      "448\n",
      "2016-10-12\n",
      "118\n"
     ]
    },
    {
     "name": "stderr",
     "output_type": "stream",
     "text": [
      "INFO: Got 119 tweets (119 new).\n",
      "INFO: queries: ['FB OR AMZN OR AAPL OR NFLX OR GOOG OR FAANG AND stocks since:2016-10-14 until:2016-10-15']\n"
     ]
    },
    {
     "name": "stdout",
     "output_type": "stream",
     "text": [
      "449\n",
      "2016-10-13\n",
      "119\n"
     ]
    },
    {
     "name": "stderr",
     "output_type": "stream",
     "text": [
      "INFO: Got 120 tweets (120 new).\n",
      "INFO: queries: ['FB OR AMZN OR AAPL OR NFLX OR GOOG OR FAANG AND stocks since:2016-10-17 until:2016-10-18']\n"
     ]
    },
    {
     "name": "stdout",
     "output_type": "stream",
     "text": [
      "450\n",
      "2016-10-14\n",
      "120\n"
     ]
    },
    {
     "name": "stderr",
     "output_type": "stream",
     "text": [
      "INFO: Got 108 tweets (108 new).\n",
      "INFO: queries: ['FB OR AMZN OR AAPL OR NFLX OR GOOG OR FAANG AND stocks since:2016-10-18 until:2016-10-19']\n"
     ]
    },
    {
     "name": "stdout",
     "output_type": "stream",
     "text": [
      "451\n",
      "2016-10-17\n",
      "108\n"
     ]
    },
    {
     "name": "stderr",
     "output_type": "stream",
     "text": [
      "INFO: Got 120 tweets (120 new).\n",
      "INFO: queries: ['FB OR AMZN OR AAPL OR NFLX OR GOOG OR FAANG AND stocks since:2016-10-19 until:2016-10-20']\n"
     ]
    },
    {
     "name": "stdout",
     "output_type": "stream",
     "text": [
      "452\n",
      "2016-10-18\n",
      "120\n"
     ]
    },
    {
     "name": "stderr",
     "output_type": "stream",
     "text": [
      "INFO: Got 118 tweets (118 new).\n",
      "INFO: queries: ['FB OR AMZN OR AAPL OR NFLX OR GOOG OR FAANG AND stocks since:2016-10-20 until:2016-10-21']\n"
     ]
    },
    {
     "name": "stdout",
     "output_type": "stream",
     "text": [
      "453\n",
      "2016-10-19\n",
      "118\n"
     ]
    },
    {
     "name": "stderr",
     "output_type": "stream",
     "text": [
      "INFO: Got 120 tweets (120 new).\n",
      "INFO: queries: ['FB OR AMZN OR AAPL OR NFLX OR GOOG OR FAANG AND stocks since:2016-10-21 until:2016-10-22']\n"
     ]
    },
    {
     "name": "stdout",
     "output_type": "stream",
     "text": [
      "454\n",
      "2016-10-20\n",
      "120\n"
     ]
    },
    {
     "name": "stderr",
     "output_type": "stream",
     "text": [
      "INFO: Got 119 tweets (119 new).\n",
      "INFO: queries: ['FB OR AMZN OR AAPL OR NFLX OR GOOG OR FAANG AND stocks since:2016-10-24 until:2016-10-25']\n"
     ]
    },
    {
     "name": "stdout",
     "output_type": "stream",
     "text": [
      "455\n",
      "2016-10-21\n",
      "119\n"
     ]
    },
    {
     "name": "stderr",
     "output_type": "stream",
     "text": [
      "INFO: Got 121 tweets (121 new).\n",
      "INFO: queries: ['FB OR AMZN OR AAPL OR NFLX OR GOOG OR FAANG AND stocks since:2016-10-25 until:2016-10-26']\n"
     ]
    },
    {
     "name": "stdout",
     "output_type": "stream",
     "text": [
      "456\n",
      "2016-10-24\n",
      "121\n"
     ]
    },
    {
     "name": "stderr",
     "output_type": "stream",
     "text": [
      "INFO: Got 106 tweets (106 new).\n",
      "INFO: queries: ['FB OR AMZN OR AAPL OR NFLX OR GOOG OR FAANG AND stocks since:2016-10-26 until:2016-10-27']\n"
     ]
    },
    {
     "name": "stdout",
     "output_type": "stream",
     "text": [
      "457\n",
      "2016-10-25\n",
      "106\n"
     ]
    },
    {
     "name": "stderr",
     "output_type": "stream",
     "text": [
      "INFO: Got 120 tweets (120 new).\n",
      "INFO: queries: ['FB OR AMZN OR AAPL OR NFLX OR GOOG OR FAANG AND stocks since:2016-10-27 until:2016-10-28']\n"
     ]
    },
    {
     "name": "stdout",
     "output_type": "stream",
     "text": [
      "458\n",
      "2016-10-26\n",
      "120\n"
     ]
    },
    {
     "name": "stderr",
     "output_type": "stream",
     "text": [
      "INFO: Got 117 tweets (117 new).\n",
      "INFO: queries: ['FB OR AMZN OR AAPL OR NFLX OR GOOG OR FAANG AND stocks since:2016-10-28 until:2016-10-29']\n"
     ]
    },
    {
     "name": "stdout",
     "output_type": "stream",
     "text": [
      "459\n",
      "2016-10-27\n",
      "117\n"
     ]
    },
    {
     "name": "stderr",
     "output_type": "stream",
     "text": [
      "INFO: Got 120 tweets (120 new).\n",
      "INFO: queries: ['FB OR AMZN OR AAPL OR NFLX OR GOOG OR FAANG AND stocks since:2016-10-31 until:2016-11-01']\n"
     ]
    },
    {
     "name": "stdout",
     "output_type": "stream",
     "text": [
      "460\n",
      "2016-10-28\n",
      "120\n"
     ]
    },
    {
     "name": "stderr",
     "output_type": "stream",
     "text": [
      "INFO: Got 120 tweets (120 new).\n",
      "INFO: queries: ['FB OR AMZN OR AAPL OR NFLX OR GOOG OR FAANG AND stocks since:2016-11-01 until:2016-11-02']\n"
     ]
    },
    {
     "name": "stdout",
     "output_type": "stream",
     "text": [
      "461\n",
      "2016-10-31\n",
      "120\n"
     ]
    },
    {
     "name": "stderr",
     "output_type": "stream",
     "text": [
      "INFO: Got 120 tweets (120 new).\n",
      "INFO: queries: ['FB OR AMZN OR AAPL OR NFLX OR GOOG OR FAANG AND stocks since:2016-11-02 until:2016-11-03']\n"
     ]
    },
    {
     "name": "stdout",
     "output_type": "stream",
     "text": [
      "462\n",
      "2016-11-01\n",
      "120\n"
     ]
    },
    {
     "name": "stderr",
     "output_type": "stream",
     "text": [
      "INFO: Got 114 tweets (114 new).\n",
      "INFO: queries: ['FB OR AMZN OR AAPL OR NFLX OR GOOG OR FAANG AND stocks since:2016-11-03 until:2016-11-04']\n"
     ]
    },
    {
     "name": "stdout",
     "output_type": "stream",
     "text": [
      "463\n",
      "2016-11-02\n",
      "114\n"
     ]
    },
    {
     "name": "stderr",
     "output_type": "stream",
     "text": [
      "INFO: Got 120 tweets (120 new).\n",
      "INFO: queries: ['FB OR AMZN OR AAPL OR NFLX OR GOOG OR FAANG AND stocks since:2016-11-04 until:2016-11-05']\n"
     ]
    },
    {
     "name": "stdout",
     "output_type": "stream",
     "text": [
      "464\n",
      "2016-11-03\n",
      "120\n"
     ]
    },
    {
     "name": "stderr",
     "output_type": "stream",
     "text": [
      "INFO: Got 119 tweets (119 new).\n",
      "INFO: queries: ['FB OR AMZN OR AAPL OR NFLX OR GOOG OR FAANG AND stocks since:2016-11-07 until:2016-11-08']\n"
     ]
    },
    {
     "name": "stdout",
     "output_type": "stream",
     "text": [
      "465\n",
      "2016-11-04\n",
      "119\n"
     ]
    },
    {
     "name": "stderr",
     "output_type": "stream",
     "text": [
      "INFO: Got 120 tweets (120 new).\n",
      "INFO: queries: ['FB OR AMZN OR AAPL OR NFLX OR GOOG OR FAANG AND stocks since:2016-11-08 until:2016-11-09']\n"
     ]
    },
    {
     "name": "stdout",
     "output_type": "stream",
     "text": [
      "466\n",
      "2016-11-07\n",
      "120\n"
     ]
    },
    {
     "name": "stderr",
     "output_type": "stream",
     "text": [
      "INFO: Got 120 tweets (120 new).\n",
      "INFO: queries: ['FB OR AMZN OR AAPL OR NFLX OR GOOG OR FAANG AND stocks since:2016-11-09 until:2016-11-10']\n"
     ]
    },
    {
     "name": "stdout",
     "output_type": "stream",
     "text": [
      "467\n",
      "2016-11-08\n",
      "120\n"
     ]
    },
    {
     "name": "stderr",
     "output_type": "stream",
     "text": [
      "INFO: Got 120 tweets (120 new).\n",
      "INFO: queries: ['FB OR AMZN OR AAPL OR NFLX OR GOOG OR FAANG AND stocks since:2016-11-10 until:2016-11-11']\n"
     ]
    },
    {
     "name": "stdout",
     "output_type": "stream",
     "text": [
      "468\n",
      "2016-11-09\n",
      "120\n"
     ]
    },
    {
     "name": "stderr",
     "output_type": "stream",
     "text": [
      "INFO: Got 118 tweets (118 new).\n",
      "INFO: queries: ['FB OR AMZN OR AAPL OR NFLX OR GOOG OR FAANG AND stocks since:2016-11-11 until:2016-11-12']\n"
     ]
    },
    {
     "name": "stdout",
     "output_type": "stream",
     "text": [
      "469\n",
      "2016-11-10\n",
      "118\n"
     ]
    },
    {
     "name": "stderr",
     "output_type": "stream",
     "text": [
      "INFO: Got 120 tweets (120 new).\n",
      "INFO: queries: ['FB OR AMZN OR AAPL OR NFLX OR GOOG OR FAANG AND stocks since:2016-11-14 until:2016-11-15']\n"
     ]
    },
    {
     "name": "stdout",
     "output_type": "stream",
     "text": [
      "470\n",
      "2016-11-11\n",
      "120\n"
     ]
    },
    {
     "name": "stderr",
     "output_type": "stream",
     "text": [
      "INFO: Got 120 tweets (120 new).\n",
      "INFO: queries: ['FB OR AMZN OR AAPL OR NFLX OR GOOG OR FAANG AND stocks since:2016-11-15 until:2016-11-16']\n"
     ]
    },
    {
     "name": "stdout",
     "output_type": "stream",
     "text": [
      "471\n",
      "2016-11-14\n",
      "120\n"
     ]
    },
    {
     "name": "stderr",
     "output_type": "stream",
     "text": [
      "INFO: Got 118 tweets (118 new).\n",
      "INFO: queries: ['FB OR AMZN OR AAPL OR NFLX OR GOOG OR FAANG AND stocks since:2016-11-16 until:2016-11-17']\n"
     ]
    },
    {
     "name": "stdout",
     "output_type": "stream",
     "text": [
      "472\n",
      "2016-11-15\n",
      "118\n"
     ]
    },
    {
     "name": "stderr",
     "output_type": "stream",
     "text": [
      "INFO: Got 119 tweets (119 new).\n",
      "INFO: queries: ['FB OR AMZN OR AAPL OR NFLX OR GOOG OR FAANG AND stocks since:2016-11-17 until:2016-11-18']\n"
     ]
    },
    {
     "name": "stdout",
     "output_type": "stream",
     "text": [
      "473\n",
      "2016-11-16\n",
      "119\n"
     ]
    },
    {
     "name": "stderr",
     "output_type": "stream",
     "text": [
      "INFO: Got 115 tweets (115 new).\n",
      "INFO: queries: ['FB OR AMZN OR AAPL OR NFLX OR GOOG OR FAANG AND stocks since:2016-11-18 until:2016-11-19']\n"
     ]
    },
    {
     "name": "stdout",
     "output_type": "stream",
     "text": [
      "474\n",
      "2016-11-17\n",
      "115\n"
     ]
    },
    {
     "name": "stderr",
     "output_type": "stream",
     "text": [
      "INFO: Got 113 tweets (113 new).\n",
      "INFO: queries: ['FB OR AMZN OR AAPL OR NFLX OR GOOG OR FAANG AND stocks since:2016-11-21 until:2016-11-22']\n"
     ]
    },
    {
     "name": "stdout",
     "output_type": "stream",
     "text": [
      "475\n",
      "2016-11-18\n",
      "113\n"
     ]
    },
    {
     "name": "stderr",
     "output_type": "stream",
     "text": [
      "INFO: Got 115 tweets (115 new).\n",
      "INFO: queries: ['FB OR AMZN OR AAPL OR NFLX OR GOOG OR FAANG AND stocks since:2016-11-22 until:2016-11-23']\n"
     ]
    },
    {
     "name": "stdout",
     "output_type": "stream",
     "text": [
      "476\n",
      "2016-11-21\n",
      "115\n"
     ]
    },
    {
     "name": "stderr",
     "output_type": "stream",
     "text": [
      "INFO: Got 119 tweets (119 new).\n",
      "INFO: queries: ['FB OR AMZN OR AAPL OR NFLX OR GOOG OR FAANG AND stocks since:2016-11-23 until:2016-11-24']\n"
     ]
    },
    {
     "name": "stdout",
     "output_type": "stream",
     "text": [
      "477\n",
      "2016-11-22\n",
      "119\n"
     ]
    },
    {
     "name": "stderr",
     "output_type": "stream",
     "text": [
      "INFO: Got 117 tweets (117 new).\n",
      "INFO: queries: ['FB OR AMZN OR AAPL OR NFLX OR GOOG OR FAANG AND stocks since:2016-11-25 until:2016-11-26']\n"
     ]
    },
    {
     "name": "stdout",
     "output_type": "stream",
     "text": [
      "478\n",
      "2016-11-23\n",
      "117\n"
     ]
    },
    {
     "name": "stderr",
     "output_type": "stream",
     "text": [
      "INFO: Got 117 tweets (117 new).\n",
      "INFO: queries: ['FB OR AMZN OR AAPL OR NFLX OR GOOG OR FAANG AND stocks since:2016-11-28 until:2016-11-29']\n"
     ]
    },
    {
     "name": "stdout",
     "output_type": "stream",
     "text": [
      "479\n",
      "2016-11-25\n",
      "117\n"
     ]
    },
    {
     "name": "stderr",
     "output_type": "stream",
     "text": [
      "INFO: Got 119 tweets (119 new).\n",
      "INFO: queries: ['FB OR AMZN OR AAPL OR NFLX OR GOOG OR FAANG AND stocks since:2016-11-29 until:2016-11-30']\n"
     ]
    },
    {
     "name": "stdout",
     "output_type": "stream",
     "text": [
      "480\n",
      "2016-11-28\n",
      "119\n"
     ]
    },
    {
     "name": "stderr",
     "output_type": "stream",
     "text": [
      "INFO: Got 120 tweets (120 new).\n",
      "INFO: queries: ['FB OR AMZN OR AAPL OR NFLX OR GOOG OR FAANG AND stocks since:2016-11-30 until:2016-12-01']\n"
     ]
    },
    {
     "name": "stdout",
     "output_type": "stream",
     "text": [
      "481\n",
      "2016-11-29\n",
      "120\n"
     ]
    },
    {
     "name": "stderr",
     "output_type": "stream",
     "text": [
      "INFO: Got 118 tweets (118 new).\n",
      "INFO: queries: ['FB OR AMZN OR AAPL OR NFLX OR GOOG OR FAANG AND stocks since:2016-12-01 until:2016-12-02']\n"
     ]
    },
    {
     "name": "stdout",
     "output_type": "stream",
     "text": [
      "482\n",
      "2016-11-30\n",
      "118\n"
     ]
    },
    {
     "name": "stderr",
     "output_type": "stream",
     "text": [
      "INFO: Got 120 tweets (120 new).\n",
      "INFO: queries: ['FB OR AMZN OR AAPL OR NFLX OR GOOG OR FAANG AND stocks since:2016-12-02 until:2016-12-03']\n"
     ]
    },
    {
     "name": "stdout",
     "output_type": "stream",
     "text": [
      "483\n",
      "2016-12-01\n",
      "120\n"
     ]
    },
    {
     "name": "stderr",
     "output_type": "stream",
     "text": [
      "INFO: Got 120 tweets (120 new).\n",
      "INFO: queries: ['FB OR AMZN OR AAPL OR NFLX OR GOOG OR FAANG AND stocks since:2016-12-05 until:2016-12-06']\n"
     ]
    },
    {
     "name": "stdout",
     "output_type": "stream",
     "text": [
      "484\n",
      "2016-12-02\n",
      "120\n"
     ]
    },
    {
     "name": "stderr",
     "output_type": "stream",
     "text": [
      "INFO: Got 119 tweets (119 new).\n",
      "INFO: queries: ['FB OR AMZN OR AAPL OR NFLX OR GOOG OR FAANG AND stocks since:2016-12-06 until:2016-12-07']\n"
     ]
    },
    {
     "name": "stdout",
     "output_type": "stream",
     "text": [
      "485\n",
      "2016-12-05\n",
      "119\n"
     ]
    },
    {
     "name": "stderr",
     "output_type": "stream",
     "text": [
      "INFO: Got 120 tweets (120 new).\n",
      "INFO: queries: ['FB OR AMZN OR AAPL OR NFLX OR GOOG OR FAANG AND stocks since:2016-12-07 until:2016-12-08']\n"
     ]
    },
    {
     "name": "stdout",
     "output_type": "stream",
     "text": [
      "486\n",
      "2016-12-06\n",
      "120\n"
     ]
    },
    {
     "name": "stderr",
     "output_type": "stream",
     "text": [
      "INFO: Got 120 tweets (120 new).\n",
      "INFO: queries: ['FB OR AMZN OR AAPL OR NFLX OR GOOG OR FAANG AND stocks since:2016-12-08 until:2016-12-09']\n"
     ]
    },
    {
     "name": "stdout",
     "output_type": "stream",
     "text": [
      "487\n",
      "2016-12-07\n",
      "120\n"
     ]
    },
    {
     "name": "stderr",
     "output_type": "stream",
     "text": [
      "INFO: Got 117 tweets (117 new).\n",
      "INFO: queries: ['FB OR AMZN OR AAPL OR NFLX OR GOOG OR FAANG AND stocks since:2016-12-09 until:2016-12-10']\n"
     ]
    },
    {
     "name": "stdout",
     "output_type": "stream",
     "text": [
      "488\n",
      "2016-12-08\n",
      "117\n"
     ]
    },
    {
     "name": "stderr",
     "output_type": "stream",
     "text": [
      "INFO: Got 119 tweets (119 new).\n",
      "INFO: queries: ['FB OR AMZN OR AAPL OR NFLX OR GOOG OR FAANG AND stocks since:2016-12-12 until:2016-12-13']\n"
     ]
    },
    {
     "name": "stdout",
     "output_type": "stream",
     "text": [
      "489\n",
      "2016-12-09\n",
      "119\n"
     ]
    },
    {
     "name": "stderr",
     "output_type": "stream",
     "text": [
      "INFO: Got 120 tweets (120 new).\n",
      "INFO: queries: ['FB OR AMZN OR AAPL OR NFLX OR GOOG OR FAANG AND stocks since:2016-12-13 until:2016-12-14']\n"
     ]
    },
    {
     "name": "stdout",
     "output_type": "stream",
     "text": [
      "490\n",
      "2016-12-12\n",
      "120\n"
     ]
    },
    {
     "name": "stderr",
     "output_type": "stream",
     "text": [
      "INFO: Got 120 tweets (120 new).\n",
      "INFO: queries: ['FB OR AMZN OR AAPL OR NFLX OR GOOG OR FAANG AND stocks since:2016-12-14 until:2016-12-15']\n"
     ]
    },
    {
     "name": "stdout",
     "output_type": "stream",
     "text": [
      "491\n",
      "2016-12-13\n",
      "120\n"
     ]
    },
    {
     "name": "stderr",
     "output_type": "stream",
     "text": [
      "INFO: Got 118 tweets (118 new).\n",
      "INFO: queries: ['FB OR AMZN OR AAPL OR NFLX OR GOOG OR FAANG AND stocks since:2016-12-15 until:2016-12-16']\n"
     ]
    },
    {
     "name": "stdout",
     "output_type": "stream",
     "text": [
      "492\n",
      "2016-12-14\n",
      "118\n"
     ]
    },
    {
     "name": "stderr",
     "output_type": "stream",
     "text": [
      "INFO: Got 120 tweets (120 new).\n",
      "INFO: queries: ['FB OR AMZN OR AAPL OR NFLX OR GOOG OR FAANG AND stocks since:2016-12-16 until:2016-12-17']\n"
     ]
    },
    {
     "name": "stdout",
     "output_type": "stream",
     "text": [
      "493\n",
      "2016-12-15\n",
      "120\n"
     ]
    },
    {
     "name": "stderr",
     "output_type": "stream",
     "text": [
      "INFO: Got 120 tweets (120 new).\n",
      "INFO: queries: ['FB OR AMZN OR AAPL OR NFLX OR GOOG OR FAANG AND stocks since:2016-12-19 until:2016-12-20']\n"
     ]
    },
    {
     "name": "stdout",
     "output_type": "stream",
     "text": [
      "494\n",
      "2016-12-16\n",
      "120\n"
     ]
    },
    {
     "name": "stderr",
     "output_type": "stream",
     "text": [
      "INFO: Got 120 tweets (120 new).\n",
      "INFO: queries: ['FB OR AMZN OR AAPL OR NFLX OR GOOG OR FAANG AND stocks since:2016-12-20 until:2016-12-21']\n"
     ]
    },
    {
     "name": "stdout",
     "output_type": "stream",
     "text": [
      "495\n",
      "2016-12-19\n",
      "120\n"
     ]
    },
    {
     "name": "stderr",
     "output_type": "stream",
     "text": [
      "INFO: Got 115 tweets (115 new).\n",
      "INFO: queries: ['FB OR AMZN OR AAPL OR NFLX OR GOOG OR FAANG AND stocks since:2016-12-21 until:2016-12-22']\n"
     ]
    },
    {
     "name": "stdout",
     "output_type": "stream",
     "text": [
      "496\n",
      "2016-12-20\n",
      "115\n"
     ]
    },
    {
     "name": "stderr",
     "output_type": "stream",
     "text": [
      "INFO: Got 116 tweets (116 new).\n",
      "INFO: queries: ['FB OR AMZN OR AAPL OR NFLX OR GOOG OR FAANG AND stocks since:2016-12-22 until:2016-12-23']\n"
     ]
    },
    {
     "name": "stdout",
     "output_type": "stream",
     "text": [
      "497\n",
      "2016-12-21\n",
      "116\n"
     ]
    },
    {
     "name": "stderr",
     "output_type": "stream",
     "text": [
      "INFO: Got 119 tweets (119 new).\n",
      "INFO: queries: ['FB OR AMZN OR AAPL OR NFLX OR GOOG OR FAANG AND stocks since:2016-12-23 until:2016-12-24']\n"
     ]
    },
    {
     "name": "stdout",
     "output_type": "stream",
     "text": [
      "498\n",
      "2016-12-22\n",
      "119\n"
     ]
    },
    {
     "name": "stderr",
     "output_type": "stream",
     "text": [
      "INFO: Got 118 tweets (118 new).\n",
      "INFO: queries: ['FB OR AMZN OR AAPL OR NFLX OR GOOG OR FAANG AND stocks since:2016-12-27 until:2016-12-28']\n"
     ]
    },
    {
     "name": "stdout",
     "output_type": "stream",
     "text": [
      "499\n",
      "2016-12-23\n",
      "118\n"
     ]
    },
    {
     "name": "stderr",
     "output_type": "stream",
     "text": [
      "INFO: Got 118 tweets (118 new).\n",
      "INFO: queries: ['FB OR AMZN OR AAPL OR NFLX OR GOOG OR FAANG AND stocks since:2016-12-28 until:2016-12-29']\n"
     ]
    },
    {
     "name": "stdout",
     "output_type": "stream",
     "text": [
      "500\n",
      "2016-12-27\n",
      "118\n"
     ]
    },
    {
     "name": "stderr",
     "output_type": "stream",
     "text": [
      "INFO: Got 120 tweets (120 new).\n",
      "INFO: queries: ['FB OR AMZN OR AAPL OR NFLX OR GOOG OR FAANG AND stocks since:2016-12-29 until:2016-12-30']\n"
     ]
    },
    {
     "name": "stdout",
     "output_type": "stream",
     "text": [
      "501\n",
      "2016-12-28\n",
      "120\n"
     ]
    },
    {
     "name": "stderr",
     "output_type": "stream",
     "text": [
      "INFO: Got 118 tweets (118 new).\n",
      "INFO: queries: ['FB OR AMZN OR AAPL OR NFLX OR GOOG OR FAANG AND stocks since:2016-12-30 until:2016-12-31']\n"
     ]
    },
    {
     "name": "stdout",
     "output_type": "stream",
     "text": [
      "502\n",
      "2016-12-29\n",
      "118\n"
     ]
    },
    {
     "name": "stderr",
     "output_type": "stream",
     "text": [
      "INFO: Got 119 tweets (119 new).\n",
      "INFO: queries: ['FB OR AMZN OR AAPL OR NFLX OR GOOG OR FAANG AND stocks since:2017-01-03 until:2017-01-04']\n"
     ]
    },
    {
     "name": "stdout",
     "output_type": "stream",
     "text": [
      "503\n",
      "2016-12-30\n",
      "119\n"
     ]
    },
    {
     "name": "stderr",
     "output_type": "stream",
     "text": [
      "INFO: Got 119 tweets (119 new).\n",
      "INFO: queries: ['FB OR AMZN OR AAPL OR NFLX OR GOOG OR FAANG AND stocks since:2017-01-04 until:2017-01-05']\n"
     ]
    },
    {
     "name": "stdout",
     "output_type": "stream",
     "text": [
      "504\n",
      "2017-01-03\n",
      "119\n"
     ]
    },
    {
     "name": "stderr",
     "output_type": "stream",
     "text": [
      "INFO: Got 120 tweets (120 new).\n",
      "INFO: queries: ['FB OR AMZN OR AAPL OR NFLX OR GOOG OR FAANG AND stocks since:2017-01-05 until:2017-01-06']\n"
     ]
    },
    {
     "name": "stdout",
     "output_type": "stream",
     "text": [
      "505\n",
      "2017-01-04\n",
      "120\n"
     ]
    },
    {
     "name": "stderr",
     "output_type": "stream",
     "text": [
      "INFO: Got 119 tweets (119 new).\n",
      "INFO: queries: ['FB OR AMZN OR AAPL OR NFLX OR GOOG OR FAANG AND stocks since:2017-01-06 until:2017-01-07']\n"
     ]
    },
    {
     "name": "stdout",
     "output_type": "stream",
     "text": [
      "506\n",
      "2017-01-05\n",
      "119\n"
     ]
    },
    {
     "name": "stderr",
     "output_type": "stream",
     "text": [
      "INFO: Got 120 tweets (120 new).\n",
      "INFO: queries: ['FB OR AMZN OR AAPL OR NFLX OR GOOG OR FAANG AND stocks since:2017-01-09 until:2017-01-10']\n"
     ]
    },
    {
     "name": "stdout",
     "output_type": "stream",
     "text": [
      "507\n",
      "2017-01-06\n",
      "120\n"
     ]
    },
    {
     "name": "stderr",
     "output_type": "stream",
     "text": [
      "INFO: Got 119 tweets (119 new).\n",
      "INFO: queries: ['FB OR AMZN OR AAPL OR NFLX OR GOOG OR FAANG AND stocks since:2017-01-10 until:2017-01-11']\n"
     ]
    },
    {
     "name": "stdout",
     "output_type": "stream",
     "text": [
      "508\n",
      "2017-01-09\n",
      "119\n"
     ]
    },
    {
     "name": "stderr",
     "output_type": "stream",
     "text": [
      "INFO: Got 120 tweets (120 new).\n",
      "INFO: queries: ['FB OR AMZN OR AAPL OR NFLX OR GOOG OR FAANG AND stocks since:2017-01-11 until:2017-01-12']\n"
     ]
    },
    {
     "name": "stdout",
     "output_type": "stream",
     "text": [
      "509\n",
      "2017-01-10\n",
      "120\n"
     ]
    },
    {
     "name": "stderr",
     "output_type": "stream",
     "text": [
      "INFO: Got 119 tweets (119 new).\n",
      "INFO: queries: ['FB OR AMZN OR AAPL OR NFLX OR GOOG OR FAANG AND stocks since:2017-01-12 until:2017-01-13']\n"
     ]
    },
    {
     "name": "stdout",
     "output_type": "stream",
     "text": [
      "510\n",
      "2017-01-11\n",
      "119\n"
     ]
    },
    {
     "name": "stderr",
     "output_type": "stream",
     "text": [
      "INFO: Got 119 tweets (119 new).\n",
      "INFO: queries: ['FB OR AMZN OR AAPL OR NFLX OR GOOG OR FAANG AND stocks since:2017-01-13 until:2017-01-14']\n"
     ]
    },
    {
     "name": "stdout",
     "output_type": "stream",
     "text": [
      "511\n",
      "2017-01-12\n",
      "119\n"
     ]
    },
    {
     "name": "stderr",
     "output_type": "stream",
     "text": [
      "INFO: Got 116 tweets (116 new).\n",
      "INFO: queries: ['FB OR AMZN OR AAPL OR NFLX OR GOOG OR FAANG AND stocks since:2017-01-17 until:2017-01-18']\n"
     ]
    },
    {
     "name": "stdout",
     "output_type": "stream",
     "text": [
      "512\n",
      "2017-01-13\n",
      "116\n"
     ]
    },
    {
     "name": "stderr",
     "output_type": "stream",
     "text": [
      "INFO: Got 119 tweets (119 new).\n",
      "INFO: queries: ['FB OR AMZN OR AAPL OR NFLX OR GOOG OR FAANG AND stocks since:2017-01-18 until:2017-01-19']\n"
     ]
    },
    {
     "name": "stdout",
     "output_type": "stream",
     "text": [
      "513\n",
      "2017-01-17\n",
      "119\n"
     ]
    },
    {
     "name": "stderr",
     "output_type": "stream",
     "text": [
      "INFO: Got 114 tweets (114 new).\n",
      "INFO: queries: ['FB OR AMZN OR AAPL OR NFLX OR GOOG OR FAANG AND stocks since:2017-01-19 until:2017-01-20']\n"
     ]
    },
    {
     "name": "stdout",
     "output_type": "stream",
     "text": [
      "514\n",
      "2017-01-18\n",
      "114\n"
     ]
    },
    {
     "name": "stderr",
     "output_type": "stream",
     "text": [
      "INFO: Got 107 tweets (107 new).\n",
      "INFO: queries: ['FB OR AMZN OR AAPL OR NFLX OR GOOG OR FAANG AND stocks since:2017-01-20 until:2017-01-21']\n"
     ]
    },
    {
     "name": "stdout",
     "output_type": "stream",
     "text": [
      "515\n",
      "2017-01-19\n",
      "107\n"
     ]
    },
    {
     "name": "stderr",
     "output_type": "stream",
     "text": [
      "INFO: Got 120 tweets (120 new).\n",
      "INFO: queries: ['FB OR AMZN OR AAPL OR NFLX OR GOOG OR FAANG AND stocks since:2017-01-23 until:2017-01-24']\n"
     ]
    },
    {
     "name": "stdout",
     "output_type": "stream",
     "text": [
      "516\n",
      "2017-01-20\n",
      "120\n"
     ]
    },
    {
     "name": "stderr",
     "output_type": "stream",
     "text": [
      "INFO: Got 120 tweets (120 new).\n",
      "INFO: queries: ['FB OR AMZN OR AAPL OR NFLX OR GOOG OR FAANG AND stocks since:2017-01-24 until:2017-01-25']\n"
     ]
    },
    {
     "name": "stdout",
     "output_type": "stream",
     "text": [
      "517\n",
      "2017-01-23\n",
      "120\n"
     ]
    },
    {
     "name": "stderr",
     "output_type": "stream",
     "text": [
      "INFO: Got 119 tweets (119 new).\n",
      "INFO: queries: ['FB OR AMZN OR AAPL OR NFLX OR GOOG OR FAANG AND stocks since:2017-01-25 until:2017-01-26']\n"
     ]
    },
    {
     "name": "stdout",
     "output_type": "stream",
     "text": [
      "518\n",
      "2017-01-24\n",
      "119\n"
     ]
    },
    {
     "name": "stderr",
     "output_type": "stream",
     "text": [
      "INFO: Got 120 tweets (120 new).\n",
      "INFO: queries: ['FB OR AMZN OR AAPL OR NFLX OR GOOG OR FAANG AND stocks since:2017-01-26 until:2017-01-27']\n"
     ]
    },
    {
     "name": "stdout",
     "output_type": "stream",
     "text": [
      "519\n",
      "2017-01-25\n",
      "120\n"
     ]
    },
    {
     "name": "stderr",
     "output_type": "stream",
     "text": [
      "INFO: Got 119 tweets (119 new).\n",
      "INFO: queries: ['FB OR AMZN OR AAPL OR NFLX OR GOOG OR FAANG AND stocks since:2017-01-27 until:2017-01-28']\n"
     ]
    },
    {
     "name": "stdout",
     "output_type": "stream",
     "text": [
      "520\n",
      "2017-01-26\n",
      "119\n"
     ]
    },
    {
     "name": "stderr",
     "output_type": "stream",
     "text": [
      "INFO: Got 120 tweets (120 new).\n",
      "INFO: queries: ['FB OR AMZN OR AAPL OR NFLX OR GOOG OR FAANG AND stocks since:2017-01-30 until:2017-01-31']\n"
     ]
    },
    {
     "name": "stdout",
     "output_type": "stream",
     "text": [
      "521\n",
      "2017-01-27\n",
      "120\n"
     ]
    },
    {
     "name": "stderr",
     "output_type": "stream",
     "text": [
      "INFO: Got 118 tweets (118 new).\n",
      "INFO: queries: ['FB OR AMZN OR AAPL OR NFLX OR GOOG OR FAANG AND stocks since:2017-01-31 until:2017-02-01']\n"
     ]
    },
    {
     "name": "stdout",
     "output_type": "stream",
     "text": [
      "522\n",
      "2017-01-30\n",
      "118\n"
     ]
    },
    {
     "name": "stderr",
     "output_type": "stream",
     "text": [
      "INFO: Got 115 tweets (115 new).\n",
      "INFO: queries: ['FB OR AMZN OR AAPL OR NFLX OR GOOG OR FAANG AND stocks since:2017-02-01 until:2017-02-02']\n"
     ]
    },
    {
     "name": "stdout",
     "output_type": "stream",
     "text": [
      "523\n",
      "2017-01-31\n",
      "115\n"
     ]
    },
    {
     "name": "stderr",
     "output_type": "stream",
     "text": [
      "INFO: Got 114 tweets (114 new).\n",
      "INFO: queries: ['FB OR AMZN OR AAPL OR NFLX OR GOOG OR FAANG AND stocks since:2017-02-02 until:2017-02-03']\n"
     ]
    },
    {
     "name": "stdout",
     "output_type": "stream",
     "text": [
      "524\n",
      "2017-02-01\n",
      "114\n"
     ]
    },
    {
     "name": "stderr",
     "output_type": "stream",
     "text": [
      "INFO: Got 113 tweets (113 new).\n",
      "INFO: queries: ['FB OR AMZN OR AAPL OR NFLX OR GOOG OR FAANG AND stocks since:2017-02-03 until:2017-02-04']\n"
     ]
    },
    {
     "name": "stdout",
     "output_type": "stream",
     "text": [
      "525\n",
      "2017-02-02\n",
      "113\n"
     ]
    },
    {
     "name": "stderr",
     "output_type": "stream",
     "text": [
      "INFO: Got 120 tweets (120 new).\n",
      "INFO: queries: ['FB OR AMZN OR AAPL OR NFLX OR GOOG OR FAANG AND stocks since:2017-02-06 until:2017-02-07']\n"
     ]
    },
    {
     "name": "stdout",
     "output_type": "stream",
     "text": [
      "526\n",
      "2017-02-03\n",
      "120\n"
     ]
    },
    {
     "name": "stderr",
     "output_type": "stream",
     "text": [
      "INFO: Got 119 tweets (119 new).\n",
      "INFO: queries: ['FB OR AMZN OR AAPL OR NFLX OR GOOG OR FAANG AND stocks since:2017-02-07 until:2017-02-08']\n"
     ]
    },
    {
     "name": "stdout",
     "output_type": "stream",
     "text": [
      "527\n",
      "2017-02-06\n",
      "119\n"
     ]
    },
    {
     "name": "stderr",
     "output_type": "stream",
     "text": [
      "INFO: Got 108 tweets (108 new).\n",
      "INFO: queries: ['FB OR AMZN OR AAPL OR NFLX OR GOOG OR FAANG AND stocks since:2017-02-08 until:2017-02-09']\n"
     ]
    },
    {
     "name": "stdout",
     "output_type": "stream",
     "text": [
      "528\n",
      "2017-02-07\n",
      "108\n"
     ]
    },
    {
     "name": "stderr",
     "output_type": "stream",
     "text": [
      "INFO: Got 116 tweets (116 new).\n",
      "INFO: queries: ['FB OR AMZN OR AAPL OR NFLX OR GOOG OR FAANG AND stocks since:2017-02-09 until:2017-02-10']\n"
     ]
    },
    {
     "name": "stdout",
     "output_type": "stream",
     "text": [
      "529\n",
      "2017-02-08\n",
      "116\n"
     ]
    },
    {
     "name": "stderr",
     "output_type": "stream",
     "text": [
      "INFO: Got 116 tweets (116 new).\n",
      "INFO: queries: ['FB OR AMZN OR AAPL OR NFLX OR GOOG OR FAANG AND stocks since:2017-02-10 until:2017-02-11']\n"
     ]
    },
    {
     "name": "stdout",
     "output_type": "stream",
     "text": [
      "530\n",
      "2017-02-09\n",
      "116\n"
     ]
    },
    {
     "name": "stderr",
     "output_type": "stream",
     "text": [
      "INFO: Got 114 tweets (114 new).\n",
      "INFO: queries: ['FB OR AMZN OR AAPL OR NFLX OR GOOG OR FAANG AND stocks since:2017-02-13 until:2017-02-14']\n"
     ]
    },
    {
     "name": "stdout",
     "output_type": "stream",
     "text": [
      "531\n",
      "2017-02-10\n",
      "114\n"
     ]
    },
    {
     "name": "stderr",
     "output_type": "stream",
     "text": [
      "INFO: Got 119 tweets (119 new).\n",
      "INFO: queries: ['FB OR AMZN OR AAPL OR NFLX OR GOOG OR FAANG AND stocks since:2017-02-14 until:2017-02-15']\n"
     ]
    },
    {
     "name": "stdout",
     "output_type": "stream",
     "text": [
      "532\n",
      "2017-02-13\n",
      "119\n"
     ]
    },
    {
     "name": "stderr",
     "output_type": "stream",
     "text": [
      "INFO: Got 109 tweets (109 new).\n",
      "INFO: queries: ['FB OR AMZN OR AAPL OR NFLX OR GOOG OR FAANG AND stocks since:2017-02-15 until:2017-02-16']\n"
     ]
    },
    {
     "name": "stdout",
     "output_type": "stream",
     "text": [
      "533\n",
      "2017-02-14\n",
      "109\n"
     ]
    },
    {
     "name": "stderr",
     "output_type": "stream",
     "text": [
      "INFO: Got 119 tweets (119 new).\n",
      "INFO: queries: ['FB OR AMZN OR AAPL OR NFLX OR GOOG OR FAANG AND stocks since:2017-02-16 until:2017-02-17']\n"
     ]
    },
    {
     "name": "stdout",
     "output_type": "stream",
     "text": [
      "534\n",
      "2017-02-15\n",
      "119\n"
     ]
    },
    {
     "name": "stderr",
     "output_type": "stream",
     "text": [
      "INFO: Got 114 tweets (114 new).\n",
      "INFO: queries: ['FB OR AMZN OR AAPL OR NFLX OR GOOG OR FAANG AND stocks since:2017-02-17 until:2017-02-18']\n"
     ]
    },
    {
     "name": "stdout",
     "output_type": "stream",
     "text": [
      "535\n",
      "2017-02-16\n",
      "114\n"
     ]
    },
    {
     "name": "stderr",
     "output_type": "stream",
     "text": [
      "INFO: Got 116 tweets (116 new).\n",
      "INFO: queries: ['FB OR AMZN OR AAPL OR NFLX OR GOOG OR FAANG AND stocks since:2017-02-21 until:2017-02-22']\n"
     ]
    },
    {
     "name": "stdout",
     "output_type": "stream",
     "text": [
      "536\n",
      "2017-02-17\n",
      "116\n"
     ]
    },
    {
     "name": "stderr",
     "output_type": "stream",
     "text": [
      "INFO: Got 120 tweets (120 new).\n",
      "INFO: queries: ['FB OR AMZN OR AAPL OR NFLX OR GOOG OR FAANG AND stocks since:2017-02-22 until:2017-02-23']\n"
     ]
    },
    {
     "name": "stdout",
     "output_type": "stream",
     "text": [
      "537\n",
      "2017-02-21\n",
      "120\n"
     ]
    },
    {
     "name": "stderr",
     "output_type": "stream",
     "text": [
      "INFO: Got 120 tweets (120 new).\n",
      "INFO: queries: ['FB OR AMZN OR AAPL OR NFLX OR GOOG OR FAANG AND stocks since:2017-02-23 until:2017-02-24']\n"
     ]
    },
    {
     "name": "stdout",
     "output_type": "stream",
     "text": [
      "538\n",
      "2017-02-22\n",
      "120\n"
     ]
    },
    {
     "name": "stderr",
     "output_type": "stream",
     "text": [
      "INFO: Got 119 tweets (119 new).\n",
      "INFO: queries: ['FB OR AMZN OR AAPL OR NFLX OR GOOG OR FAANG AND stocks since:2017-02-24 until:2017-02-25']\n"
     ]
    },
    {
     "name": "stdout",
     "output_type": "stream",
     "text": [
      "539\n",
      "2017-02-23\n",
      "119\n"
     ]
    },
    {
     "name": "stderr",
     "output_type": "stream",
     "text": [
      "INFO: Got 116 tweets (116 new).\n",
      "INFO: queries: ['FB OR AMZN OR AAPL OR NFLX OR GOOG OR FAANG AND stocks since:2017-02-27 until:2017-02-28']\n"
     ]
    },
    {
     "name": "stdout",
     "output_type": "stream",
     "text": [
      "540\n",
      "2017-02-24\n",
      "116\n"
     ]
    },
    {
     "name": "stderr",
     "output_type": "stream",
     "text": [
      "INFO: Got 119 tweets (119 new).\n",
      "INFO: queries: ['FB OR AMZN OR AAPL OR NFLX OR GOOG OR FAANG AND stocks since:2017-02-28 until:2017-03-01']\n"
     ]
    },
    {
     "name": "stdout",
     "output_type": "stream",
     "text": [
      "541\n",
      "2017-02-27\n",
      "119\n"
     ]
    },
    {
     "name": "stderr",
     "output_type": "stream",
     "text": [
      "INFO: Got 117 tweets (117 new).\n",
      "INFO: queries: ['FB OR AMZN OR AAPL OR NFLX OR GOOG OR FAANG AND stocks since:2017-03-01 until:2017-03-02']\n"
     ]
    },
    {
     "name": "stdout",
     "output_type": "stream",
     "text": [
      "542\n",
      "2017-02-28\n",
      "117\n"
     ]
    },
    {
     "name": "stderr",
     "output_type": "stream",
     "text": [
      "INFO: Got 117 tweets (117 new).\n",
      "INFO: queries: ['FB OR AMZN OR AAPL OR NFLX OR GOOG OR FAANG AND stocks since:2017-03-02 until:2017-03-03']\n"
     ]
    },
    {
     "name": "stdout",
     "output_type": "stream",
     "text": [
      "543\n",
      "2017-03-01\n",
      "117\n"
     ]
    },
    {
     "name": "stderr",
     "output_type": "stream",
     "text": [
      "INFO: Got 117 tweets (117 new).\n",
      "INFO: queries: ['FB OR AMZN OR AAPL OR NFLX OR GOOG OR FAANG AND stocks since:2017-03-03 until:2017-03-04']\n"
     ]
    },
    {
     "name": "stdout",
     "output_type": "stream",
     "text": [
      "544\n",
      "2017-03-02\n",
      "117\n"
     ]
    },
    {
     "name": "stderr",
     "output_type": "stream",
     "text": [
      "INFO: Got 117 tweets (117 new).\n",
      "INFO: queries: ['FB OR AMZN OR AAPL OR NFLX OR GOOG OR FAANG AND stocks since:2017-03-06 until:2017-03-07']\n"
     ]
    },
    {
     "name": "stdout",
     "output_type": "stream",
     "text": [
      "545\n",
      "2017-03-03\n",
      "117\n"
     ]
    },
    {
     "name": "stderr",
     "output_type": "stream",
     "text": [
      "INFO: Got 116 tweets (116 new).\n",
      "INFO: queries: ['FB OR AMZN OR AAPL OR NFLX OR GOOG OR FAANG AND stocks since:2017-03-07 until:2017-03-08']\n"
     ]
    },
    {
     "name": "stdout",
     "output_type": "stream",
     "text": [
      "546\n",
      "2017-03-06\n",
      "116\n"
     ]
    },
    {
     "name": "stderr",
     "output_type": "stream",
     "text": [
      "INFO: Got 120 tweets (120 new).\n",
      "INFO: queries: ['FB OR AMZN OR AAPL OR NFLX OR GOOG OR FAANG AND stocks since:2017-03-08 until:2017-03-09']\n"
     ]
    },
    {
     "name": "stdout",
     "output_type": "stream",
     "text": [
      "547\n",
      "2017-03-07\n",
      "120\n"
     ]
    },
    {
     "name": "stderr",
     "output_type": "stream",
     "text": [
      "INFO: Got 120 tweets (120 new).\n",
      "INFO: queries: ['FB OR AMZN OR AAPL OR NFLX OR GOOG OR FAANG AND stocks since:2017-03-09 until:2017-03-10']\n"
     ]
    },
    {
     "name": "stdout",
     "output_type": "stream",
     "text": [
      "548\n",
      "2017-03-08\n",
      "120\n"
     ]
    },
    {
     "name": "stderr",
     "output_type": "stream",
     "text": [
      "INFO: Got 120 tweets (120 new).\n",
      "INFO: queries: ['FB OR AMZN OR AAPL OR NFLX OR GOOG OR FAANG AND stocks since:2017-03-10 until:2017-03-11']\n"
     ]
    },
    {
     "name": "stdout",
     "output_type": "stream",
     "text": [
      "549\n",
      "2017-03-09\n",
      "120\n"
     ]
    },
    {
     "name": "stderr",
     "output_type": "stream",
     "text": [
      "INFO: Got 118 tweets (118 new).\n",
      "INFO: queries: ['FB OR AMZN OR AAPL OR NFLX OR GOOG OR FAANG AND stocks since:2017-03-13 until:2017-03-14']\n"
     ]
    },
    {
     "name": "stdout",
     "output_type": "stream",
     "text": [
      "550\n",
      "2017-03-10\n",
      "118\n"
     ]
    },
    {
     "name": "stderr",
     "output_type": "stream",
     "text": [
      "INFO: Got 115 tweets (115 new).\n",
      "INFO: queries: ['FB OR AMZN OR AAPL OR NFLX OR GOOG OR FAANG AND stocks since:2017-03-14 until:2017-03-15']\n"
     ]
    },
    {
     "name": "stdout",
     "output_type": "stream",
     "text": [
      "551\n",
      "2017-03-13\n",
      "115\n"
     ]
    },
    {
     "name": "stderr",
     "output_type": "stream",
     "text": [
      "INFO: Got 116 tweets (116 new).\n",
      "INFO: queries: ['FB OR AMZN OR AAPL OR NFLX OR GOOG OR FAANG AND stocks since:2017-03-15 until:2017-03-16']\n"
     ]
    },
    {
     "name": "stdout",
     "output_type": "stream",
     "text": [
      "552\n",
      "2017-03-14\n",
      "116\n"
     ]
    },
    {
     "name": "stderr",
     "output_type": "stream",
     "text": [
      "INFO: Got 120 tweets (120 new).\n",
      "INFO: queries: ['FB OR AMZN OR AAPL OR NFLX OR GOOG OR FAANG AND stocks since:2017-03-16 until:2017-03-17']\n"
     ]
    },
    {
     "name": "stdout",
     "output_type": "stream",
     "text": [
      "553\n",
      "2017-03-15\n",
      "120\n"
     ]
    },
    {
     "name": "stderr",
     "output_type": "stream",
     "text": [
      "INFO: Got 117 tweets (117 new).\n",
      "INFO: queries: ['FB OR AMZN OR AAPL OR NFLX OR GOOG OR FAANG AND stocks since:2017-03-17 until:2017-03-18']\n"
     ]
    },
    {
     "name": "stdout",
     "output_type": "stream",
     "text": [
      "554\n",
      "2017-03-16\n",
      "117\n"
     ]
    },
    {
     "name": "stderr",
     "output_type": "stream",
     "text": [
      "INFO: Got 120 tweets (120 new).\n",
      "INFO: queries: ['FB OR AMZN OR AAPL OR NFLX OR GOOG OR FAANG AND stocks since:2017-03-20 until:2017-03-21']\n"
     ]
    },
    {
     "name": "stdout",
     "output_type": "stream",
     "text": [
      "555\n",
      "2017-03-17\n",
      "120\n"
     ]
    },
    {
     "name": "stderr",
     "output_type": "stream",
     "text": [
      "INFO: Got 120 tweets (120 new).\n",
      "INFO: queries: ['FB OR AMZN OR AAPL OR NFLX OR GOOG OR FAANG AND stocks since:2017-03-21 until:2017-03-22']\n"
     ]
    },
    {
     "name": "stdout",
     "output_type": "stream",
     "text": [
      "556\n",
      "2017-03-20\n",
      "120\n"
     ]
    },
    {
     "name": "stderr",
     "output_type": "stream",
     "text": [
      "INFO: Got 115 tweets (115 new).\n",
      "INFO: queries: ['FB OR AMZN OR AAPL OR NFLX OR GOOG OR FAANG AND stocks since:2017-03-22 until:2017-03-23']\n"
     ]
    },
    {
     "name": "stdout",
     "output_type": "stream",
     "text": [
      "557\n",
      "2017-03-21\n",
      "115\n"
     ]
    },
    {
     "name": "stderr",
     "output_type": "stream",
     "text": [
      "INFO: Got 112 tweets (112 new).\n",
      "INFO: queries: ['FB OR AMZN OR AAPL OR NFLX OR GOOG OR FAANG AND stocks since:2017-03-23 until:2017-03-24']\n"
     ]
    },
    {
     "name": "stdout",
     "output_type": "stream",
     "text": [
      "558\n",
      "2017-03-22\n",
      "112\n"
     ]
    },
    {
     "name": "stderr",
     "output_type": "stream",
     "text": [
      "INFO: Got 116 tweets (116 new).\n",
      "INFO: queries: ['FB OR AMZN OR AAPL OR NFLX OR GOOG OR FAANG AND stocks since:2017-03-24 until:2017-03-25']\n"
     ]
    },
    {
     "name": "stdout",
     "output_type": "stream",
     "text": [
      "559\n",
      "2017-03-23\n",
      "116\n"
     ]
    },
    {
     "name": "stderr",
     "output_type": "stream",
     "text": [
      "INFO: Got 119 tweets (119 new).\n",
      "INFO: queries: ['FB OR AMZN OR AAPL OR NFLX OR GOOG OR FAANG AND stocks since:2017-03-27 until:2017-03-28']\n"
     ]
    },
    {
     "name": "stdout",
     "output_type": "stream",
     "text": [
      "560\n",
      "2017-03-24\n",
      "119\n"
     ]
    },
    {
     "name": "stderr",
     "output_type": "stream",
     "text": [
      "INFO: Got 119 tweets (119 new).\n",
      "INFO: queries: ['FB OR AMZN OR AAPL OR NFLX OR GOOG OR FAANG AND stocks since:2017-03-28 until:2017-03-29']\n"
     ]
    },
    {
     "name": "stdout",
     "output_type": "stream",
     "text": [
      "561\n",
      "2017-03-27\n",
      "119\n"
     ]
    },
    {
     "name": "stderr",
     "output_type": "stream",
     "text": [
      "INFO: Got 118 tweets (118 new).\n",
      "INFO: queries: ['FB OR AMZN OR AAPL OR NFLX OR GOOG OR FAANG AND stocks since:2017-03-29 until:2017-03-30']\n"
     ]
    },
    {
     "name": "stdout",
     "output_type": "stream",
     "text": [
      "562\n",
      "2017-03-28\n",
      "118\n"
     ]
    },
    {
     "name": "stderr",
     "output_type": "stream",
     "text": [
      "INFO: Got 120 tweets (120 new).\n",
      "INFO: queries: ['FB OR AMZN OR AAPL OR NFLX OR GOOG OR FAANG AND stocks since:2017-03-30 until:2017-03-31']\n"
     ]
    },
    {
     "name": "stdout",
     "output_type": "stream",
     "text": [
      "563\n",
      "2017-03-29\n",
      "120\n"
     ]
    },
    {
     "name": "stderr",
     "output_type": "stream",
     "text": [
      "INFO: Got 118 tweets (118 new).\n",
      "INFO: queries: ['FB OR AMZN OR AAPL OR NFLX OR GOOG OR FAANG AND stocks since:2017-03-31 until:2017-04-01']\n"
     ]
    },
    {
     "name": "stdout",
     "output_type": "stream",
     "text": [
      "564\n",
      "2017-03-30\n",
      "118\n"
     ]
    },
    {
     "name": "stderr",
     "output_type": "stream",
     "text": [
      "INFO: Got 120 tweets (120 new).\n",
      "INFO: queries: ['FB OR AMZN OR AAPL OR NFLX OR GOOG OR FAANG AND stocks since:2017-04-03 until:2017-04-04']\n"
     ]
    },
    {
     "name": "stdout",
     "output_type": "stream",
     "text": [
      "565\n",
      "2017-03-31\n",
      "120\n"
     ]
    },
    {
     "name": "stderr",
     "output_type": "stream",
     "text": [
      "INFO: Got 116 tweets (116 new).\n",
      "INFO: queries: ['FB OR AMZN OR AAPL OR NFLX OR GOOG OR FAANG AND stocks since:2017-04-04 until:2017-04-05']\n"
     ]
    },
    {
     "name": "stdout",
     "output_type": "stream",
     "text": [
      "566\n",
      "2017-04-03\n",
      "116\n"
     ]
    },
    {
     "name": "stderr",
     "output_type": "stream",
     "text": [
      "INFO: Got 120 tweets (120 new).\n",
      "INFO: queries: ['FB OR AMZN OR AAPL OR NFLX OR GOOG OR FAANG AND stocks since:2017-04-05 until:2017-04-06']\n"
     ]
    },
    {
     "name": "stdout",
     "output_type": "stream",
     "text": [
      "567\n",
      "2017-04-04\n",
      "120\n"
     ]
    },
    {
     "name": "stderr",
     "output_type": "stream",
     "text": [
      "INFO: Got 120 tweets (120 new).\n",
      "INFO: queries: ['FB OR AMZN OR AAPL OR NFLX OR GOOG OR FAANG AND stocks since:2017-04-06 until:2017-04-07']\n"
     ]
    },
    {
     "name": "stdout",
     "output_type": "stream",
     "text": [
      "568\n",
      "2017-04-05\n",
      "120\n"
     ]
    },
    {
     "name": "stderr",
     "output_type": "stream",
     "text": [
      "INFO: Got 120 tweets (120 new).\n",
      "INFO: queries: ['FB OR AMZN OR AAPL OR NFLX OR GOOG OR FAANG AND stocks since:2017-04-07 until:2017-04-08']\n"
     ]
    },
    {
     "name": "stdout",
     "output_type": "stream",
     "text": [
      "569\n",
      "2017-04-06\n",
      "120\n"
     ]
    },
    {
     "name": "stderr",
     "output_type": "stream",
     "text": [
      "INFO: Got 119 tweets (119 new).\n",
      "INFO: queries: ['FB OR AMZN OR AAPL OR NFLX OR GOOG OR FAANG AND stocks since:2017-04-10 until:2017-04-11']\n"
     ]
    },
    {
     "name": "stdout",
     "output_type": "stream",
     "text": [
      "570\n",
      "2017-04-07\n",
      "119\n"
     ]
    },
    {
     "name": "stderr",
     "output_type": "stream",
     "text": [
      "INFO: Got 117 tweets (117 new).\n",
      "INFO: queries: ['FB OR AMZN OR AAPL OR NFLX OR GOOG OR FAANG AND stocks since:2017-04-11 until:2017-04-12']\n"
     ]
    },
    {
     "name": "stdout",
     "output_type": "stream",
     "text": [
      "571\n",
      "2017-04-10\n",
      "117\n"
     ]
    },
    {
     "name": "stderr",
     "output_type": "stream",
     "text": [
      "INFO: Got 120 tweets (120 new).\n",
      "INFO: queries: ['FB OR AMZN OR AAPL OR NFLX OR GOOG OR FAANG AND stocks since:2017-04-12 until:2017-04-13']\n"
     ]
    },
    {
     "name": "stdout",
     "output_type": "stream",
     "text": [
      "572\n",
      "2017-04-11\n",
      "120\n"
     ]
    },
    {
     "name": "stderr",
     "output_type": "stream",
     "text": [
      "INFO: Got 117 tweets (117 new).\n",
      "INFO: queries: ['FB OR AMZN OR AAPL OR NFLX OR GOOG OR FAANG AND stocks since:2017-04-13 until:2017-04-14']\n"
     ]
    },
    {
     "name": "stdout",
     "output_type": "stream",
     "text": [
      "573\n",
      "2017-04-12\n",
      "117\n"
     ]
    },
    {
     "name": "stderr",
     "output_type": "stream",
     "text": [
      "INFO: Got 118 tweets (118 new).\n",
      "INFO: queries: ['FB OR AMZN OR AAPL OR NFLX OR GOOG OR FAANG AND stocks since:2017-04-17 until:2017-04-18']\n"
     ]
    },
    {
     "name": "stdout",
     "output_type": "stream",
     "text": [
      "574\n",
      "2017-04-13\n",
      "118\n"
     ]
    },
    {
     "name": "stderr",
     "output_type": "stream",
     "text": [
      "INFO: Got 118 tweets (118 new).\n",
      "INFO: queries: ['FB OR AMZN OR AAPL OR NFLX OR GOOG OR FAANG AND stocks since:2017-04-18 until:2017-04-19']\n"
     ]
    },
    {
     "name": "stdout",
     "output_type": "stream",
     "text": [
      "575\n",
      "2017-04-17\n",
      "118\n"
     ]
    },
    {
     "name": "stderr",
     "output_type": "stream",
     "text": [
      "INFO: Got 120 tweets (120 new).\n",
      "INFO: queries: ['FB OR AMZN OR AAPL OR NFLX OR GOOG OR FAANG AND stocks since:2017-04-19 until:2017-04-20']\n"
     ]
    },
    {
     "name": "stdout",
     "output_type": "stream",
     "text": [
      "576\n",
      "2017-04-18\n",
      "120\n"
     ]
    },
    {
     "name": "stderr",
     "output_type": "stream",
     "text": [
      "INFO: Got 118 tweets (118 new).\n",
      "INFO: queries: ['FB OR AMZN OR AAPL OR NFLX OR GOOG OR FAANG AND stocks since:2017-04-20 until:2017-04-21']\n"
     ]
    },
    {
     "name": "stdout",
     "output_type": "stream",
     "text": [
      "577\n",
      "2017-04-19\n",
      "118\n"
     ]
    },
    {
     "name": "stderr",
     "output_type": "stream",
     "text": [
      "INFO: Got 118 tweets (118 new).\n",
      "INFO: queries: ['FB OR AMZN OR AAPL OR NFLX OR GOOG OR FAANG AND stocks since:2017-04-21 until:2017-04-22']\n"
     ]
    },
    {
     "name": "stdout",
     "output_type": "stream",
     "text": [
      "578\n",
      "2017-04-20\n",
      "118\n"
     ]
    },
    {
     "name": "stderr",
     "output_type": "stream",
     "text": [
      "INFO: Got 117 tweets (117 new).\n",
      "INFO: queries: ['FB OR AMZN OR AAPL OR NFLX OR GOOG OR FAANG AND stocks since:2017-04-24 until:2017-04-25']\n"
     ]
    },
    {
     "name": "stdout",
     "output_type": "stream",
     "text": [
      "579\n",
      "2017-04-21\n",
      "117\n"
     ]
    },
    {
     "name": "stderr",
     "output_type": "stream",
     "text": [
      "INFO: Got 120 tweets (120 new).\n",
      "INFO: queries: ['FB OR AMZN OR AAPL OR NFLX OR GOOG OR FAANG AND stocks since:2017-04-25 until:2017-04-26']\n"
     ]
    },
    {
     "name": "stdout",
     "output_type": "stream",
     "text": [
      "580\n",
      "2017-04-24\n",
      "120\n"
     ]
    },
    {
     "name": "stderr",
     "output_type": "stream",
     "text": [
      "INFO: Got 120 tweets (120 new).\n",
      "INFO: queries: ['FB OR AMZN OR AAPL OR NFLX OR GOOG OR FAANG AND stocks since:2017-04-26 until:2017-04-27']\n"
     ]
    },
    {
     "name": "stdout",
     "output_type": "stream",
     "text": [
      "581\n",
      "2017-04-25\n",
      "120\n"
     ]
    },
    {
     "name": "stderr",
     "output_type": "stream",
     "text": [
      "INFO: Got 120 tweets (120 new).\n",
      "INFO: queries: ['FB OR AMZN OR AAPL OR NFLX OR GOOG OR FAANG AND stocks since:2017-04-27 until:2017-04-28']\n"
     ]
    },
    {
     "name": "stdout",
     "output_type": "stream",
     "text": [
      "582\n",
      "2017-04-26\n",
      "120\n"
     ]
    },
    {
     "name": "stderr",
     "output_type": "stream",
     "text": [
      "INFO: Got 115 tweets (115 new).\n",
      "INFO: queries: ['FB OR AMZN OR AAPL OR NFLX OR GOOG OR FAANG AND stocks since:2017-04-28 until:2017-04-29']\n"
     ]
    },
    {
     "name": "stdout",
     "output_type": "stream",
     "text": [
      "583\n",
      "2017-04-27\n",
      "115\n"
     ]
    },
    {
     "name": "stderr",
     "output_type": "stream",
     "text": [
      "INFO: Got 120 tweets (120 new).\n",
      "INFO: queries: ['FB OR AMZN OR AAPL OR NFLX OR GOOG OR FAANG AND stocks since:2017-05-01 until:2017-05-02']\n"
     ]
    },
    {
     "name": "stdout",
     "output_type": "stream",
     "text": [
      "584\n",
      "2017-04-28\n",
      "120\n"
     ]
    },
    {
     "name": "stderr",
     "output_type": "stream",
     "text": [
      "INFO: Got 120 tweets (120 new).\n",
      "INFO: queries: ['FB OR AMZN OR AAPL OR NFLX OR GOOG OR FAANG AND stocks since:2017-05-02 until:2017-05-03']\n"
     ]
    },
    {
     "name": "stdout",
     "output_type": "stream",
     "text": [
      "585\n",
      "2017-05-01\n",
      "120\n"
     ]
    },
    {
     "name": "stderr",
     "output_type": "stream",
     "text": [
      "INFO: Got 118 tweets (118 new).\n",
      "INFO: queries: ['FB OR AMZN OR AAPL OR NFLX OR GOOG OR FAANG AND stocks since:2017-05-03 until:2017-05-04']\n"
     ]
    },
    {
     "name": "stdout",
     "output_type": "stream",
     "text": [
      "586\n",
      "2017-05-02\n",
      "118\n"
     ]
    },
    {
     "name": "stderr",
     "output_type": "stream",
     "text": [
      "INFO: Got 115 tweets (115 new).\n",
      "INFO: queries: ['FB OR AMZN OR AAPL OR NFLX OR GOOG OR FAANG AND stocks since:2017-05-04 until:2017-05-05']\n"
     ]
    },
    {
     "name": "stdout",
     "output_type": "stream",
     "text": [
      "587\n",
      "2017-05-03\n",
      "115\n"
     ]
    },
    {
     "name": "stderr",
     "output_type": "stream",
     "text": [
      "INFO: Got 119 tweets (119 new).\n",
      "INFO: queries: ['FB OR AMZN OR AAPL OR NFLX OR GOOG OR FAANG AND stocks since:2017-05-05 until:2017-05-06']\n"
     ]
    },
    {
     "name": "stdout",
     "output_type": "stream",
     "text": [
      "588\n",
      "2017-05-04\n",
      "119\n"
     ]
    },
    {
     "name": "stderr",
     "output_type": "stream",
     "text": [
      "INFO: Got 117 tweets (117 new).\n",
      "INFO: queries: ['FB OR AMZN OR AAPL OR NFLX OR GOOG OR FAANG AND stocks since:2017-05-08 until:2017-05-09']\n"
     ]
    },
    {
     "name": "stdout",
     "output_type": "stream",
     "text": [
      "589\n",
      "2017-05-05\n",
      "117\n"
     ]
    },
    {
     "name": "stderr",
     "output_type": "stream",
     "text": [
      "INFO: Got 119 tweets (119 new).\n",
      "INFO: queries: ['FB OR AMZN OR AAPL OR NFLX OR GOOG OR FAANG AND stocks since:2017-05-09 until:2017-05-10']\n"
     ]
    },
    {
     "name": "stdout",
     "output_type": "stream",
     "text": [
      "590\n",
      "2017-05-08\n",
      "119\n"
     ]
    },
    {
     "name": "stderr",
     "output_type": "stream",
     "text": [
      "INFO: Got 119 tweets (119 new).\n",
      "INFO: queries: ['FB OR AMZN OR AAPL OR NFLX OR GOOG OR FAANG AND stocks since:2017-05-10 until:2017-05-11']\n"
     ]
    },
    {
     "name": "stdout",
     "output_type": "stream",
     "text": [
      "591\n",
      "2017-05-09\n",
      "119\n"
     ]
    },
    {
     "name": "stderr",
     "output_type": "stream",
     "text": [
      "INFO: Got 117 tweets (117 new).\n",
      "INFO: queries: ['FB OR AMZN OR AAPL OR NFLX OR GOOG OR FAANG AND stocks since:2017-05-11 until:2017-05-12']\n"
     ]
    },
    {
     "name": "stdout",
     "output_type": "stream",
     "text": [
      "592\n",
      "2017-05-10\n",
      "117\n"
     ]
    },
    {
     "name": "stderr",
     "output_type": "stream",
     "text": [
      "INFO: Got 117 tweets (117 new).\n",
      "INFO: queries: ['FB OR AMZN OR AAPL OR NFLX OR GOOG OR FAANG AND stocks since:2017-05-12 until:2017-05-13']\n"
     ]
    },
    {
     "name": "stdout",
     "output_type": "stream",
     "text": [
      "593\n",
      "2017-05-11\n",
      "117\n"
     ]
    },
    {
     "name": "stderr",
     "output_type": "stream",
     "text": [
      "INFO: Got 119 tweets (119 new).\n",
      "INFO: queries: ['FB OR AMZN OR AAPL OR NFLX OR GOOG OR FAANG AND stocks since:2017-05-15 until:2017-05-16']\n"
     ]
    },
    {
     "name": "stdout",
     "output_type": "stream",
     "text": [
      "594\n",
      "2017-05-12\n",
      "119\n"
     ]
    },
    {
     "name": "stderr",
     "output_type": "stream",
     "text": [
      "INFO: Got 120 tweets (120 new).\n",
      "INFO: queries: ['FB OR AMZN OR AAPL OR NFLX OR GOOG OR FAANG AND stocks since:2017-05-16 until:2017-05-17']\n"
     ]
    },
    {
     "name": "stdout",
     "output_type": "stream",
     "text": [
      "595\n",
      "2017-05-15\n",
      "120\n"
     ]
    },
    {
     "name": "stderr",
     "output_type": "stream",
     "text": [
      "INFO: Got 120 tweets (120 new).\n",
      "INFO: queries: ['FB OR AMZN OR AAPL OR NFLX OR GOOG OR FAANG AND stocks since:2017-05-17 until:2017-05-18']\n"
     ]
    },
    {
     "name": "stdout",
     "output_type": "stream",
     "text": [
      "596\n",
      "2017-05-16\n",
      "120\n"
     ]
    },
    {
     "name": "stderr",
     "output_type": "stream",
     "text": [
      "INFO: Got 120 tweets (120 new).\n",
      "INFO: queries: ['FB OR AMZN OR AAPL OR NFLX OR GOOG OR FAANG AND stocks since:2017-05-18 until:2017-05-19']\n"
     ]
    },
    {
     "name": "stdout",
     "output_type": "stream",
     "text": [
      "597\n",
      "2017-05-17\n",
      "120\n"
     ]
    },
    {
     "name": "stderr",
     "output_type": "stream",
     "text": [
      "INFO: Got 118 tweets (118 new).\n",
      "INFO: queries: ['FB OR AMZN OR AAPL OR NFLX OR GOOG OR FAANG AND stocks since:2017-05-19 until:2017-05-20']\n"
     ]
    },
    {
     "name": "stdout",
     "output_type": "stream",
     "text": [
      "598\n",
      "2017-05-18\n",
      "118\n"
     ]
    },
    {
     "name": "stderr",
     "output_type": "stream",
     "text": [
      "INFO: Got 116 tweets (116 new).\n",
      "INFO: queries: ['FB OR AMZN OR AAPL OR NFLX OR GOOG OR FAANG AND stocks since:2017-05-22 until:2017-05-23']\n"
     ]
    },
    {
     "name": "stdout",
     "output_type": "stream",
     "text": [
      "599\n",
      "2017-05-19\n",
      "116\n"
     ]
    },
    {
     "name": "stderr",
     "output_type": "stream",
     "text": [
      "INFO: Got 115 tweets (115 new).\n",
      "INFO: queries: ['FB OR AMZN OR AAPL OR NFLX OR GOOG OR FAANG AND stocks since:2017-05-23 until:2017-05-24']\n"
     ]
    },
    {
     "name": "stdout",
     "output_type": "stream",
     "text": [
      "600\n",
      "2017-05-22\n",
      "115\n"
     ]
    },
    {
     "name": "stderr",
     "output_type": "stream",
     "text": [
      "INFO: Got 119 tweets (119 new).\n",
      "INFO: queries: ['FB OR AMZN OR AAPL OR NFLX OR GOOG OR FAANG AND stocks since:2017-05-24 until:2017-05-25']\n"
     ]
    },
    {
     "name": "stdout",
     "output_type": "stream",
     "text": [
      "601\n",
      "2017-05-23\n",
      "119\n"
     ]
    },
    {
     "name": "stderr",
     "output_type": "stream",
     "text": [
      "INFO: Got 114 tweets (114 new).\n",
      "INFO: queries: ['FB OR AMZN OR AAPL OR NFLX OR GOOG OR FAANG AND stocks since:2017-05-25 until:2017-05-26']\n"
     ]
    },
    {
     "name": "stdout",
     "output_type": "stream",
     "text": [
      "602\n",
      "2017-05-24\n",
      "114\n"
     ]
    },
    {
     "name": "stderr",
     "output_type": "stream",
     "text": [
      "INFO: Got 115 tweets (115 new).\n",
      "INFO: queries: ['FB OR AMZN OR AAPL OR NFLX OR GOOG OR FAANG AND stocks since:2017-05-26 until:2017-05-27']\n"
     ]
    },
    {
     "name": "stdout",
     "output_type": "stream",
     "text": [
      "603\n",
      "2017-05-25\n",
      "115\n"
     ]
    },
    {
     "name": "stderr",
     "output_type": "stream",
     "text": [
      "INFO: Got 119 tweets (119 new).\n",
      "INFO: queries: ['FB OR AMZN OR AAPL OR NFLX OR GOOG OR FAANG AND stocks since:2017-05-30 until:2017-05-31']\n"
     ]
    },
    {
     "name": "stdout",
     "output_type": "stream",
     "text": [
      "604\n",
      "2017-05-26\n",
      "119\n"
     ]
    },
    {
     "name": "stderr",
     "output_type": "stream",
     "text": [
      "INFO: Got 116 tweets (116 new).\n",
      "INFO: queries: ['FB OR AMZN OR AAPL OR NFLX OR GOOG OR FAANG AND stocks since:2017-05-31 until:2017-06-01']\n"
     ]
    },
    {
     "name": "stdout",
     "output_type": "stream",
     "text": [
      "605\n",
      "2017-05-30\n",
      "116\n"
     ]
    },
    {
     "name": "stderr",
     "output_type": "stream",
     "text": [
      "INFO: Got 117 tweets (117 new).\n",
      "INFO: queries: ['FB OR AMZN OR AAPL OR NFLX OR GOOG OR FAANG AND stocks since:2017-06-01 until:2017-06-02']\n"
     ]
    },
    {
     "name": "stdout",
     "output_type": "stream",
     "text": [
      "606\n",
      "2017-05-31\n",
      "117\n"
     ]
    },
    {
     "name": "stderr",
     "output_type": "stream",
     "text": [
      "INFO: Got 120 tweets (120 new).\n",
      "INFO: queries: ['FB OR AMZN OR AAPL OR NFLX OR GOOG OR FAANG AND stocks since:2017-06-02 until:2017-06-03']\n"
     ]
    },
    {
     "name": "stdout",
     "output_type": "stream",
     "text": [
      "607\n",
      "2017-06-01\n",
      "120\n"
     ]
    },
    {
     "name": "stderr",
     "output_type": "stream",
     "text": [
      "INFO: Got 117 tweets (117 new).\n",
      "INFO: queries: ['FB OR AMZN OR AAPL OR NFLX OR GOOG OR FAANG AND stocks since:2017-06-05 until:2017-06-06']\n"
     ]
    },
    {
     "name": "stdout",
     "output_type": "stream",
     "text": [
      "608\n",
      "2017-06-02\n",
      "117\n"
     ]
    },
    {
     "name": "stderr",
     "output_type": "stream",
     "text": [
      "INFO: Got 115 tweets (115 new).\n",
      "INFO: queries: ['FB OR AMZN OR AAPL OR NFLX OR GOOG OR FAANG AND stocks since:2017-06-06 until:2017-06-07']\n"
     ]
    },
    {
     "name": "stdout",
     "output_type": "stream",
     "text": [
      "609\n",
      "2017-06-05\n",
      "115\n"
     ]
    },
    {
     "name": "stderr",
     "output_type": "stream",
     "text": [
      "INFO: Got 114 tweets (114 new).\n",
      "INFO: queries: ['FB OR AMZN OR AAPL OR NFLX OR GOOG OR FAANG AND stocks since:2017-06-07 until:2017-06-08']\n"
     ]
    },
    {
     "name": "stdout",
     "output_type": "stream",
     "text": [
      "610\n",
      "2017-06-06\n",
      "114\n"
     ]
    },
    {
     "name": "stderr",
     "output_type": "stream",
     "text": [
      "INFO: Got 118 tweets (118 new).\n",
      "INFO: queries: ['FB OR AMZN OR AAPL OR NFLX OR GOOG OR FAANG AND stocks since:2017-06-08 until:2017-06-09']\n"
     ]
    },
    {
     "name": "stdout",
     "output_type": "stream",
     "text": [
      "611\n",
      "2017-06-07\n",
      "118\n"
     ]
    },
    {
     "name": "stderr",
     "output_type": "stream",
     "text": [
      "INFO: Got 119 tweets (119 new).\n",
      "INFO: queries: ['FB OR AMZN OR AAPL OR NFLX OR GOOG OR FAANG AND stocks since:2017-06-09 until:2017-06-10']\n"
     ]
    },
    {
     "name": "stdout",
     "output_type": "stream",
     "text": [
      "612\n",
      "2017-06-08\n",
      "119\n"
     ]
    },
    {
     "name": "stderr",
     "output_type": "stream",
     "text": [
      "INFO: Got 119 tweets (119 new).\n",
      "INFO: queries: ['FB OR AMZN OR AAPL OR NFLX OR GOOG OR FAANG AND stocks since:2017-06-12 until:2017-06-13']\n"
     ]
    },
    {
     "name": "stdout",
     "output_type": "stream",
     "text": [
      "613\n",
      "2017-06-09\n",
      "119\n"
     ]
    },
    {
     "name": "stderr",
     "output_type": "stream",
     "text": [
      "INFO: Got 120 tweets (120 new).\n",
      "INFO: queries: ['FB OR AMZN OR AAPL OR NFLX OR GOOG OR FAANG AND stocks since:2017-06-13 until:2017-06-14']\n"
     ]
    },
    {
     "name": "stdout",
     "output_type": "stream",
     "text": [
      "614\n",
      "2017-06-12\n",
      "120\n"
     ]
    },
    {
     "name": "stderr",
     "output_type": "stream",
     "text": [
      "INFO: Got 118 tweets (118 new).\n",
      "INFO: queries: ['FB OR AMZN OR AAPL OR NFLX OR GOOG OR FAANG AND stocks since:2017-06-14 until:2017-06-15']\n"
     ]
    },
    {
     "name": "stdout",
     "output_type": "stream",
     "text": [
      "615\n",
      "2017-06-13\n",
      "118\n"
     ]
    },
    {
     "name": "stderr",
     "output_type": "stream",
     "text": [
      "INFO: Got 115 tweets (115 new).\n",
      "INFO: queries: ['FB OR AMZN OR AAPL OR NFLX OR GOOG OR FAANG AND stocks since:2017-06-15 until:2017-06-16']\n"
     ]
    },
    {
     "name": "stdout",
     "output_type": "stream",
     "text": [
      "616\n",
      "2017-06-14\n",
      "115\n"
     ]
    },
    {
     "name": "stderr",
     "output_type": "stream",
     "text": [
      "INFO: Got 117 tweets (117 new).\n",
      "INFO: queries: ['FB OR AMZN OR AAPL OR NFLX OR GOOG OR FAANG AND stocks since:2017-06-16 until:2017-06-17']\n"
     ]
    },
    {
     "name": "stdout",
     "output_type": "stream",
     "text": [
      "617\n",
      "2017-06-15\n",
      "117\n"
     ]
    },
    {
     "name": "stderr",
     "output_type": "stream",
     "text": [
      "INFO: Got 118 tweets (118 new).\n",
      "INFO: queries: ['FB OR AMZN OR AAPL OR NFLX OR GOOG OR FAANG AND stocks since:2017-06-19 until:2017-06-20']\n"
     ]
    },
    {
     "name": "stdout",
     "output_type": "stream",
     "text": [
      "618\n",
      "2017-06-16\n",
      "118\n"
     ]
    },
    {
     "name": "stderr",
     "output_type": "stream",
     "text": [
      "INFO: Got 119 tweets (119 new).\n",
      "INFO: queries: ['FB OR AMZN OR AAPL OR NFLX OR GOOG OR FAANG AND stocks since:2017-06-20 until:2017-06-21']\n"
     ]
    },
    {
     "name": "stdout",
     "output_type": "stream",
     "text": [
      "619\n",
      "2017-06-19\n",
      "119\n"
     ]
    },
    {
     "name": "stderr",
     "output_type": "stream",
     "text": [
      "INFO: Got 112 tweets (112 new).\n",
      "INFO: queries: ['FB OR AMZN OR AAPL OR NFLX OR GOOG OR FAANG AND stocks since:2017-06-21 until:2017-06-22']\n"
     ]
    },
    {
     "name": "stdout",
     "output_type": "stream",
     "text": [
      "620\n",
      "2017-06-20\n",
      "112\n"
     ]
    },
    {
     "name": "stderr",
     "output_type": "stream",
     "text": [
      "INFO: Got 110 tweets (110 new).\n",
      "INFO: queries: ['FB OR AMZN OR AAPL OR NFLX OR GOOG OR FAANG AND stocks since:2017-06-22 until:2017-06-23']\n"
     ]
    },
    {
     "name": "stdout",
     "output_type": "stream",
     "text": [
      "621\n",
      "2017-06-21\n",
      "110\n"
     ]
    },
    {
     "name": "stderr",
     "output_type": "stream",
     "text": [
      "INFO: Got 114 tweets (114 new).\n",
      "INFO: queries: ['FB OR AMZN OR AAPL OR NFLX OR GOOG OR FAANG AND stocks since:2017-06-23 until:2017-06-24']\n"
     ]
    },
    {
     "name": "stdout",
     "output_type": "stream",
     "text": [
      "622\n",
      "2017-06-22\n",
      "114\n"
     ]
    },
    {
     "name": "stderr",
     "output_type": "stream",
     "text": [
      "INFO: Got 118 tweets (118 new).\n",
      "INFO: queries: ['FB OR AMZN OR AAPL OR NFLX OR GOOG OR FAANG AND stocks since:2017-06-26 until:2017-06-27']\n"
     ]
    },
    {
     "name": "stdout",
     "output_type": "stream",
     "text": [
      "623\n",
      "2017-06-23\n",
      "118\n"
     ]
    },
    {
     "name": "stderr",
     "output_type": "stream",
     "text": [
      "INFO: Got 117 tweets (117 new).\n",
      "INFO: queries: ['FB OR AMZN OR AAPL OR NFLX OR GOOG OR FAANG AND stocks since:2017-06-27 until:2017-06-28']\n"
     ]
    },
    {
     "name": "stdout",
     "output_type": "stream",
     "text": [
      "624\n",
      "2017-06-26\n",
      "117\n"
     ]
    },
    {
     "name": "stderr",
     "output_type": "stream",
     "text": [
      "INFO: Got 115 tweets (115 new).\n",
      "INFO: queries: ['FB OR AMZN OR AAPL OR NFLX OR GOOG OR FAANG AND stocks since:2017-06-28 until:2017-06-29']\n"
     ]
    },
    {
     "name": "stdout",
     "output_type": "stream",
     "text": [
      "625\n",
      "2017-06-27\n",
      "115\n"
     ]
    },
    {
     "name": "stderr",
     "output_type": "stream",
     "text": [
      "INFO: Got 105 tweets (105 new).\n",
      "INFO: queries: ['FB OR AMZN OR AAPL OR NFLX OR GOOG OR FAANG AND stocks since:2017-06-29 until:2017-06-30']\n"
     ]
    },
    {
     "name": "stdout",
     "output_type": "stream",
     "text": [
      "626\n",
      "2017-06-28\n",
      "105\n"
     ]
    },
    {
     "name": "stderr",
     "output_type": "stream",
     "text": [
      "INFO: Got 110 tweets (110 new).\n",
      "INFO: queries: ['FB OR AMZN OR AAPL OR NFLX OR GOOG OR FAANG AND stocks since:2017-06-30 until:2017-07-01']\n"
     ]
    },
    {
     "name": "stdout",
     "output_type": "stream",
     "text": [
      "627\n",
      "2017-06-29\n",
      "110\n"
     ]
    },
    {
     "name": "stderr",
     "output_type": "stream",
     "text": [
      "INFO: Got 109 tweets (109 new).\n",
      "INFO: queries: ['FB OR AMZN OR AAPL OR NFLX OR GOOG OR FAANG AND stocks since:2017-07-03 until:2017-07-04']\n"
     ]
    },
    {
     "name": "stdout",
     "output_type": "stream",
     "text": [
      "628\n",
      "2017-06-30\n",
      "109\n"
     ]
    },
    {
     "name": "stderr",
     "output_type": "stream",
     "text": [
      "INFO: Got 112 tweets (112 new).\n",
      "INFO: queries: ['FB OR AMZN OR AAPL OR NFLX OR GOOG OR FAANG AND stocks since:2017-07-05 until:2017-07-06']\n"
     ]
    },
    {
     "name": "stdout",
     "output_type": "stream",
     "text": [
      "629\n",
      "2017-07-03\n",
      "112\n"
     ]
    },
    {
     "name": "stderr",
     "output_type": "stream",
     "text": [
      "INFO: Got 119 tweets (119 new).\n",
      "INFO: queries: ['FB OR AMZN OR AAPL OR NFLX OR GOOG OR FAANG AND stocks since:2017-07-06 until:2017-07-07']\n"
     ]
    },
    {
     "name": "stdout",
     "output_type": "stream",
     "text": [
      "630\n",
      "2017-07-05\n",
      "119\n"
     ]
    },
    {
     "name": "stderr",
     "output_type": "stream",
     "text": [
      "INFO: Got 120 tweets (120 new).\n",
      "INFO: queries: ['FB OR AMZN OR AAPL OR NFLX OR GOOG OR FAANG AND stocks since:2017-07-07 until:2017-07-08']\n"
     ]
    },
    {
     "name": "stdout",
     "output_type": "stream",
     "text": [
      "631\n",
      "2017-07-06\n",
      "120\n"
     ]
    },
    {
     "name": "stderr",
     "output_type": "stream",
     "text": [
      "INFO: Got 119 tweets (119 new).\n",
      "INFO: queries: ['FB OR AMZN OR AAPL OR NFLX OR GOOG OR FAANG AND stocks since:2017-07-10 until:2017-07-11']\n"
     ]
    },
    {
     "name": "stdout",
     "output_type": "stream",
     "text": [
      "632\n",
      "2017-07-07\n",
      "119\n"
     ]
    },
    {
     "name": "stderr",
     "output_type": "stream",
     "text": [
      "INFO: Got 112 tweets (112 new).\n",
      "INFO: queries: ['FB OR AMZN OR AAPL OR NFLX OR GOOG OR FAANG AND stocks since:2017-07-11 until:2017-07-12']\n"
     ]
    },
    {
     "name": "stdout",
     "output_type": "stream",
     "text": [
      "633\n",
      "2017-07-10\n",
      "112\n"
     ]
    },
    {
     "name": "stderr",
     "output_type": "stream",
     "text": [
      "INFO: Got 116 tweets (116 new).\n",
      "INFO: queries: ['FB OR AMZN OR AAPL OR NFLX OR GOOG OR FAANG AND stocks since:2017-07-12 until:2017-07-13']\n"
     ]
    },
    {
     "name": "stdout",
     "output_type": "stream",
     "text": [
      "634\n",
      "2017-07-11\n",
      "116\n"
     ]
    },
    {
     "name": "stderr",
     "output_type": "stream",
     "text": [
      "INFO: Got 120 tweets (120 new).\n",
      "INFO: queries: ['FB OR AMZN OR AAPL OR NFLX OR GOOG OR FAANG AND stocks since:2017-07-13 until:2017-07-14']\n"
     ]
    },
    {
     "name": "stdout",
     "output_type": "stream",
     "text": [
      "635\n",
      "2017-07-12\n",
      "120\n"
     ]
    },
    {
     "name": "stderr",
     "output_type": "stream",
     "text": [
      "INFO: Got 120 tweets (120 new).\n",
      "INFO: queries: ['FB OR AMZN OR AAPL OR NFLX OR GOOG OR FAANG AND stocks since:2017-07-14 until:2017-07-15']\n"
     ]
    },
    {
     "name": "stdout",
     "output_type": "stream",
     "text": [
      "636\n",
      "2017-07-13\n",
      "120\n"
     ]
    },
    {
     "name": "stderr",
     "output_type": "stream",
     "text": [
      "INFO: Got 115 tweets (115 new).\n",
      "INFO: queries: ['FB OR AMZN OR AAPL OR NFLX OR GOOG OR FAANG AND stocks since:2017-07-17 until:2017-07-18']\n"
     ]
    },
    {
     "name": "stdout",
     "output_type": "stream",
     "text": [
      "637\n",
      "2017-07-14\n",
      "115\n"
     ]
    },
    {
     "name": "stderr",
     "output_type": "stream",
     "text": [
      "INFO: Got 112 tweets (112 new).\n",
      "INFO: queries: ['FB OR AMZN OR AAPL OR NFLX OR GOOG OR FAANG AND stocks since:2017-07-18 until:2017-07-19']\n"
     ]
    },
    {
     "name": "stdout",
     "output_type": "stream",
     "text": [
      "638\n",
      "2017-07-17\n",
      "112\n"
     ]
    },
    {
     "name": "stderr",
     "output_type": "stream",
     "text": [
      "INFO: Got 117 tweets (117 new).\n",
      "INFO: queries: ['FB OR AMZN OR AAPL OR NFLX OR GOOG OR FAANG AND stocks since:2017-07-19 until:2017-07-20']\n"
     ]
    },
    {
     "name": "stdout",
     "output_type": "stream",
     "text": [
      "639\n",
      "2017-07-18\n",
      "117\n"
     ]
    },
    {
     "name": "stderr",
     "output_type": "stream",
     "text": [
      "INFO: Got 118 tweets (118 new).\n",
      "INFO: queries: ['FB OR AMZN OR AAPL OR NFLX OR GOOG OR FAANG AND stocks since:2017-07-20 until:2017-07-21']\n"
     ]
    },
    {
     "name": "stdout",
     "output_type": "stream",
     "text": [
      "640\n",
      "2017-07-19\n",
      "118\n"
     ]
    },
    {
     "name": "stderr",
     "output_type": "stream",
     "text": [
      "INFO: Got 119 tweets (119 new).\n",
      "INFO: queries: ['FB OR AMZN OR AAPL OR NFLX OR GOOG OR FAANG AND stocks since:2017-07-21 until:2017-07-22']\n"
     ]
    },
    {
     "name": "stdout",
     "output_type": "stream",
     "text": [
      "641\n",
      "2017-07-20\n",
      "119\n"
     ]
    },
    {
     "name": "stderr",
     "output_type": "stream",
     "text": [
      "INFO: Got 120 tweets (120 new).\n",
      "INFO: queries: ['FB OR AMZN OR AAPL OR NFLX OR GOOG OR FAANG AND stocks since:2017-07-24 until:2017-07-25']\n"
     ]
    },
    {
     "name": "stdout",
     "output_type": "stream",
     "text": [
      "642\n",
      "2017-07-21\n",
      "120\n"
     ]
    },
    {
     "name": "stderr",
     "output_type": "stream",
     "text": [
      "INFO: Got 119 tweets (119 new).\n",
      "INFO: queries: ['FB OR AMZN OR AAPL OR NFLX OR GOOG OR FAANG AND stocks since:2017-07-25 until:2017-07-26']\n"
     ]
    },
    {
     "name": "stdout",
     "output_type": "stream",
     "text": [
      "643\n",
      "2017-07-24\n",
      "119\n"
     ]
    },
    {
     "name": "stderr",
     "output_type": "stream",
     "text": [
      "INFO: Got 120 tweets (120 new).\n",
      "INFO: queries: ['FB OR AMZN OR AAPL OR NFLX OR GOOG OR FAANG AND stocks since:2017-07-26 until:2017-07-27']\n"
     ]
    },
    {
     "name": "stdout",
     "output_type": "stream",
     "text": [
      "644\n",
      "2017-07-25\n",
      "120\n"
     ]
    },
    {
     "name": "stderr",
     "output_type": "stream",
     "text": [
      "INFO: Got 116 tweets (116 new).\n",
      "INFO: queries: ['FB OR AMZN OR AAPL OR NFLX OR GOOG OR FAANG AND stocks since:2017-07-27 until:2017-07-28']\n"
     ]
    },
    {
     "name": "stdout",
     "output_type": "stream",
     "text": [
      "645\n",
      "2017-07-26\n",
      "116\n"
     ]
    },
    {
     "name": "stderr",
     "output_type": "stream",
     "text": [
      "INFO: Got 119 tweets (119 new).\n",
      "INFO: queries: ['FB OR AMZN OR AAPL OR NFLX OR GOOG OR FAANG AND stocks since:2017-07-28 until:2017-07-29']\n"
     ]
    },
    {
     "name": "stdout",
     "output_type": "stream",
     "text": [
      "646\n",
      "2017-07-27\n",
      "119\n"
     ]
    },
    {
     "name": "stderr",
     "output_type": "stream",
     "text": [
      "INFO: Got 120 tweets (120 new).\n",
      "INFO: queries: ['FB OR AMZN OR AAPL OR NFLX OR GOOG OR FAANG AND stocks since:2017-07-31 until:2017-08-01']\n"
     ]
    },
    {
     "name": "stdout",
     "output_type": "stream",
     "text": [
      "647\n",
      "2017-07-28\n",
      "120\n"
     ]
    },
    {
     "name": "stderr",
     "output_type": "stream",
     "text": [
      "INFO: Got 119 tweets (119 new).\n",
      "INFO: queries: ['FB OR AMZN OR AAPL OR NFLX OR GOOG OR FAANG AND stocks since:2017-08-01 until:2017-08-02']\n"
     ]
    },
    {
     "name": "stdout",
     "output_type": "stream",
     "text": [
      "648\n",
      "2017-07-31\n",
      "119\n"
     ]
    },
    {
     "name": "stderr",
     "output_type": "stream",
     "text": [
      "INFO: Got 102 tweets (102 new).\n",
      "INFO: queries: ['FB OR AMZN OR AAPL OR NFLX OR GOOG OR FAANG AND stocks since:2017-08-02 until:2017-08-03']\n"
     ]
    },
    {
     "name": "stdout",
     "output_type": "stream",
     "text": [
      "649\n",
      "2017-08-01\n",
      "102\n"
     ]
    },
    {
     "name": "stderr",
     "output_type": "stream",
     "text": [
      "INFO: Got 120 tweets (120 new).\n",
      "INFO: queries: ['FB OR AMZN OR AAPL OR NFLX OR GOOG OR FAANG AND stocks since:2017-08-03 until:2017-08-04']\n"
     ]
    },
    {
     "name": "stdout",
     "output_type": "stream",
     "text": [
      "650\n",
      "2017-08-02\n",
      "120\n"
     ]
    },
    {
     "name": "stderr",
     "output_type": "stream",
     "text": [
      "INFO: Got 120 tweets (120 new).\n",
      "INFO: queries: ['FB OR AMZN OR AAPL OR NFLX OR GOOG OR FAANG AND stocks since:2017-08-04 until:2017-08-05']\n"
     ]
    },
    {
     "name": "stdout",
     "output_type": "stream",
     "text": [
      "651\n",
      "2017-08-03\n",
      "120\n"
     ]
    },
    {
     "name": "stderr",
     "output_type": "stream",
     "text": [
      "INFO: Got 117 tweets (117 new).\n",
      "INFO: queries: ['FB OR AMZN OR AAPL OR NFLX OR GOOG OR FAANG AND stocks since:2017-08-07 until:2017-08-08']\n"
     ]
    },
    {
     "name": "stdout",
     "output_type": "stream",
     "text": [
      "652\n",
      "2017-08-04\n",
      "117\n"
     ]
    },
    {
     "name": "stderr",
     "output_type": "stream",
     "text": [
      "INFO: Got 119 tweets (119 new).\n",
      "INFO: queries: ['FB OR AMZN OR AAPL OR NFLX OR GOOG OR FAANG AND stocks since:2017-08-08 until:2017-08-09']\n"
     ]
    },
    {
     "name": "stdout",
     "output_type": "stream",
     "text": [
      "653\n",
      "2017-08-07\n",
      "119\n"
     ]
    },
    {
     "name": "stderr",
     "output_type": "stream",
     "text": [
      "INFO: Got 119 tweets (119 new).\n",
      "INFO: queries: ['FB OR AMZN OR AAPL OR NFLX OR GOOG OR FAANG AND stocks since:2017-08-09 until:2017-08-10']\n"
     ]
    },
    {
     "name": "stdout",
     "output_type": "stream",
     "text": [
      "654\n",
      "2017-08-08\n",
      "119\n"
     ]
    },
    {
     "name": "stderr",
     "output_type": "stream",
     "text": [
      "INFO: Got 120 tweets (120 new).\n",
      "INFO: queries: ['FB OR AMZN OR AAPL OR NFLX OR GOOG OR FAANG AND stocks since:2017-08-10 until:2017-08-11']\n"
     ]
    },
    {
     "name": "stdout",
     "output_type": "stream",
     "text": [
      "655\n",
      "2017-08-09\n",
      "120\n"
     ]
    },
    {
     "name": "stderr",
     "output_type": "stream",
     "text": [
      "INFO: Got 119 tweets (119 new).\n",
      "INFO: queries: ['FB OR AMZN OR AAPL OR NFLX OR GOOG OR FAANG AND stocks since:2017-08-11 until:2017-08-12']\n"
     ]
    },
    {
     "name": "stdout",
     "output_type": "stream",
     "text": [
      "656\n",
      "2017-08-10\n",
      "119\n"
     ]
    },
    {
     "name": "stderr",
     "output_type": "stream",
     "text": [
      "INFO: Got 119 tweets (119 new).\n",
      "INFO: queries: ['FB OR AMZN OR AAPL OR NFLX OR GOOG OR FAANG AND stocks since:2017-08-14 until:2017-08-15']\n"
     ]
    },
    {
     "name": "stdout",
     "output_type": "stream",
     "text": [
      "657\n",
      "2017-08-11\n",
      "119\n"
     ]
    },
    {
     "name": "stderr",
     "output_type": "stream",
     "text": [
      "INFO: Got 119 tweets (119 new).\n",
      "INFO: queries: ['FB OR AMZN OR AAPL OR NFLX OR GOOG OR FAANG AND stocks since:2017-08-15 until:2017-08-16']\n"
     ]
    },
    {
     "name": "stdout",
     "output_type": "stream",
     "text": [
      "658\n",
      "2017-08-14\n",
      "119\n"
     ]
    },
    {
     "name": "stderr",
     "output_type": "stream",
     "text": [
      "INFO: Got 119 tweets (119 new).\n",
      "INFO: queries: ['FB OR AMZN OR AAPL OR NFLX OR GOOG OR FAANG AND stocks since:2017-08-16 until:2017-08-17']\n"
     ]
    },
    {
     "name": "stdout",
     "output_type": "stream",
     "text": [
      "659\n",
      "2017-08-15\n",
      "119\n"
     ]
    },
    {
     "name": "stderr",
     "output_type": "stream",
     "text": [
      "INFO: Got 119 tweets (119 new).\n",
      "INFO: queries: ['FB OR AMZN OR AAPL OR NFLX OR GOOG OR FAANG AND stocks since:2017-08-17 until:2017-08-18']\n"
     ]
    },
    {
     "name": "stdout",
     "output_type": "stream",
     "text": [
      "660\n",
      "2017-08-16\n",
      "119\n"
     ]
    },
    {
     "name": "stderr",
     "output_type": "stream",
     "text": [
      "INFO: Got 120 tweets (120 new).\n",
      "INFO: queries: ['FB OR AMZN OR AAPL OR NFLX OR GOOG OR FAANG AND stocks since:2017-08-18 until:2017-08-19']\n"
     ]
    },
    {
     "name": "stdout",
     "output_type": "stream",
     "text": [
      "661\n",
      "2017-08-17\n",
      "120\n"
     ]
    },
    {
     "name": "stderr",
     "output_type": "stream",
     "text": [
      "INFO: Got 114 tweets (114 new).\n",
      "INFO: queries: ['FB OR AMZN OR AAPL OR NFLX OR GOOG OR FAANG AND stocks since:2017-08-21 until:2017-08-22']\n"
     ]
    },
    {
     "name": "stdout",
     "output_type": "stream",
     "text": [
      "662\n",
      "2017-08-18\n",
      "114\n"
     ]
    },
    {
     "name": "stderr",
     "output_type": "stream",
     "text": [
      "INFO: Got 120 tweets (120 new).\n",
      "INFO: queries: ['FB OR AMZN OR AAPL OR NFLX OR GOOG OR FAANG AND stocks since:2017-08-22 until:2017-08-23']\n"
     ]
    },
    {
     "name": "stdout",
     "output_type": "stream",
     "text": [
      "663\n",
      "2017-08-21\n",
      "120\n"
     ]
    },
    {
     "name": "stderr",
     "output_type": "stream",
     "text": [
      "INFO: Got 114 tweets (114 new).\n",
      "INFO: queries: ['FB OR AMZN OR AAPL OR NFLX OR GOOG OR FAANG AND stocks since:2017-08-23 until:2017-08-24']\n"
     ]
    },
    {
     "name": "stdout",
     "output_type": "stream",
     "text": [
      "664\n",
      "2017-08-22\n",
      "114\n"
     ]
    },
    {
     "name": "stderr",
     "output_type": "stream",
     "text": [
      "INFO: Got 118 tweets (118 new).\n",
      "INFO: queries: ['FB OR AMZN OR AAPL OR NFLX OR GOOG OR FAANG AND stocks since:2017-08-24 until:2017-08-25']\n"
     ]
    },
    {
     "name": "stdout",
     "output_type": "stream",
     "text": [
      "665\n",
      "2017-08-23\n",
      "118\n"
     ]
    },
    {
     "name": "stderr",
     "output_type": "stream",
     "text": [
      "INFO: Got 115 tweets (115 new).\n",
      "INFO: queries: ['FB OR AMZN OR AAPL OR NFLX OR GOOG OR FAANG AND stocks since:2017-08-25 until:2017-08-26']\n"
     ]
    },
    {
     "name": "stdout",
     "output_type": "stream",
     "text": [
      "666\n",
      "2017-08-24\n",
      "115\n"
     ]
    },
    {
     "name": "stderr",
     "output_type": "stream",
     "text": [
      "INFO: Got 120 tweets (120 new).\n",
      "INFO: queries: ['FB OR AMZN OR AAPL OR NFLX OR GOOG OR FAANG AND stocks since:2017-08-28 until:2017-08-29']\n"
     ]
    },
    {
     "name": "stdout",
     "output_type": "stream",
     "text": [
      "667\n",
      "2017-08-25\n",
      "120\n"
     ]
    },
    {
     "name": "stderr",
     "output_type": "stream",
     "text": [
      "INFO: Got 119 tweets (119 new).\n",
      "INFO: queries: ['FB OR AMZN OR AAPL OR NFLX OR GOOG OR FAANG AND stocks since:2017-08-29 until:2017-08-30']\n"
     ]
    },
    {
     "name": "stdout",
     "output_type": "stream",
     "text": [
      "668\n",
      "2017-08-28\n",
      "119\n"
     ]
    },
    {
     "name": "stderr",
     "output_type": "stream",
     "text": [
      "INFO: Got 115 tweets (115 new).\n",
      "INFO: queries: ['FB OR AMZN OR AAPL OR NFLX OR GOOG OR FAANG AND stocks since:2017-08-30 until:2017-08-31']\n"
     ]
    },
    {
     "name": "stdout",
     "output_type": "stream",
     "text": [
      "669\n",
      "2017-08-29\n",
      "115\n"
     ]
    },
    {
     "name": "stderr",
     "output_type": "stream",
     "text": [
      "INFO: Got 116 tweets (116 new).\n",
      "INFO: queries: ['FB OR AMZN OR AAPL OR NFLX OR GOOG OR FAANG AND stocks since:2017-08-31 until:2017-09-01']\n"
     ]
    },
    {
     "name": "stdout",
     "output_type": "stream",
     "text": [
      "670\n",
      "2017-08-30\n",
      "116\n"
     ]
    },
    {
     "name": "stderr",
     "output_type": "stream",
     "text": [
      "INFO: Got 116 tweets (116 new).\n",
      "INFO: queries: ['FB OR AMZN OR AAPL OR NFLX OR GOOG OR FAANG AND stocks since:2017-09-01 until:2017-09-02']\n"
     ]
    },
    {
     "name": "stdout",
     "output_type": "stream",
     "text": [
      "671\n",
      "2017-08-31\n",
      "116\n"
     ]
    },
    {
     "name": "stderr",
     "output_type": "stream",
     "text": [
      "INFO: Got 117 tweets (117 new).\n",
      "INFO: queries: ['FB OR AMZN OR AAPL OR NFLX OR GOOG OR FAANG AND stocks since:2017-09-05 until:2017-09-06']\n"
     ]
    },
    {
     "name": "stdout",
     "output_type": "stream",
     "text": [
      "672\n",
      "2017-09-01\n",
      "117\n"
     ]
    },
    {
     "name": "stderr",
     "output_type": "stream",
     "text": [
      "INFO: Got 117 tweets (117 new).\n",
      "INFO: queries: ['FB OR AMZN OR AAPL OR NFLX OR GOOG OR FAANG AND stocks since:2017-09-06 until:2017-09-07']\n"
     ]
    },
    {
     "name": "stdout",
     "output_type": "stream",
     "text": [
      "673\n",
      "2017-09-05\n",
      "117\n"
     ]
    },
    {
     "name": "stderr",
     "output_type": "stream",
     "text": [
      "INFO: Got 118 tweets (118 new).\n",
      "INFO: queries: ['FB OR AMZN OR AAPL OR NFLX OR GOOG OR FAANG AND stocks since:2017-09-07 until:2017-09-08']\n"
     ]
    },
    {
     "name": "stdout",
     "output_type": "stream",
     "text": [
      "674\n",
      "2017-09-06\n",
      "118\n"
     ]
    },
    {
     "name": "stderr",
     "output_type": "stream",
     "text": [
      "INFO: Got 116 tweets (116 new).\n",
      "INFO: queries: ['FB OR AMZN OR AAPL OR NFLX OR GOOG OR FAANG AND stocks since:2017-09-08 until:2017-09-09']\n"
     ]
    },
    {
     "name": "stdout",
     "output_type": "stream",
     "text": [
      "675\n",
      "2017-09-07\n",
      "116\n"
     ]
    },
    {
     "name": "stderr",
     "output_type": "stream",
     "text": [
      "INFO: Got 118 tweets (118 new).\n",
      "INFO: queries: ['FB OR AMZN OR AAPL OR NFLX OR GOOG OR FAANG AND stocks since:2017-09-11 until:2017-09-12']\n"
     ]
    },
    {
     "name": "stdout",
     "output_type": "stream",
     "text": [
      "676\n",
      "2017-09-08\n",
      "118\n"
     ]
    },
    {
     "name": "stderr",
     "output_type": "stream",
     "text": [
      "INFO: Got 111 tweets (111 new).\n",
      "INFO: queries: ['FB OR AMZN OR AAPL OR NFLX OR GOOG OR FAANG AND stocks since:2017-09-12 until:2017-09-13']\n"
     ]
    },
    {
     "name": "stdout",
     "output_type": "stream",
     "text": [
      "677\n",
      "2017-09-11\n",
      "111\n"
     ]
    },
    {
     "name": "stderr",
     "output_type": "stream",
     "text": [
      "INFO: Got 111 tweets (111 new).\n",
      "INFO: queries: ['FB OR AMZN OR AAPL OR NFLX OR GOOG OR FAANG AND stocks since:2017-09-13 until:2017-09-14']\n"
     ]
    },
    {
     "name": "stdout",
     "output_type": "stream",
     "text": [
      "678\n",
      "2017-09-12\n",
      "111\n"
     ]
    },
    {
     "name": "stderr",
     "output_type": "stream",
     "text": [
      "INFO: Got 103 tweets (103 new).\n",
      "INFO: queries: ['FB OR AMZN OR AAPL OR NFLX OR GOOG OR FAANG AND stocks since:2017-09-14 until:2017-09-15']\n"
     ]
    },
    {
     "name": "stdout",
     "output_type": "stream",
     "text": [
      "679\n",
      "2017-09-13\n",
      "103\n"
     ]
    },
    {
     "name": "stderr",
     "output_type": "stream",
     "text": [
      "INFO: Got 115 tweets (115 new).\n",
      "INFO: queries: ['FB OR AMZN OR AAPL OR NFLX OR GOOG OR FAANG AND stocks since:2017-09-15 until:2017-09-16']\n"
     ]
    },
    {
     "name": "stdout",
     "output_type": "stream",
     "text": [
      "680\n",
      "2017-09-14\n",
      "115\n"
     ]
    },
    {
     "name": "stderr",
     "output_type": "stream",
     "text": [
      "INFO: Got 112 tweets (112 new).\n",
      "INFO: queries: ['FB OR AMZN OR AAPL OR NFLX OR GOOG OR FAANG AND stocks since:2017-09-18 until:2017-09-19']\n"
     ]
    },
    {
     "name": "stdout",
     "output_type": "stream",
     "text": [
      "681\n",
      "2017-09-15\n",
      "112\n"
     ]
    },
    {
     "name": "stderr",
     "output_type": "stream",
     "text": [
      "INFO: Got 114 tweets (114 new).\n",
      "INFO: queries: ['FB OR AMZN OR AAPL OR NFLX OR GOOG OR FAANG AND stocks since:2017-09-19 until:2017-09-20']\n"
     ]
    },
    {
     "name": "stdout",
     "output_type": "stream",
     "text": [
      "682\n",
      "2017-09-18\n",
      "114\n"
     ]
    },
    {
     "name": "stderr",
     "output_type": "stream",
     "text": [
      "INFO: Got 112 tweets (112 new).\n",
      "INFO: queries: ['FB OR AMZN OR AAPL OR NFLX OR GOOG OR FAANG AND stocks since:2017-09-20 until:2017-09-21']\n"
     ]
    },
    {
     "name": "stdout",
     "output_type": "stream",
     "text": [
      "683\n",
      "2017-09-19\n",
      "112\n"
     ]
    },
    {
     "name": "stderr",
     "output_type": "stream",
     "text": [
      "INFO: Got 114 tweets (114 new).\n",
      "INFO: queries: ['FB OR AMZN OR AAPL OR NFLX OR GOOG OR FAANG AND stocks since:2017-09-21 until:2017-09-22']\n"
     ]
    },
    {
     "name": "stdout",
     "output_type": "stream",
     "text": [
      "684\n",
      "2017-09-20\n",
      "114\n"
     ]
    },
    {
     "name": "stderr",
     "output_type": "stream",
     "text": [
      "INFO: Got 113 tweets (113 new).\n",
      "INFO: queries: ['FB OR AMZN OR AAPL OR NFLX OR GOOG OR FAANG AND stocks since:2017-09-22 until:2017-09-23']\n"
     ]
    },
    {
     "name": "stdout",
     "output_type": "stream",
     "text": [
      "685\n",
      "2017-09-21\n",
      "113\n"
     ]
    },
    {
     "name": "stderr",
     "output_type": "stream",
     "text": [
      "INFO: Got 106 tweets (106 new).\n",
      "INFO: queries: ['FB OR AMZN OR AAPL OR NFLX OR GOOG OR FAANG AND stocks since:2017-09-25 until:2017-09-26']\n"
     ]
    },
    {
     "name": "stdout",
     "output_type": "stream",
     "text": [
      "686\n",
      "2017-09-22\n",
      "106\n"
     ]
    },
    {
     "name": "stderr",
     "output_type": "stream",
     "text": [
      "INFO: Got 111 tweets (111 new).\n",
      "INFO: queries: ['FB OR AMZN OR AAPL OR NFLX OR GOOG OR FAANG AND stocks since:2017-09-26 until:2017-09-27']\n"
     ]
    },
    {
     "name": "stdout",
     "output_type": "stream",
     "text": [
      "687\n",
      "2017-09-25\n",
      "111\n"
     ]
    },
    {
     "name": "stderr",
     "output_type": "stream",
     "text": [
      "INFO: Got 103 tweets (103 new).\n",
      "INFO: queries: ['FB OR AMZN OR AAPL OR NFLX OR GOOG OR FAANG AND stocks since:2017-09-27 until:2017-09-28']\n"
     ]
    },
    {
     "name": "stdout",
     "output_type": "stream",
     "text": [
      "688\n",
      "2017-09-26\n",
      "103\n"
     ]
    },
    {
     "name": "stderr",
     "output_type": "stream",
     "text": [
      "INFO: Got 106 tweets (106 new).\n",
      "INFO: queries: ['FB OR AMZN OR AAPL OR NFLX OR GOOG OR FAANG AND stocks since:2017-09-28 until:2017-09-29']\n"
     ]
    },
    {
     "name": "stdout",
     "output_type": "stream",
     "text": [
      "689\n",
      "2017-09-27\n",
      "106\n"
     ]
    },
    {
     "name": "stderr",
     "output_type": "stream",
     "text": [
      "INFO: Got 107 tweets (107 new).\n",
      "INFO: queries: ['FB OR AMZN OR AAPL OR NFLX OR GOOG OR FAANG AND stocks since:2017-09-29 until:2017-09-30']\n"
     ]
    },
    {
     "name": "stdout",
     "output_type": "stream",
     "text": [
      "690\n",
      "2017-09-28\n",
      "107\n"
     ]
    },
    {
     "name": "stderr",
     "output_type": "stream",
     "text": [
      "INFO: Got 111 tweets (111 new).\n",
      "INFO: queries: ['FB OR AMZN OR AAPL OR NFLX OR GOOG OR FAANG AND stocks since:2017-10-02 until:2017-10-03']\n"
     ]
    },
    {
     "name": "stdout",
     "output_type": "stream",
     "text": [
      "691\n",
      "2017-09-29\n",
      "111\n"
     ]
    },
    {
     "name": "stderr",
     "output_type": "stream",
     "text": [
      "INFO: Got 112 tweets (112 new).\n",
      "INFO: queries: ['FB OR AMZN OR AAPL OR NFLX OR GOOG OR FAANG AND stocks since:2017-10-03 until:2017-10-04']\n"
     ]
    },
    {
     "name": "stdout",
     "output_type": "stream",
     "text": [
      "692\n",
      "2017-10-02\n",
      "112\n"
     ]
    },
    {
     "name": "stderr",
     "output_type": "stream",
     "text": [
      "INFO: Got 116 tweets (116 new).\n",
      "INFO: queries: ['FB OR AMZN OR AAPL OR NFLX OR GOOG OR FAANG AND stocks since:2017-10-04 until:2017-10-05']\n"
     ]
    },
    {
     "name": "stdout",
     "output_type": "stream",
     "text": [
      "693\n",
      "2017-10-03\n",
      "116\n"
     ]
    },
    {
     "name": "stderr",
     "output_type": "stream",
     "text": [
      "INFO: Got 117 tweets (117 new).\n",
      "INFO: queries: ['FB OR AMZN OR AAPL OR NFLX OR GOOG OR FAANG AND stocks since:2017-10-05 until:2017-10-06']\n"
     ]
    },
    {
     "name": "stdout",
     "output_type": "stream",
     "text": [
      "694\n",
      "2017-10-04\n",
      "117\n"
     ]
    },
    {
     "name": "stderr",
     "output_type": "stream",
     "text": [
      "INFO: Got 112 tweets (112 new).\n",
      "INFO: queries: ['FB OR AMZN OR AAPL OR NFLX OR GOOG OR FAANG AND stocks since:2017-10-06 until:2017-10-07']\n"
     ]
    },
    {
     "name": "stdout",
     "output_type": "stream",
     "text": [
      "695\n",
      "2017-10-05\n",
      "112\n"
     ]
    },
    {
     "name": "stderr",
     "output_type": "stream",
     "text": [
      "INFO: Got 119 tweets (119 new).\n",
      "INFO: queries: ['FB OR AMZN OR AAPL OR NFLX OR GOOG OR FAANG AND stocks since:2017-10-09 until:2017-10-10']\n"
     ]
    },
    {
     "name": "stdout",
     "output_type": "stream",
     "text": [
      "696\n",
      "2017-10-06\n",
      "119\n"
     ]
    },
    {
     "name": "stderr",
     "output_type": "stream",
     "text": [
      "INFO: Got 114 tweets (114 new).\n",
      "INFO: queries: ['FB OR AMZN OR AAPL OR NFLX OR GOOG OR FAANG AND stocks since:2017-10-10 until:2017-10-11']\n"
     ]
    },
    {
     "name": "stdout",
     "output_type": "stream",
     "text": [
      "697\n",
      "2017-10-09\n",
      "114\n"
     ]
    },
    {
     "name": "stderr",
     "output_type": "stream",
     "text": [
      "INFO: Got 116 tweets (116 new).\n",
      "INFO: queries: ['FB OR AMZN OR AAPL OR NFLX OR GOOG OR FAANG AND stocks since:2017-10-11 until:2017-10-12']\n"
     ]
    },
    {
     "name": "stdout",
     "output_type": "stream",
     "text": [
      "698\n",
      "2017-10-10\n",
      "116\n"
     ]
    },
    {
     "name": "stderr",
     "output_type": "stream",
     "text": [
      "INFO: Got 118 tweets (118 new).\n",
      "INFO: queries: ['FB OR AMZN OR AAPL OR NFLX OR GOOG OR FAANG AND stocks since:2017-10-12 until:2017-10-13']\n"
     ]
    },
    {
     "name": "stdout",
     "output_type": "stream",
     "text": [
      "699\n",
      "2017-10-11\n",
      "118\n"
     ]
    },
    {
     "name": "stderr",
     "output_type": "stream",
     "text": [
      "INFO: Got 118 tweets (118 new).\n",
      "INFO: queries: ['FB OR AMZN OR AAPL OR NFLX OR GOOG OR FAANG AND stocks since:2017-10-13 until:2017-10-14']\n"
     ]
    },
    {
     "name": "stdout",
     "output_type": "stream",
     "text": [
      "700\n",
      "2017-10-12\n",
      "118\n"
     ]
    },
    {
     "name": "stderr",
     "output_type": "stream",
     "text": [
      "INFO: Got 112 tweets (112 new).\n",
      "INFO: queries: ['FB OR AMZN OR AAPL OR NFLX OR GOOG OR FAANG AND stocks since:2017-10-16 until:2017-10-17']\n"
     ]
    },
    {
     "name": "stdout",
     "output_type": "stream",
     "text": [
      "701\n",
      "2017-10-13\n",
      "112\n"
     ]
    },
    {
     "name": "stderr",
     "output_type": "stream",
     "text": [
      "INFO: Got 117 tweets (117 new).\n",
      "INFO: queries: ['FB OR AMZN OR AAPL OR NFLX OR GOOG OR FAANG AND stocks since:2017-10-17 until:2017-10-18']\n"
     ]
    },
    {
     "name": "stdout",
     "output_type": "stream",
     "text": [
      "702\n",
      "2017-10-16\n",
      "117\n"
     ]
    },
    {
     "name": "stderr",
     "output_type": "stream",
     "text": [
      "INFO: Got 118 tweets (118 new).\n",
      "INFO: queries: ['FB OR AMZN OR AAPL OR NFLX OR GOOG OR FAANG AND stocks since:2017-10-18 until:2017-10-19']\n"
     ]
    },
    {
     "name": "stdout",
     "output_type": "stream",
     "text": [
      "703\n",
      "2017-10-17\n",
      "118\n"
     ]
    },
    {
     "name": "stderr",
     "output_type": "stream",
     "text": [
      "INFO: Got 116 tweets (116 new).\n",
      "INFO: queries: ['FB OR AMZN OR AAPL OR NFLX OR GOOG OR FAANG AND stocks since:2017-10-19 until:2017-10-20']\n"
     ]
    },
    {
     "name": "stdout",
     "output_type": "stream",
     "text": [
      "704\n",
      "2017-10-18\n",
      "116\n"
     ]
    },
    {
     "name": "stderr",
     "output_type": "stream",
     "text": [
      "INFO: Got 120 tweets (120 new).\n",
      "INFO: queries: ['FB OR AMZN OR AAPL OR NFLX OR GOOG OR FAANG AND stocks since:2017-10-20 until:2017-10-21']\n"
     ]
    },
    {
     "name": "stdout",
     "output_type": "stream",
     "text": [
      "705\n",
      "2017-10-19\n",
      "120\n"
     ]
    },
    {
     "name": "stderr",
     "output_type": "stream",
     "text": [
      "INFO: Got 118 tweets (118 new).\n",
      "INFO: queries: ['FB OR AMZN OR AAPL OR NFLX OR GOOG OR FAANG AND stocks since:2017-10-23 until:2017-10-24']\n"
     ]
    },
    {
     "name": "stdout",
     "output_type": "stream",
     "text": [
      "706\n",
      "2017-10-20\n",
      "118\n"
     ]
    },
    {
     "name": "stderr",
     "output_type": "stream",
     "text": [
      "INFO: Got 119 tweets (119 new).\n",
      "INFO: queries: ['FB OR AMZN OR AAPL OR NFLX OR GOOG OR FAANG AND stocks since:2017-10-24 until:2017-10-25']\n"
     ]
    },
    {
     "name": "stdout",
     "output_type": "stream",
     "text": [
      "707\n",
      "2017-10-23\n",
      "119\n"
     ]
    },
    {
     "name": "stderr",
     "output_type": "stream",
     "text": [
      "INFO: Got 118 tweets (118 new).\n",
      "INFO: queries: ['FB OR AMZN OR AAPL OR NFLX OR GOOG OR FAANG AND stocks since:2017-10-25 until:2017-10-26']\n"
     ]
    },
    {
     "name": "stdout",
     "output_type": "stream",
     "text": [
      "708\n",
      "2017-10-24\n",
      "118\n"
     ]
    },
    {
     "name": "stderr",
     "output_type": "stream",
     "text": [
      "INFO: Got 116 tweets (116 new).\n",
      "INFO: queries: ['FB OR AMZN OR AAPL OR NFLX OR GOOG OR FAANG AND stocks since:2017-10-26 until:2017-10-27']\n"
     ]
    },
    {
     "name": "stdout",
     "output_type": "stream",
     "text": [
      "709\n",
      "2017-10-25\n",
      "116\n"
     ]
    },
    {
     "name": "stderr",
     "output_type": "stream",
     "text": [
      "INFO: Got 118 tweets (118 new).\n",
      "INFO: queries: ['FB OR AMZN OR AAPL OR NFLX OR GOOG OR FAANG AND stocks since:2017-10-27 until:2017-10-28']\n"
     ]
    },
    {
     "name": "stdout",
     "output_type": "stream",
     "text": [
      "710\n",
      "2017-10-26\n",
      "118\n"
     ]
    },
    {
     "name": "stderr",
     "output_type": "stream",
     "text": [
      "INFO: Got 118 tweets (118 new).\n",
      "INFO: queries: ['FB OR AMZN OR AAPL OR NFLX OR GOOG OR FAANG AND stocks since:2017-10-30 until:2017-10-31']\n"
     ]
    },
    {
     "name": "stdout",
     "output_type": "stream",
     "text": [
      "711\n",
      "2017-10-27\n",
      "118\n"
     ]
    },
    {
     "name": "stderr",
     "output_type": "stream",
     "text": [
      "INFO: Got 108 tweets (108 new).\n",
      "INFO: queries: ['FB OR AMZN OR AAPL OR NFLX OR GOOG OR FAANG AND stocks since:2017-10-31 until:2017-11-01']\n"
     ]
    },
    {
     "name": "stdout",
     "output_type": "stream",
     "text": [
      "712\n",
      "2017-10-30\n",
      "108\n"
     ]
    },
    {
     "name": "stderr",
     "output_type": "stream",
     "text": [
      "INFO: Got 119 tweets (119 new).\n",
      "INFO: queries: ['FB OR AMZN OR AAPL OR NFLX OR GOOG OR FAANG AND stocks since:2017-11-01 until:2017-11-02']\n"
     ]
    },
    {
     "name": "stdout",
     "output_type": "stream",
     "text": [
      "713\n",
      "2017-10-31\n",
      "119\n"
     ]
    },
    {
     "name": "stderr",
     "output_type": "stream",
     "text": [
      "INFO: Got 101 tweets (101 new).\n",
      "INFO: queries: ['FB OR AMZN OR AAPL OR NFLX OR GOOG OR FAANG AND stocks since:2017-11-02 until:2017-11-03']\n"
     ]
    },
    {
     "name": "stdout",
     "output_type": "stream",
     "text": [
      "714\n",
      "2017-11-01\n",
      "101\n"
     ]
    },
    {
     "name": "stderr",
     "output_type": "stream",
     "text": [
      "INFO: Got 118 tweets (118 new).\n",
      "INFO: queries: ['FB OR AMZN OR AAPL OR NFLX OR GOOG OR FAANG AND stocks since:2017-11-03 until:2017-11-04']\n"
     ]
    },
    {
     "name": "stdout",
     "output_type": "stream",
     "text": [
      "715\n",
      "2017-11-02\n",
      "118\n"
     ]
    },
    {
     "name": "stderr",
     "output_type": "stream",
     "text": [
      "INFO: Got 117 tweets (117 new).\n",
      "INFO: queries: ['FB OR AMZN OR AAPL OR NFLX OR GOOG OR FAANG AND stocks since:2017-11-06 until:2017-11-07']\n"
     ]
    },
    {
     "name": "stdout",
     "output_type": "stream",
     "text": [
      "716\n",
      "2017-11-03\n",
      "117\n"
     ]
    },
    {
     "name": "stderr",
     "output_type": "stream",
     "text": [
      "INFO: Got 120 tweets (120 new).\n",
      "INFO: queries: ['FB OR AMZN OR AAPL OR NFLX OR GOOG OR FAANG AND stocks since:2017-11-07 until:2017-11-08']\n"
     ]
    },
    {
     "name": "stdout",
     "output_type": "stream",
     "text": [
      "717\n",
      "2017-11-06\n",
      "120\n"
     ]
    },
    {
     "name": "stderr",
     "output_type": "stream",
     "text": [
      "INFO: Got 119 tweets (119 new).\n",
      "INFO: queries: ['FB OR AMZN OR AAPL OR NFLX OR GOOG OR FAANG AND stocks since:2017-11-08 until:2017-11-09']\n"
     ]
    },
    {
     "name": "stdout",
     "output_type": "stream",
     "text": [
      "718\n",
      "2017-11-07\n",
      "119\n"
     ]
    },
    {
     "name": "stderr",
     "output_type": "stream",
     "text": [
      "INFO: Got 120 tweets (120 new).\n",
      "INFO: queries: ['FB OR AMZN OR AAPL OR NFLX OR GOOG OR FAANG AND stocks since:2017-11-09 until:2017-11-10']\n"
     ]
    },
    {
     "name": "stdout",
     "output_type": "stream",
     "text": [
      "719\n",
      "2017-11-08\n",
      "120\n"
     ]
    },
    {
     "name": "stderr",
     "output_type": "stream",
     "text": [
      "INFO: Got 114 tweets (114 new).\n",
      "INFO: queries: ['FB OR AMZN OR AAPL OR NFLX OR GOOG OR FAANG AND stocks since:2017-11-10 until:2017-11-11']\n"
     ]
    },
    {
     "name": "stdout",
     "output_type": "stream",
     "text": [
      "720\n",
      "2017-11-09\n",
      "114\n"
     ]
    },
    {
     "name": "stderr",
     "output_type": "stream",
     "text": [
      "INFO: Got 118 tweets (118 new).\n",
      "INFO: queries: ['FB OR AMZN OR AAPL OR NFLX OR GOOG OR FAANG AND stocks since:2017-11-13 until:2017-11-14']\n"
     ]
    },
    {
     "name": "stdout",
     "output_type": "stream",
     "text": [
      "721\n",
      "2017-11-10\n",
      "118\n"
     ]
    },
    {
     "name": "stderr",
     "output_type": "stream",
     "text": [
      "INFO: Got 116 tweets (116 new).\n",
      "INFO: queries: ['FB OR AMZN OR AAPL OR NFLX OR GOOG OR FAANG AND stocks since:2017-11-14 until:2017-11-15']\n"
     ]
    },
    {
     "name": "stdout",
     "output_type": "stream",
     "text": [
      "722\n",
      "2017-11-13\n",
      "116\n"
     ]
    },
    {
     "name": "stderr",
     "output_type": "stream",
     "text": [
      "INFO: Got 118 tweets (118 new).\n",
      "INFO: queries: ['FB OR AMZN OR AAPL OR NFLX OR GOOG OR FAANG AND stocks since:2017-11-15 until:2017-11-16']\n"
     ]
    },
    {
     "name": "stdout",
     "output_type": "stream",
     "text": [
      "723\n",
      "2017-11-14\n",
      "118\n"
     ]
    },
    {
     "name": "stderr",
     "output_type": "stream",
     "text": [
      "INFO: Got 119 tweets (119 new).\n",
      "INFO: queries: ['FB OR AMZN OR AAPL OR NFLX OR GOOG OR FAANG AND stocks since:2017-11-16 until:2017-11-17']\n"
     ]
    },
    {
     "name": "stdout",
     "output_type": "stream",
     "text": [
      "724\n",
      "2017-11-15\n",
      "119\n"
     ]
    },
    {
     "name": "stderr",
     "output_type": "stream",
     "text": [
      "INFO: Got 117 tweets (117 new).\n",
      "INFO: queries: ['FB OR AMZN OR AAPL OR NFLX OR GOOG OR FAANG AND stocks since:2017-11-17 until:2017-11-18']\n"
     ]
    },
    {
     "name": "stdout",
     "output_type": "stream",
     "text": [
      "725\n",
      "2017-11-16\n",
      "117\n"
     ]
    },
    {
     "name": "stderr",
     "output_type": "stream",
     "text": [
      "INFO: Got 113 tweets (113 new).\n",
      "INFO: queries: ['FB OR AMZN OR AAPL OR NFLX OR GOOG OR FAANG AND stocks since:2017-11-20 until:2017-11-21']\n"
     ]
    },
    {
     "name": "stdout",
     "output_type": "stream",
     "text": [
      "726\n",
      "2017-11-17\n",
      "113\n"
     ]
    },
    {
     "name": "stderr",
     "output_type": "stream",
     "text": [
      "INFO: Got 118 tweets (118 new).\n",
      "INFO: queries: ['FB OR AMZN OR AAPL OR NFLX OR GOOG OR FAANG AND stocks since:2017-11-21 until:2017-11-22']\n"
     ]
    },
    {
     "name": "stdout",
     "output_type": "stream",
     "text": [
      "727\n",
      "2017-11-20\n",
      "118\n"
     ]
    },
    {
     "name": "stderr",
     "output_type": "stream",
     "text": [
      "INFO: Got 117 tweets (117 new).\n",
      "INFO: queries: ['FB OR AMZN OR AAPL OR NFLX OR GOOG OR FAANG AND stocks since:2017-11-22 until:2017-11-23']\n"
     ]
    },
    {
     "name": "stdout",
     "output_type": "stream",
     "text": [
      "728\n",
      "2017-11-21\n",
      "117\n"
     ]
    },
    {
     "name": "stderr",
     "output_type": "stream",
     "text": [
      "INFO: Got 110 tweets (110 new).\n",
      "INFO: queries: ['FB OR AMZN OR AAPL OR NFLX OR GOOG OR FAANG AND stocks since:2017-11-24 until:2017-11-25']\n"
     ]
    },
    {
     "name": "stdout",
     "output_type": "stream",
     "text": [
      "729\n",
      "2017-11-22\n",
      "110\n"
     ]
    },
    {
     "name": "stderr",
     "output_type": "stream",
     "text": [
      "INFO: Got 116 tweets (116 new).\n",
      "INFO: queries: ['FB OR AMZN OR AAPL OR NFLX OR GOOG OR FAANG AND stocks since:2017-11-27 until:2017-11-28']\n"
     ]
    },
    {
     "name": "stdout",
     "output_type": "stream",
     "text": [
      "730\n",
      "2017-11-24\n",
      "116\n"
     ]
    },
    {
     "name": "stderr",
     "output_type": "stream",
     "text": [
      "INFO: Got 115 tweets (115 new).\n",
      "INFO: queries: ['FB OR AMZN OR AAPL OR NFLX OR GOOG OR FAANG AND stocks since:2017-11-28 until:2017-11-29']\n"
     ]
    },
    {
     "name": "stdout",
     "output_type": "stream",
     "text": [
      "731\n",
      "2017-11-27\n",
      "115\n"
     ]
    },
    {
     "name": "stderr",
     "output_type": "stream",
     "text": [
      "INFO: Got 109 tweets (109 new).\n",
      "INFO: queries: ['FB OR AMZN OR AAPL OR NFLX OR GOOG OR FAANG AND stocks since:2017-11-29 until:2017-11-30']\n"
     ]
    },
    {
     "name": "stdout",
     "output_type": "stream",
     "text": [
      "732\n",
      "2017-11-28\n",
      "109\n"
     ]
    },
    {
     "name": "stderr",
     "output_type": "stream",
     "text": [
      "INFO: Got 112 tweets (112 new).\n",
      "INFO: queries: ['FB OR AMZN OR AAPL OR NFLX OR GOOG OR FAANG AND stocks since:2017-11-30 until:2017-12-01']\n"
     ]
    },
    {
     "name": "stdout",
     "output_type": "stream",
     "text": [
      "733\n",
      "2017-11-29\n",
      "112\n"
     ]
    },
    {
     "name": "stderr",
     "output_type": "stream",
     "text": [
      "INFO: Got 116 tweets (116 new).\n",
      "INFO: queries: ['FB OR AMZN OR AAPL OR NFLX OR GOOG OR FAANG AND stocks since:2017-12-01 until:2017-12-02']\n"
     ]
    },
    {
     "name": "stdout",
     "output_type": "stream",
     "text": [
      "734\n",
      "2017-11-30\n",
      "116\n"
     ]
    },
    {
     "name": "stderr",
     "output_type": "stream",
     "text": [
      "INFO: Got 119 tweets (119 new).\n",
      "INFO: queries: ['FB OR AMZN OR AAPL OR NFLX OR GOOG OR FAANG AND stocks since:2017-12-04 until:2017-12-05']\n"
     ]
    },
    {
     "name": "stdout",
     "output_type": "stream",
     "text": [
      "735\n",
      "2017-12-01\n",
      "119\n"
     ]
    },
    {
     "name": "stderr",
     "output_type": "stream",
     "text": [
      "INFO: Got 119 tweets (119 new).\n",
      "INFO: queries: ['FB OR AMZN OR AAPL OR NFLX OR GOOG OR FAANG AND stocks since:2017-12-05 until:2017-12-06']\n"
     ]
    },
    {
     "name": "stdout",
     "output_type": "stream",
     "text": [
      "736\n",
      "2017-12-04\n",
      "119\n"
     ]
    },
    {
     "name": "stderr",
     "output_type": "stream",
     "text": [
      "INFO: Got 120 tweets (120 new).\n",
      "INFO: queries: ['FB OR AMZN OR AAPL OR NFLX OR GOOG OR FAANG AND stocks since:2017-12-06 until:2017-12-07']\n"
     ]
    },
    {
     "name": "stdout",
     "output_type": "stream",
     "text": [
      "737\n",
      "2017-12-05\n",
      "120\n"
     ]
    },
    {
     "name": "stderr",
     "output_type": "stream",
     "text": [
      "INFO: Got 119 tweets (119 new).\n",
      "INFO: queries: ['FB OR AMZN OR AAPL OR NFLX OR GOOG OR FAANG AND stocks since:2017-12-07 until:2017-12-08']\n"
     ]
    },
    {
     "name": "stdout",
     "output_type": "stream",
     "text": [
      "738\n",
      "2017-12-06\n",
      "119\n"
     ]
    },
    {
     "name": "stderr",
     "output_type": "stream",
     "text": [
      "INFO: Got 120 tweets (120 new).\n",
      "INFO: queries: ['FB OR AMZN OR AAPL OR NFLX OR GOOG OR FAANG AND stocks since:2017-12-08 until:2017-12-09']\n"
     ]
    },
    {
     "name": "stdout",
     "output_type": "stream",
     "text": [
      "739\n",
      "2017-12-07\n",
      "120\n"
     ]
    },
    {
     "name": "stderr",
     "output_type": "stream",
     "text": [
      "INFO: Got 115 tweets (115 new).\n",
      "INFO: queries: ['FB OR AMZN OR AAPL OR NFLX OR GOOG OR FAANG AND stocks since:2017-12-11 until:2017-12-12']\n"
     ]
    },
    {
     "name": "stdout",
     "output_type": "stream",
     "text": [
      "740\n",
      "2017-12-08\n",
      "115\n"
     ]
    },
    {
     "name": "stderr",
     "output_type": "stream",
     "text": [
      "INFO: Got 119 tweets (119 new).\n",
      "INFO: queries: ['FB OR AMZN OR AAPL OR NFLX OR GOOG OR FAANG AND stocks since:2017-12-12 until:2017-12-13']\n"
     ]
    },
    {
     "name": "stdout",
     "output_type": "stream",
     "text": [
      "741\n",
      "2017-12-11\n",
      "119\n"
     ]
    },
    {
     "name": "stderr",
     "output_type": "stream",
     "text": [
      "INFO: Got 119 tweets (119 new).\n",
      "INFO: queries: ['FB OR AMZN OR AAPL OR NFLX OR GOOG OR FAANG AND stocks since:2017-12-13 until:2017-12-14']\n"
     ]
    },
    {
     "name": "stdout",
     "output_type": "stream",
     "text": [
      "742\n",
      "2017-12-12\n",
      "119\n"
     ]
    },
    {
     "name": "stderr",
     "output_type": "stream",
     "text": [
      "INFO: Got 116 tweets (116 new).\n",
      "INFO: queries: ['FB OR AMZN OR AAPL OR NFLX OR GOOG OR FAANG AND stocks since:2017-12-14 until:2017-12-15']\n"
     ]
    },
    {
     "name": "stdout",
     "output_type": "stream",
     "text": [
      "743\n",
      "2017-12-13\n",
      "116\n"
     ]
    },
    {
     "name": "stderr",
     "output_type": "stream",
     "text": [
      "INFO: Got 120 tweets (120 new).\n",
      "INFO: queries: ['FB OR AMZN OR AAPL OR NFLX OR GOOG OR FAANG AND stocks since:2017-12-15 until:2017-12-16']\n"
     ]
    },
    {
     "name": "stdout",
     "output_type": "stream",
     "text": [
      "744\n",
      "2017-12-14\n",
      "120\n"
     ]
    },
    {
     "name": "stderr",
     "output_type": "stream",
     "text": [
      "INFO: Got 118 tweets (118 new).\n",
      "INFO: queries: ['FB OR AMZN OR AAPL OR NFLX OR GOOG OR FAANG AND stocks since:2017-12-18 until:2017-12-19']\n"
     ]
    },
    {
     "name": "stdout",
     "output_type": "stream",
     "text": [
      "745\n",
      "2017-12-15\n",
      "118\n"
     ]
    },
    {
     "name": "stderr",
     "output_type": "stream",
     "text": [
      "INFO: Got 119 tweets (119 new).\n",
      "INFO: queries: ['FB OR AMZN OR AAPL OR NFLX OR GOOG OR FAANG AND stocks since:2017-12-19 until:2017-12-20']\n"
     ]
    },
    {
     "name": "stdout",
     "output_type": "stream",
     "text": [
      "746\n",
      "2017-12-18\n",
      "119\n"
     ]
    },
    {
     "name": "stderr",
     "output_type": "stream",
     "text": [
      "INFO: Got 112 tweets (112 new).\n",
      "INFO: queries: ['FB OR AMZN OR AAPL OR NFLX OR GOOG OR FAANG AND stocks since:2017-12-20 until:2017-12-21']\n"
     ]
    },
    {
     "name": "stdout",
     "output_type": "stream",
     "text": [
      "747\n",
      "2017-12-19\n",
      "112\n"
     ]
    },
    {
     "name": "stderr",
     "output_type": "stream",
     "text": [
      "INFO: Got 112 tweets (112 new).\n",
      "INFO: queries: ['FB OR AMZN OR AAPL OR NFLX OR GOOG OR FAANG AND stocks since:2017-12-21 until:2017-12-22']\n"
     ]
    },
    {
     "name": "stdout",
     "output_type": "stream",
     "text": [
      "748\n",
      "2017-12-20\n",
      "112\n"
     ]
    },
    {
     "name": "stderr",
     "output_type": "stream",
     "text": [
      "INFO: Got 115 tweets (115 new).\n",
      "INFO: queries: ['FB OR AMZN OR AAPL OR NFLX OR GOOG OR FAANG AND stocks since:2017-12-22 until:2017-12-23']\n"
     ]
    },
    {
     "name": "stdout",
     "output_type": "stream",
     "text": [
      "749\n",
      "2017-12-21\n",
      "115\n"
     ]
    },
    {
     "name": "stderr",
     "output_type": "stream",
     "text": [
      "INFO: Got 115 tweets (115 new).\n",
      "INFO: queries: ['FB OR AMZN OR AAPL OR NFLX OR GOOG OR FAANG AND stocks since:2017-12-26 until:2017-12-27']\n"
     ]
    },
    {
     "name": "stdout",
     "output_type": "stream",
     "text": [
      "750\n",
      "2017-12-22\n",
      "115\n"
     ]
    },
    {
     "name": "stderr",
     "output_type": "stream",
     "text": [
      "INFO: Got 113 tweets (113 new).\n",
      "INFO: queries: ['FB OR AMZN OR AAPL OR NFLX OR GOOG OR FAANG AND stocks since:2017-12-27 until:2017-12-28']\n"
     ]
    },
    {
     "name": "stdout",
     "output_type": "stream",
     "text": [
      "751\n",
      "2017-12-26\n",
      "113\n"
     ]
    },
    {
     "name": "stderr",
     "output_type": "stream",
     "text": [
      "INFO: Got 113 tweets (113 new).\n",
      "INFO: queries: ['FB OR AMZN OR AAPL OR NFLX OR GOOG OR FAANG AND stocks since:2017-12-28 until:2017-12-29']\n"
     ]
    },
    {
     "name": "stdout",
     "output_type": "stream",
     "text": [
      "752\n",
      "2017-12-27\n",
      "113\n"
     ]
    },
    {
     "name": "stderr",
     "output_type": "stream",
     "text": [
      "INFO: Got 120 tweets (120 new).\n",
      "INFO: queries: ['FB OR AMZN OR AAPL OR NFLX OR GOOG OR FAANG AND stocks since:2017-12-29 until:2017-12-30']\n"
     ]
    },
    {
     "name": "stdout",
     "output_type": "stream",
     "text": [
      "753\n",
      "2017-12-28\n",
      "120\n"
     ]
    },
    {
     "name": "stderr",
     "output_type": "stream",
     "text": [
      "INFO: Got 112 tweets (112 new).\n",
      "INFO: queries: ['FB OR AMZN OR AAPL OR NFLX OR GOOG OR FAANG AND stocks since:2018-01-02 until:2018-01-03']\n"
     ]
    },
    {
     "name": "stdout",
     "output_type": "stream",
     "text": [
      "754\n",
      "2017-12-29\n",
      "112\n"
     ]
    },
    {
     "name": "stderr",
     "output_type": "stream",
     "text": [
      "INFO: Got 118 tweets (118 new).\n",
      "INFO: queries: ['FB OR AMZN OR AAPL OR NFLX OR GOOG OR FAANG AND stocks since:2018-01-03 until:2018-01-04']\n"
     ]
    },
    {
     "name": "stdout",
     "output_type": "stream",
     "text": [
      "755\n",
      "2018-01-02\n",
      "118\n"
     ]
    },
    {
     "name": "stderr",
     "output_type": "stream",
     "text": [
      "INFO: Got 117 tweets (117 new).\n",
      "INFO: queries: ['FB OR AMZN OR AAPL OR NFLX OR GOOG OR FAANG AND stocks since:2018-01-04 until:2018-01-05']\n"
     ]
    },
    {
     "name": "stdout",
     "output_type": "stream",
     "text": [
      "756\n",
      "2018-01-03\n",
      "117\n"
     ]
    },
    {
     "name": "stderr",
     "output_type": "stream",
     "text": [
      "INFO: Got 119 tweets (119 new).\n",
      "INFO: queries: ['FB OR AMZN OR AAPL OR NFLX OR GOOG OR FAANG AND stocks since:2018-01-05 until:2018-01-06']\n"
     ]
    },
    {
     "name": "stdout",
     "output_type": "stream",
     "text": [
      "757\n",
      "2018-01-04\n",
      "119\n"
     ]
    },
    {
     "name": "stderr",
     "output_type": "stream",
     "text": [
      "INFO: Got 111 tweets (111 new).\n",
      "INFO: queries: ['FB OR AMZN OR AAPL OR NFLX OR GOOG OR FAANG AND stocks since:2018-01-08 until:2018-01-09']\n"
     ]
    },
    {
     "name": "stdout",
     "output_type": "stream",
     "text": [
      "758\n",
      "2018-01-05\n",
      "111\n"
     ]
    },
    {
     "name": "stderr",
     "output_type": "stream",
     "text": [
      "INFO: Got 120 tweets (120 new).\n",
      "INFO: queries: ['FB OR AMZN OR AAPL OR NFLX OR GOOG OR FAANG AND stocks since:2018-01-09 until:2018-01-10']\n"
     ]
    },
    {
     "name": "stdout",
     "output_type": "stream",
     "text": [
      "759\n",
      "2018-01-08\n",
      "120\n"
     ]
    },
    {
     "name": "stderr",
     "output_type": "stream",
     "text": [
      "INFO: Got 116 tweets (116 new).\n",
      "INFO: queries: ['FB OR AMZN OR AAPL OR NFLX OR GOOG OR FAANG AND stocks since:2018-01-10 until:2018-01-11']\n"
     ]
    },
    {
     "name": "stdout",
     "output_type": "stream",
     "text": [
      "760\n",
      "2018-01-09\n",
      "116\n"
     ]
    },
    {
     "name": "stderr",
     "output_type": "stream",
     "text": [
      "INFO: Got 113 tweets (113 new).\n",
      "INFO: queries: ['FB OR AMZN OR AAPL OR NFLX OR GOOG OR FAANG AND stocks since:2018-01-11 until:2018-01-12']\n"
     ]
    },
    {
     "name": "stdout",
     "output_type": "stream",
     "text": [
      "761\n",
      "2018-01-10\n",
      "113\n"
     ]
    },
    {
     "name": "stderr",
     "output_type": "stream",
     "text": [
      "INFO: Got 118 tweets (118 new).\n",
      "INFO: queries: ['FB OR AMZN OR AAPL OR NFLX OR GOOG OR FAANG AND stocks since:2018-01-12 until:2018-01-13']\n"
     ]
    },
    {
     "name": "stdout",
     "output_type": "stream",
     "text": [
      "762\n",
      "2018-01-11\n",
      "118\n"
     ]
    },
    {
     "name": "stderr",
     "output_type": "stream",
     "text": [
      "INFO: Got 118 tweets (118 new).\n",
      "INFO: queries: ['FB OR AMZN OR AAPL OR NFLX OR GOOG OR FAANG AND stocks since:2018-01-16 until:2018-01-17']\n"
     ]
    },
    {
     "name": "stdout",
     "output_type": "stream",
     "text": [
      "763\n",
      "2018-01-12\n",
      "118\n"
     ]
    },
    {
     "name": "stderr",
     "output_type": "stream",
     "text": [
      "INFO: Got 106 tweets (106 new).\n",
      "INFO: queries: ['FB OR AMZN OR AAPL OR NFLX OR GOOG OR FAANG AND stocks since:2018-01-17 until:2018-01-18']\n"
     ]
    },
    {
     "name": "stdout",
     "output_type": "stream",
     "text": [
      "764\n",
      "2018-01-16\n",
      "106\n"
     ]
    },
    {
     "name": "stderr",
     "output_type": "stream",
     "text": [
      "INFO: Got 117 tweets (117 new).\n",
      "INFO: queries: ['FB OR AMZN OR AAPL OR NFLX OR GOOG OR FAANG AND stocks since:2018-01-18 until:2018-01-19']\n"
     ]
    },
    {
     "name": "stdout",
     "output_type": "stream",
     "text": [
      "765\n",
      "2018-01-17\n",
      "117\n"
     ]
    },
    {
     "name": "stderr",
     "output_type": "stream",
     "text": [
      "INFO: Got 112 tweets (112 new).\n",
      "INFO: queries: ['FB OR AMZN OR AAPL OR NFLX OR GOOG OR FAANG AND stocks since:2018-01-19 until:2018-01-20']\n"
     ]
    },
    {
     "name": "stdout",
     "output_type": "stream",
     "text": [
      "766\n",
      "2018-01-18\n",
      "112\n"
     ]
    },
    {
     "name": "stderr",
     "output_type": "stream",
     "text": [
      "INFO: Got 114 tweets (114 new).\n",
      "INFO: queries: ['FB OR AMZN OR AAPL OR NFLX OR GOOG OR FAANG AND stocks since:2018-01-22 until:2018-01-23']\n"
     ]
    },
    {
     "name": "stdout",
     "output_type": "stream",
     "text": [
      "767\n",
      "2018-01-19\n",
      "114\n"
     ]
    },
    {
     "name": "stderr",
     "output_type": "stream",
     "text": [
      "INFO: Got 119 tweets (119 new).\n",
      "INFO: queries: ['FB OR AMZN OR AAPL OR NFLX OR GOOG OR FAANG AND stocks since:2018-01-23 until:2018-01-24']\n"
     ]
    },
    {
     "name": "stdout",
     "output_type": "stream",
     "text": [
      "768\n",
      "2018-01-22\n",
      "119\n"
     ]
    },
    {
     "name": "stderr",
     "output_type": "stream",
     "text": [
      "INFO: Got 118 tweets (118 new).\n",
      "INFO: queries: ['FB OR AMZN OR AAPL OR NFLX OR GOOG OR FAANG AND stocks since:2018-01-24 until:2018-01-25']\n"
     ]
    },
    {
     "name": "stdout",
     "output_type": "stream",
     "text": [
      "769\n",
      "2018-01-23\n",
      "118\n"
     ]
    },
    {
     "name": "stderr",
     "output_type": "stream",
     "text": [
      "INFO: Got 119 tweets (119 new).\n",
      "INFO: queries: ['FB OR AMZN OR AAPL OR NFLX OR GOOG OR FAANG AND stocks since:2018-01-25 until:2018-01-26']\n"
     ]
    },
    {
     "name": "stdout",
     "output_type": "stream",
     "text": [
      "770\n",
      "2018-01-24\n",
      "119\n"
     ]
    },
    {
     "name": "stderr",
     "output_type": "stream",
     "text": [
      "INFO: Got 117 tweets (117 new).\n",
      "INFO: queries: ['FB OR AMZN OR AAPL OR NFLX OR GOOG OR FAANG AND stocks since:2018-01-26 until:2018-01-27']\n"
     ]
    },
    {
     "name": "stdout",
     "output_type": "stream",
     "text": [
      "771\n",
      "2018-01-25\n",
      "117\n"
     ]
    },
    {
     "name": "stderr",
     "output_type": "stream",
     "text": [
      "INFO: Got 113 tweets (113 new).\n",
      "INFO: queries: ['FB OR AMZN OR AAPL OR NFLX OR GOOG OR FAANG AND stocks since:2018-01-29 until:2018-01-30']\n"
     ]
    },
    {
     "name": "stdout",
     "output_type": "stream",
     "text": [
      "772\n",
      "2018-01-26\n",
      "113\n"
     ]
    },
    {
     "name": "stderr",
     "output_type": "stream",
     "text": [
      "INFO: Got 120 tweets (120 new).\n",
      "INFO: queries: ['FB OR AMZN OR AAPL OR NFLX OR GOOG OR FAANG AND stocks since:2018-01-30 until:2018-01-31']\n"
     ]
    },
    {
     "name": "stdout",
     "output_type": "stream",
     "text": [
      "773\n",
      "2018-01-29\n",
      "120\n"
     ]
    },
    {
     "name": "stderr",
     "output_type": "stream",
     "text": [
      "INFO: Got 118 tweets (118 new).\n",
      "INFO: queries: ['FB OR AMZN OR AAPL OR NFLX OR GOOG OR FAANG AND stocks since:2018-01-31 until:2018-02-01']\n"
     ]
    },
    {
     "name": "stdout",
     "output_type": "stream",
     "text": [
      "774\n",
      "2018-01-30\n",
      "118\n"
     ]
    },
    {
     "name": "stderr",
     "output_type": "stream",
     "text": [
      "INFO: Got 116 tweets (116 new).\n",
      "INFO: queries: ['FB OR AMZN OR AAPL OR NFLX OR GOOG OR FAANG AND stocks since:2018-02-01 until:2018-02-02']\n"
     ]
    },
    {
     "name": "stdout",
     "output_type": "stream",
     "text": [
      "775\n",
      "2018-01-31\n",
      "116\n"
     ]
    },
    {
     "name": "stderr",
     "output_type": "stream",
     "text": [
      "INFO: Got 113 tweets (113 new).\n",
      "INFO: queries: ['FB OR AMZN OR AAPL OR NFLX OR GOOG OR FAANG AND stocks since:2018-02-02 until:2018-02-03']\n"
     ]
    },
    {
     "name": "stdout",
     "output_type": "stream",
     "text": [
      "776\n",
      "2018-02-01\n",
      "113\n"
     ]
    },
    {
     "name": "stderr",
     "output_type": "stream",
     "text": [
      "INFO: Got 113 tweets (113 new).\n",
      "INFO: queries: ['FB OR AMZN OR AAPL OR NFLX OR GOOG OR FAANG AND stocks since:2018-02-05 until:2018-02-06']\n"
     ]
    },
    {
     "name": "stdout",
     "output_type": "stream",
     "text": [
      "777\n",
      "2018-02-02\n",
      "113\n"
     ]
    },
    {
     "name": "stderr",
     "output_type": "stream",
     "text": [
      "INFO: Got 114 tweets (114 new).\n",
      "INFO: queries: ['FB OR AMZN OR AAPL OR NFLX OR GOOG OR FAANG AND stocks since:2018-02-06 until:2018-02-07']\n"
     ]
    },
    {
     "name": "stdout",
     "output_type": "stream",
     "text": [
      "778\n",
      "2018-02-05\n",
      "114\n"
     ]
    },
    {
     "name": "stderr",
     "output_type": "stream",
     "text": [
      "INFO: Got 118 tweets (118 new).\n",
      "INFO: queries: ['FB OR AMZN OR AAPL OR NFLX OR GOOG OR FAANG AND stocks since:2018-02-07 until:2018-02-08']\n"
     ]
    },
    {
     "name": "stdout",
     "output_type": "stream",
     "text": [
      "779\n",
      "2018-02-06\n",
      "118\n"
     ]
    },
    {
     "name": "stderr",
     "output_type": "stream",
     "text": [
      "INFO: Got 119 tweets (119 new).\n",
      "INFO: queries: ['FB OR AMZN OR AAPL OR NFLX OR GOOG OR FAANG AND stocks since:2018-02-08 until:2018-02-09']\n"
     ]
    },
    {
     "name": "stdout",
     "output_type": "stream",
     "text": [
      "780\n",
      "2018-02-07\n",
      "119\n"
     ]
    },
    {
     "name": "stderr",
     "output_type": "stream",
     "text": [
      "INFO: Got 120 tweets (120 new).\n",
      "INFO: queries: ['FB OR AMZN OR AAPL OR NFLX OR GOOG OR FAANG AND stocks since:2018-02-09 until:2018-02-10']\n"
     ]
    },
    {
     "name": "stdout",
     "output_type": "stream",
     "text": [
      "781\n",
      "2018-02-08\n",
      "120\n"
     ]
    },
    {
     "name": "stderr",
     "output_type": "stream",
     "text": [
      "INFO: Got 116 tweets (116 new).\n",
      "INFO: queries: ['FB OR AMZN OR AAPL OR NFLX OR GOOG OR FAANG AND stocks since:2018-02-12 until:2018-02-13']\n"
     ]
    },
    {
     "name": "stdout",
     "output_type": "stream",
     "text": [
      "782\n",
      "2018-02-09\n",
      "116\n"
     ]
    },
    {
     "name": "stderr",
     "output_type": "stream",
     "text": [
      "INFO: Got 114 tweets (114 new).\n",
      "INFO: queries: ['FB OR AMZN OR AAPL OR NFLX OR GOOG OR FAANG AND stocks since:2018-02-13 until:2018-02-14']\n"
     ]
    },
    {
     "name": "stdout",
     "output_type": "stream",
     "text": [
      "783\n",
      "2018-02-12\n",
      "114\n"
     ]
    },
    {
     "name": "stderr",
     "output_type": "stream",
     "text": [
      "INFO: Got 116 tweets (116 new).\n",
      "INFO: queries: ['FB OR AMZN OR AAPL OR NFLX OR GOOG OR FAANG AND stocks since:2018-02-14 until:2018-02-15']\n"
     ]
    },
    {
     "name": "stdout",
     "output_type": "stream",
     "text": [
      "784\n",
      "2018-02-13\n",
      "116\n"
     ]
    },
    {
     "name": "stderr",
     "output_type": "stream",
     "text": [
      "INFO: Got 115 tweets (115 new).\n",
      "INFO: queries: ['FB OR AMZN OR AAPL OR NFLX OR GOOG OR FAANG AND stocks since:2018-02-15 until:2018-02-16']\n"
     ]
    },
    {
     "name": "stdout",
     "output_type": "stream",
     "text": [
      "785\n",
      "2018-02-14\n",
      "115\n"
     ]
    },
    {
     "name": "stderr",
     "output_type": "stream",
     "text": [
      "INFO: Got 118 tweets (118 new).\n",
      "INFO: queries: ['FB OR AMZN OR AAPL OR NFLX OR GOOG OR FAANG AND stocks since:2018-02-16 until:2018-02-17']\n"
     ]
    },
    {
     "name": "stdout",
     "output_type": "stream",
     "text": [
      "786\n",
      "2018-02-15\n",
      "118\n"
     ]
    },
    {
     "name": "stderr",
     "output_type": "stream",
     "text": [
      "INFO: Got 114 tweets (114 new).\n",
      "INFO: queries: ['FB OR AMZN OR AAPL OR NFLX OR GOOG OR FAANG AND stocks since:2018-02-20 until:2018-02-21']\n"
     ]
    },
    {
     "name": "stdout",
     "output_type": "stream",
     "text": [
      "787\n",
      "2018-02-16\n",
      "114\n"
     ]
    },
    {
     "name": "stderr",
     "output_type": "stream",
     "text": [
      "INFO: Got 113 tweets (113 new).\n",
      "INFO: queries: ['FB OR AMZN OR AAPL OR NFLX OR GOOG OR FAANG AND stocks since:2018-02-21 until:2018-02-22']\n"
     ]
    },
    {
     "name": "stdout",
     "output_type": "stream",
     "text": [
      "788\n",
      "2018-02-20\n",
      "113\n"
     ]
    },
    {
     "name": "stderr",
     "output_type": "stream",
     "text": [
      "INFO: Got 119 tweets (119 new).\n",
      "INFO: queries: ['FB OR AMZN OR AAPL OR NFLX OR GOOG OR FAANG AND stocks since:2018-02-22 until:2018-02-23']\n"
     ]
    },
    {
     "name": "stdout",
     "output_type": "stream",
     "text": [
      "789\n",
      "2018-02-21\n",
      "119\n"
     ]
    },
    {
     "name": "stderr",
     "output_type": "stream",
     "text": [
      "INFO: Got 116 tweets (116 new).\n",
      "INFO: queries: ['FB OR AMZN OR AAPL OR NFLX OR GOOG OR FAANG AND stocks since:2018-02-23 until:2018-02-24']\n"
     ]
    },
    {
     "name": "stdout",
     "output_type": "stream",
     "text": [
      "790\n",
      "2018-02-22\n",
      "116\n"
     ]
    },
    {
     "name": "stderr",
     "output_type": "stream",
     "text": [
      "INFO: Got 112 tweets (112 new).\n",
      "INFO: queries: ['FB OR AMZN OR AAPL OR NFLX OR GOOG OR FAANG AND stocks since:2018-02-26 until:2018-02-27']\n"
     ]
    },
    {
     "name": "stdout",
     "output_type": "stream",
     "text": [
      "791\n",
      "2018-02-23\n",
      "112\n"
     ]
    },
    {
     "name": "stderr",
     "output_type": "stream",
     "text": [
      "INFO: Got 115 tweets (115 new).\n",
      "INFO: queries: ['FB OR AMZN OR AAPL OR NFLX OR GOOG OR FAANG AND stocks since:2018-02-27 until:2018-02-28']\n"
     ]
    },
    {
     "name": "stdout",
     "output_type": "stream",
     "text": [
      "792\n",
      "2018-02-26\n",
      "115\n"
     ]
    },
    {
     "name": "stderr",
     "output_type": "stream",
     "text": [
      "INFO: Got 119 tweets (119 new).\n",
      "INFO: queries: ['FB OR AMZN OR AAPL OR NFLX OR GOOG OR FAANG AND stocks since:2018-02-28 until:2018-03-01']\n"
     ]
    },
    {
     "name": "stdout",
     "output_type": "stream",
     "text": [
      "793\n",
      "2018-02-27\n",
      "119\n"
     ]
    },
    {
     "name": "stderr",
     "output_type": "stream",
     "text": [
      "INFO: Got 115 tweets (115 new).\n",
      "INFO: queries: ['FB OR AMZN OR AAPL OR NFLX OR GOOG OR FAANG AND stocks since:2018-03-01 until:2018-03-02']\n"
     ]
    },
    {
     "name": "stdout",
     "output_type": "stream",
     "text": [
      "794\n",
      "2018-02-28\n",
      "115\n"
     ]
    },
    {
     "name": "stderr",
     "output_type": "stream",
     "text": [
      "INFO: Got 109 tweets (109 new).\n",
      "INFO: queries: ['FB OR AMZN OR AAPL OR NFLX OR GOOG OR FAANG AND stocks since:2018-03-02 until:2018-03-03']\n"
     ]
    },
    {
     "name": "stdout",
     "output_type": "stream",
     "text": [
      "795\n",
      "2018-03-01\n",
      "109\n"
     ]
    },
    {
     "name": "stderr",
     "output_type": "stream",
     "text": [
      "INFO: Got 118 tweets (118 new).\n",
      "INFO: queries: ['FB OR AMZN OR AAPL OR NFLX OR GOOG OR FAANG AND stocks since:2018-03-05 until:2018-03-06']\n"
     ]
    },
    {
     "name": "stdout",
     "output_type": "stream",
     "text": [
      "796\n",
      "2018-03-02\n",
      "118\n"
     ]
    },
    {
     "name": "stderr",
     "output_type": "stream",
     "text": [
      "INFO: Got 117 tweets (117 new).\n",
      "INFO: queries: ['FB OR AMZN OR AAPL OR NFLX OR GOOG OR FAANG AND stocks since:2018-03-06 until:2018-03-07']\n"
     ]
    },
    {
     "name": "stdout",
     "output_type": "stream",
     "text": [
      "797\n",
      "2018-03-05\n",
      "117\n"
     ]
    },
    {
     "name": "stderr",
     "output_type": "stream",
     "text": [
      "INFO: Got 113 tweets (113 new).\n",
      "INFO: queries: ['FB OR AMZN OR AAPL OR NFLX OR GOOG OR FAANG AND stocks since:2018-03-07 until:2018-03-08']\n"
     ]
    },
    {
     "name": "stdout",
     "output_type": "stream",
     "text": [
      "798\n",
      "2018-03-06\n",
      "113\n"
     ]
    },
    {
     "name": "stderr",
     "output_type": "stream",
     "text": [
      "INFO: Got 114 tweets (114 new).\n",
      "INFO: queries: ['FB OR AMZN OR AAPL OR NFLX OR GOOG OR FAANG AND stocks since:2018-03-08 until:2018-03-09']\n"
     ]
    },
    {
     "name": "stdout",
     "output_type": "stream",
     "text": [
      "799\n",
      "2018-03-07\n",
      "114\n"
     ]
    },
    {
     "name": "stderr",
     "output_type": "stream",
     "text": [
      "INFO: Got 112 tweets (112 new).\n",
      "INFO: queries: ['FB OR AMZN OR AAPL OR NFLX OR GOOG OR FAANG AND stocks since:2018-03-09 until:2018-03-10']\n"
     ]
    },
    {
     "name": "stdout",
     "output_type": "stream",
     "text": [
      "800\n",
      "2018-03-08\n",
      "112\n"
     ]
    },
    {
     "name": "stderr",
     "output_type": "stream",
     "text": [
      "INFO: Got 114 tweets (114 new).\n",
      "INFO: queries: ['FB OR AMZN OR AAPL OR NFLX OR GOOG OR FAANG AND stocks since:2018-03-12 until:2018-03-13']\n"
     ]
    },
    {
     "name": "stdout",
     "output_type": "stream",
     "text": [
      "801\n",
      "2018-03-09\n",
      "114\n"
     ]
    },
    {
     "name": "stderr",
     "output_type": "stream",
     "text": [
      "INFO: Got 115 tweets (115 new).\n",
      "INFO: queries: ['FB OR AMZN OR AAPL OR NFLX OR GOOG OR FAANG AND stocks since:2018-03-13 until:2018-03-14']\n"
     ]
    },
    {
     "name": "stdout",
     "output_type": "stream",
     "text": [
      "802\n",
      "2018-03-12\n",
      "115\n"
     ]
    },
    {
     "name": "stderr",
     "output_type": "stream",
     "text": [
      "INFO: Got 118 tweets (118 new).\n",
      "INFO: queries: ['FB OR AMZN OR AAPL OR NFLX OR GOOG OR FAANG AND stocks since:2018-03-14 until:2018-03-15']\n"
     ]
    },
    {
     "name": "stdout",
     "output_type": "stream",
     "text": [
      "803\n",
      "2018-03-13\n",
      "118\n"
     ]
    },
    {
     "name": "stderr",
     "output_type": "stream",
     "text": [
      "INFO: Got 116 tweets (116 new).\n",
      "INFO: queries: ['FB OR AMZN OR AAPL OR NFLX OR GOOG OR FAANG AND stocks since:2018-03-15 until:2018-03-16']\n"
     ]
    },
    {
     "name": "stdout",
     "output_type": "stream",
     "text": [
      "804\n",
      "2018-03-14\n",
      "116\n"
     ]
    },
    {
     "name": "stderr",
     "output_type": "stream",
     "text": [
      "INFO: Got 114 tweets (114 new).\n",
      "INFO: queries: ['FB OR AMZN OR AAPL OR NFLX OR GOOG OR FAANG AND stocks since:2018-03-16 until:2018-03-17']\n"
     ]
    },
    {
     "name": "stdout",
     "output_type": "stream",
     "text": [
      "805\n",
      "2018-03-15\n",
      "114\n"
     ]
    },
    {
     "name": "stderr",
     "output_type": "stream",
     "text": [
      "INFO: Got 103 tweets (103 new).\n",
      "INFO: queries: ['FB OR AMZN OR AAPL OR NFLX OR GOOG OR FAANG AND stocks since:2018-03-19 until:2018-03-20']\n"
     ]
    },
    {
     "name": "stdout",
     "output_type": "stream",
     "text": [
      "806\n",
      "2018-03-16\n",
      "103\n"
     ]
    },
    {
     "name": "stderr",
     "output_type": "stream",
     "text": [
      "INFO: Got 117 tweets (117 new).\n",
      "INFO: queries: ['FB OR AMZN OR AAPL OR NFLX OR GOOG OR FAANG AND stocks since:2018-03-20 until:2018-03-21']\n"
     ]
    },
    {
     "name": "stdout",
     "output_type": "stream",
     "text": [
      "807\n",
      "2018-03-19\n",
      "117\n"
     ]
    },
    {
     "name": "stderr",
     "output_type": "stream",
     "text": [
      "INFO: Got 113 tweets (113 new).\n",
      "INFO: queries: ['FB OR AMZN OR AAPL OR NFLX OR GOOG OR FAANG AND stocks since:2018-03-21 until:2018-03-22']\n"
     ]
    },
    {
     "name": "stdout",
     "output_type": "stream",
     "text": [
      "808\n",
      "2018-03-20\n",
      "113\n"
     ]
    },
    {
     "name": "stderr",
     "output_type": "stream",
     "text": [
      "INFO: Got 113 tweets (113 new).\n",
      "INFO: queries: ['FB OR AMZN OR AAPL OR NFLX OR GOOG OR FAANG AND stocks since:2018-03-22 until:2018-03-23']\n"
     ]
    },
    {
     "name": "stdout",
     "output_type": "stream",
     "text": [
      "809\n",
      "2018-03-21\n",
      "113\n"
     ]
    },
    {
     "name": "stderr",
     "output_type": "stream",
     "text": [
      "INFO: Got 118 tweets (118 new).\n",
      "INFO: queries: ['FB OR AMZN OR AAPL OR NFLX OR GOOG OR FAANG AND stocks since:2018-03-23 until:2018-03-24']\n"
     ]
    },
    {
     "name": "stdout",
     "output_type": "stream",
     "text": [
      "810\n",
      "2018-03-22\n",
      "118\n"
     ]
    },
    {
     "name": "stderr",
     "output_type": "stream",
     "text": [
      "INFO: Got 114 tweets (114 new).\n",
      "INFO: queries: ['FB OR AMZN OR AAPL OR NFLX OR GOOG OR FAANG AND stocks since:2018-03-26 until:2018-03-27']\n"
     ]
    },
    {
     "name": "stdout",
     "output_type": "stream",
     "text": [
      "811\n",
      "2018-03-23\n",
      "114\n"
     ]
    },
    {
     "name": "stderr",
     "output_type": "stream",
     "text": [
      "INFO: Got 112 tweets (112 new).\n",
      "INFO: queries: ['FB OR AMZN OR AAPL OR NFLX OR GOOG OR FAANG AND stocks since:2018-03-27 until:2018-03-28']\n"
     ]
    },
    {
     "name": "stdout",
     "output_type": "stream",
     "text": [
      "812\n",
      "2018-03-26\n",
      "112\n"
     ]
    },
    {
     "name": "stderr",
     "output_type": "stream",
     "text": [
      "INFO: Got 112 tweets (112 new).\n",
      "INFO: queries: ['FB OR AMZN OR AAPL OR NFLX OR GOOG OR FAANG AND stocks since:2018-03-28 until:2018-03-29']\n"
     ]
    },
    {
     "name": "stdout",
     "output_type": "stream",
     "text": [
      "813\n",
      "2018-03-27\n",
      "112\n"
     ]
    },
    {
     "name": "stderr",
     "output_type": "stream",
     "text": [
      "INFO: Got 120 tweets (120 new).\n",
      "INFO: queries: ['FB OR AMZN OR AAPL OR NFLX OR GOOG OR FAANG AND stocks since:2018-03-29 until:2018-03-30']\n"
     ]
    },
    {
     "name": "stdout",
     "output_type": "stream",
     "text": [
      "814\n",
      "2018-03-28\n",
      "120\n"
     ]
    },
    {
     "name": "stderr",
     "output_type": "stream",
     "text": [
      "INFO: Got 116 tweets (116 new).\n",
      "INFO: queries: ['FB OR AMZN OR AAPL OR NFLX OR GOOG OR FAANG AND stocks since:2018-04-02 until:2018-04-03']\n"
     ]
    },
    {
     "name": "stdout",
     "output_type": "stream",
     "text": [
      "815\n",
      "2018-03-29\n",
      "116\n"
     ]
    },
    {
     "name": "stderr",
     "output_type": "stream",
     "text": [
      "INFO: Got 114 tweets (114 new).\n",
      "INFO: queries: ['FB OR AMZN OR AAPL OR NFLX OR GOOG OR FAANG AND stocks since:2018-04-03 until:2018-04-04']\n"
     ]
    },
    {
     "name": "stdout",
     "output_type": "stream",
     "text": [
      "816\n",
      "2018-04-02\n",
      "114\n"
     ]
    },
    {
     "name": "stderr",
     "output_type": "stream",
     "text": [
      "INFO: Got 116 tweets (116 new).\n",
      "INFO: queries: ['FB OR AMZN OR AAPL OR NFLX OR GOOG OR FAANG AND stocks since:2018-04-04 until:2018-04-05']\n"
     ]
    },
    {
     "name": "stdout",
     "output_type": "stream",
     "text": [
      "817\n",
      "2018-04-03\n",
      "116\n"
     ]
    },
    {
     "name": "stderr",
     "output_type": "stream",
     "text": [
      "INFO: Got 115 tweets (115 new).\n",
      "INFO: queries: ['FB OR AMZN OR AAPL OR NFLX OR GOOG OR FAANG AND stocks since:2018-04-05 until:2018-04-06']\n"
     ]
    },
    {
     "name": "stdout",
     "output_type": "stream",
     "text": [
      "818\n",
      "2018-04-04\n",
      "115\n"
     ]
    },
    {
     "name": "stderr",
     "output_type": "stream",
     "text": [
      "INFO: Got 118 tweets (118 new).\n",
      "INFO: queries: ['FB OR AMZN OR AAPL OR NFLX OR GOOG OR FAANG AND stocks since:2018-04-06 until:2018-04-07']\n"
     ]
    },
    {
     "name": "stdout",
     "output_type": "stream",
     "text": [
      "819\n",
      "2018-04-05\n",
      "118\n"
     ]
    },
    {
     "name": "stderr",
     "output_type": "stream",
     "text": [
      "INFO: Got 106 tweets (106 new).\n",
      "INFO: queries: ['FB OR AMZN OR AAPL OR NFLX OR GOOG OR FAANG AND stocks since:2018-04-09 until:2018-04-10']\n"
     ]
    },
    {
     "name": "stdout",
     "output_type": "stream",
     "text": [
      "820\n",
      "2018-04-06\n",
      "106\n"
     ]
    },
    {
     "name": "stderr",
     "output_type": "stream",
     "text": [
      "INFO: Got 106 tweets (106 new).\n",
      "INFO: queries: ['FB OR AMZN OR AAPL OR NFLX OR GOOG OR FAANG AND stocks since:2018-04-10 until:2018-04-11']\n"
     ]
    },
    {
     "name": "stdout",
     "output_type": "stream",
     "text": [
      "821\n",
      "2018-04-09\n",
      "106\n"
     ]
    },
    {
     "name": "stderr",
     "output_type": "stream",
     "text": [
      "INFO: Got 112 tweets (112 new).\n",
      "INFO: queries: ['FB OR AMZN OR AAPL OR NFLX OR GOOG OR FAANG AND stocks since:2018-04-11 until:2018-04-12']\n"
     ]
    },
    {
     "name": "stdout",
     "output_type": "stream",
     "text": [
      "822\n",
      "2018-04-10\n",
      "112\n"
     ]
    },
    {
     "name": "stderr",
     "output_type": "stream",
     "text": [
      "INFO: Got 114 tweets (114 new).\n",
      "INFO: queries: ['FB OR AMZN OR AAPL OR NFLX OR GOOG OR FAANG AND stocks since:2018-04-12 until:2018-04-13']\n"
     ]
    },
    {
     "name": "stdout",
     "output_type": "stream",
     "text": [
      "823\n",
      "2018-04-11\n",
      "114\n"
     ]
    },
    {
     "name": "stderr",
     "output_type": "stream",
     "text": [
      "INFO: Got 113 tweets (113 new).\n",
      "INFO: queries: ['FB OR AMZN OR AAPL OR NFLX OR GOOG OR FAANG AND stocks since:2018-04-13 until:2018-04-14']\n"
     ]
    },
    {
     "name": "stdout",
     "output_type": "stream",
     "text": [
      "824\n",
      "2018-04-12\n",
      "113\n"
     ]
    },
    {
     "name": "stderr",
     "output_type": "stream",
     "text": [
      "INFO: Got 120 tweets (120 new).\n",
      "INFO: queries: ['FB OR AMZN OR AAPL OR NFLX OR GOOG OR FAANG AND stocks since:2018-04-16 until:2018-04-17']\n"
     ]
    },
    {
     "name": "stdout",
     "output_type": "stream",
     "text": [
      "825\n",
      "2018-04-13\n",
      "120\n"
     ]
    },
    {
     "name": "stderr",
     "output_type": "stream",
     "text": [
      "INFO: Got 118 tweets (118 new).\n",
      "INFO: queries: ['FB OR AMZN OR AAPL OR NFLX OR GOOG OR FAANG AND stocks since:2018-04-17 until:2018-04-18']\n"
     ]
    },
    {
     "name": "stdout",
     "output_type": "stream",
     "text": [
      "826\n",
      "2018-04-16\n",
      "118\n"
     ]
    },
    {
     "name": "stderr",
     "output_type": "stream",
     "text": [
      "INFO: Got 114 tweets (114 new).\n",
      "INFO: queries: ['FB OR AMZN OR AAPL OR NFLX OR GOOG OR FAANG AND stocks since:2018-04-18 until:2018-04-19']\n"
     ]
    },
    {
     "name": "stdout",
     "output_type": "stream",
     "text": [
      "827\n",
      "2018-04-17\n",
      "114\n"
     ]
    },
    {
     "name": "stderr",
     "output_type": "stream",
     "text": [
      "INFO: Got 104 tweets (104 new).\n",
      "INFO: queries: ['FB OR AMZN OR AAPL OR NFLX OR GOOG OR FAANG AND stocks since:2018-04-19 until:2018-04-20']\n"
     ]
    },
    {
     "name": "stdout",
     "output_type": "stream",
     "text": [
      "828\n",
      "2018-04-18\n",
      "104\n"
     ]
    },
    {
     "name": "stderr",
     "output_type": "stream",
     "text": [
      "INFO: Got 112 tweets (112 new).\n",
      "INFO: queries: ['FB OR AMZN OR AAPL OR NFLX OR GOOG OR FAANG AND stocks since:2018-04-20 until:2018-04-21']\n"
     ]
    },
    {
     "name": "stdout",
     "output_type": "stream",
     "text": [
      "829\n",
      "2018-04-19\n",
      "112\n"
     ]
    },
    {
     "name": "stderr",
     "output_type": "stream",
     "text": [
      "INFO: Got 108 tweets (108 new).\n",
      "INFO: queries: ['FB OR AMZN OR AAPL OR NFLX OR GOOG OR FAANG AND stocks since:2018-04-23 until:2018-04-24']\n"
     ]
    },
    {
     "name": "stdout",
     "output_type": "stream",
     "text": [
      "830\n",
      "2018-04-20\n",
      "108\n"
     ]
    },
    {
     "name": "stderr",
     "output_type": "stream",
     "text": [
      "INFO: Got 116 tweets (116 new).\n",
      "INFO: queries: ['FB OR AMZN OR AAPL OR NFLX OR GOOG OR FAANG AND stocks since:2018-04-24 until:2018-04-25']\n"
     ]
    },
    {
     "name": "stdout",
     "output_type": "stream",
     "text": [
      "831\n",
      "2018-04-23\n",
      "116\n"
     ]
    },
    {
     "name": "stderr",
     "output_type": "stream",
     "text": [
      "INFO: Got 118 tweets (118 new).\n",
      "INFO: queries: ['FB OR AMZN OR AAPL OR NFLX OR GOOG OR FAANG AND stocks since:2018-04-25 until:2018-04-26']\n"
     ]
    },
    {
     "name": "stdout",
     "output_type": "stream",
     "text": [
      "832\n",
      "2018-04-24\n",
      "118\n"
     ]
    },
    {
     "name": "stderr",
     "output_type": "stream",
     "text": [
      "INFO: Got 115 tweets (115 new).\n",
      "INFO: queries: ['FB OR AMZN OR AAPL OR NFLX OR GOOG OR FAANG AND stocks since:2018-04-26 until:2018-04-27']\n"
     ]
    },
    {
     "name": "stdout",
     "output_type": "stream",
     "text": [
      "833\n",
      "2018-04-25\n",
      "115\n"
     ]
    },
    {
     "name": "stderr",
     "output_type": "stream",
     "text": [
      "INFO: Got 119 tweets (119 new).\n",
      "INFO: queries: ['FB OR AMZN OR AAPL OR NFLX OR GOOG OR FAANG AND stocks since:2018-04-27 until:2018-04-28']\n"
     ]
    },
    {
     "name": "stdout",
     "output_type": "stream",
     "text": [
      "834\n",
      "2018-04-26\n",
      "119\n"
     ]
    },
    {
     "name": "stderr",
     "output_type": "stream",
     "text": [
      "INFO: Got 120 tweets (120 new).\n",
      "INFO: queries: ['FB OR AMZN OR AAPL OR NFLX OR GOOG OR FAANG AND stocks since:2018-04-30 until:2018-05-01']\n"
     ]
    },
    {
     "name": "stdout",
     "output_type": "stream",
     "text": [
      "835\n",
      "2018-04-27\n",
      "120\n"
     ]
    },
    {
     "name": "stderr",
     "output_type": "stream",
     "text": [
      "INFO: Got 116 tweets (116 new).\n",
      "INFO: queries: ['FB OR AMZN OR AAPL OR NFLX OR GOOG OR FAANG AND stocks since:2018-05-01 until:2018-05-02']\n"
     ]
    },
    {
     "name": "stdout",
     "output_type": "stream",
     "text": [
      "836\n",
      "2018-04-30\n",
      "116\n"
     ]
    },
    {
     "name": "stderr",
     "output_type": "stream",
     "text": [
      "INFO: Got 116 tweets (116 new).\n",
      "INFO: queries: ['FB OR AMZN OR AAPL OR NFLX OR GOOG OR FAANG AND stocks since:2018-05-02 until:2018-05-03']\n"
     ]
    },
    {
     "name": "stdout",
     "output_type": "stream",
     "text": [
      "837\n",
      "2018-05-01\n",
      "116\n"
     ]
    },
    {
     "name": "stderr",
     "output_type": "stream",
     "text": [
      "INFO: Got 116 tweets (116 new).\n",
      "INFO: queries: ['FB OR AMZN OR AAPL OR NFLX OR GOOG OR FAANG AND stocks since:2018-05-03 until:2018-05-04']\n"
     ]
    },
    {
     "name": "stdout",
     "output_type": "stream",
     "text": [
      "838\n",
      "2018-05-02\n",
      "116\n"
     ]
    },
    {
     "name": "stderr",
     "output_type": "stream",
     "text": [
      "INFO: Got 114 tweets (114 new).\n",
      "INFO: queries: ['FB OR AMZN OR AAPL OR NFLX OR GOOG OR FAANG AND stocks since:2018-05-04 until:2018-05-05']\n"
     ]
    },
    {
     "name": "stdout",
     "output_type": "stream",
     "text": [
      "839\n",
      "2018-05-03\n",
      "114\n"
     ]
    },
    {
     "name": "stderr",
     "output_type": "stream",
     "text": [
      "INFO: Got 117 tweets (117 new).\n",
      "INFO: queries: ['FB OR AMZN OR AAPL OR NFLX OR GOOG OR FAANG AND stocks since:2018-05-07 until:2018-05-08']\n"
     ]
    },
    {
     "name": "stdout",
     "output_type": "stream",
     "text": [
      "840\n",
      "2018-05-04\n",
      "117\n"
     ]
    },
    {
     "name": "stderr",
     "output_type": "stream",
     "text": [
      "INFO: Got 109 tweets (109 new).\n",
      "INFO: queries: ['FB OR AMZN OR AAPL OR NFLX OR GOOG OR FAANG AND stocks since:2018-05-08 until:2018-05-09']\n"
     ]
    },
    {
     "name": "stdout",
     "output_type": "stream",
     "text": [
      "841\n",
      "2018-05-07\n",
      "109\n"
     ]
    },
    {
     "name": "stderr",
     "output_type": "stream",
     "text": [
      "INFO: Got 117 tweets (117 new).\n",
      "INFO: queries: ['FB OR AMZN OR AAPL OR NFLX OR GOOG OR FAANG AND stocks since:2018-05-09 until:2018-05-10']\n"
     ]
    },
    {
     "name": "stdout",
     "output_type": "stream",
     "text": [
      "842\n",
      "2018-05-08\n",
      "117\n"
     ]
    },
    {
     "name": "stderr",
     "output_type": "stream",
     "text": [
      "INFO: Got 115 tweets (115 new).\n",
      "INFO: queries: ['FB OR AMZN OR AAPL OR NFLX OR GOOG OR FAANG AND stocks since:2018-05-10 until:2018-05-11']\n"
     ]
    },
    {
     "name": "stdout",
     "output_type": "stream",
     "text": [
      "843\n",
      "2018-05-09\n",
      "115\n"
     ]
    },
    {
     "name": "stderr",
     "output_type": "stream",
     "text": [
      "INFO: Got 108 tweets (108 new).\n",
      "INFO: queries: ['FB OR AMZN OR AAPL OR NFLX OR GOOG OR FAANG AND stocks since:2018-05-11 until:2018-05-12']\n"
     ]
    },
    {
     "name": "stdout",
     "output_type": "stream",
     "text": [
      "844\n",
      "2018-05-10\n",
      "108\n"
     ]
    },
    {
     "name": "stderr",
     "output_type": "stream",
     "text": [
      "INFO: Got 108 tweets (108 new).\n",
      "INFO: queries: ['FB OR AMZN OR AAPL OR NFLX OR GOOG OR FAANG AND stocks since:2018-05-14 until:2018-05-15']\n"
     ]
    },
    {
     "name": "stdout",
     "output_type": "stream",
     "text": [
      "845\n",
      "2018-05-11\n",
      "108\n"
     ]
    },
    {
     "name": "stderr",
     "output_type": "stream",
     "text": [
      "INFO: Got 119 tweets (119 new).\n",
      "INFO: queries: ['FB OR AMZN OR AAPL OR NFLX OR GOOG OR FAANG AND stocks since:2018-05-15 until:2018-05-16']\n"
     ]
    },
    {
     "name": "stdout",
     "output_type": "stream",
     "text": [
      "846\n",
      "2018-05-14\n",
      "119\n"
     ]
    },
    {
     "name": "stderr",
     "output_type": "stream",
     "text": [
      "INFO: Got 108 tweets (108 new).\n",
      "INFO: queries: ['FB OR AMZN OR AAPL OR NFLX OR GOOG OR FAANG AND stocks since:2018-05-16 until:2018-05-17']\n"
     ]
    },
    {
     "name": "stdout",
     "output_type": "stream",
     "text": [
      "847\n",
      "2018-05-15\n",
      "108\n"
     ]
    },
    {
     "name": "stderr",
     "output_type": "stream",
     "text": [
      "INFO: Got 118 tweets (118 new).\n",
      "INFO: queries: ['FB OR AMZN OR AAPL OR NFLX OR GOOG OR FAANG AND stocks since:2018-05-17 until:2018-05-18']\n"
     ]
    },
    {
     "name": "stdout",
     "output_type": "stream",
     "text": [
      "848\n",
      "2018-05-16\n",
      "118\n"
     ]
    },
    {
     "name": "stderr",
     "output_type": "stream",
     "text": [
      "INFO: Got 112 tweets (112 new).\n",
      "INFO: queries: ['FB OR AMZN OR AAPL OR NFLX OR GOOG OR FAANG AND stocks since:2018-05-18 until:2018-05-19']\n"
     ]
    },
    {
     "name": "stdout",
     "output_type": "stream",
     "text": [
      "849\n",
      "2018-05-17\n",
      "112\n"
     ]
    },
    {
     "name": "stderr",
     "output_type": "stream",
     "text": [
      "INFO: Got 106 tweets (106 new).\n",
      "INFO: queries: ['FB OR AMZN OR AAPL OR NFLX OR GOOG OR FAANG AND stocks since:2018-05-21 until:2018-05-22']\n"
     ]
    },
    {
     "name": "stdout",
     "output_type": "stream",
     "text": [
      "850\n",
      "2018-05-18\n",
      "106\n"
     ]
    },
    {
     "name": "stderr",
     "output_type": "stream",
     "text": [
      "INFO: Got 120 tweets (120 new).\n",
      "INFO: queries: ['FB OR AMZN OR AAPL OR NFLX OR GOOG OR FAANG AND stocks since:2018-05-22 until:2018-05-23']\n"
     ]
    },
    {
     "name": "stdout",
     "output_type": "stream",
     "text": [
      "851\n",
      "2018-05-21\n",
      "120\n"
     ]
    },
    {
     "name": "stderr",
     "output_type": "stream",
     "text": [
      "INFO: Got 103 tweets (103 new).\n",
      "INFO: queries: ['FB OR AMZN OR AAPL OR NFLX OR GOOG OR FAANG AND stocks since:2018-05-23 until:2018-05-24']\n"
     ]
    },
    {
     "name": "stdout",
     "output_type": "stream",
     "text": [
      "852\n",
      "2018-05-22\n",
      "103\n"
     ]
    },
    {
     "name": "stderr",
     "output_type": "stream",
     "text": [
      "INFO: Got 117 tweets (117 new).\n",
      "INFO: queries: ['FB OR AMZN OR AAPL OR NFLX OR GOOG OR FAANG AND stocks since:2018-05-24 until:2018-05-25']\n"
     ]
    },
    {
     "name": "stdout",
     "output_type": "stream",
     "text": [
      "853\n",
      "2018-05-23\n",
      "117\n"
     ]
    },
    {
     "name": "stderr",
     "output_type": "stream",
     "text": [
      "INFO: Got 117 tweets (117 new).\n",
      "INFO: queries: ['FB OR AMZN OR AAPL OR NFLX OR GOOG OR FAANG AND stocks since:2018-05-25 until:2018-05-26']\n"
     ]
    },
    {
     "name": "stdout",
     "output_type": "stream",
     "text": [
      "854\n",
      "2018-05-24\n",
      "117\n"
     ]
    },
    {
     "name": "stderr",
     "output_type": "stream",
     "text": [
      "INFO: Got 107 tweets (107 new).\n",
      "INFO: queries: ['FB OR AMZN OR AAPL OR NFLX OR GOOG OR FAANG AND stocks since:2018-05-29 until:2018-05-30']\n"
     ]
    },
    {
     "name": "stdout",
     "output_type": "stream",
     "text": [
      "855\n",
      "2018-05-25\n",
      "107\n"
     ]
    },
    {
     "name": "stderr",
     "output_type": "stream",
     "text": [
      "INFO: Got 118 tweets (118 new).\n",
      "INFO: queries: ['FB OR AMZN OR AAPL OR NFLX OR GOOG OR FAANG AND stocks since:2018-05-30 until:2018-05-31']\n"
     ]
    },
    {
     "name": "stdout",
     "output_type": "stream",
     "text": [
      "856\n",
      "2018-05-29\n",
      "118\n"
     ]
    },
    {
     "name": "stderr",
     "output_type": "stream",
     "text": [
      "INFO: Got 117 tweets (117 new).\n",
      "INFO: queries: ['FB OR AMZN OR AAPL OR NFLX OR GOOG OR FAANG AND stocks since:2018-05-31 until:2018-06-01']\n"
     ]
    },
    {
     "name": "stdout",
     "output_type": "stream",
     "text": [
      "857\n",
      "2018-05-30\n",
      "117\n"
     ]
    },
    {
     "name": "stderr",
     "output_type": "stream",
     "text": [
      "INFO: Got 119 tweets (119 new).\n",
      "INFO: queries: ['FB OR AMZN OR AAPL OR NFLX OR GOOG OR FAANG AND stocks since:2018-06-01 until:2018-06-02']\n"
     ]
    },
    {
     "name": "stdout",
     "output_type": "stream",
     "text": [
      "858\n",
      "2018-05-31\n",
      "119\n"
     ]
    },
    {
     "name": "stderr",
     "output_type": "stream",
     "text": [
      "INFO: Got 116 tweets (116 new).\n",
      "INFO: queries: ['FB OR AMZN OR AAPL OR NFLX OR GOOG OR FAANG AND stocks since:2018-06-04 until:2018-06-05']\n"
     ]
    },
    {
     "name": "stdout",
     "output_type": "stream",
     "text": [
      "859\n",
      "2018-06-01\n",
      "116\n"
     ]
    },
    {
     "name": "stderr",
     "output_type": "stream",
     "text": [
      "INFO: Got 109 tweets (109 new).\n",
      "INFO: queries: ['FB OR AMZN OR AAPL OR NFLX OR GOOG OR FAANG AND stocks since:2018-06-05 until:2018-06-06']\n"
     ]
    },
    {
     "name": "stdout",
     "output_type": "stream",
     "text": [
      "860\n",
      "2018-06-04\n",
      "109\n"
     ]
    },
    {
     "name": "stderr",
     "output_type": "stream",
     "text": [
      "INFO: Got 119 tweets (119 new).\n",
      "INFO: queries: ['FB OR AMZN OR AAPL OR NFLX OR GOOG OR FAANG AND stocks since:2018-06-06 until:2018-06-07']\n"
     ]
    },
    {
     "name": "stdout",
     "output_type": "stream",
     "text": [
      "861\n",
      "2018-06-05\n",
      "119\n"
     ]
    },
    {
     "name": "stderr",
     "output_type": "stream",
     "text": [
      "INFO: Got 114 tweets (114 new).\n",
      "INFO: queries: ['FB OR AMZN OR AAPL OR NFLX OR GOOG OR FAANG AND stocks since:2018-06-07 until:2018-06-08']\n"
     ]
    },
    {
     "name": "stdout",
     "output_type": "stream",
     "text": [
      "862\n",
      "2018-06-06\n",
      "114\n"
     ]
    },
    {
     "name": "stderr",
     "output_type": "stream",
     "text": [
      "INFO: Got 119 tweets (119 new).\n",
      "INFO: queries: ['FB OR AMZN OR AAPL OR NFLX OR GOOG OR FAANG AND stocks since:2018-06-08 until:2018-06-09']\n"
     ]
    },
    {
     "name": "stdout",
     "output_type": "stream",
     "text": [
      "863\n",
      "2018-06-07\n",
      "119\n"
     ]
    },
    {
     "name": "stderr",
     "output_type": "stream",
     "text": [
      "INFO: Got 118 tweets (118 new).\n",
      "INFO: queries: ['FB OR AMZN OR AAPL OR NFLX OR GOOG OR FAANG AND stocks since:2018-06-11 until:2018-06-12']\n"
     ]
    },
    {
     "name": "stdout",
     "output_type": "stream",
     "text": [
      "864\n",
      "2018-06-08\n",
      "118\n"
     ]
    },
    {
     "name": "stderr",
     "output_type": "stream",
     "text": [
      "INFO: Got 119 tweets (119 new).\n",
      "INFO: queries: ['FB OR AMZN OR AAPL OR NFLX OR GOOG OR FAANG AND stocks since:2018-06-12 until:2018-06-13']\n"
     ]
    },
    {
     "name": "stdout",
     "output_type": "stream",
     "text": [
      "865\n",
      "2018-06-11\n",
      "119\n"
     ]
    },
    {
     "name": "stderr",
     "output_type": "stream",
     "text": [
      "INFO: Got 117 tweets (117 new).\n",
      "INFO: queries: ['FB OR AMZN OR AAPL OR NFLX OR GOOG OR FAANG AND stocks since:2018-06-13 until:2018-06-14']\n"
     ]
    },
    {
     "name": "stdout",
     "output_type": "stream",
     "text": [
      "866\n",
      "2018-06-12\n",
      "117\n"
     ]
    },
    {
     "name": "stderr",
     "output_type": "stream",
     "text": [
      "INFO: Got 112 tweets (112 new).\n",
      "INFO: queries: ['FB OR AMZN OR AAPL OR NFLX OR GOOG OR FAANG AND stocks since:2018-06-14 until:2018-06-15']\n"
     ]
    },
    {
     "name": "stdout",
     "output_type": "stream",
     "text": [
      "867\n",
      "2018-06-13\n",
      "112\n"
     ]
    },
    {
     "name": "stderr",
     "output_type": "stream",
     "text": [
      "INFO: Got 118 tweets (118 new).\n",
      "INFO: queries: ['FB OR AMZN OR AAPL OR NFLX OR GOOG OR FAANG AND stocks since:2018-06-15 until:2018-06-16']\n"
     ]
    },
    {
     "name": "stdout",
     "output_type": "stream",
     "text": [
      "868\n",
      "2018-06-14\n",
      "118\n"
     ]
    },
    {
     "name": "stderr",
     "output_type": "stream",
     "text": [
      "INFO: Got 117 tweets (117 new).\n",
      "INFO: queries: ['FB OR AMZN OR AAPL OR NFLX OR GOOG OR FAANG AND stocks since:2018-06-18 until:2018-06-19']\n"
     ]
    },
    {
     "name": "stdout",
     "output_type": "stream",
     "text": [
      "869\n",
      "2018-06-15\n",
      "117\n"
     ]
    },
    {
     "name": "stderr",
     "output_type": "stream",
     "text": [
      "INFO: Got 104 tweets (104 new).\n",
      "INFO: queries: ['FB OR AMZN OR AAPL OR NFLX OR GOOG OR FAANG AND stocks since:2018-06-19 until:2018-06-20']\n"
     ]
    },
    {
     "name": "stdout",
     "output_type": "stream",
     "text": [
      "870\n",
      "2018-06-18\n",
      "104\n"
     ]
    },
    {
     "name": "stderr",
     "output_type": "stream",
     "text": [
      "INFO: Got 112 tweets (112 new).\n",
      "INFO: queries: ['FB OR AMZN OR AAPL OR NFLX OR GOOG OR FAANG AND stocks since:2018-06-20 until:2018-06-21']\n"
     ]
    },
    {
     "name": "stdout",
     "output_type": "stream",
     "text": [
      "871\n",
      "2018-06-19\n",
      "112\n"
     ]
    },
    {
     "name": "stderr",
     "output_type": "stream",
     "text": [
      "INFO: Got 109 tweets (109 new).\n",
      "INFO: queries: ['FB OR AMZN OR AAPL OR NFLX OR GOOG OR FAANG AND stocks since:2018-06-21 until:2018-06-22']\n"
     ]
    },
    {
     "name": "stdout",
     "output_type": "stream",
     "text": [
      "872\n",
      "2018-06-20\n",
      "109\n"
     ]
    },
    {
     "name": "stderr",
     "output_type": "stream",
     "text": [
      "INFO: Got 107 tweets (107 new).\n",
      "INFO: queries: ['FB OR AMZN OR AAPL OR NFLX OR GOOG OR FAANG AND stocks since:2018-06-22 until:2018-06-23']\n"
     ]
    },
    {
     "name": "stdout",
     "output_type": "stream",
     "text": [
      "873\n",
      "2018-06-21\n",
      "107\n"
     ]
    },
    {
     "name": "stderr",
     "output_type": "stream",
     "text": [
      "INFO: Got 103 tweets (103 new).\n",
      "INFO: queries: ['FB OR AMZN OR AAPL OR NFLX OR GOOG OR FAANG AND stocks since:2018-06-25 until:2018-06-26']\n"
     ]
    },
    {
     "name": "stdout",
     "output_type": "stream",
     "text": [
      "874\n",
      "2018-06-22\n",
      "103\n"
     ]
    },
    {
     "name": "stderr",
     "output_type": "stream",
     "text": [
      "INFO: Got 112 tweets (112 new).\n",
      "INFO: queries: ['FB OR AMZN OR AAPL OR NFLX OR GOOG OR FAANG AND stocks since:2018-06-26 until:2018-06-27']\n"
     ]
    },
    {
     "name": "stdout",
     "output_type": "stream",
     "text": [
      "875\n",
      "2018-06-25\n",
      "112\n"
     ]
    },
    {
     "name": "stderr",
     "output_type": "stream",
     "text": [
      "INFO: Got 118 tweets (118 new).\n",
      "INFO: queries: ['FB OR AMZN OR AAPL OR NFLX OR GOOG OR FAANG AND stocks since:2018-06-27 until:2018-06-28']\n"
     ]
    },
    {
     "name": "stdout",
     "output_type": "stream",
     "text": [
      "876\n",
      "2018-06-26\n",
      "118\n"
     ]
    },
    {
     "name": "stderr",
     "output_type": "stream",
     "text": [
      "INFO: Got 115 tweets (115 new).\n",
      "INFO: queries: ['FB OR AMZN OR AAPL OR NFLX OR GOOG OR FAANG AND stocks since:2018-06-28 until:2018-06-29']\n"
     ]
    },
    {
     "name": "stdout",
     "output_type": "stream",
     "text": [
      "877\n",
      "2018-06-27\n",
      "115\n"
     ]
    },
    {
     "name": "stderr",
     "output_type": "stream",
     "text": [
      "INFO: Got 111 tweets (111 new).\n",
      "INFO: queries: ['FB OR AMZN OR AAPL OR NFLX OR GOOG OR FAANG AND stocks since:2018-06-29 until:2018-06-30']\n"
     ]
    },
    {
     "name": "stdout",
     "output_type": "stream",
     "text": [
      "878\n",
      "2018-06-28\n",
      "111\n"
     ]
    },
    {
     "name": "stderr",
     "output_type": "stream",
     "text": [
      "INFO: Got 118 tweets (118 new).\n",
      "INFO: queries: ['FB OR AMZN OR AAPL OR NFLX OR GOOG OR FAANG AND stocks since:2018-07-02 until:2018-07-03']\n"
     ]
    },
    {
     "name": "stdout",
     "output_type": "stream",
     "text": [
      "879\n",
      "2018-06-29\n",
      "118\n"
     ]
    },
    {
     "name": "stderr",
     "output_type": "stream",
     "text": [
      "INFO: Got 103 tweets (103 new).\n",
      "INFO: queries: ['FB OR AMZN OR AAPL OR NFLX OR GOOG OR FAANG AND stocks since:2018-07-03 until:2018-07-04']\n"
     ]
    },
    {
     "name": "stdout",
     "output_type": "stream",
     "text": [
      "880\n",
      "2018-07-02\n",
      "103\n"
     ]
    },
    {
     "name": "stderr",
     "output_type": "stream",
     "text": [
      "INFO: Got 101 tweets (101 new).\n",
      "INFO: queries: ['FB OR AMZN OR AAPL OR NFLX OR GOOG OR FAANG AND stocks since:2018-07-05 until:2018-07-06']\n"
     ]
    },
    {
     "name": "stdout",
     "output_type": "stream",
     "text": [
      "881\n",
      "2018-07-03\n",
      "101\n"
     ]
    },
    {
     "name": "stderr",
     "output_type": "stream",
     "text": [
      "INFO: Got 119 tweets (119 new).\n",
      "INFO: queries: ['FB OR AMZN OR AAPL OR NFLX OR GOOG OR FAANG AND stocks since:2018-07-06 until:2018-07-07']\n"
     ]
    },
    {
     "name": "stdout",
     "output_type": "stream",
     "text": [
      "882\n",
      "2018-07-05\n",
      "119\n"
     ]
    },
    {
     "name": "stderr",
     "output_type": "stream",
     "text": [
      "INFO: Got 114 tweets (114 new).\n",
      "INFO: queries: ['FB OR AMZN OR AAPL OR NFLX OR GOOG OR FAANG AND stocks since:2018-07-09 until:2018-07-10']\n"
     ]
    },
    {
     "name": "stdout",
     "output_type": "stream",
     "text": [
      "883\n",
      "2018-07-06\n",
      "114\n"
     ]
    },
    {
     "name": "stderr",
     "output_type": "stream",
     "text": [
      "INFO: Got 103 tweets (103 new).\n",
      "INFO: queries: ['FB OR AMZN OR AAPL OR NFLX OR GOOG OR FAANG AND stocks since:2018-07-10 until:2018-07-11']\n"
     ]
    },
    {
     "name": "stdout",
     "output_type": "stream",
     "text": [
      "884\n",
      "2018-07-09\n",
      "103\n"
     ]
    },
    {
     "name": "stderr",
     "output_type": "stream",
     "text": [
      "INFO: Got 116 tweets (116 new).\n",
      "INFO: queries: ['FB OR AMZN OR AAPL OR NFLX OR GOOG OR FAANG AND stocks since:2018-07-11 until:2018-07-12']\n"
     ]
    },
    {
     "name": "stdout",
     "output_type": "stream",
     "text": [
      "885\n",
      "2018-07-10\n",
      "116\n"
     ]
    },
    {
     "name": "stderr",
     "output_type": "stream",
     "text": [
      "INFO: Got 113 tweets (113 new).\n",
      "INFO: queries: ['FB OR AMZN OR AAPL OR NFLX OR GOOG OR FAANG AND stocks since:2018-07-12 until:2018-07-13']\n"
     ]
    },
    {
     "name": "stdout",
     "output_type": "stream",
     "text": [
      "886\n",
      "2018-07-11\n",
      "113\n"
     ]
    },
    {
     "name": "stderr",
     "output_type": "stream",
     "text": [
      "INFO: Got 113 tweets (113 new).\n",
      "INFO: queries: ['FB OR AMZN OR AAPL OR NFLX OR GOOG OR FAANG AND stocks since:2018-07-13 until:2018-07-14']\n"
     ]
    },
    {
     "name": "stdout",
     "output_type": "stream",
     "text": [
      "887\n",
      "2018-07-12\n",
      "113\n"
     ]
    },
    {
     "name": "stderr",
     "output_type": "stream",
     "text": [
      "INFO: Got 106 tweets (106 new).\n",
      "INFO: queries: ['FB OR AMZN OR AAPL OR NFLX OR GOOG OR FAANG AND stocks since:2018-07-16 until:2018-07-17']\n"
     ]
    },
    {
     "name": "stdout",
     "output_type": "stream",
     "text": [
      "888\n",
      "2018-07-13\n",
      "106\n"
     ]
    },
    {
     "name": "stderr",
     "output_type": "stream",
     "text": [
      "INFO: Got 109 tweets (109 new).\n",
      "INFO: queries: ['FB OR AMZN OR AAPL OR NFLX OR GOOG OR FAANG AND stocks since:2018-07-17 until:2018-07-18']\n"
     ]
    },
    {
     "name": "stdout",
     "output_type": "stream",
     "text": [
      "889\n",
      "2018-07-16\n",
      "109\n"
     ]
    },
    {
     "name": "stderr",
     "output_type": "stream",
     "text": [
      "INFO: Got 104 tweets (104 new).\n",
      "INFO: queries: ['FB OR AMZN OR AAPL OR NFLX OR GOOG OR FAANG AND stocks since:2018-07-18 until:2018-07-19']\n"
     ]
    },
    {
     "name": "stdout",
     "output_type": "stream",
     "text": [
      "890\n",
      "2018-07-17\n",
      "104\n"
     ]
    },
    {
     "name": "stderr",
     "output_type": "stream",
     "text": [
      "INFO: Got 110 tweets (110 new).\n",
      "INFO: queries: ['FB OR AMZN OR AAPL OR NFLX OR GOOG OR FAANG AND stocks since:2018-07-19 until:2018-07-20']\n"
     ]
    },
    {
     "name": "stdout",
     "output_type": "stream",
     "text": [
      "891\n",
      "2018-07-18\n",
      "110\n"
     ]
    },
    {
     "name": "stderr",
     "output_type": "stream",
     "text": [
      "INFO: Got 106 tweets (106 new).\n",
      "INFO: queries: ['FB OR AMZN OR AAPL OR NFLX OR GOOG OR FAANG AND stocks since:2018-07-20 until:2018-07-21']\n"
     ]
    },
    {
     "name": "stdout",
     "output_type": "stream",
     "text": [
      "892\n",
      "2018-07-19\n",
      "106\n"
     ]
    },
    {
     "name": "stderr",
     "output_type": "stream",
     "text": [
      "INFO: Got 111 tweets (111 new).\n",
      "INFO: queries: ['FB OR AMZN OR AAPL OR NFLX OR GOOG OR FAANG AND stocks since:2018-07-23 until:2018-07-24']\n"
     ]
    },
    {
     "name": "stdout",
     "output_type": "stream",
     "text": [
      "893\n",
      "2018-07-20\n",
      "111\n"
     ]
    },
    {
     "name": "stderr",
     "output_type": "stream",
     "text": [
      "INFO: Got 104 tweets (104 new).\n",
      "INFO: queries: ['FB OR AMZN OR AAPL OR NFLX OR GOOG OR FAANG AND stocks since:2018-07-24 until:2018-07-25']\n"
     ]
    },
    {
     "name": "stdout",
     "output_type": "stream",
     "text": [
      "894\n",
      "2018-07-23\n",
      "104\n"
     ]
    },
    {
     "name": "stderr",
     "output_type": "stream",
     "text": [
      "INFO: Got 120 tweets (120 new).\n",
      "INFO: queries: ['FB OR AMZN OR AAPL OR NFLX OR GOOG OR FAANG AND stocks since:2018-07-25 until:2018-07-26']\n"
     ]
    },
    {
     "name": "stdout",
     "output_type": "stream",
     "text": [
      "895\n",
      "2018-07-24\n",
      "120\n"
     ]
    },
    {
     "name": "stderr",
     "output_type": "stream",
     "text": [
      "INFO: Got 118 tweets (118 new).\n",
      "INFO: queries: ['FB OR AMZN OR AAPL OR NFLX OR GOOG OR FAANG AND stocks since:2018-07-26 until:2018-07-27']\n"
     ]
    },
    {
     "name": "stdout",
     "output_type": "stream",
     "text": [
      "896\n",
      "2018-07-25\n",
      "118\n"
     ]
    },
    {
     "name": "stderr",
     "output_type": "stream",
     "text": [
      "INFO: Got 106 tweets (106 new).\n",
      "INFO: queries: ['FB OR AMZN OR AAPL OR NFLX OR GOOG OR FAANG AND stocks since:2018-07-27 until:2018-07-28']\n"
     ]
    },
    {
     "name": "stdout",
     "output_type": "stream",
     "text": [
      "897\n",
      "2018-07-26\n",
      "106\n"
     ]
    },
    {
     "name": "stderr",
     "output_type": "stream",
     "text": [
      "INFO: Got 105 tweets (105 new).\n",
      "INFO: queries: ['FB OR AMZN OR AAPL OR NFLX OR GOOG OR FAANG AND stocks since:2018-07-30 until:2018-07-31']\n"
     ]
    },
    {
     "name": "stdout",
     "output_type": "stream",
     "text": [
      "898\n",
      "2018-07-27\n",
      "105\n"
     ]
    },
    {
     "name": "stderr",
     "output_type": "stream",
     "text": [
      "INFO: Got 118 tweets (118 new).\n",
      "INFO: queries: ['FB OR AMZN OR AAPL OR NFLX OR GOOG OR FAANG AND stocks since:2018-07-31 until:2018-08-01']\n"
     ]
    },
    {
     "name": "stdout",
     "output_type": "stream",
     "text": [
      "899\n",
      "2018-07-30\n",
      "118\n"
     ]
    },
    {
     "name": "stderr",
     "output_type": "stream",
     "text": [
      "INFO: Got 103 tweets (103 new).\n",
      "INFO: queries: ['FB OR AMZN OR AAPL OR NFLX OR GOOG OR FAANG AND stocks since:2018-08-01 until:2018-08-02']\n"
     ]
    },
    {
     "name": "stdout",
     "output_type": "stream",
     "text": [
      "900\n",
      "2018-07-31\n",
      "103\n"
     ]
    },
    {
     "name": "stderr",
     "output_type": "stream",
     "text": [
      "INFO: Got 116 tweets (116 new).\n",
      "INFO: queries: ['FB OR AMZN OR AAPL OR NFLX OR GOOG OR FAANG AND stocks since:2018-08-02 until:2018-08-03']\n"
     ]
    },
    {
     "name": "stdout",
     "output_type": "stream",
     "text": [
      "901\n",
      "2018-08-01\n",
      "116\n"
     ]
    },
    {
     "name": "stderr",
     "output_type": "stream",
     "text": [
      "INFO: Got 115 tweets (115 new).\n",
      "INFO: queries: ['FB OR AMZN OR AAPL OR NFLX OR GOOG OR FAANG AND stocks since:2018-08-03 until:2018-08-04']\n"
     ]
    },
    {
     "name": "stdout",
     "output_type": "stream",
     "text": [
      "902\n",
      "2018-08-02\n",
      "115\n"
     ]
    },
    {
     "name": "stderr",
     "output_type": "stream",
     "text": [
      "INFO: Got 107 tweets (107 new).\n",
      "INFO: queries: ['FB OR AMZN OR AAPL OR NFLX OR GOOG OR FAANG AND stocks since:2018-08-06 until:2018-08-07']\n"
     ]
    },
    {
     "name": "stdout",
     "output_type": "stream",
     "text": [
      "903\n",
      "2018-08-03\n",
      "107\n"
     ]
    },
    {
     "name": "stderr",
     "output_type": "stream",
     "text": [
      "INFO: Got 111 tweets (111 new).\n",
      "INFO: queries: ['FB OR AMZN OR AAPL OR NFLX OR GOOG OR FAANG AND stocks since:2018-08-07 until:2018-08-08']\n"
     ]
    },
    {
     "name": "stdout",
     "output_type": "stream",
     "text": [
      "904\n",
      "2018-08-06\n",
      "111\n"
     ]
    },
    {
     "name": "stderr",
     "output_type": "stream",
     "text": [
      "INFO: Got 114 tweets (114 new).\n",
      "INFO: queries: ['FB OR AMZN OR AAPL OR NFLX OR GOOG OR FAANG AND stocks since:2018-08-08 until:2018-08-09']\n"
     ]
    },
    {
     "name": "stdout",
     "output_type": "stream",
     "text": [
      "905\n",
      "2018-08-07\n",
      "114\n"
     ]
    },
    {
     "name": "stderr",
     "output_type": "stream",
     "text": [
      "INFO: Got 110 tweets (110 new).\n",
      "INFO: queries: ['FB OR AMZN OR AAPL OR NFLX OR GOOG OR FAANG AND stocks since:2018-08-09 until:2018-08-10']\n"
     ]
    },
    {
     "name": "stdout",
     "output_type": "stream",
     "text": [
      "906\n",
      "2018-08-08\n",
      "110\n"
     ]
    },
    {
     "name": "stderr",
     "output_type": "stream",
     "text": [
      "INFO: Got 117 tweets (117 new).\n",
      "INFO: queries: ['FB OR AMZN OR AAPL OR NFLX OR GOOG OR FAANG AND stocks since:2018-08-10 until:2018-08-11']\n"
     ]
    },
    {
     "name": "stdout",
     "output_type": "stream",
     "text": [
      "907\n",
      "2018-08-09\n",
      "117\n"
     ]
    },
    {
     "name": "stderr",
     "output_type": "stream",
     "text": [
      "INFO: Got 108 tweets (108 new).\n",
      "INFO: queries: ['FB OR AMZN OR AAPL OR NFLX OR GOOG OR FAANG AND stocks since:2018-08-13 until:2018-08-14']\n"
     ]
    },
    {
     "name": "stdout",
     "output_type": "stream",
     "text": [
      "908\n",
      "2018-08-10\n",
      "108\n"
     ]
    },
    {
     "name": "stderr",
     "output_type": "stream",
     "text": [
      "INFO: Got 119 tweets (119 new).\n",
      "INFO: queries: ['FB OR AMZN OR AAPL OR NFLX OR GOOG OR FAANG AND stocks since:2018-08-14 until:2018-08-15']\n"
     ]
    },
    {
     "name": "stdout",
     "output_type": "stream",
     "text": [
      "909\n",
      "2018-08-13\n",
      "119\n"
     ]
    },
    {
     "name": "stderr",
     "output_type": "stream",
     "text": [
      "INFO: Got 112 tweets (112 new).\n",
      "INFO: queries: ['FB OR AMZN OR AAPL OR NFLX OR GOOG OR FAANG AND stocks since:2018-08-15 until:2018-08-16']\n"
     ]
    },
    {
     "name": "stdout",
     "output_type": "stream",
     "text": [
      "910\n",
      "2018-08-14\n",
      "112\n"
     ]
    },
    {
     "name": "stderr",
     "output_type": "stream",
     "text": [
      "INFO: Got 112 tweets (112 new).\n",
      "INFO: queries: ['FB OR AMZN OR AAPL OR NFLX OR GOOG OR FAANG AND stocks since:2018-08-16 until:2018-08-17']\n"
     ]
    },
    {
     "name": "stdout",
     "output_type": "stream",
     "text": [
      "911\n",
      "2018-08-15\n",
      "112\n"
     ]
    },
    {
     "name": "stderr",
     "output_type": "stream",
     "text": [
      "INFO: Got 109 tweets (109 new).\n",
      "INFO: queries: ['FB OR AMZN OR AAPL OR NFLX OR GOOG OR FAANG AND stocks since:2018-08-17 until:2018-08-18']\n"
     ]
    },
    {
     "name": "stdout",
     "output_type": "stream",
     "text": [
      "912\n",
      "2018-08-16\n",
      "109\n"
     ]
    },
    {
     "name": "stderr",
     "output_type": "stream",
     "text": [
      "INFO: Got 113 tweets (113 new).\n",
      "INFO: queries: ['FB OR AMZN OR AAPL OR NFLX OR GOOG OR FAANG AND stocks since:2018-08-20 until:2018-08-21']\n"
     ]
    },
    {
     "name": "stdout",
     "output_type": "stream",
     "text": [
      "913\n",
      "2018-08-17\n",
      "113\n"
     ]
    },
    {
     "name": "stderr",
     "output_type": "stream",
     "text": [
      "INFO: Got 108 tweets (108 new).\n",
      "INFO: queries: ['FB OR AMZN OR AAPL OR NFLX OR GOOG OR FAANG AND stocks since:2018-08-21 until:2018-08-22']\n"
     ]
    },
    {
     "name": "stdout",
     "output_type": "stream",
     "text": [
      "914\n",
      "2018-08-20\n",
      "108\n"
     ]
    },
    {
     "name": "stderr",
     "output_type": "stream",
     "text": [
      "INFO: Got 110 tweets (110 new).\n",
      "INFO: queries: ['FB OR AMZN OR AAPL OR NFLX OR GOOG OR FAANG AND stocks since:2018-08-22 until:2018-08-23']\n"
     ]
    },
    {
     "name": "stdout",
     "output_type": "stream",
     "text": [
      "915\n",
      "2018-08-21\n",
      "110\n"
     ]
    },
    {
     "name": "stderr",
     "output_type": "stream",
     "text": [
      "INFO: Got 109 tweets (109 new).\n",
      "INFO: queries: ['FB OR AMZN OR AAPL OR NFLX OR GOOG OR FAANG AND stocks since:2018-08-23 until:2018-08-24']\n"
     ]
    },
    {
     "name": "stdout",
     "output_type": "stream",
     "text": [
      "916\n",
      "2018-08-22\n",
      "109\n"
     ]
    },
    {
     "name": "stderr",
     "output_type": "stream",
     "text": [
      "INFO: Got 116 tweets (116 new).\n",
      "INFO: queries: ['FB OR AMZN OR AAPL OR NFLX OR GOOG OR FAANG AND stocks since:2018-08-24 until:2018-08-25']\n"
     ]
    },
    {
     "name": "stdout",
     "output_type": "stream",
     "text": [
      "917\n",
      "2018-08-23\n",
      "116\n"
     ]
    },
    {
     "name": "stderr",
     "output_type": "stream",
     "text": [
      "INFO: Got 112 tweets (112 new).\n",
      "INFO: queries: ['FB OR AMZN OR AAPL OR NFLX OR GOOG OR FAANG AND stocks since:2018-08-27 until:2018-08-28']\n"
     ]
    },
    {
     "name": "stdout",
     "output_type": "stream",
     "text": [
      "918\n",
      "2018-08-24\n",
      "112\n"
     ]
    },
    {
     "name": "stderr",
     "output_type": "stream",
     "text": [
      "INFO: Got 103 tweets (103 new).\n",
      "INFO: queries: ['FB OR AMZN OR AAPL OR NFLX OR GOOG OR FAANG AND stocks since:2018-08-28 until:2018-08-29']\n"
     ]
    },
    {
     "name": "stdout",
     "output_type": "stream",
     "text": [
      "919\n",
      "2018-08-27\n",
      "103\n"
     ]
    },
    {
     "name": "stderr",
     "output_type": "stream",
     "text": [
      "INFO: Got 107 tweets (107 new).\n",
      "INFO: queries: ['FB OR AMZN OR AAPL OR NFLX OR GOOG OR FAANG AND stocks since:2018-08-29 until:2018-08-30']\n"
     ]
    },
    {
     "name": "stdout",
     "output_type": "stream",
     "text": [
      "920\n",
      "2018-08-28\n",
      "107\n"
     ]
    },
    {
     "name": "stderr",
     "output_type": "stream",
     "text": [
      "INFO: Got 109 tweets (109 new).\n",
      "INFO: queries: ['FB OR AMZN OR AAPL OR NFLX OR GOOG OR FAANG AND stocks since:2018-08-30 until:2018-08-31']\n"
     ]
    },
    {
     "name": "stdout",
     "output_type": "stream",
     "text": [
      "921\n",
      "2018-08-29\n",
      "109\n"
     ]
    },
    {
     "name": "stderr",
     "output_type": "stream",
     "text": [
      "INFO: Got 107 tweets (107 new).\n",
      "INFO: queries: ['FB OR AMZN OR AAPL OR NFLX OR GOOG OR FAANG AND stocks since:2018-08-31 until:2018-09-01']\n"
     ]
    },
    {
     "name": "stdout",
     "output_type": "stream",
     "text": [
      "922\n",
      "2018-08-30\n",
      "107\n"
     ]
    },
    {
     "name": "stderr",
     "output_type": "stream",
     "text": [
      "INFO: Got 119 tweets (119 new).\n",
      "INFO: queries: ['FB OR AMZN OR AAPL OR NFLX OR GOOG OR FAANG AND stocks since:2018-09-04 until:2018-09-05']\n"
     ]
    },
    {
     "name": "stdout",
     "output_type": "stream",
     "text": [
      "923\n",
      "2018-08-31\n",
      "119\n"
     ]
    },
    {
     "name": "stderr",
     "output_type": "stream",
     "text": [
      "INFO: Got 117 tweets (117 new).\n",
      "INFO: queries: ['FB OR AMZN OR AAPL OR NFLX OR GOOG OR FAANG AND stocks since:2018-09-05 until:2018-09-06']\n"
     ]
    },
    {
     "name": "stdout",
     "output_type": "stream",
     "text": [
      "924\n",
      "2018-09-04\n",
      "117\n"
     ]
    },
    {
     "name": "stderr",
     "output_type": "stream",
     "text": [
      "INFO: Got 115 tweets (115 new).\n",
      "INFO: queries: ['FB OR AMZN OR AAPL OR NFLX OR GOOG OR FAANG AND stocks since:2018-09-06 until:2018-09-07']\n"
     ]
    },
    {
     "name": "stdout",
     "output_type": "stream",
     "text": [
      "925\n",
      "2018-09-05\n",
      "115\n"
     ]
    },
    {
     "name": "stderr",
     "output_type": "stream",
     "text": [
      "INFO: Got 110 tweets (110 new).\n",
      "INFO: queries: ['FB OR AMZN OR AAPL OR NFLX OR GOOG OR FAANG AND stocks since:2018-09-07 until:2018-09-08']\n"
     ]
    },
    {
     "name": "stdout",
     "output_type": "stream",
     "text": [
      "926\n",
      "2018-09-06\n",
      "110\n"
     ]
    },
    {
     "name": "stderr",
     "output_type": "stream",
     "text": [
      "INFO: Got 105 tweets (105 new).\n",
      "INFO: queries: ['FB OR AMZN OR AAPL OR NFLX OR GOOG OR FAANG AND stocks since:2018-09-10 until:2018-09-11']\n"
     ]
    },
    {
     "name": "stdout",
     "output_type": "stream",
     "text": [
      "927\n",
      "2018-09-07\n",
      "105\n"
     ]
    },
    {
     "name": "stderr",
     "output_type": "stream",
     "text": [
      "INFO: Got 118 tweets (118 new).\n",
      "INFO: queries: ['FB OR AMZN OR AAPL OR NFLX OR GOOG OR FAANG AND stocks since:2018-09-11 until:2018-09-12']\n"
     ]
    },
    {
     "name": "stdout",
     "output_type": "stream",
     "text": [
      "928\n",
      "2018-09-10\n",
      "118\n"
     ]
    },
    {
     "name": "stderr",
     "output_type": "stream",
     "text": [
      "INFO: Got 117 tweets (117 new).\n",
      "INFO: queries: ['FB OR AMZN OR AAPL OR NFLX OR GOOG OR FAANG AND stocks since:2018-09-12 until:2018-09-13']\n"
     ]
    },
    {
     "name": "stdout",
     "output_type": "stream",
     "text": [
      "929\n",
      "2018-09-11\n",
      "117\n"
     ]
    },
    {
     "name": "stderr",
     "output_type": "stream",
     "text": [
      "INFO: Got 108 tweets (108 new).\n",
      "INFO: queries: ['FB OR AMZN OR AAPL OR NFLX OR GOOG OR FAANG AND stocks since:2018-09-13 until:2018-09-14']\n"
     ]
    },
    {
     "name": "stdout",
     "output_type": "stream",
     "text": [
      "930\n",
      "2018-09-12\n",
      "108\n"
     ]
    },
    {
     "name": "stderr",
     "output_type": "stream",
     "text": [
      "INFO: Got 108 tweets (108 new).\n",
      "INFO: queries: ['FB OR AMZN OR AAPL OR NFLX OR GOOG OR FAANG AND stocks since:2018-09-14 until:2018-09-15']\n"
     ]
    },
    {
     "name": "stdout",
     "output_type": "stream",
     "text": [
      "931\n",
      "2018-09-13\n",
      "108\n"
     ]
    },
    {
     "name": "stderr",
     "output_type": "stream",
     "text": [
      "INFO: Got 106 tweets (106 new).\n",
      "INFO: queries: ['FB OR AMZN OR AAPL OR NFLX OR GOOG OR FAANG AND stocks since:2018-09-17 until:2018-09-18']\n"
     ]
    },
    {
     "name": "stdout",
     "output_type": "stream",
     "text": [
      "932\n",
      "2018-09-14\n",
      "106\n"
     ]
    },
    {
     "name": "stderr",
     "output_type": "stream",
     "text": [
      "INFO: Got 118 tweets (118 new).\n",
      "INFO: queries: ['FB OR AMZN OR AAPL OR NFLX OR GOOG OR FAANG AND stocks since:2018-09-18 until:2018-09-19']\n"
     ]
    },
    {
     "name": "stdout",
     "output_type": "stream",
     "text": [
      "933\n",
      "2018-09-17\n",
      "118\n"
     ]
    },
    {
     "name": "stderr",
     "output_type": "stream",
     "text": [
      "INFO: Got 114 tweets (114 new).\n",
      "INFO: queries: ['FB OR AMZN OR AAPL OR NFLX OR GOOG OR FAANG AND stocks since:2018-09-19 until:2018-09-20']\n"
     ]
    },
    {
     "name": "stdout",
     "output_type": "stream",
     "text": [
      "934\n",
      "2018-09-18\n",
      "114\n"
     ]
    },
    {
     "name": "stderr",
     "output_type": "stream",
     "text": [
      "INFO: Got 114 tweets (114 new).\n",
      "INFO: queries: ['FB OR AMZN OR AAPL OR NFLX OR GOOG OR FAANG AND stocks since:2018-09-20 until:2018-09-21']\n"
     ]
    },
    {
     "name": "stdout",
     "output_type": "stream",
     "text": [
      "935\n",
      "2018-09-19\n",
      "114\n"
     ]
    },
    {
     "name": "stderr",
     "output_type": "stream",
     "text": [
      "INFO: Got 115 tweets (115 new).\n",
      "INFO: queries: ['FB OR AMZN OR AAPL OR NFLX OR GOOG OR FAANG AND stocks since:2018-09-21 until:2018-09-22']\n"
     ]
    },
    {
     "name": "stdout",
     "output_type": "stream",
     "text": [
      "936\n",
      "2018-09-20\n",
      "115\n"
     ]
    },
    {
     "name": "stderr",
     "output_type": "stream",
     "text": [
      "INFO: Got 116 tweets (116 new).\n",
      "INFO: queries: ['FB OR AMZN OR AAPL OR NFLX OR GOOG OR FAANG AND stocks since:2018-09-24 until:2018-09-25']\n"
     ]
    },
    {
     "name": "stdout",
     "output_type": "stream",
     "text": [
      "937\n",
      "2018-09-21\n",
      "116\n"
     ]
    },
    {
     "name": "stderr",
     "output_type": "stream",
     "text": [
      "INFO: Got 116 tweets (116 new).\n",
      "INFO: queries: ['FB OR AMZN OR AAPL OR NFLX OR GOOG OR FAANG AND stocks since:2018-09-25 until:2018-09-26']\n"
     ]
    },
    {
     "name": "stdout",
     "output_type": "stream",
     "text": [
      "938\n",
      "2018-09-24\n",
      "116\n"
     ]
    },
    {
     "name": "stderr",
     "output_type": "stream",
     "text": [
      "INFO: Got 117 tweets (117 new).\n",
      "INFO: queries: ['FB OR AMZN OR AAPL OR NFLX OR GOOG OR FAANG AND stocks since:2018-09-26 until:2018-09-27']\n"
     ]
    },
    {
     "name": "stdout",
     "output_type": "stream",
     "text": [
      "939\n",
      "2018-09-25\n",
      "117\n"
     ]
    },
    {
     "name": "stderr",
     "output_type": "stream",
     "text": [
      "INFO: Got 103 tweets (103 new).\n",
      "INFO: queries: ['FB OR AMZN OR AAPL OR NFLX OR GOOG OR FAANG AND stocks since:2018-09-27 until:2018-09-28']\n"
     ]
    },
    {
     "name": "stdout",
     "output_type": "stream",
     "text": [
      "940\n",
      "2018-09-26\n",
      "103\n"
     ]
    },
    {
     "name": "stderr",
     "output_type": "stream",
     "text": [
      "INFO: Got 112 tweets (112 new).\n",
      "INFO: queries: ['FB OR AMZN OR AAPL OR NFLX OR GOOG OR FAANG AND stocks since:2018-09-28 until:2018-09-29']\n"
     ]
    },
    {
     "name": "stdout",
     "output_type": "stream",
     "text": [
      "941\n",
      "2018-09-27\n",
      "112\n"
     ]
    },
    {
     "name": "stderr",
     "output_type": "stream",
     "text": [
      "INFO: Got 112 tweets (112 new).\n",
      "INFO: queries: ['FB OR AMZN OR AAPL OR NFLX OR GOOG OR FAANG AND stocks since:2018-10-01 until:2018-10-02']\n"
     ]
    },
    {
     "name": "stdout",
     "output_type": "stream",
     "text": [
      "942\n",
      "2018-09-28\n",
      "112\n"
     ]
    },
    {
     "name": "stderr",
     "output_type": "stream",
     "text": [
      "INFO: Got 117 tweets (117 new).\n",
      "INFO: queries: ['FB OR AMZN OR AAPL OR NFLX OR GOOG OR FAANG AND stocks since:2018-10-02 until:2018-10-03']\n"
     ]
    },
    {
     "name": "stdout",
     "output_type": "stream",
     "text": [
      "943\n",
      "2018-10-01\n",
      "117\n"
     ]
    },
    {
     "name": "stderr",
     "output_type": "stream",
     "text": [
      "INFO: Got 116 tweets (116 new).\n",
      "INFO: queries: ['FB OR AMZN OR AAPL OR NFLX OR GOOG OR FAANG AND stocks since:2018-10-03 until:2018-10-04']\n"
     ]
    },
    {
     "name": "stdout",
     "output_type": "stream",
     "text": [
      "944\n",
      "2018-10-02\n",
      "116\n"
     ]
    },
    {
     "name": "stderr",
     "output_type": "stream",
     "text": [
      "INFO: Got 113 tweets (113 new).\n",
      "INFO: queries: ['FB OR AMZN OR AAPL OR NFLX OR GOOG OR FAANG AND stocks since:2018-10-04 until:2018-10-05']\n"
     ]
    },
    {
     "name": "stdout",
     "output_type": "stream",
     "text": [
      "945\n",
      "2018-10-03\n",
      "113\n"
     ]
    },
    {
     "name": "stderr",
     "output_type": "stream",
     "text": [
      "INFO: Got 114 tweets (114 new).\n",
      "INFO: queries: ['FB OR AMZN OR AAPL OR NFLX OR GOOG OR FAANG AND stocks since:2018-10-05 until:2018-10-06']\n"
     ]
    },
    {
     "name": "stdout",
     "output_type": "stream",
     "text": [
      "946\n",
      "2018-10-04\n",
      "114\n"
     ]
    },
    {
     "name": "stderr",
     "output_type": "stream",
     "text": [
      "INFO: Got 115 tweets (115 new).\n",
      "INFO: queries: ['FB OR AMZN OR AAPL OR NFLX OR GOOG OR FAANG AND stocks since:2018-10-08 until:2018-10-09']\n"
     ]
    },
    {
     "name": "stdout",
     "output_type": "stream",
     "text": [
      "947\n",
      "2018-10-05\n",
      "115\n"
     ]
    },
    {
     "name": "stderr",
     "output_type": "stream",
     "text": [
      "INFO: Got 116 tweets (116 new).\n",
      "INFO: queries: ['FB OR AMZN OR AAPL OR NFLX OR GOOG OR FAANG AND stocks since:2018-10-09 until:2018-10-10']\n"
     ]
    },
    {
     "name": "stdout",
     "output_type": "stream",
     "text": [
      "948\n",
      "2018-10-08\n",
      "116\n"
     ]
    },
    {
     "name": "stderr",
     "output_type": "stream",
     "text": [
      "INFO: Got 111 tweets (111 new).\n",
      "INFO: queries: ['FB OR AMZN OR AAPL OR NFLX OR GOOG OR FAANG AND stocks since:2018-10-10 until:2018-10-11']\n"
     ]
    },
    {
     "name": "stdout",
     "output_type": "stream",
     "text": [
      "949\n",
      "2018-10-09\n",
      "111\n"
     ]
    },
    {
     "name": "stderr",
     "output_type": "stream",
     "text": [
      "INFO: Got 117 tweets (117 new).\n",
      "INFO: queries: ['FB OR AMZN OR AAPL OR NFLX OR GOOG OR FAANG AND stocks since:2018-10-11 until:2018-10-12']\n"
     ]
    },
    {
     "name": "stdout",
     "output_type": "stream",
     "text": [
      "950\n",
      "2018-10-10\n",
      "117\n"
     ]
    },
    {
     "name": "stderr",
     "output_type": "stream",
     "text": [
      "INFO: Got 118 tweets (118 new).\n",
      "INFO: queries: ['FB OR AMZN OR AAPL OR NFLX OR GOOG OR FAANG AND stocks since:2018-10-12 until:2018-10-13']\n"
     ]
    },
    {
     "name": "stdout",
     "output_type": "stream",
     "text": [
      "951\n",
      "2018-10-11\n",
      "118\n"
     ]
    },
    {
     "name": "stderr",
     "output_type": "stream",
     "text": [
      "INFO: Got 108 tweets (108 new).\n",
      "INFO: queries: ['FB OR AMZN OR AAPL OR NFLX OR GOOG OR FAANG AND stocks since:2018-10-15 until:2018-10-16']\n"
     ]
    },
    {
     "name": "stdout",
     "output_type": "stream",
     "text": [
      "952\n",
      "2018-10-12\n",
      "108\n"
     ]
    },
    {
     "name": "stderr",
     "output_type": "stream",
     "text": [
      "INFO: Got 109 tweets (109 new).\n",
      "INFO: queries: ['FB OR AMZN OR AAPL OR NFLX OR GOOG OR FAANG AND stocks since:2018-10-16 until:2018-10-17']\n"
     ]
    },
    {
     "name": "stdout",
     "output_type": "stream",
     "text": [
      "953\n",
      "2018-10-15\n",
      "109\n"
     ]
    },
    {
     "name": "stderr",
     "output_type": "stream",
     "text": [
      "INFO: Got 113 tweets (113 new).\n",
      "INFO: queries: ['FB OR AMZN OR AAPL OR NFLX OR GOOG OR FAANG AND stocks since:2018-10-17 until:2018-10-18']\n"
     ]
    },
    {
     "name": "stdout",
     "output_type": "stream",
     "text": [
      "954\n",
      "2018-10-16\n",
      "113\n"
     ]
    },
    {
     "name": "stderr",
     "output_type": "stream",
     "text": [
      "INFO: Got 106 tweets (106 new).\n",
      "INFO: queries: ['FB OR AMZN OR AAPL OR NFLX OR GOOG OR FAANG AND stocks since:2018-10-18 until:2018-10-19']\n"
     ]
    },
    {
     "name": "stdout",
     "output_type": "stream",
     "text": [
      "955\n",
      "2018-10-17\n",
      "106\n"
     ]
    },
    {
     "name": "stderr",
     "output_type": "stream",
     "text": [
      "INFO: Got 107 tweets (107 new).\n",
      "INFO: queries: ['FB OR AMZN OR AAPL OR NFLX OR GOOG OR FAANG AND stocks since:2018-10-19 until:2018-10-20']\n"
     ]
    },
    {
     "name": "stdout",
     "output_type": "stream",
     "text": [
      "956\n",
      "2018-10-18\n",
      "107\n"
     ]
    },
    {
     "name": "stderr",
     "output_type": "stream",
     "text": [
      "INFO: Got 103 tweets (103 new).\n",
      "INFO: queries: ['FB OR AMZN OR AAPL OR NFLX OR GOOG OR FAANG AND stocks since:2018-10-22 until:2018-10-23']\n"
     ]
    },
    {
     "name": "stdout",
     "output_type": "stream",
     "text": [
      "957\n",
      "2018-10-19\n",
      "103\n"
     ]
    },
    {
     "name": "stderr",
     "output_type": "stream",
     "text": [
      "INFO: Got 116 tweets (116 new).\n",
      "INFO: queries: ['FB OR AMZN OR AAPL OR NFLX OR GOOG OR FAANG AND stocks since:2018-10-23 until:2018-10-24']\n"
     ]
    },
    {
     "name": "stdout",
     "output_type": "stream",
     "text": [
      "958\n",
      "2018-10-22\n",
      "116\n"
     ]
    },
    {
     "name": "stderr",
     "output_type": "stream",
     "text": [
      "INFO: Got 111 tweets (111 new).\n",
      "INFO: queries: ['FB OR AMZN OR AAPL OR NFLX OR GOOG OR FAANG AND stocks since:2018-10-24 until:2018-10-25']\n"
     ]
    },
    {
     "name": "stdout",
     "output_type": "stream",
     "text": [
      "959\n",
      "2018-10-23\n",
      "111\n"
     ]
    },
    {
     "name": "stderr",
     "output_type": "stream",
     "text": [
      "INFO: Got 119 tweets (119 new).\n",
      "INFO: queries: ['FB OR AMZN OR AAPL OR NFLX OR GOOG OR FAANG AND stocks since:2018-10-25 until:2018-10-26']\n"
     ]
    },
    {
     "name": "stdout",
     "output_type": "stream",
     "text": [
      "960\n",
      "2018-10-24\n",
      "119\n"
     ]
    },
    {
     "name": "stderr",
     "output_type": "stream",
     "text": [
      "INFO: Got 115 tweets (115 new).\n",
      "INFO: queries: ['FB OR AMZN OR AAPL OR NFLX OR GOOG OR FAANG AND stocks since:2018-10-26 until:2018-10-27']\n"
     ]
    },
    {
     "name": "stdout",
     "output_type": "stream",
     "text": [
      "961\n",
      "2018-10-25\n",
      "115\n"
     ]
    },
    {
     "name": "stderr",
     "output_type": "stream",
     "text": [
      "INFO: Got 110 tweets (110 new).\n",
      "INFO: queries: ['FB OR AMZN OR AAPL OR NFLX OR GOOG OR FAANG AND stocks since:2018-10-29 until:2018-10-30']\n"
     ]
    },
    {
     "name": "stdout",
     "output_type": "stream",
     "text": [
      "962\n",
      "2018-10-26\n",
      "110\n"
     ]
    },
    {
     "name": "stderr",
     "output_type": "stream",
     "text": [
      "INFO: Got 113 tweets (113 new).\n",
      "INFO: queries: ['FB OR AMZN OR AAPL OR NFLX OR GOOG OR FAANG AND stocks since:2018-10-30 until:2018-10-31']\n"
     ]
    },
    {
     "name": "stdout",
     "output_type": "stream",
     "text": [
      "963\n",
      "2018-10-29\n",
      "113\n"
     ]
    },
    {
     "name": "stderr",
     "output_type": "stream",
     "text": [
      "INFO: Got 113 tweets (113 new).\n",
      "INFO: queries: ['FB OR AMZN OR AAPL OR NFLX OR GOOG OR FAANG AND stocks since:2018-10-31 until:2018-11-01']\n"
     ]
    },
    {
     "name": "stdout",
     "output_type": "stream",
     "text": [
      "964\n",
      "2018-10-30\n",
      "113\n"
     ]
    },
    {
     "name": "stderr",
     "output_type": "stream",
     "text": [
      "INFO: Got 110 tweets (110 new).\n",
      "INFO: queries: ['FB OR AMZN OR AAPL OR NFLX OR GOOG OR FAANG AND stocks since:2018-11-01 until:2018-11-02']\n"
     ]
    },
    {
     "name": "stdout",
     "output_type": "stream",
     "text": [
      "965\n",
      "2018-10-31\n",
      "110\n"
     ]
    },
    {
     "name": "stderr",
     "output_type": "stream",
     "text": [
      "INFO: Got 112 tweets (112 new).\n",
      "INFO: queries: ['FB OR AMZN OR AAPL OR NFLX OR GOOG OR FAANG AND stocks since:2018-11-02 until:2018-11-03']\n"
     ]
    },
    {
     "name": "stdout",
     "output_type": "stream",
     "text": [
      "966\n",
      "2018-11-01\n",
      "112\n"
     ]
    },
    {
     "name": "stderr",
     "output_type": "stream",
     "text": [
      "INFO: Got 119 tweets (119 new).\n",
      "INFO: queries: ['FB OR AMZN OR AAPL OR NFLX OR GOOG OR FAANG AND stocks since:2018-11-05 until:2018-11-06']\n"
     ]
    },
    {
     "name": "stdout",
     "output_type": "stream",
     "text": [
      "967\n",
      "2018-11-02\n",
      "119\n"
     ]
    },
    {
     "name": "stderr",
     "output_type": "stream",
     "text": [
      "INFO: Got 113 tweets (113 new).\n",
      "INFO: queries: ['FB OR AMZN OR AAPL OR NFLX OR GOOG OR FAANG AND stocks since:2018-11-06 until:2018-11-07']\n"
     ]
    },
    {
     "name": "stdout",
     "output_type": "stream",
     "text": [
      "968\n",
      "2018-11-05\n",
      "113\n"
     ]
    },
    {
     "name": "stderr",
     "output_type": "stream",
     "text": [
      "INFO: Got 119 tweets (119 new).\n",
      "INFO: queries: ['FB OR AMZN OR AAPL OR NFLX OR GOOG OR FAANG AND stocks since:2018-11-07 until:2018-11-08']\n"
     ]
    },
    {
     "name": "stdout",
     "output_type": "stream",
     "text": [
      "969\n",
      "2018-11-06\n",
      "119\n"
     ]
    },
    {
     "name": "stderr",
     "output_type": "stream",
     "text": [
      "INFO: Got 111 tweets (111 new).\n",
      "INFO: queries: ['FB OR AMZN OR AAPL OR NFLX OR GOOG OR FAANG AND stocks since:2018-11-08 until:2018-11-09']\n"
     ]
    },
    {
     "name": "stdout",
     "output_type": "stream",
     "text": [
      "970\n",
      "2018-11-07\n",
      "111\n"
     ]
    },
    {
     "name": "stderr",
     "output_type": "stream",
     "text": [
      "INFO: Got 106 tweets (106 new).\n",
      "INFO: queries: ['FB OR AMZN OR AAPL OR NFLX OR GOOG OR FAANG AND stocks since:2018-11-09 until:2018-11-10']\n"
     ]
    },
    {
     "name": "stdout",
     "output_type": "stream",
     "text": [
      "971\n",
      "2018-11-08\n",
      "106\n"
     ]
    },
    {
     "name": "stderr",
     "output_type": "stream",
     "text": [
      "INFO: Got 105 tweets (105 new).\n",
      "INFO: queries: ['FB OR AMZN OR AAPL OR NFLX OR GOOG OR FAANG AND stocks since:2018-11-12 until:2018-11-13']\n"
     ]
    },
    {
     "name": "stdout",
     "output_type": "stream",
     "text": [
      "972\n",
      "2018-11-09\n",
      "105\n"
     ]
    },
    {
     "name": "stderr",
     "output_type": "stream",
     "text": [
      "INFO: Got 111 tweets (111 new).\n",
      "INFO: queries: ['FB OR AMZN OR AAPL OR NFLX OR GOOG OR FAANG AND stocks since:2018-11-13 until:2018-11-14']\n"
     ]
    },
    {
     "name": "stdout",
     "output_type": "stream",
     "text": [
      "973\n",
      "2018-11-12\n",
      "111\n"
     ]
    },
    {
     "name": "stderr",
     "output_type": "stream",
     "text": [
      "INFO: Got 111 tweets (111 new).\n",
      "INFO: queries: ['FB OR AMZN OR AAPL OR NFLX OR GOOG OR FAANG AND stocks since:2018-11-14 until:2018-11-15']\n"
     ]
    },
    {
     "name": "stdout",
     "output_type": "stream",
     "text": [
      "974\n",
      "2018-11-13\n",
      "111\n"
     ]
    },
    {
     "name": "stderr",
     "output_type": "stream",
     "text": [
      "INFO: Got 110 tweets (110 new).\n",
      "INFO: queries: ['FB OR AMZN OR AAPL OR NFLX OR GOOG OR FAANG AND stocks since:2018-11-15 until:2018-11-16']\n"
     ]
    },
    {
     "name": "stdout",
     "output_type": "stream",
     "text": [
      "975\n",
      "2018-11-14\n",
      "110\n"
     ]
    },
    {
     "name": "stderr",
     "output_type": "stream",
     "text": [
      "INFO: Got 111 tweets (111 new).\n",
      "INFO: queries: ['FB OR AMZN OR AAPL OR NFLX OR GOOG OR FAANG AND stocks since:2018-11-16 until:2018-11-17']\n"
     ]
    },
    {
     "name": "stdout",
     "output_type": "stream",
     "text": [
      "976\n",
      "2018-11-15\n",
      "111\n"
     ]
    },
    {
     "name": "stderr",
     "output_type": "stream",
     "text": [
      "INFO: Got 113 tweets (113 new).\n",
      "INFO: queries: ['FB OR AMZN OR AAPL OR NFLX OR GOOG OR FAANG AND stocks since:2018-11-19 until:2018-11-20']\n"
     ]
    },
    {
     "name": "stdout",
     "output_type": "stream",
     "text": [
      "977\n",
      "2018-11-16\n",
      "113\n"
     ]
    },
    {
     "name": "stderr",
     "output_type": "stream",
     "text": [
      "INFO: Got 119 tweets (119 new).\n",
      "INFO: queries: ['FB OR AMZN OR AAPL OR NFLX OR GOOG OR FAANG AND stocks since:2018-11-20 until:2018-11-21']\n"
     ]
    },
    {
     "name": "stdout",
     "output_type": "stream",
     "text": [
      "978\n",
      "2018-11-19\n",
      "119\n"
     ]
    },
    {
     "name": "stderr",
     "output_type": "stream",
     "text": [
      "INFO: Got 118 tweets (118 new).\n",
      "INFO: queries: ['FB OR AMZN OR AAPL OR NFLX OR GOOG OR FAANG AND stocks since:2018-11-21 until:2018-11-22']\n"
     ]
    },
    {
     "name": "stdout",
     "output_type": "stream",
     "text": [
      "979\n",
      "2018-11-20\n",
      "118\n"
     ]
    },
    {
     "name": "stderr",
     "output_type": "stream",
     "text": [
      "INFO: Got 111 tweets (111 new).\n",
      "INFO: queries: ['FB OR AMZN OR AAPL OR NFLX OR GOOG OR FAANG AND stocks since:2018-11-23 until:2018-11-24']\n"
     ]
    },
    {
     "name": "stdout",
     "output_type": "stream",
     "text": [
      "980\n",
      "2018-11-21\n",
      "111\n"
     ]
    },
    {
     "name": "stderr",
     "output_type": "stream",
     "text": [
      "INFO: Got 114 tweets (114 new).\n",
      "INFO: queries: ['FB OR AMZN OR AAPL OR NFLX OR GOOG OR FAANG AND stocks since:2018-11-26 until:2018-11-27']\n"
     ]
    },
    {
     "name": "stdout",
     "output_type": "stream",
     "text": [
      "981\n",
      "2018-11-23\n",
      "114\n"
     ]
    },
    {
     "name": "stderr",
     "output_type": "stream",
     "text": [
      "INFO: Got 111 tweets (111 new).\n",
      "INFO: queries: ['FB OR AMZN OR AAPL OR NFLX OR GOOG OR FAANG AND stocks since:2018-11-27 until:2018-11-28']\n"
     ]
    },
    {
     "name": "stdout",
     "output_type": "stream",
     "text": [
      "982\n",
      "2018-11-26\n",
      "111\n"
     ]
    },
    {
     "name": "stderr",
     "output_type": "stream",
     "text": [
      "INFO: Got 114 tweets (114 new).\n",
      "INFO: queries: ['FB OR AMZN OR AAPL OR NFLX OR GOOG OR FAANG AND stocks since:2018-11-28 until:2018-11-29']\n"
     ]
    },
    {
     "name": "stdout",
     "output_type": "stream",
     "text": [
      "983\n",
      "2018-11-27\n",
      "114\n"
     ]
    },
    {
     "name": "stderr",
     "output_type": "stream",
     "text": [
      "INFO: Got 104 tweets (104 new).\n",
      "INFO: queries: ['FB OR AMZN OR AAPL OR NFLX OR GOOG OR FAANG AND stocks since:2018-11-29 until:2018-11-30']\n"
     ]
    },
    {
     "name": "stdout",
     "output_type": "stream",
     "text": [
      "984\n",
      "2018-11-28\n",
      "104\n"
     ]
    },
    {
     "name": "stderr",
     "output_type": "stream",
     "text": [
      "INFO: Got 114 tweets (114 new).\n",
      "INFO: queries: ['FB OR AMZN OR AAPL OR NFLX OR GOOG OR FAANG AND stocks since:2018-11-30 until:2018-12-01']\n"
     ]
    },
    {
     "name": "stdout",
     "output_type": "stream",
     "text": [
      "985\n",
      "2018-11-29\n",
      "114\n"
     ]
    },
    {
     "name": "stderr",
     "output_type": "stream",
     "text": [
      "INFO: Got 113 tweets (113 new).\n",
      "INFO: queries: ['FB OR AMZN OR AAPL OR NFLX OR GOOG OR FAANG AND stocks since:2018-12-03 until:2018-12-04']\n"
     ]
    },
    {
     "name": "stdout",
     "output_type": "stream",
     "text": [
      "986\n",
      "2018-11-30\n",
      "113\n"
     ]
    },
    {
     "name": "stderr",
     "output_type": "stream",
     "text": [
      "INFO: Got 101 tweets (101 new).\n",
      "INFO: queries: ['FB OR AMZN OR AAPL OR NFLX OR GOOG OR FAANG AND stocks since:2018-12-04 until:2018-12-05']\n"
     ]
    },
    {
     "name": "stdout",
     "output_type": "stream",
     "text": [
      "987\n",
      "2018-12-03\n",
      "101\n"
     ]
    },
    {
     "name": "stderr",
     "output_type": "stream",
     "text": [
      "INFO: Got 116 tweets (116 new).\n",
      "INFO: queries: ['FB OR AMZN OR AAPL OR NFLX OR GOOG OR FAANG AND stocks since:2018-12-06 until:2018-12-07']\n"
     ]
    },
    {
     "name": "stdout",
     "output_type": "stream",
     "text": [
      "988\n",
      "2018-12-04\n",
      "116\n"
     ]
    },
    {
     "name": "stderr",
     "output_type": "stream",
     "text": [
      "INFO: Got 114 tweets (114 new).\n",
      "INFO: queries: ['FB OR AMZN OR AAPL OR NFLX OR GOOG OR FAANG AND stocks since:2018-12-07 until:2018-12-08']\n"
     ]
    },
    {
     "name": "stdout",
     "output_type": "stream",
     "text": [
      "989\n",
      "2018-12-06\n",
      "114\n"
     ]
    },
    {
     "name": "stderr",
     "output_type": "stream",
     "text": [
      "INFO: Got 111 tweets (111 new).\n",
      "INFO: queries: ['FB OR AMZN OR AAPL OR NFLX OR GOOG OR FAANG AND stocks since:2018-12-10 until:2018-12-11']\n"
     ]
    },
    {
     "name": "stdout",
     "output_type": "stream",
     "text": [
      "990\n",
      "2018-12-07\n",
      "111\n"
     ]
    },
    {
     "name": "stderr",
     "output_type": "stream",
     "text": [
      "INFO: Got 111 tweets (111 new).\n",
      "INFO: queries: ['FB OR AMZN OR AAPL OR NFLX OR GOOG OR FAANG AND stocks since:2018-12-11 until:2018-12-12']\n"
     ]
    },
    {
     "name": "stdout",
     "output_type": "stream",
     "text": [
      "991\n",
      "2018-12-10\n",
      "111\n"
     ]
    },
    {
     "name": "stderr",
     "output_type": "stream",
     "text": [
      "INFO: Got 107 tweets (107 new).\n",
      "INFO: queries: ['FB OR AMZN OR AAPL OR NFLX OR GOOG OR FAANG AND stocks since:2018-12-12 until:2018-12-13']\n"
     ]
    },
    {
     "name": "stdout",
     "output_type": "stream",
     "text": [
      "992\n",
      "2018-12-11\n",
      "107\n"
     ]
    },
    {
     "name": "stderr",
     "output_type": "stream",
     "text": [
      "INFO: Got 105 tweets (105 new).\n",
      "INFO: queries: ['FB OR AMZN OR AAPL OR NFLX OR GOOG OR FAANG AND stocks since:2018-12-13 until:2018-12-14']\n"
     ]
    },
    {
     "name": "stdout",
     "output_type": "stream",
     "text": [
      "993\n",
      "2018-12-12\n",
      "105\n"
     ]
    },
    {
     "name": "stderr",
     "output_type": "stream",
     "text": [
      "INFO: Got 108 tweets (108 new).\n",
      "INFO: queries: ['FB OR AMZN OR AAPL OR NFLX OR GOOG OR FAANG AND stocks since:2018-12-14 until:2018-12-15']\n"
     ]
    },
    {
     "name": "stdout",
     "output_type": "stream",
     "text": [
      "994\n",
      "2018-12-13\n",
      "108\n"
     ]
    },
    {
     "name": "stderr",
     "output_type": "stream",
     "text": [
      "INFO: Got 111 tweets (111 new).\n",
      "INFO: queries: ['FB OR AMZN OR AAPL OR NFLX OR GOOG OR FAANG AND stocks since:2018-12-17 until:2018-12-18']\n"
     ]
    },
    {
     "name": "stdout",
     "output_type": "stream",
     "text": [
      "995\n",
      "2018-12-14\n",
      "111\n"
     ]
    },
    {
     "name": "stderr",
     "output_type": "stream",
     "text": [
      "INFO: Got 113 tweets (113 new).\n",
      "INFO: queries: ['FB OR AMZN OR AAPL OR NFLX OR GOOG OR FAANG AND stocks since:2018-12-18 until:2018-12-19']\n"
     ]
    },
    {
     "name": "stdout",
     "output_type": "stream",
     "text": [
      "996\n",
      "2018-12-17\n",
      "113\n"
     ]
    },
    {
     "name": "stderr",
     "output_type": "stream",
     "text": [
      "INFO: Got 108 tweets (108 new).\n",
      "INFO: queries: ['FB OR AMZN OR AAPL OR NFLX OR GOOG OR FAANG AND stocks since:2018-12-19 until:2018-12-20']\n"
     ]
    },
    {
     "name": "stdout",
     "output_type": "stream",
     "text": [
      "997\n",
      "2018-12-18\n",
      "108\n"
     ]
    },
    {
     "name": "stderr",
     "output_type": "stream",
     "text": [
      "INFO: Got 113 tweets (113 new).\n",
      "INFO: queries: ['FB OR AMZN OR AAPL OR NFLX OR GOOG OR FAANG AND stocks since:2018-12-20 until:2018-12-21']\n"
     ]
    },
    {
     "name": "stdout",
     "output_type": "stream",
     "text": [
      "998\n",
      "2018-12-19\n",
      "113\n"
     ]
    },
    {
     "name": "stderr",
     "output_type": "stream",
     "text": [
      "INFO: Got 106 tweets (106 new).\n",
      "INFO: queries: ['FB OR AMZN OR AAPL OR NFLX OR GOOG OR FAANG AND stocks since:2018-12-21 until:2018-12-22']\n"
     ]
    },
    {
     "name": "stdout",
     "output_type": "stream",
     "text": [
      "999\n",
      "2018-12-20\n",
      "106\n"
     ]
    },
    {
     "name": "stderr",
     "output_type": "stream",
     "text": [
      "INFO: Got 101 tweets (101 new).\n",
      "INFO: queries: ['FB OR AMZN OR AAPL OR NFLX OR GOOG OR FAANG AND stocks since:2018-12-24 until:2018-12-25']\n"
     ]
    },
    {
     "name": "stdout",
     "output_type": "stream",
     "text": [
      "1000\n",
      "2018-12-21\n",
      "101\n"
     ]
    },
    {
     "name": "stderr",
     "output_type": "stream",
     "text": [
      "INFO: Got 116 tweets (116 new).\n",
      "INFO: queries: ['FB OR AMZN OR AAPL OR NFLX OR GOOG OR FAANG AND stocks since:2018-12-26 until:2018-12-27']\n"
     ]
    },
    {
     "name": "stdout",
     "output_type": "stream",
     "text": [
      "1001\n",
      "2018-12-24\n",
      "116\n"
     ]
    },
    {
     "name": "stderr",
     "output_type": "stream",
     "text": [
      "INFO: Got 115 tweets (115 new).\n",
      "INFO: queries: ['FB OR AMZN OR AAPL OR NFLX OR GOOG OR FAANG AND stocks since:2018-12-27 until:2018-12-28']\n"
     ]
    },
    {
     "name": "stdout",
     "output_type": "stream",
     "text": [
      "1002\n",
      "2018-12-26\n",
      "115\n"
     ]
    },
    {
     "name": "stderr",
     "output_type": "stream",
     "text": [
      "INFO: Got 108 tweets (108 new).\n",
      "INFO: queries: ['FB OR AMZN OR AAPL OR NFLX OR GOOG OR FAANG AND stocks since:2018-12-28 until:2018-12-29']\n"
     ]
    },
    {
     "name": "stdout",
     "output_type": "stream",
     "text": [
      "1003\n",
      "2018-12-27\n",
      "108\n"
     ]
    },
    {
     "name": "stderr",
     "output_type": "stream",
     "text": [
      "INFO: Got 112 tweets (112 new).\n",
      "INFO: queries: ['FB OR AMZN OR AAPL OR NFLX OR GOOG OR FAANG AND stocks since:2018-12-31 until:2019-01-01']\n"
     ]
    },
    {
     "name": "stdout",
     "output_type": "stream",
     "text": [
      "1004\n",
      "2018-12-28\n",
      "112\n"
     ]
    },
    {
     "name": "stderr",
     "output_type": "stream",
     "text": [
      "INFO: Got 120 tweets (120 new).\n",
      "INFO: queries: ['FB OR AMZN OR AAPL OR NFLX OR GOOG OR FAANG AND stocks since:2019-01-02 until:2019-01-03']\n"
     ]
    },
    {
     "name": "stdout",
     "output_type": "stream",
     "text": [
      "1005\n",
      "2018-12-31\n",
      "120\n"
     ]
    },
    {
     "name": "stderr",
     "output_type": "stream",
     "text": [
      "INFO: Got 117 tweets (117 new).\n",
      "INFO: queries: ['FB OR AMZN OR AAPL OR NFLX OR GOOG OR FAANG AND stocks since:2019-01-03 until:2019-01-04']\n"
     ]
    },
    {
     "name": "stdout",
     "output_type": "stream",
     "text": [
      "1006\n",
      "2019-01-02\n",
      "117\n"
     ]
    },
    {
     "name": "stderr",
     "output_type": "stream",
     "text": [
      "INFO: Got 115 tweets (115 new).\n",
      "INFO: queries: ['FB OR AMZN OR AAPL OR NFLX OR GOOG OR FAANG AND stocks since:2019-01-04 until:2019-01-05']\n"
     ]
    },
    {
     "name": "stdout",
     "output_type": "stream",
     "text": [
      "1007\n",
      "2019-01-03\n",
      "115\n"
     ]
    },
    {
     "name": "stderr",
     "output_type": "stream",
     "text": [
      "INFO: Got 113 tweets (113 new).\n",
      "INFO: queries: ['FB OR AMZN OR AAPL OR NFLX OR GOOG OR FAANG AND stocks since:2019-01-07 until:2019-01-08']\n"
     ]
    },
    {
     "name": "stdout",
     "output_type": "stream",
     "text": [
      "1008\n",
      "2019-01-04\n",
      "113\n"
     ]
    },
    {
     "name": "stderr",
     "output_type": "stream",
     "text": [
      "INFO: Got 117 tweets (117 new).\n",
      "INFO: queries: ['FB OR AMZN OR AAPL OR NFLX OR GOOG OR FAANG AND stocks since:2019-01-08 until:2019-01-09']\n"
     ]
    },
    {
     "name": "stdout",
     "output_type": "stream",
     "text": [
      "1009\n",
      "2019-01-07\n",
      "117\n"
     ]
    },
    {
     "name": "stderr",
     "output_type": "stream",
     "text": [
      "INFO: Got 111 tweets (111 new).\n",
      "INFO: queries: ['FB OR AMZN OR AAPL OR NFLX OR GOOG OR FAANG AND stocks since:2019-01-09 until:2019-01-10']\n"
     ]
    },
    {
     "name": "stdout",
     "output_type": "stream",
     "text": [
      "1010\n",
      "2019-01-08\n",
      "111\n"
     ]
    },
    {
     "name": "stderr",
     "output_type": "stream",
     "text": [
      "INFO: Got 116 tweets (116 new).\n",
      "INFO: queries: ['FB OR AMZN OR AAPL OR NFLX OR GOOG OR FAANG AND stocks since:2019-01-10 until:2019-01-11']\n"
     ]
    },
    {
     "name": "stdout",
     "output_type": "stream",
     "text": [
      "1011\n",
      "2019-01-09\n",
      "116\n"
     ]
    },
    {
     "name": "stderr",
     "output_type": "stream",
     "text": [
      "INFO: Got 110 tweets (110 new).\n",
      "INFO: queries: ['FB OR AMZN OR AAPL OR NFLX OR GOOG OR FAANG AND stocks since:2019-01-11 until:2019-01-12']\n"
     ]
    },
    {
     "name": "stdout",
     "output_type": "stream",
     "text": [
      "1012\n",
      "2019-01-10\n",
      "110\n"
     ]
    },
    {
     "name": "stderr",
     "output_type": "stream",
     "text": [
      "INFO: Got 111 tweets (111 new).\n",
      "INFO: queries: ['FB OR AMZN OR AAPL OR NFLX OR GOOG OR FAANG AND stocks since:2019-01-14 until:2019-01-15']\n"
     ]
    },
    {
     "name": "stdout",
     "output_type": "stream",
     "text": [
      "1013\n",
      "2019-01-11\n",
      "111\n"
     ]
    },
    {
     "name": "stderr",
     "output_type": "stream",
     "text": [
      "INFO: Got 120 tweets (120 new).\n",
      "INFO: queries: ['FB OR AMZN OR AAPL OR NFLX OR GOOG OR FAANG AND stocks since:2019-01-15 until:2019-01-16']\n"
     ]
    },
    {
     "name": "stdout",
     "output_type": "stream",
     "text": [
      "1014\n",
      "2019-01-14\n",
      "120\n"
     ]
    },
    {
     "name": "stderr",
     "output_type": "stream",
     "text": [
      "INFO: Got 115 tweets (115 new).\n",
      "INFO: queries: ['FB OR AMZN OR AAPL OR NFLX OR GOOG OR FAANG AND stocks since:2019-01-16 until:2019-01-17']\n"
     ]
    },
    {
     "name": "stdout",
     "output_type": "stream",
     "text": [
      "1015\n",
      "2019-01-15\n",
      "115\n"
     ]
    },
    {
     "name": "stderr",
     "output_type": "stream",
     "text": [
      "INFO: Got 118 tweets (118 new).\n",
      "INFO: queries: ['FB OR AMZN OR AAPL OR NFLX OR GOOG OR FAANG AND stocks since:2019-01-17 until:2019-01-18']\n"
     ]
    },
    {
     "name": "stdout",
     "output_type": "stream",
     "text": [
      "1016\n",
      "2019-01-16\n",
      "118\n"
     ]
    },
    {
     "name": "stderr",
     "output_type": "stream",
     "text": [
      "INFO: Got 105 tweets (105 new).\n",
      "INFO: queries: ['FB OR AMZN OR AAPL OR NFLX OR GOOG OR FAANG AND stocks since:2019-01-18 until:2019-01-19']\n"
     ]
    },
    {
     "name": "stdout",
     "output_type": "stream",
     "text": [
      "1017\n",
      "2019-01-17\n",
      "105\n"
     ]
    },
    {
     "name": "stderr",
     "output_type": "stream",
     "text": [
      "INFO: Got 111 tweets (111 new).\n",
      "INFO: queries: ['FB OR AMZN OR AAPL OR NFLX OR GOOG OR FAANG AND stocks since:2019-01-22 until:2019-01-23']\n"
     ]
    },
    {
     "name": "stdout",
     "output_type": "stream",
     "text": [
      "1018\n",
      "2019-01-18\n",
      "111\n"
     ]
    },
    {
     "name": "stderr",
     "output_type": "stream",
     "text": [
      "INFO: Got 114 tweets (114 new).\n",
      "INFO: queries: ['FB OR AMZN OR AAPL OR NFLX OR GOOG OR FAANG AND stocks since:2019-01-23 until:2019-01-24']\n"
     ]
    },
    {
     "name": "stdout",
     "output_type": "stream",
     "text": [
      "1019\n",
      "2019-01-22\n",
      "114\n"
     ]
    },
    {
     "name": "stderr",
     "output_type": "stream",
     "text": [
      "INFO: Got 112 tweets (112 new).\n",
      "INFO: queries: ['FB OR AMZN OR AAPL OR NFLX OR GOOG OR FAANG AND stocks since:2019-01-24 until:2019-01-25']\n"
     ]
    },
    {
     "name": "stdout",
     "output_type": "stream",
     "text": [
      "1020\n",
      "2019-01-23\n",
      "112\n"
     ]
    },
    {
     "name": "stderr",
     "output_type": "stream",
     "text": [
      "INFO: Got 114 tweets (114 new).\n",
      "INFO: queries: ['FB OR AMZN OR AAPL OR NFLX OR GOOG OR FAANG AND stocks since:2019-01-25 until:2019-01-26']\n"
     ]
    },
    {
     "name": "stdout",
     "output_type": "stream",
     "text": [
      "1021\n",
      "2019-01-24\n",
      "114\n"
     ]
    },
    {
     "name": "stderr",
     "output_type": "stream",
     "text": [
      "INFO: Got 103 tweets (103 new).\n",
      "INFO: queries: ['FB OR AMZN OR AAPL OR NFLX OR GOOG OR FAANG AND stocks since:2019-01-28 until:2019-01-29']\n"
     ]
    },
    {
     "name": "stdout",
     "output_type": "stream",
     "text": [
      "1022\n",
      "2019-01-25\n",
      "103\n"
     ]
    },
    {
     "name": "stderr",
     "output_type": "stream",
     "text": [
      "INFO: Got 112 tweets (112 new).\n",
      "INFO: queries: ['FB OR AMZN OR AAPL OR NFLX OR GOOG OR FAANG AND stocks since:2019-01-29 until:2019-01-30']\n"
     ]
    },
    {
     "name": "stdout",
     "output_type": "stream",
     "text": [
      "1023\n",
      "2019-01-28\n",
      "112\n"
     ]
    },
    {
     "name": "stderr",
     "output_type": "stream",
     "text": [
      "INFO: Got 112 tweets (112 new).\n",
      "INFO: queries: ['FB OR AMZN OR AAPL OR NFLX OR GOOG OR FAANG AND stocks since:2019-01-30 until:2019-01-31']\n"
     ]
    },
    {
     "name": "stdout",
     "output_type": "stream",
     "text": [
      "1024\n",
      "2019-01-29\n",
      "112\n"
     ]
    },
    {
     "name": "stderr",
     "output_type": "stream",
     "text": [
      "INFO: Got 109 tweets (109 new).\n",
      "INFO: queries: ['FB OR AMZN OR AAPL OR NFLX OR GOOG OR FAANG AND stocks since:2019-01-31 until:2019-02-01']\n"
     ]
    },
    {
     "name": "stdout",
     "output_type": "stream",
     "text": [
      "1025\n",
      "2019-01-30\n",
      "109\n"
     ]
    },
    {
     "name": "stderr",
     "output_type": "stream",
     "text": [
      "INFO: Got 101 tweets (101 new).\n",
      "INFO: queries: ['FB OR AMZN OR AAPL OR NFLX OR GOOG OR FAANG AND stocks since:2019-02-01 until:2019-02-02']\n"
     ]
    },
    {
     "name": "stdout",
     "output_type": "stream",
     "text": [
      "1026\n",
      "2019-01-31\n",
      "101\n"
     ]
    },
    {
     "name": "stderr",
     "output_type": "stream",
     "text": [
      "INFO: Got 112 tweets (112 new).\n",
      "INFO: queries: ['FB OR AMZN OR AAPL OR NFLX OR GOOG OR FAANG AND stocks since:2019-02-04 until:2019-02-05']\n"
     ]
    },
    {
     "name": "stdout",
     "output_type": "stream",
     "text": [
      "1027\n",
      "2019-02-01\n",
      "112\n"
     ]
    },
    {
     "name": "stderr",
     "output_type": "stream",
     "text": [
      "INFO: Got 115 tweets (115 new).\n",
      "INFO: queries: ['FB OR AMZN OR AAPL OR NFLX OR GOOG OR FAANG AND stocks since:2019-02-05 until:2019-02-06']\n"
     ]
    },
    {
     "name": "stdout",
     "output_type": "stream",
     "text": [
      "1028\n",
      "2019-02-04\n",
      "115\n"
     ]
    },
    {
     "name": "stderr",
     "output_type": "stream",
     "text": [
      "INFO: Got 107 tweets (107 new).\n",
      "INFO: queries: ['FB OR AMZN OR AAPL OR NFLX OR GOOG OR FAANG AND stocks since:2019-02-06 until:2019-02-07']\n"
     ]
    },
    {
     "name": "stdout",
     "output_type": "stream",
     "text": [
      "1029\n",
      "2019-02-05\n",
      "107\n"
     ]
    },
    {
     "name": "stderr",
     "output_type": "stream",
     "text": [
      "INFO: Got 116 tweets (116 new).\n",
      "INFO: queries: ['FB OR AMZN OR AAPL OR NFLX OR GOOG OR FAANG AND stocks since:2019-02-07 until:2019-02-08']\n"
     ]
    },
    {
     "name": "stdout",
     "output_type": "stream",
     "text": [
      "1030\n",
      "2019-02-06\n",
      "116\n"
     ]
    },
    {
     "name": "stderr",
     "output_type": "stream",
     "text": [
      "INFO: Got 112 tweets (112 new).\n",
      "INFO: queries: ['FB OR AMZN OR AAPL OR NFLX OR GOOG OR FAANG AND stocks since:2019-02-08 until:2019-02-09']\n"
     ]
    },
    {
     "name": "stdout",
     "output_type": "stream",
     "text": [
      "1031\n",
      "2019-02-07\n",
      "112\n"
     ]
    },
    {
     "name": "stderr",
     "output_type": "stream",
     "text": [
      "INFO: Got 111 tweets (111 new).\n",
      "INFO: queries: ['FB OR AMZN OR AAPL OR NFLX OR GOOG OR FAANG AND stocks since:2019-02-11 until:2019-02-12']\n"
     ]
    },
    {
     "name": "stdout",
     "output_type": "stream",
     "text": [
      "1032\n",
      "2019-02-08\n",
      "111\n"
     ]
    },
    {
     "name": "stderr",
     "output_type": "stream",
     "text": [
      "INFO: Got 106 tweets (106 new).\n",
      "INFO: queries: ['FB OR AMZN OR AAPL OR NFLX OR GOOG OR FAANG AND stocks since:2019-02-12 until:2019-02-13']\n"
     ]
    },
    {
     "name": "stdout",
     "output_type": "stream",
     "text": [
      "1033\n",
      "2019-02-11\n",
      "106\n"
     ]
    },
    {
     "name": "stderr",
     "output_type": "stream",
     "text": [
      "INFO: Got 112 tweets (112 new).\n",
      "INFO: queries: ['FB OR AMZN OR AAPL OR NFLX OR GOOG OR FAANG AND stocks since:2019-02-13 until:2019-02-14']\n"
     ]
    },
    {
     "name": "stdout",
     "output_type": "stream",
     "text": [
      "1034\n",
      "2019-02-12\n",
      "112\n"
     ]
    },
    {
     "name": "stderr",
     "output_type": "stream",
     "text": [
      "INFO: Got 112 tweets (112 new).\n",
      "INFO: queries: ['FB OR AMZN OR AAPL OR NFLX OR GOOG OR FAANG AND stocks since:2019-02-14 until:2019-02-15']\n"
     ]
    },
    {
     "name": "stdout",
     "output_type": "stream",
     "text": [
      "1035\n",
      "2019-02-13\n",
      "112\n"
     ]
    },
    {
     "name": "stderr",
     "output_type": "stream",
     "text": [
      "INFO: Got 111 tweets (111 new).\n",
      "INFO: queries: ['FB OR AMZN OR AAPL OR NFLX OR GOOG OR FAANG AND stocks since:2019-02-15 until:2019-02-16']\n"
     ]
    },
    {
     "name": "stdout",
     "output_type": "stream",
     "text": [
      "1036\n",
      "2019-02-14\n",
      "111\n"
     ]
    },
    {
     "name": "stderr",
     "output_type": "stream",
     "text": [
      "INFO: Got 117 tweets (117 new).\n",
      "INFO: queries: ['FB OR AMZN OR AAPL OR NFLX OR GOOG OR FAANG AND stocks since:2019-02-19 until:2019-02-20']\n"
     ]
    },
    {
     "name": "stdout",
     "output_type": "stream",
     "text": [
      "1037\n",
      "2019-02-15\n",
      "117\n"
     ]
    },
    {
     "name": "stderr",
     "output_type": "stream",
     "text": [
      "INFO: Got 105 tweets (105 new).\n",
      "INFO: queries: ['FB OR AMZN OR AAPL OR NFLX OR GOOG OR FAANG AND stocks since:2019-02-20 until:2019-02-21']\n"
     ]
    },
    {
     "name": "stdout",
     "output_type": "stream",
     "text": [
      "1038\n",
      "2019-02-19\n",
      "105\n"
     ]
    },
    {
     "name": "stderr",
     "output_type": "stream",
     "text": [
      "INFO: Got 115 tweets (115 new).\n",
      "INFO: queries: ['FB OR AMZN OR AAPL OR NFLX OR GOOG OR FAANG AND stocks since:2019-02-21 until:2019-02-22']\n"
     ]
    },
    {
     "name": "stdout",
     "output_type": "stream",
     "text": [
      "1039\n",
      "2019-02-20\n",
      "115\n"
     ]
    },
    {
     "name": "stderr",
     "output_type": "stream",
     "text": [
      "INFO: Got 115 tweets (115 new).\n",
      "INFO: queries: ['FB OR AMZN OR AAPL OR NFLX OR GOOG OR FAANG AND stocks since:2019-02-22 until:2019-02-23']\n"
     ]
    },
    {
     "name": "stdout",
     "output_type": "stream",
     "text": [
      "1040\n",
      "2019-02-21\n",
      "115\n"
     ]
    },
    {
     "name": "stderr",
     "output_type": "stream",
     "text": [
      "INFO: Got 115 tweets (115 new).\n",
      "INFO: queries: ['FB OR AMZN OR AAPL OR NFLX OR GOOG OR FAANG AND stocks since:2019-02-25 until:2019-02-26']\n"
     ]
    },
    {
     "name": "stdout",
     "output_type": "stream",
     "text": [
      "1041\n",
      "2019-02-22\n",
      "115\n"
     ]
    },
    {
     "name": "stderr",
     "output_type": "stream",
     "text": [
      "INFO: Got 110 tweets (110 new).\n",
      "INFO: queries: ['FB OR AMZN OR AAPL OR NFLX OR GOOG OR FAANG AND stocks since:2019-02-26 until:2019-02-27']\n"
     ]
    },
    {
     "name": "stdout",
     "output_type": "stream",
     "text": [
      "1042\n",
      "2019-02-25\n",
      "110\n"
     ]
    },
    {
     "name": "stderr",
     "output_type": "stream",
     "text": [
      "INFO: Got 101 tweets (101 new).\n",
      "INFO: queries: ['FB OR AMZN OR AAPL OR NFLX OR GOOG OR FAANG AND stocks since:2019-02-27 until:2019-02-28']\n"
     ]
    },
    {
     "name": "stdout",
     "output_type": "stream",
     "text": [
      "1043\n",
      "2019-02-26\n",
      "101\n"
     ]
    },
    {
     "name": "stderr",
     "output_type": "stream",
     "text": [
      "INFO: Got 113 tweets (113 new).\n",
      "INFO: queries: ['FB OR AMZN OR AAPL OR NFLX OR GOOG OR FAANG AND stocks since:2019-02-28 until:2019-03-01']\n"
     ]
    },
    {
     "name": "stdout",
     "output_type": "stream",
     "text": [
      "1044\n",
      "2019-02-27\n",
      "113\n"
     ]
    },
    {
     "name": "stderr",
     "output_type": "stream",
     "text": [
      "INFO: Got 112 tweets (112 new).\n",
      "INFO: queries: ['FB OR AMZN OR AAPL OR NFLX OR GOOG OR FAANG AND stocks since:2019-03-01 until:2019-03-02']\n"
     ]
    },
    {
     "name": "stdout",
     "output_type": "stream",
     "text": [
      "1045\n",
      "2019-02-28\n",
      "112\n"
     ]
    },
    {
     "name": "stderr",
     "output_type": "stream",
     "text": [
      "INFO: Got 117 tweets (117 new).\n",
      "INFO: queries: ['FB OR AMZN OR AAPL OR NFLX OR GOOG OR FAANG AND stocks since:2019-03-04 until:2019-03-05']\n"
     ]
    },
    {
     "name": "stdout",
     "output_type": "stream",
     "text": [
      "1046\n",
      "2019-03-01\n",
      "117\n"
     ]
    },
    {
     "name": "stderr",
     "output_type": "stream",
     "text": [
      "INFO: Got 118 tweets (118 new).\n",
      "INFO: queries: ['FB OR AMZN OR AAPL OR NFLX OR GOOG OR FAANG AND stocks since:2019-03-05 until:2019-03-06']\n"
     ]
    },
    {
     "name": "stdout",
     "output_type": "stream",
     "text": [
      "1047\n",
      "2019-03-04\n",
      "118\n"
     ]
    },
    {
     "name": "stderr",
     "output_type": "stream",
     "text": [
      "INFO: Got 112 tweets (112 new).\n",
      "INFO: queries: ['FB OR AMZN OR AAPL OR NFLX OR GOOG OR FAANG AND stocks since:2019-03-06 until:2019-03-07']\n"
     ]
    },
    {
     "name": "stdout",
     "output_type": "stream",
     "text": [
      "1048\n",
      "2019-03-05\n",
      "112\n"
     ]
    },
    {
     "name": "stderr",
     "output_type": "stream",
     "text": [
      "INFO: Got 113 tweets (113 new).\n",
      "INFO: queries: ['FB OR AMZN OR AAPL OR NFLX OR GOOG OR FAANG AND stocks since:2019-03-07 until:2019-03-08']\n"
     ]
    },
    {
     "name": "stdout",
     "output_type": "stream",
     "text": [
      "1049\n",
      "2019-03-06\n",
      "113\n"
     ]
    },
    {
     "name": "stderr",
     "output_type": "stream",
     "text": [
      "INFO: Got 114 tweets (114 new).\n",
      "INFO: queries: ['FB OR AMZN OR AAPL OR NFLX OR GOOG OR FAANG AND stocks since:2019-03-08 until:2019-03-09']\n"
     ]
    },
    {
     "name": "stdout",
     "output_type": "stream",
     "text": [
      "1050\n",
      "2019-03-07\n",
      "114\n"
     ]
    },
    {
     "name": "stderr",
     "output_type": "stream",
     "text": [
      "INFO: Got 113 tweets (113 new).\n",
      "INFO: queries: ['FB OR AMZN OR AAPL OR NFLX OR GOOG OR FAANG AND stocks since:2019-03-11 until:2019-03-12']\n"
     ]
    },
    {
     "name": "stdout",
     "output_type": "stream",
     "text": [
      "1051\n",
      "2019-03-08\n",
      "113\n"
     ]
    },
    {
     "name": "stderr",
     "output_type": "stream",
     "text": [
      "INFO: Got 110 tweets (110 new).\n",
      "INFO: queries: ['FB OR AMZN OR AAPL OR NFLX OR GOOG OR FAANG AND stocks since:2019-03-12 until:2019-03-13']\n"
     ]
    },
    {
     "name": "stdout",
     "output_type": "stream",
     "text": [
      "1052\n",
      "2019-03-11\n",
      "110\n"
     ]
    },
    {
     "name": "stderr",
     "output_type": "stream",
     "text": [
      "INFO: Got 115 tweets (115 new).\n",
      "INFO: queries: ['FB OR AMZN OR AAPL OR NFLX OR GOOG OR FAANG AND stocks since:2019-03-13 until:2019-03-14']\n"
     ]
    },
    {
     "name": "stdout",
     "output_type": "stream",
     "text": [
      "1053\n",
      "2019-03-12\n",
      "115\n"
     ]
    },
    {
     "name": "stderr",
     "output_type": "stream",
     "text": [
      "INFO: Got 114 tweets (114 new).\n",
      "INFO: queries: ['FB OR AMZN OR AAPL OR NFLX OR GOOG OR FAANG AND stocks since:2019-03-14 until:2019-03-15']\n"
     ]
    },
    {
     "name": "stdout",
     "output_type": "stream",
     "text": [
      "1054\n",
      "2019-03-13\n",
      "114\n"
     ]
    },
    {
     "name": "stderr",
     "output_type": "stream",
     "text": [
      "INFO: Got 112 tweets (112 new).\n",
      "INFO: queries: ['FB OR AMZN OR AAPL OR NFLX OR GOOG OR FAANG AND stocks since:2019-03-15 until:2019-03-16']\n"
     ]
    },
    {
     "name": "stdout",
     "output_type": "stream",
     "text": [
      "1055\n",
      "2019-03-14\n",
      "112\n"
     ]
    },
    {
     "name": "stderr",
     "output_type": "stream",
     "text": [
      "INFO: Got 105 tweets (105 new).\n",
      "INFO: queries: ['FB OR AMZN OR AAPL OR NFLX OR GOOG OR FAANG AND stocks since:2019-03-18 until:2019-03-19']\n"
     ]
    },
    {
     "name": "stdout",
     "output_type": "stream",
     "text": [
      "1056\n",
      "2019-03-15\n",
      "105\n"
     ]
    },
    {
     "name": "stderr",
     "output_type": "stream",
     "text": [
      "INFO: Got 118 tweets (118 new).\n",
      "INFO: queries: ['FB OR AMZN OR AAPL OR NFLX OR GOOG OR FAANG AND stocks since:2019-03-19 until:2019-03-20']\n"
     ]
    },
    {
     "name": "stdout",
     "output_type": "stream",
     "text": [
      "1057\n",
      "2019-03-18\n",
      "118\n"
     ]
    },
    {
     "name": "stderr",
     "output_type": "stream",
     "text": [
      "INFO: Got 109 tweets (109 new).\n",
      "INFO: queries: ['FB OR AMZN OR AAPL OR NFLX OR GOOG OR FAANG AND stocks since:2019-03-20 until:2019-03-21']\n"
     ]
    },
    {
     "name": "stdout",
     "output_type": "stream",
     "text": [
      "1058\n",
      "2019-03-19\n",
      "109\n"
     ]
    },
    {
     "name": "stderr",
     "output_type": "stream",
     "text": [
      "INFO: Got 115 tweets (115 new).\n",
      "INFO: queries: ['FB OR AMZN OR AAPL OR NFLX OR GOOG OR FAANG AND stocks since:2019-03-21 until:2019-03-22']\n"
     ]
    },
    {
     "name": "stdout",
     "output_type": "stream",
     "text": [
      "1059\n",
      "2019-03-20\n",
      "115\n"
     ]
    },
    {
     "name": "stderr",
     "output_type": "stream",
     "text": [
      "INFO: Got 111 tweets (111 new).\n",
      "INFO: queries: ['FB OR AMZN OR AAPL OR NFLX OR GOOG OR FAANG AND stocks since:2019-03-22 until:2019-03-23']\n"
     ]
    },
    {
     "name": "stdout",
     "output_type": "stream",
     "text": [
      "1060\n",
      "2019-03-21\n",
      "111\n"
     ]
    },
    {
     "name": "stderr",
     "output_type": "stream",
     "text": [
      "INFO: Got 114 tweets (114 new).\n",
      "INFO: queries: ['FB OR AMZN OR AAPL OR NFLX OR GOOG OR FAANG AND stocks since:2019-03-25 until:2019-03-26']\n"
     ]
    },
    {
     "name": "stdout",
     "output_type": "stream",
     "text": [
      "1061\n",
      "2019-03-22\n",
      "114\n"
     ]
    },
    {
     "name": "stderr",
     "output_type": "stream",
     "text": [
      "INFO: Got 109 tweets (109 new).\n",
      "INFO: queries: ['FB OR AMZN OR AAPL OR NFLX OR GOOG OR FAANG AND stocks since:2019-03-26 until:2019-03-27']\n"
     ]
    },
    {
     "name": "stdout",
     "output_type": "stream",
     "text": [
      "1062\n",
      "2019-03-25\n",
      "109\n"
     ]
    },
    {
     "name": "stderr",
     "output_type": "stream",
     "text": [
      "INFO: Got 105 tweets (105 new).\n",
      "INFO: queries: ['FB OR AMZN OR AAPL OR NFLX OR GOOG OR FAANG AND stocks since:2019-03-27 until:2019-03-28']\n"
     ]
    },
    {
     "name": "stdout",
     "output_type": "stream",
     "text": [
      "1063\n",
      "2019-03-26\n",
      "105\n"
     ]
    },
    {
     "name": "stderr",
     "output_type": "stream",
     "text": [
      "INFO: Got 115 tweets (115 new).\n",
      "INFO: queries: ['FB OR AMZN OR AAPL OR NFLX OR GOOG OR FAANG AND stocks since:2019-03-28 until:2019-03-29']\n"
     ]
    },
    {
     "name": "stdout",
     "output_type": "stream",
     "text": [
      "1064\n",
      "2019-03-27\n",
      "115\n"
     ]
    },
    {
     "name": "stderr",
     "output_type": "stream",
     "text": [
      "INFO: Got 120 tweets (120 new).\n",
      "INFO: queries: ['FB OR AMZN OR AAPL OR NFLX OR GOOG OR FAANG AND stocks since:2019-03-29 until:2019-03-30']\n"
     ]
    },
    {
     "name": "stdout",
     "output_type": "stream",
     "text": [
      "1065\n",
      "2019-03-28\n",
      "120\n"
     ]
    },
    {
     "name": "stderr",
     "output_type": "stream",
     "text": [
      "INFO: Got 109 tweets (109 new).\n",
      "INFO: queries: ['FB OR AMZN OR AAPL OR NFLX OR GOOG OR FAANG AND stocks since:2019-04-01 until:2019-04-02']\n"
     ]
    },
    {
     "name": "stdout",
     "output_type": "stream",
     "text": [
      "1066\n",
      "2019-03-29\n",
      "109\n"
     ]
    },
    {
     "name": "stderr",
     "output_type": "stream",
     "text": [
      "INFO: Got 117 tweets (117 new).\n",
      "INFO: queries: ['FB OR AMZN OR AAPL OR NFLX OR GOOG OR FAANG AND stocks since:2019-04-02 until:2019-04-03']\n"
     ]
    },
    {
     "name": "stdout",
     "output_type": "stream",
     "text": [
      "1067\n",
      "2019-04-01\n",
      "117\n"
     ]
    },
    {
     "name": "stderr",
     "output_type": "stream",
     "text": [
      "INFO: Got 105 tweets (105 new).\n",
      "INFO: queries: ['FB OR AMZN OR AAPL OR NFLX OR GOOG OR FAANG AND stocks since:2019-04-03 until:2019-04-04']\n"
     ]
    },
    {
     "name": "stdout",
     "output_type": "stream",
     "text": [
      "1068\n",
      "2019-04-02\n",
      "105\n"
     ]
    },
    {
     "name": "stderr",
     "output_type": "stream",
     "text": [
      "INFO: Got 108 tweets (108 new).\n",
      "INFO: queries: ['FB OR AMZN OR AAPL OR NFLX OR GOOG OR FAANG AND stocks since:2019-04-04 until:2019-04-05']\n"
     ]
    },
    {
     "name": "stdout",
     "output_type": "stream",
     "text": [
      "1069\n",
      "2019-04-03\n",
      "108\n"
     ]
    },
    {
     "name": "stderr",
     "output_type": "stream",
     "text": [
      "INFO: Got 106 tweets (106 new).\n",
      "INFO: queries: ['FB OR AMZN OR AAPL OR NFLX OR GOOG OR FAANG AND stocks since:2019-04-05 until:2019-04-06']\n"
     ]
    },
    {
     "name": "stdout",
     "output_type": "stream",
     "text": [
      "1070\n",
      "2019-04-04\n",
      "106\n"
     ]
    },
    {
     "name": "stderr",
     "output_type": "stream",
     "text": [
      "INFO: Got 101 tweets (101 new).\n",
      "INFO: queries: ['FB OR AMZN OR AAPL OR NFLX OR GOOG OR FAANG AND stocks since:2019-04-08 until:2019-04-09']\n"
     ]
    },
    {
     "name": "stdout",
     "output_type": "stream",
     "text": [
      "1071\n",
      "2019-04-05\n",
      "101\n"
     ]
    },
    {
     "name": "stderr",
     "output_type": "stream",
     "text": [
      "INFO: Got 116 tweets (116 new).\n",
      "INFO: queries: ['FB OR AMZN OR AAPL OR NFLX OR GOOG OR FAANG AND stocks since:2019-04-09 until:2019-04-10']\n"
     ]
    },
    {
     "name": "stdout",
     "output_type": "stream",
     "text": [
      "1072\n",
      "2019-04-08\n",
      "116\n"
     ]
    },
    {
     "name": "stderr",
     "output_type": "stream",
     "text": [
      "INFO: Got 109 tweets (109 new).\n",
      "INFO: queries: ['FB OR AMZN OR AAPL OR NFLX OR GOOG OR FAANG AND stocks since:2019-04-10 until:2019-04-11']\n"
     ]
    },
    {
     "name": "stdout",
     "output_type": "stream",
     "text": [
      "1073\n",
      "2019-04-09\n",
      "109\n"
     ]
    },
    {
     "name": "stderr",
     "output_type": "stream",
     "text": [
      "INFO: Got 119 tweets (119 new).\n",
      "INFO: queries: ['FB OR AMZN OR AAPL OR NFLX OR GOOG OR FAANG AND stocks since:2019-04-11 until:2019-04-12']\n"
     ]
    },
    {
     "name": "stdout",
     "output_type": "stream",
     "text": [
      "1074\n",
      "2019-04-10\n",
      "119\n"
     ]
    },
    {
     "name": "stderr",
     "output_type": "stream",
     "text": [
      "INFO: Got 108 tweets (108 new).\n",
      "INFO: queries: ['FB OR AMZN OR AAPL OR NFLX OR GOOG OR FAANG AND stocks since:2019-04-12 until:2019-04-13']\n"
     ]
    },
    {
     "name": "stdout",
     "output_type": "stream",
     "text": [
      "1075\n",
      "2019-04-11\n",
      "108\n"
     ]
    },
    {
     "name": "stderr",
     "output_type": "stream",
     "text": [
      "INFO: Got 118 tweets (118 new).\n",
      "INFO: queries: ['FB OR AMZN OR AAPL OR NFLX OR GOOG OR FAANG AND stocks since:2019-04-15 until:2019-04-16']\n"
     ]
    },
    {
     "name": "stdout",
     "output_type": "stream",
     "text": [
      "1076\n",
      "2019-04-12\n",
      "118\n"
     ]
    },
    {
     "name": "stderr",
     "output_type": "stream",
     "text": [
      "INFO: Got 118 tweets (118 new).\n",
      "INFO: queries: ['FB OR AMZN OR AAPL OR NFLX OR GOOG OR FAANG AND stocks since:2019-04-16 until:2019-04-17']\n"
     ]
    },
    {
     "name": "stdout",
     "output_type": "stream",
     "text": [
      "1077\n",
      "2019-04-15\n",
      "118\n"
     ]
    },
    {
     "name": "stderr",
     "output_type": "stream",
     "text": [
      "INFO: Got 108 tweets (108 new).\n",
      "INFO: queries: ['FB OR AMZN OR AAPL OR NFLX OR GOOG OR FAANG AND stocks since:2019-04-17 until:2019-04-18']\n"
     ]
    },
    {
     "name": "stdout",
     "output_type": "stream",
     "text": [
      "1078\n",
      "2019-04-16\n",
      "108\n"
     ]
    },
    {
     "name": "stderr",
     "output_type": "stream",
     "text": [
      "INFO: Got 105 tweets (105 new).\n",
      "INFO: queries: ['FB OR AMZN OR AAPL OR NFLX OR GOOG OR FAANG AND stocks since:2019-04-18 until:2019-04-19']\n"
     ]
    },
    {
     "name": "stdout",
     "output_type": "stream",
     "text": [
      "1079\n",
      "2019-04-17\n",
      "105\n"
     ]
    },
    {
     "name": "stderr",
     "output_type": "stream",
     "text": [
      "INFO: Got 119 tweets (119 new).\n",
      "INFO: queries: ['FB OR AMZN OR AAPL OR NFLX OR GOOG OR FAANG AND stocks since:2019-04-22 until:2019-04-23']\n"
     ]
    },
    {
     "name": "stdout",
     "output_type": "stream",
     "text": [
      "1080\n",
      "2019-04-18\n",
      "119\n"
     ]
    },
    {
     "name": "stderr",
     "output_type": "stream",
     "text": [
      "INFO: Got 116 tweets (116 new).\n",
      "INFO: queries: ['FB OR AMZN OR AAPL OR NFLX OR GOOG OR FAANG AND stocks since:2019-04-23 until:2019-04-24']\n"
     ]
    },
    {
     "name": "stdout",
     "output_type": "stream",
     "text": [
      "1081\n",
      "2019-04-22\n",
      "116\n"
     ]
    },
    {
     "name": "stderr",
     "output_type": "stream",
     "text": [
      "INFO: Got 118 tweets (118 new).\n",
      "INFO: queries: ['FB OR AMZN OR AAPL OR NFLX OR GOOG OR FAANG AND stocks since:2019-04-24 until:2019-04-25']\n"
     ]
    },
    {
     "name": "stdout",
     "output_type": "stream",
     "text": [
      "1082\n",
      "2019-04-23\n",
      "118\n"
     ]
    },
    {
     "name": "stderr",
     "output_type": "stream",
     "text": [
      "INFO: Got 114 tweets (114 new).\n",
      "INFO: queries: ['FB OR AMZN OR AAPL OR NFLX OR GOOG OR FAANG AND stocks since:2019-04-25 until:2019-04-26']\n"
     ]
    },
    {
     "name": "stdout",
     "output_type": "stream",
     "text": [
      "1083\n",
      "2019-04-24\n",
      "114\n"
     ]
    },
    {
     "name": "stderr",
     "output_type": "stream",
     "text": [
      "INFO: Got 107 tweets (107 new).\n",
      "INFO: queries: ['FB OR AMZN OR AAPL OR NFLX OR GOOG OR FAANG AND stocks since:2019-04-26 until:2019-04-27']\n"
     ]
    },
    {
     "name": "stdout",
     "output_type": "stream",
     "text": [
      "1084\n",
      "2019-04-25\n",
      "107\n"
     ]
    },
    {
     "name": "stderr",
     "output_type": "stream",
     "text": [
      "INFO: Got 104 tweets (104 new).\n",
      "INFO: queries: ['FB OR AMZN OR AAPL OR NFLX OR GOOG OR FAANG AND stocks since:2019-04-29 until:2019-04-30']\n"
     ]
    },
    {
     "name": "stdout",
     "output_type": "stream",
     "text": [
      "1085\n",
      "2019-04-26\n",
      "104\n"
     ]
    },
    {
     "name": "stderr",
     "output_type": "stream",
     "text": [
      "INFO: Got 115 tweets (115 new).\n",
      "INFO: queries: ['FB OR AMZN OR AAPL OR NFLX OR GOOG OR FAANG AND stocks since:2019-04-30 until:2019-05-01']\n"
     ]
    },
    {
     "name": "stdout",
     "output_type": "stream",
     "text": [
      "1086\n",
      "2019-04-29\n",
      "115\n"
     ]
    },
    {
     "name": "stderr",
     "output_type": "stream",
     "text": [
      "INFO: Got 104 tweets (104 new).\n",
      "INFO: queries: ['FB OR AMZN OR AAPL OR NFLX OR GOOG OR FAANG AND stocks since:2019-05-01 until:2019-05-02']\n"
     ]
    },
    {
     "name": "stdout",
     "output_type": "stream",
     "text": [
      "1087\n",
      "2019-04-30\n",
      "104\n"
     ]
    },
    {
     "name": "stderr",
     "output_type": "stream",
     "text": [
      "INFO: Got 101 tweets (101 new).\n",
      "INFO: queries: ['FB OR AMZN OR AAPL OR NFLX OR GOOG OR FAANG AND stocks since:2019-05-02 until:2019-05-03']\n"
     ]
    },
    {
     "name": "stdout",
     "output_type": "stream",
     "text": [
      "1088\n",
      "2019-05-01\n",
      "101\n"
     ]
    },
    {
     "name": "stderr",
     "output_type": "stream",
     "text": [
      "INFO: Got 120 tweets (120 new).\n",
      "INFO: queries: ['FB OR AMZN OR AAPL OR NFLX OR GOOG OR FAANG AND stocks since:2019-05-03 until:2019-05-04']\n"
     ]
    },
    {
     "name": "stdout",
     "output_type": "stream",
     "text": [
      "1089\n",
      "2019-05-02\n",
      "120\n"
     ]
    },
    {
     "name": "stderr",
     "output_type": "stream",
     "text": [
      "INFO: Got 119 tweets (119 new).\n",
      "INFO: queries: ['FB OR AMZN OR AAPL OR NFLX OR GOOG OR FAANG AND stocks since:2019-05-06 until:2019-05-07']\n"
     ]
    },
    {
     "name": "stdout",
     "output_type": "stream",
     "text": [
      "1090\n",
      "2019-05-03\n",
      "119\n"
     ]
    },
    {
     "name": "stderr",
     "output_type": "stream",
     "text": [
      "INFO: Got 119 tweets (119 new).\n",
      "INFO: queries: ['FB OR AMZN OR AAPL OR NFLX OR GOOG OR FAANG AND stocks since:2019-05-07 until:2019-05-08']\n"
     ]
    },
    {
     "name": "stdout",
     "output_type": "stream",
     "text": [
      "1091\n",
      "2019-05-06\n",
      "119\n"
     ]
    },
    {
     "name": "stderr",
     "output_type": "stream",
     "text": [
      "INFO: Got 101 tweets (101 new).\n",
      "INFO: queries: ['FB OR AMZN OR AAPL OR NFLX OR GOOG OR FAANG AND stocks since:2019-05-08 until:2019-05-09']\n"
     ]
    },
    {
     "name": "stdout",
     "output_type": "stream",
     "text": [
      "1092\n",
      "2019-05-07\n",
      "101\n"
     ]
    },
    {
     "name": "stderr",
     "output_type": "stream",
     "text": [
      "INFO: Got 101 tweets (101 new).\n",
      "INFO: queries: ['FB OR AMZN OR AAPL OR NFLX OR GOOG OR FAANG AND stocks since:2019-05-09 until:2019-05-10']\n"
     ]
    },
    {
     "name": "stdout",
     "output_type": "stream",
     "text": [
      "1093\n",
      "2019-05-08\n",
      "101\n"
     ]
    },
    {
     "name": "stderr",
     "output_type": "stream",
     "text": [
      "INFO: Got 118 tweets (118 new).\n",
      "INFO: queries: ['FB OR AMZN OR AAPL OR NFLX OR GOOG OR FAANG AND stocks since:2019-05-10 until:2019-05-11']\n"
     ]
    },
    {
     "name": "stdout",
     "output_type": "stream",
     "text": [
      "1094\n",
      "2019-05-09\n",
      "118\n"
     ]
    },
    {
     "name": "stderr",
     "output_type": "stream",
     "text": [
      "INFO: Got 102 tweets (102 new).\n",
      "INFO: queries: ['FB OR AMZN OR AAPL OR NFLX OR GOOG OR FAANG AND stocks since:2019-05-13 until:2019-05-14']\n"
     ]
    },
    {
     "name": "stdout",
     "output_type": "stream",
     "text": [
      "1095\n",
      "2019-05-10\n",
      "102\n"
     ]
    },
    {
     "name": "stderr",
     "output_type": "stream",
     "text": [
      "INFO: Got 102 tweets (102 new).\n",
      "INFO: queries: ['FB OR AMZN OR AAPL OR NFLX OR GOOG OR FAANG AND stocks since:2019-05-14 until:2019-05-15']\n"
     ]
    },
    {
     "name": "stdout",
     "output_type": "stream",
     "text": [
      "1096\n",
      "2019-05-13\n",
      "102\n"
     ]
    },
    {
     "name": "stderr",
     "output_type": "stream",
     "text": [
      "INFO: Got 119 tweets (119 new).\n",
      "INFO: queries: ['FB OR AMZN OR AAPL OR NFLX OR GOOG OR FAANG AND stocks since:2019-05-15 until:2019-05-16']\n"
     ]
    },
    {
     "name": "stdout",
     "output_type": "stream",
     "text": [
      "1097\n",
      "2019-05-14\n",
      "119\n"
     ]
    },
    {
     "name": "stderr",
     "output_type": "stream",
     "text": [
      "INFO: Got 119 tweets (119 new).\n",
      "INFO: queries: ['FB OR AMZN OR AAPL OR NFLX OR GOOG OR FAANG AND stocks since:2019-05-16 until:2019-05-17']\n"
     ]
    },
    {
     "name": "stdout",
     "output_type": "stream",
     "text": [
      "1098\n",
      "2019-05-15\n",
      "119\n"
     ]
    },
    {
     "name": "stderr",
     "output_type": "stream",
     "text": [
      "INFO: Got 112 tweets (112 new).\n",
      "INFO: queries: ['FB OR AMZN OR AAPL OR NFLX OR GOOG OR FAANG AND stocks since:2019-05-17 until:2019-05-18']\n"
     ]
    },
    {
     "name": "stdout",
     "output_type": "stream",
     "text": [
      "1099\n",
      "2019-05-16\n",
      "112\n"
     ]
    },
    {
     "name": "stderr",
     "output_type": "stream",
     "text": [
      "INFO: Got 113 tweets (113 new).\n",
      "INFO: queries: ['FB OR AMZN OR AAPL OR NFLX OR GOOG OR FAANG AND stocks since:2019-05-20 until:2019-05-21']\n"
     ]
    },
    {
     "name": "stdout",
     "output_type": "stream",
     "text": [
      "1100\n",
      "2019-05-17\n",
      "113\n"
     ]
    },
    {
     "name": "stderr",
     "output_type": "stream",
     "text": [
      "INFO: Got 101 tweets (101 new).\n",
      "INFO: queries: ['FB OR AMZN OR AAPL OR NFLX OR GOOG OR FAANG AND stocks since:2019-05-21 until:2019-05-22']\n"
     ]
    },
    {
     "name": "stdout",
     "output_type": "stream",
     "text": [
      "1101\n",
      "2019-05-20\n",
      "101\n"
     ]
    },
    {
     "name": "stderr",
     "output_type": "stream",
     "text": [
      "INFO: Got 103 tweets (103 new).\n",
      "INFO: queries: ['FB OR AMZN OR AAPL OR NFLX OR GOOG OR FAANG AND stocks since:2019-05-22 until:2019-05-23']\n"
     ]
    },
    {
     "name": "stdout",
     "output_type": "stream",
     "text": [
      "1102\n",
      "2019-05-21\n",
      "103\n"
     ]
    },
    {
     "name": "stderr",
     "output_type": "stream",
     "text": [
      "INFO: Got 112 tweets (112 new).\n",
      "INFO: queries: ['FB OR AMZN OR AAPL OR NFLX OR GOOG OR FAANG AND stocks since:2019-05-23 until:2019-05-24']\n"
     ]
    },
    {
     "name": "stdout",
     "output_type": "stream",
     "text": [
      "1103\n",
      "2019-05-22\n",
      "112\n"
     ]
    },
    {
     "name": "stderr",
     "output_type": "stream",
     "text": [
      "INFO: Got 119 tweets (119 new).\n",
      "INFO: queries: ['FB OR AMZN OR AAPL OR NFLX OR GOOG OR FAANG AND stocks since:2019-05-24 until:2019-05-25']\n"
     ]
    },
    {
     "name": "stdout",
     "output_type": "stream",
     "text": [
      "1104\n",
      "2019-05-23\n",
      "119\n"
     ]
    },
    {
     "name": "stderr",
     "output_type": "stream",
     "text": [
      "INFO: Got 121 tweets (121 new).\n",
      "INFO: queries: ['FB OR AMZN OR AAPL OR NFLX OR GOOG OR FAANG AND stocks since:2019-05-28 until:2019-05-29']\n"
     ]
    },
    {
     "name": "stdout",
     "output_type": "stream",
     "text": [
      "1105\n",
      "2019-05-24\n",
      "121\n"
     ]
    },
    {
     "name": "stderr",
     "output_type": "stream",
     "text": [
      "INFO: Got 117 tweets (117 new).\n",
      "INFO: queries: ['FB OR AMZN OR AAPL OR NFLX OR GOOG OR FAANG AND stocks since:2019-05-29 until:2019-05-30']\n"
     ]
    },
    {
     "name": "stdout",
     "output_type": "stream",
     "text": [
      "1106\n",
      "2019-05-28\n",
      "117\n"
     ]
    },
    {
     "name": "stderr",
     "output_type": "stream",
     "text": [
      "INFO: Got 119 tweets (119 new).\n",
      "INFO: queries: ['FB OR AMZN OR AAPL OR NFLX OR GOOG OR FAANG AND stocks since:2019-05-30 until:2019-05-31']\n"
     ]
    },
    {
     "name": "stdout",
     "output_type": "stream",
     "text": [
      "1107\n",
      "2019-05-29\n",
      "119\n"
     ]
    },
    {
     "name": "stderr",
     "output_type": "stream",
     "text": [
      "INFO: Got 101 tweets (101 new).\n",
      "INFO: queries: ['FB OR AMZN OR AAPL OR NFLX OR GOOG OR FAANG AND stocks since:2019-05-31 until:2019-06-01']\n"
     ]
    },
    {
     "name": "stdout",
     "output_type": "stream",
     "text": [
      "1108\n",
      "2019-05-30\n",
      "101\n"
     ]
    },
    {
     "name": "stderr",
     "output_type": "stream",
     "text": [
      "INFO: Got 116 tweets (116 new).\n",
      "INFO: queries: ['FB OR AMZN OR AAPL OR NFLX OR GOOG OR FAANG AND stocks since:2019-06-03 until:2019-06-04']\n"
     ]
    },
    {
     "name": "stdout",
     "output_type": "stream",
     "text": [
      "1109\n",
      "2019-05-31\n",
      "116\n"
     ]
    },
    {
     "name": "stderr",
     "output_type": "stream",
     "text": [
      "INFO: Got 116 tweets (116 new).\n",
      "INFO: queries: ['FB OR AMZN OR AAPL OR NFLX OR GOOG OR FAANG AND stocks since:2019-06-04 until:2019-06-05']\n"
     ]
    },
    {
     "name": "stdout",
     "output_type": "stream",
     "text": [
      "1110\n",
      "2019-06-03\n",
      "116\n"
     ]
    },
    {
     "name": "stderr",
     "output_type": "stream",
     "text": [
      "INFO: Got 113 tweets (113 new).\n",
      "INFO: queries: ['FB OR AMZN OR AAPL OR NFLX OR GOOG OR FAANG AND stocks since:2019-06-05 until:2019-06-06']\n"
     ]
    },
    {
     "name": "stdout",
     "output_type": "stream",
     "text": [
      "1111\n",
      "2019-06-04\n",
      "113\n"
     ]
    },
    {
     "name": "stderr",
     "output_type": "stream",
     "text": [
      "INFO: Got 113 tweets (113 new).\n",
      "INFO: queries: ['FB OR AMZN OR AAPL OR NFLX OR GOOG OR FAANG AND stocks since:2019-06-06 until:2019-06-07']\n"
     ]
    },
    {
     "name": "stdout",
     "output_type": "stream",
     "text": [
      "1112\n",
      "2019-06-05\n",
      "113\n"
     ]
    },
    {
     "name": "stderr",
     "output_type": "stream",
     "text": [
      "INFO: Got 111 tweets (111 new).\n",
      "INFO: queries: ['FB OR AMZN OR AAPL OR NFLX OR GOOG OR FAANG AND stocks since:2019-06-07 until:2019-06-08']\n"
     ]
    },
    {
     "name": "stdout",
     "output_type": "stream",
     "text": [
      "1113\n",
      "2019-06-06\n",
      "111\n"
     ]
    },
    {
     "name": "stderr",
     "output_type": "stream",
     "text": [
      "INFO: Got 112 tweets (112 new).\n",
      "INFO: queries: ['FB OR AMZN OR AAPL OR NFLX OR GOOG OR FAANG AND stocks since:2019-06-10 until:2019-06-11']\n"
     ]
    },
    {
     "name": "stdout",
     "output_type": "stream",
     "text": [
      "1114\n",
      "2019-06-07\n",
      "112\n"
     ]
    },
    {
     "name": "stderr",
     "output_type": "stream",
     "text": [
      "INFO: Got 120 tweets (120 new).\n",
      "INFO: queries: ['FB OR AMZN OR AAPL OR NFLX OR GOOG OR FAANG AND stocks since:2019-06-11 until:2019-06-12']\n"
     ]
    },
    {
     "name": "stdout",
     "output_type": "stream",
     "text": [
      "1115\n",
      "2019-06-10\n",
      "120\n"
     ]
    },
    {
     "name": "stderr",
     "output_type": "stream",
     "text": [
      "INFO: Got 114 tweets (114 new).\n",
      "INFO: queries: ['FB OR AMZN OR AAPL OR NFLX OR GOOG OR FAANG AND stocks since:2019-06-12 until:2019-06-13']\n"
     ]
    },
    {
     "name": "stdout",
     "output_type": "stream",
     "text": [
      "1116\n",
      "2019-06-11\n",
      "114\n"
     ]
    },
    {
     "name": "stderr",
     "output_type": "stream",
     "text": [
      "INFO: Got 116 tweets (116 new).\n",
      "INFO: queries: ['FB OR AMZN OR AAPL OR NFLX OR GOOG OR FAANG AND stocks since:2019-06-13 until:2019-06-14']\n"
     ]
    },
    {
     "name": "stdout",
     "output_type": "stream",
     "text": [
      "1117\n",
      "2019-06-12\n",
      "116\n"
     ]
    },
    {
     "name": "stderr",
     "output_type": "stream",
     "text": [
      "INFO: Got 116 tweets (116 new).\n",
      "INFO: queries: ['FB OR AMZN OR AAPL OR NFLX OR GOOG OR FAANG AND stocks since:2019-06-14 until:2019-06-15']\n"
     ]
    },
    {
     "name": "stdout",
     "output_type": "stream",
     "text": [
      "1118\n",
      "2019-06-13\n",
      "116\n"
     ]
    },
    {
     "name": "stderr",
     "output_type": "stream",
     "text": [
      "INFO: Got 102 tweets (102 new).\n",
      "INFO: queries: ['FB OR AMZN OR AAPL OR NFLX OR GOOG OR FAANG AND stocks since:2019-06-17 until:2019-06-18']\n"
     ]
    },
    {
     "name": "stdout",
     "output_type": "stream",
     "text": [
      "1119\n",
      "2019-06-14\n",
      "102\n"
     ]
    },
    {
     "name": "stderr",
     "output_type": "stream",
     "text": [
      "INFO: Got 119 tweets (119 new).\n",
      "INFO: queries: ['FB OR AMZN OR AAPL OR NFLX OR GOOG OR FAANG AND stocks since:2019-06-18 until:2019-06-19']\n"
     ]
    },
    {
     "name": "stdout",
     "output_type": "stream",
     "text": [
      "1120\n",
      "2019-06-17\n",
      "119\n"
     ]
    },
    {
     "name": "stderr",
     "output_type": "stream",
     "text": [
      "INFO: Got 112 tweets (112 new).\n",
      "INFO: queries: ['FB OR AMZN OR AAPL OR NFLX OR GOOG OR FAANG AND stocks since:2019-06-19 until:2019-06-20']\n"
     ]
    },
    {
     "name": "stdout",
     "output_type": "stream",
     "text": [
      "1121\n",
      "2019-06-18\n",
      "112\n"
     ]
    },
    {
     "name": "stderr",
     "output_type": "stream",
     "text": [
      "INFO: Got 117 tweets (117 new).\n",
      "INFO: queries: ['FB OR AMZN OR AAPL OR NFLX OR GOOG OR FAANG AND stocks since:2019-06-20 until:2019-06-21']\n"
     ]
    },
    {
     "name": "stdout",
     "output_type": "stream",
     "text": [
      "1122\n",
      "2019-06-19\n",
      "117\n"
     ]
    },
    {
     "name": "stderr",
     "output_type": "stream",
     "text": [
      "INFO: Got 115 tweets (115 new).\n",
      "INFO: queries: ['FB OR AMZN OR AAPL OR NFLX OR GOOG OR FAANG AND stocks since:2019-06-21 until:2019-06-22']\n"
     ]
    },
    {
     "name": "stdout",
     "output_type": "stream",
     "text": [
      "1123\n",
      "2019-06-20\n",
      "115\n"
     ]
    },
    {
     "name": "stderr",
     "output_type": "stream",
     "text": [
      "INFO: Got 116 tweets (116 new).\n",
      "INFO: queries: ['FB OR AMZN OR AAPL OR NFLX OR GOOG OR FAANG AND stocks since:2019-06-24 until:2019-06-25']\n"
     ]
    },
    {
     "name": "stdout",
     "output_type": "stream",
     "text": [
      "1124\n",
      "2019-06-21\n",
      "116\n"
     ]
    },
    {
     "name": "stderr",
     "output_type": "stream",
     "text": [
      "INFO: Got 118 tweets (118 new).\n",
      "INFO: queries: ['FB OR AMZN OR AAPL OR NFLX OR GOOG OR FAANG AND stocks since:2019-06-25 until:2019-06-26']\n"
     ]
    },
    {
     "name": "stdout",
     "output_type": "stream",
     "text": [
      "1125\n",
      "2019-06-24\n",
      "118\n"
     ]
    },
    {
     "name": "stderr",
     "output_type": "stream",
     "text": [
      "INFO: Got 113 tweets (113 new).\n",
      "INFO: queries: ['FB OR AMZN OR AAPL OR NFLX OR GOOG OR FAANG AND stocks since:2019-06-26 until:2019-06-27']\n"
     ]
    },
    {
     "name": "stdout",
     "output_type": "stream",
     "text": [
      "1126\n",
      "2019-06-25\n",
      "113\n"
     ]
    },
    {
     "name": "stderr",
     "output_type": "stream",
     "text": [
      "INFO: Got 107 tweets (107 new).\n",
      "INFO: queries: ['FB OR AMZN OR AAPL OR NFLX OR GOOG OR FAANG AND stocks since:2019-06-27 until:2019-06-28']\n"
     ]
    },
    {
     "name": "stdout",
     "output_type": "stream",
     "text": [
      "1127\n",
      "2019-06-26\n",
      "107\n"
     ]
    },
    {
     "name": "stderr",
     "output_type": "stream",
     "text": [
      "INFO: Got 102 tweets (102 new).\n",
      "INFO: queries: ['FB OR AMZN OR AAPL OR NFLX OR GOOG OR FAANG AND stocks since:2019-06-28 until:2019-06-29']\n"
     ]
    },
    {
     "name": "stdout",
     "output_type": "stream",
     "text": [
      "1128\n",
      "2019-06-27\n",
      "102\n"
     ]
    },
    {
     "name": "stderr",
     "output_type": "stream",
     "text": [
      "INFO: Got 116 tweets (116 new).\n",
      "INFO: queries: ['FB OR AMZN OR AAPL OR NFLX OR GOOG OR FAANG AND stocks since:2019-07-01 until:2019-07-02']\n"
     ]
    },
    {
     "name": "stdout",
     "output_type": "stream",
     "text": [
      "1129\n",
      "2019-06-28\n",
      "116\n"
     ]
    },
    {
     "name": "stderr",
     "output_type": "stream",
     "text": [
      "INFO: Got 109 tweets (109 new).\n",
      "INFO: queries: ['FB OR AMZN OR AAPL OR NFLX OR GOOG OR FAANG AND stocks since:2019-07-02 until:2019-07-03']\n"
     ]
    },
    {
     "name": "stdout",
     "output_type": "stream",
     "text": [
      "1130\n",
      "2019-07-01\n",
      "109\n"
     ]
    },
    {
     "name": "stderr",
     "output_type": "stream",
     "text": [
      "INFO: Got 119 tweets (119 new).\n",
      "INFO: queries: ['FB OR AMZN OR AAPL OR NFLX OR GOOG OR FAANG AND stocks since:2019-07-03 until:2019-07-04']\n"
     ]
    },
    {
     "name": "stdout",
     "output_type": "stream",
     "text": [
      "1131\n",
      "2019-07-02\n",
      "119\n"
     ]
    },
    {
     "name": "stderr",
     "output_type": "stream",
     "text": [
      "INFO: Got 116 tweets (116 new).\n",
      "INFO: queries: ['FB OR AMZN OR AAPL OR NFLX OR GOOG OR FAANG AND stocks since:2019-07-05 until:2019-07-06']\n"
     ]
    },
    {
     "name": "stdout",
     "output_type": "stream",
     "text": [
      "1132\n",
      "2019-07-03\n",
      "116\n"
     ]
    },
    {
     "name": "stderr",
     "output_type": "stream",
     "text": [
      "INFO: Got 119 tweets (119 new).\n",
      "INFO: queries: ['FB OR AMZN OR AAPL OR NFLX OR GOOG OR FAANG AND stocks since:2019-07-08 until:2019-07-09']\n"
     ]
    },
    {
     "name": "stdout",
     "output_type": "stream",
     "text": [
      "1133\n",
      "2019-07-05\n",
      "119\n"
     ]
    },
    {
     "name": "stderr",
     "output_type": "stream",
     "text": [
      "INFO: Got 105 tweets (105 new).\n",
      "INFO: queries: ['FB OR AMZN OR AAPL OR NFLX OR GOOG OR FAANG AND stocks since:2019-07-09 until:2019-07-10']\n"
     ]
    },
    {
     "name": "stdout",
     "output_type": "stream",
     "text": [
      "1134\n",
      "2019-07-08\n",
      "105\n"
     ]
    },
    {
     "name": "stderr",
     "output_type": "stream",
     "text": [
      "INFO: Got 113 tweets (113 new).\n",
      "INFO: queries: ['FB OR AMZN OR AAPL OR NFLX OR GOOG OR FAANG AND stocks since:2019-07-10 until:2019-07-11']\n"
     ]
    },
    {
     "name": "stdout",
     "output_type": "stream",
     "text": [
      "1135\n",
      "2019-07-09\n",
      "113\n"
     ]
    },
    {
     "name": "stderr",
     "output_type": "stream",
     "text": [
      "INFO: Got 111 tweets (111 new).\n",
      "INFO: queries: ['FB OR AMZN OR AAPL OR NFLX OR GOOG OR FAANG AND stocks since:2019-07-11 until:2019-07-12']\n"
     ]
    },
    {
     "name": "stdout",
     "output_type": "stream",
     "text": [
      "1136\n",
      "2019-07-10\n",
      "111\n"
     ]
    },
    {
     "name": "stderr",
     "output_type": "stream",
     "text": [
      "INFO: Got 113 tweets (113 new).\n",
      "INFO: queries: ['FB OR AMZN OR AAPL OR NFLX OR GOOG OR FAANG AND stocks since:2019-07-12 until:2019-07-13']\n"
     ]
    },
    {
     "name": "stdout",
     "output_type": "stream",
     "text": [
      "1137\n",
      "2019-07-11\n",
      "113\n"
     ]
    },
    {
     "name": "stderr",
     "output_type": "stream",
     "text": [
      "INFO: Got 115 tweets (115 new).\n",
      "INFO: queries: ['FB OR AMZN OR AAPL OR NFLX OR GOOG OR FAANG AND stocks since:2019-07-15 until:2019-07-16']\n"
     ]
    },
    {
     "name": "stdout",
     "output_type": "stream",
     "text": [
      "1138\n",
      "2019-07-12\n",
      "115\n"
     ]
    },
    {
     "name": "stderr",
     "output_type": "stream",
     "text": [
      "INFO: Got 112 tweets (112 new).\n",
      "INFO: queries: ['FB OR AMZN OR AAPL OR NFLX OR GOOG OR FAANG AND stocks since:2019-07-16 until:2019-07-17']\n"
     ]
    },
    {
     "name": "stdout",
     "output_type": "stream",
     "text": [
      "1139\n",
      "2019-07-15\n",
      "112\n"
     ]
    },
    {
     "name": "stderr",
     "output_type": "stream",
     "text": [
      "INFO: Got 113 tweets (113 new).\n",
      "INFO: queries: ['FB OR AMZN OR AAPL OR NFLX OR GOOG OR FAANG AND stocks since:2019-07-17 until:2019-07-18']\n"
     ]
    },
    {
     "name": "stdout",
     "output_type": "stream",
     "text": [
      "1140\n",
      "2019-07-16\n",
      "113\n"
     ]
    },
    {
     "name": "stderr",
     "output_type": "stream",
     "text": [
      "INFO: Got 101 tweets (101 new).\n",
      "INFO: queries: ['FB OR AMZN OR AAPL OR NFLX OR GOOG OR FAANG AND stocks since:2019-07-18 until:2019-07-19']\n"
     ]
    },
    {
     "name": "stdout",
     "output_type": "stream",
     "text": [
      "1141\n",
      "2019-07-17\n",
      "101\n"
     ]
    },
    {
     "name": "stderr",
     "output_type": "stream",
     "text": [
      "INFO: Got 102 tweets (102 new).\n",
      "INFO: queries: ['FB OR AMZN OR AAPL OR NFLX OR GOOG OR FAANG AND stocks since:2019-07-19 until:2019-07-20']\n"
     ]
    },
    {
     "name": "stdout",
     "output_type": "stream",
     "text": [
      "1142\n",
      "2019-07-18\n",
      "102\n"
     ]
    },
    {
     "name": "stderr",
     "output_type": "stream",
     "text": [
      "INFO: Got 116 tweets (116 new).\n",
      "INFO: queries: ['FB OR AMZN OR AAPL OR NFLX OR GOOG OR FAANG AND stocks since:2019-07-22 until:2019-07-23']\n"
     ]
    },
    {
     "name": "stdout",
     "output_type": "stream",
     "text": [
      "1143\n",
      "2019-07-19\n",
      "116\n"
     ]
    },
    {
     "name": "stderr",
     "output_type": "stream",
     "text": [
      "INFO: Got 117 tweets (117 new).\n",
      "INFO: queries: ['FB OR AMZN OR AAPL OR NFLX OR GOOG OR FAANG AND stocks since:2019-07-23 until:2019-07-24']\n"
     ]
    },
    {
     "name": "stdout",
     "output_type": "stream",
     "text": [
      "1144\n",
      "2019-07-22\n",
      "117\n"
     ]
    },
    {
     "name": "stderr",
     "output_type": "stream",
     "text": [
      "INFO: Got 110 tweets (110 new).\n",
      "INFO: queries: ['FB OR AMZN OR AAPL OR NFLX OR GOOG OR FAANG AND stocks since:2019-07-24 until:2019-07-25']\n"
     ]
    },
    {
     "name": "stdout",
     "output_type": "stream",
     "text": [
      "1145\n",
      "2019-07-23\n",
      "110\n"
     ]
    },
    {
     "name": "stderr",
     "output_type": "stream",
     "text": [
      "INFO: Got 113 tweets (113 new).\n",
      "INFO: queries: ['FB OR AMZN OR AAPL OR NFLX OR GOOG OR FAANG AND stocks since:2019-07-25 until:2019-07-26']\n"
     ]
    },
    {
     "name": "stdout",
     "output_type": "stream",
     "text": [
      "1146\n",
      "2019-07-24\n",
      "113\n"
     ]
    },
    {
     "name": "stderr",
     "output_type": "stream",
     "text": [
      "INFO: Got 110 tweets (110 new).\n",
      "INFO: queries: ['FB OR AMZN OR AAPL OR NFLX OR GOOG OR FAANG AND stocks since:2019-07-26 until:2019-07-27']\n"
     ]
    },
    {
     "name": "stdout",
     "output_type": "stream",
     "text": [
      "1147\n",
      "2019-07-25\n",
      "110\n"
     ]
    },
    {
     "name": "stderr",
     "output_type": "stream",
     "text": [
      "INFO: Got 113 tweets (113 new).\n",
      "INFO: queries: ['FB OR AMZN OR AAPL OR NFLX OR GOOG OR FAANG AND stocks since:2019-07-29 until:2019-07-30']\n"
     ]
    },
    {
     "name": "stdout",
     "output_type": "stream",
     "text": [
      "1148\n",
      "2019-07-26\n",
      "113\n"
     ]
    },
    {
     "name": "stderr",
     "output_type": "stream",
     "text": [
      "INFO: Got 109 tweets (109 new).\n",
      "INFO: queries: ['FB OR AMZN OR AAPL OR NFLX OR GOOG OR FAANG AND stocks since:2019-07-30 until:2019-07-31']\n"
     ]
    },
    {
     "name": "stdout",
     "output_type": "stream",
     "text": [
      "1149\n",
      "2019-07-29\n",
      "109\n"
     ]
    },
    {
     "name": "stderr",
     "output_type": "stream",
     "text": [
      "INFO: Got 114 tweets (114 new).\n",
      "INFO: queries: ['FB OR AMZN OR AAPL OR NFLX OR GOOG OR FAANG AND stocks since:2019-07-31 until:2019-08-01']\n"
     ]
    },
    {
     "name": "stdout",
     "output_type": "stream",
     "text": [
      "1150\n",
      "2019-07-30\n",
      "114\n"
     ]
    },
    {
     "name": "stderr",
     "output_type": "stream",
     "text": [
      "INFO: Got 114 tweets (114 new).\n",
      "INFO: queries: ['FB OR AMZN OR AAPL OR NFLX OR GOOG OR FAANG AND stocks since:2019-08-01 until:2019-08-02']\n"
     ]
    },
    {
     "name": "stdout",
     "output_type": "stream",
     "text": [
      "1151\n",
      "2019-07-31\n",
      "114\n"
     ]
    },
    {
     "name": "stderr",
     "output_type": "stream",
     "text": [
      "INFO: Got 117 tweets (117 new).\n",
      "INFO: queries: ['FB OR AMZN OR AAPL OR NFLX OR GOOG OR FAANG AND stocks since:2019-08-02 until:2019-08-03']\n"
     ]
    },
    {
     "name": "stdout",
     "output_type": "stream",
     "text": [
      "1152\n",
      "2019-08-01\n",
      "117\n"
     ]
    },
    {
     "name": "stderr",
     "output_type": "stream",
     "text": [
      "INFO: Got 110 tweets (110 new).\n",
      "INFO: queries: ['FB OR AMZN OR AAPL OR NFLX OR GOOG OR FAANG AND stocks since:2019-08-05 until:2019-08-06']\n"
     ]
    },
    {
     "name": "stdout",
     "output_type": "stream",
     "text": [
      "1153\n",
      "2019-08-02\n",
      "110\n"
     ]
    },
    {
     "name": "stderr",
     "output_type": "stream",
     "text": [
      "INFO: Got 115 tweets (115 new).\n",
      "INFO: queries: ['FB OR AMZN OR AAPL OR NFLX OR GOOG OR FAANG AND stocks since:2019-08-06 until:2019-08-07']\n"
     ]
    },
    {
     "name": "stdout",
     "output_type": "stream",
     "text": [
      "1154\n",
      "2019-08-05\n",
      "115\n"
     ]
    },
    {
     "name": "stderr",
     "output_type": "stream",
     "text": [
      "INFO: Got 111 tweets (111 new).\n",
      "INFO: queries: ['FB OR AMZN OR AAPL OR NFLX OR GOOG OR FAANG AND stocks since:2019-08-07 until:2019-08-08']\n"
     ]
    },
    {
     "name": "stdout",
     "output_type": "stream",
     "text": [
      "1155\n",
      "2019-08-06\n",
      "111\n"
     ]
    },
    {
     "name": "stderr",
     "output_type": "stream",
     "text": [
      "INFO: Got 115 tweets (115 new).\n",
      "INFO: queries: ['FB OR AMZN OR AAPL OR NFLX OR GOOG OR FAANG AND stocks since:2019-08-08 until:2019-08-09']\n"
     ]
    },
    {
     "name": "stdout",
     "output_type": "stream",
     "text": [
      "1156\n",
      "2019-08-07\n",
      "115\n"
     ]
    },
    {
     "name": "stderr",
     "output_type": "stream",
     "text": [
      "INFO: Got 114 tweets (114 new).\n",
      "INFO: queries: ['FB OR AMZN OR AAPL OR NFLX OR GOOG OR FAANG AND stocks since:2019-08-09 until:2019-08-10']\n"
     ]
    },
    {
     "name": "stdout",
     "output_type": "stream",
     "text": [
      "1157\n",
      "2019-08-08\n",
      "114\n"
     ]
    },
    {
     "name": "stderr",
     "output_type": "stream",
     "text": [
      "INFO: Got 110 tweets (110 new).\n",
      "INFO: queries: ['FB OR AMZN OR AAPL OR NFLX OR GOOG OR FAANG AND stocks since:2019-08-12 until:2019-08-13']\n"
     ]
    },
    {
     "name": "stdout",
     "output_type": "stream",
     "text": [
      "1158\n",
      "2019-08-09\n",
      "110\n"
     ]
    },
    {
     "name": "stderr",
     "output_type": "stream",
     "text": [
      "INFO: Got 119 tweets (119 new).\n",
      "INFO: queries: ['FB OR AMZN OR AAPL OR NFLX OR GOOG OR FAANG AND stocks since:2019-08-13 until:2019-08-14']\n"
     ]
    },
    {
     "name": "stdout",
     "output_type": "stream",
     "text": [
      "1159\n",
      "2019-08-12\n",
      "119\n"
     ]
    },
    {
     "name": "stderr",
     "output_type": "stream",
     "text": [
      "INFO: Got 113 tweets (113 new).\n",
      "INFO: queries: ['FB OR AMZN OR AAPL OR NFLX OR GOOG OR FAANG AND stocks since:2019-08-14 until:2019-08-15']\n"
     ]
    },
    {
     "name": "stdout",
     "output_type": "stream",
     "text": [
      "1160\n",
      "2019-08-13\n",
      "113\n"
     ]
    },
    {
     "name": "stderr",
     "output_type": "stream",
     "text": [
      "INFO: Got 111 tweets (111 new).\n",
      "INFO: queries: ['FB OR AMZN OR AAPL OR NFLX OR GOOG OR FAANG AND stocks since:2019-08-15 until:2019-08-16']\n"
     ]
    },
    {
     "name": "stdout",
     "output_type": "stream",
     "text": [
      "1161\n",
      "2019-08-14\n",
      "111\n"
     ]
    },
    {
     "name": "stderr",
     "output_type": "stream",
     "text": [
      "INFO: Got 114 tweets (114 new).\n",
      "INFO: queries: ['FB OR AMZN OR AAPL OR NFLX OR GOOG OR FAANG AND stocks since:2019-08-16 until:2019-08-17']\n"
     ]
    },
    {
     "name": "stdout",
     "output_type": "stream",
     "text": [
      "1162\n",
      "2019-08-15\n",
      "114\n"
     ]
    },
    {
     "name": "stderr",
     "output_type": "stream",
     "text": [
      "INFO: Got 112 tweets (112 new).\n",
      "INFO: queries: ['FB OR AMZN OR AAPL OR NFLX OR GOOG OR FAANG AND stocks since:2019-08-19 until:2019-08-20']\n"
     ]
    },
    {
     "name": "stdout",
     "output_type": "stream",
     "text": [
      "1163\n",
      "2019-08-16\n",
      "112\n"
     ]
    },
    {
     "name": "stderr",
     "output_type": "stream",
     "text": [
      "INFO: Got 111 tweets (111 new).\n",
      "INFO: queries: ['FB OR AMZN OR AAPL OR NFLX OR GOOG OR FAANG AND stocks since:2019-08-20 until:2019-08-21']\n"
     ]
    },
    {
     "name": "stdout",
     "output_type": "stream",
     "text": [
      "1164\n",
      "2019-08-19\n",
      "111\n"
     ]
    },
    {
     "name": "stderr",
     "output_type": "stream",
     "text": [
      "INFO: Got 114 tweets (114 new).\n",
      "INFO: queries: ['FB OR AMZN OR AAPL OR NFLX OR GOOG OR FAANG AND stocks since:2019-08-21 until:2019-08-22']\n"
     ]
    },
    {
     "name": "stdout",
     "output_type": "stream",
     "text": [
      "1165\n",
      "2019-08-20\n",
      "114\n"
     ]
    },
    {
     "name": "stderr",
     "output_type": "stream",
     "text": [
      "INFO: Got 116 tweets (116 new).\n",
      "INFO: queries: ['FB OR AMZN OR AAPL OR NFLX OR GOOG OR FAANG AND stocks since:2019-08-22 until:2019-08-23']\n"
     ]
    },
    {
     "name": "stdout",
     "output_type": "stream",
     "text": [
      "1166\n",
      "2019-08-21\n",
      "116\n"
     ]
    },
    {
     "name": "stderr",
     "output_type": "stream",
     "text": [
      "INFO: Got 117 tweets (117 new).\n",
      "INFO: queries: ['FB OR AMZN OR AAPL OR NFLX OR GOOG OR FAANG AND stocks since:2019-08-23 until:2019-08-24']\n"
     ]
    },
    {
     "name": "stdout",
     "output_type": "stream",
     "text": [
      "1167\n",
      "2019-08-22\n",
      "117\n"
     ]
    },
    {
     "name": "stderr",
     "output_type": "stream",
     "text": [
      "INFO: Got 115 tweets (115 new).\n",
      "INFO: queries: ['FB OR AMZN OR AAPL OR NFLX OR GOOG OR FAANG AND stocks since:2019-08-26 until:2019-08-27']\n"
     ]
    },
    {
     "name": "stdout",
     "output_type": "stream",
     "text": [
      "1168\n",
      "2019-08-23\n",
      "115\n"
     ]
    },
    {
     "name": "stderr",
     "output_type": "stream",
     "text": [
      "INFO: Got 113 tweets (113 new).\n",
      "INFO: queries: ['FB OR AMZN OR AAPL OR NFLX OR GOOG OR FAANG AND stocks since:2019-08-27 until:2019-08-28']\n"
     ]
    },
    {
     "name": "stdout",
     "output_type": "stream",
     "text": [
      "1169\n",
      "2019-08-26\n",
      "113\n"
     ]
    },
    {
     "name": "stderr",
     "output_type": "stream",
     "text": [
      "INFO: Got 116 tweets (116 new).\n",
      "INFO: queries: ['FB OR AMZN OR AAPL OR NFLX OR GOOG OR FAANG AND stocks since:2019-08-28 until:2019-08-29']\n"
     ]
    },
    {
     "name": "stdout",
     "output_type": "stream",
     "text": [
      "1170\n",
      "2019-08-27\n",
      "116\n"
     ]
    },
    {
     "name": "stderr",
     "output_type": "stream",
     "text": [
      "INFO: Got 113 tweets (113 new).\n",
      "INFO: queries: ['FB OR AMZN OR AAPL OR NFLX OR GOOG OR FAANG AND stocks since:2019-08-29 until:2019-08-30']\n"
     ]
    },
    {
     "name": "stdout",
     "output_type": "stream",
     "text": [
      "1171\n",
      "2019-08-28\n",
      "113\n"
     ]
    },
    {
     "name": "stderr",
     "output_type": "stream",
     "text": [
      "INFO: Got 114 tweets (114 new).\n",
      "INFO: queries: ['FB OR AMZN OR AAPL OR NFLX OR GOOG OR FAANG AND stocks since:2019-08-30 until:2019-08-31']\n"
     ]
    },
    {
     "name": "stdout",
     "output_type": "stream",
     "text": [
      "1172\n",
      "2019-08-29\n",
      "114\n"
     ]
    },
    {
     "name": "stderr",
     "output_type": "stream",
     "text": [
      "INFO: Got 116 tweets (116 new).\n",
      "INFO: queries: ['FB OR AMZN OR AAPL OR NFLX OR GOOG OR FAANG AND stocks since:2019-09-03 until:2019-09-04']\n"
     ]
    },
    {
     "name": "stdout",
     "output_type": "stream",
     "text": [
      "1173\n",
      "2019-08-30\n",
      "116\n"
     ]
    },
    {
     "name": "stderr",
     "output_type": "stream",
     "text": [
      "INFO: Got 115 tweets (115 new).\n",
      "INFO: queries: ['FB OR AMZN OR AAPL OR NFLX OR GOOG OR FAANG AND stocks since:2019-09-04 until:2019-09-05']\n"
     ]
    },
    {
     "name": "stdout",
     "output_type": "stream",
     "text": [
      "1174\n",
      "2019-09-03\n",
      "115\n"
     ]
    },
    {
     "name": "stderr",
     "output_type": "stream",
     "text": [
      "INFO: Got 117 tweets (117 new).\n",
      "INFO: queries: ['FB OR AMZN OR AAPL OR NFLX OR GOOG OR FAANG AND stocks since:2019-09-05 until:2019-09-06']\n"
     ]
    },
    {
     "name": "stdout",
     "output_type": "stream",
     "text": [
      "1175\n",
      "2019-09-04\n",
      "117\n"
     ]
    },
    {
     "name": "stderr",
     "output_type": "stream",
     "text": [
      "INFO: Got 115 tweets (115 new).\n",
      "INFO: queries: ['FB OR AMZN OR AAPL OR NFLX OR GOOG OR FAANG AND stocks since:2019-09-06 until:2019-09-07']\n"
     ]
    },
    {
     "name": "stdout",
     "output_type": "stream",
     "text": [
      "1176\n",
      "2019-09-05\n",
      "115\n"
     ]
    },
    {
     "name": "stderr",
     "output_type": "stream",
     "text": [
      "INFO: Got 116 tweets (116 new).\n",
      "INFO: queries: ['FB OR AMZN OR AAPL OR NFLX OR GOOG OR FAANG AND stocks since:2019-09-09 until:2019-09-10']\n"
     ]
    },
    {
     "name": "stdout",
     "output_type": "stream",
     "text": [
      "1177\n",
      "2019-09-06\n",
      "116\n"
     ]
    },
    {
     "name": "stderr",
     "output_type": "stream",
     "text": [
      "INFO: Got 118 tweets (118 new).\n",
      "INFO: queries: ['FB OR AMZN OR AAPL OR NFLX OR GOOG OR FAANG AND stocks since:2019-09-10 until:2019-09-11']\n"
     ]
    },
    {
     "name": "stdout",
     "output_type": "stream",
     "text": [
      "1178\n",
      "2019-09-09\n",
      "118\n"
     ]
    },
    {
     "name": "stderr",
     "output_type": "stream",
     "text": [
      "INFO: Got 112 tweets (112 new).\n",
      "INFO: queries: ['FB OR AMZN OR AAPL OR NFLX OR GOOG OR FAANG AND stocks since:2019-09-11 until:2019-09-12']\n"
     ]
    },
    {
     "name": "stdout",
     "output_type": "stream",
     "text": [
      "1179\n",
      "2019-09-10\n",
      "112\n"
     ]
    },
    {
     "name": "stderr",
     "output_type": "stream",
     "text": [
      "INFO: Got 118 tweets (118 new).\n",
      "INFO: queries: ['FB OR AMZN OR AAPL OR NFLX OR GOOG OR FAANG AND stocks since:2019-09-12 until:2019-09-13']\n"
     ]
    },
    {
     "name": "stdout",
     "output_type": "stream",
     "text": [
      "1180\n",
      "2019-09-11\n",
      "118\n"
     ]
    },
    {
     "name": "stderr",
     "output_type": "stream",
     "text": [
      "INFO: Got 117 tweets (117 new).\n",
      "INFO: queries: ['FB OR AMZN OR AAPL OR NFLX OR GOOG OR FAANG AND stocks since:2019-09-13 until:2019-09-14']\n"
     ]
    },
    {
     "name": "stdout",
     "output_type": "stream",
     "text": [
      "1181\n",
      "2019-09-12\n",
      "117\n"
     ]
    },
    {
     "name": "stderr",
     "output_type": "stream",
     "text": [
      "INFO: Got 111 tweets (111 new).\n",
      "INFO: queries: ['FB OR AMZN OR AAPL OR NFLX OR GOOG OR FAANG AND stocks since:2019-09-16 until:2019-09-17']\n"
     ]
    },
    {
     "name": "stdout",
     "output_type": "stream",
     "text": [
      "1182\n",
      "2019-09-13\n",
      "111\n"
     ]
    },
    {
     "name": "stderr",
     "output_type": "stream",
     "text": [
      "INFO: Got 115 tweets (115 new).\n",
      "INFO: queries: ['FB OR AMZN OR AAPL OR NFLX OR GOOG OR FAANG AND stocks since:2019-09-17 until:2019-09-18']\n"
     ]
    },
    {
     "name": "stdout",
     "output_type": "stream",
     "text": [
      "1183\n",
      "2019-09-16\n",
      "115\n"
     ]
    },
    {
     "name": "stderr",
     "output_type": "stream",
     "text": [
      "INFO: Got 109 tweets (109 new).\n",
      "INFO: queries: ['FB OR AMZN OR AAPL OR NFLX OR GOOG OR FAANG AND stocks since:2019-09-18 until:2019-09-19']\n"
     ]
    },
    {
     "name": "stdout",
     "output_type": "stream",
     "text": [
      "1184\n",
      "2019-09-17\n",
      "109\n"
     ]
    },
    {
     "name": "stderr",
     "output_type": "stream",
     "text": [
      "INFO: Got 119 tweets (119 new).\n",
      "INFO: queries: ['FB OR AMZN OR AAPL OR NFLX OR GOOG OR FAANG AND stocks since:2019-09-19 until:2019-09-20']\n"
     ]
    },
    {
     "name": "stdout",
     "output_type": "stream",
     "text": [
      "1185\n",
      "2019-09-18\n",
      "119\n"
     ]
    },
    {
     "name": "stderr",
     "output_type": "stream",
     "text": [
      "INFO: Got 115 tweets (115 new).\n",
      "INFO: queries: ['FB OR AMZN OR AAPL OR NFLX OR GOOG OR FAANG AND stocks since:2019-09-20 until:2019-09-21']\n"
     ]
    },
    {
     "name": "stdout",
     "output_type": "stream",
     "text": [
      "1186\n",
      "2019-09-19\n",
      "115\n"
     ]
    },
    {
     "name": "stderr",
     "output_type": "stream",
     "text": [
      "INFO: Got 107 tweets (107 new).\n",
      "INFO: queries: ['FB OR AMZN OR AAPL OR NFLX OR GOOG OR FAANG AND stocks since:2019-09-23 until:2019-09-24']\n"
     ]
    },
    {
     "name": "stdout",
     "output_type": "stream",
     "text": [
      "1187\n",
      "2019-09-20\n",
      "107\n"
     ]
    },
    {
     "name": "stderr",
     "output_type": "stream",
     "text": [
      "INFO: Got 116 tweets (116 new).\n",
      "INFO: queries: ['FB OR AMZN OR AAPL OR NFLX OR GOOG OR FAANG AND stocks since:2019-09-24 until:2019-09-25']\n"
     ]
    },
    {
     "name": "stdout",
     "output_type": "stream",
     "text": [
      "1188\n",
      "2019-09-23\n",
      "116\n"
     ]
    },
    {
     "name": "stderr",
     "output_type": "stream",
     "text": [
      "INFO: Got 115 tweets (115 new).\n",
      "INFO: queries: ['FB OR AMZN OR AAPL OR NFLX OR GOOG OR FAANG AND stocks since:2019-09-25 until:2019-09-26']\n"
     ]
    },
    {
     "name": "stdout",
     "output_type": "stream",
     "text": [
      "1189\n",
      "2019-09-24\n",
      "115\n"
     ]
    },
    {
     "name": "stderr",
     "output_type": "stream",
     "text": [
      "INFO: Got 116 tweets (116 new).\n",
      "INFO: queries: ['FB OR AMZN OR AAPL OR NFLX OR GOOG OR FAANG AND stocks since:2019-09-26 until:2019-09-27']\n"
     ]
    },
    {
     "name": "stdout",
     "output_type": "stream",
     "text": [
      "1190\n",
      "2019-09-25\n",
      "116\n"
     ]
    },
    {
     "name": "stderr",
     "output_type": "stream",
     "text": [
      "INFO: Got 111 tweets (111 new).\n",
      "INFO: queries: ['FB OR AMZN OR AAPL OR NFLX OR GOOG OR FAANG AND stocks since:2019-09-27 until:2019-09-28']\n"
     ]
    },
    {
     "name": "stdout",
     "output_type": "stream",
     "text": [
      "1191\n",
      "2019-09-26\n",
      "111\n"
     ]
    },
    {
     "name": "stderr",
     "output_type": "stream",
     "text": [
      "INFO: Got 114 tweets (114 new).\n",
      "INFO: queries: ['FB OR AMZN OR AAPL OR NFLX OR GOOG OR FAANG AND stocks since:2019-09-30 until:2019-10-01']\n"
     ]
    },
    {
     "name": "stdout",
     "output_type": "stream",
     "text": [
      "1192\n",
      "2019-09-27\n",
      "114\n"
     ]
    },
    {
     "name": "stderr",
     "output_type": "stream",
     "text": [
      "INFO: Got 118 tweets (118 new).\n",
      "INFO: queries: ['FB OR AMZN OR AAPL OR NFLX OR GOOG OR FAANG AND stocks since:2019-10-01 until:2019-10-02']\n"
     ]
    },
    {
     "name": "stdout",
     "output_type": "stream",
     "text": [
      "1193\n",
      "2019-09-30\n",
      "118\n"
     ]
    },
    {
     "name": "stderr",
     "output_type": "stream",
     "text": [
      "INFO: Got 113 tweets (113 new).\n",
      "INFO: queries: ['FB OR AMZN OR AAPL OR NFLX OR GOOG OR FAANG AND stocks since:2019-10-02 until:2019-10-03']\n"
     ]
    },
    {
     "name": "stdout",
     "output_type": "stream",
     "text": [
      "1194\n",
      "2019-10-01\n",
      "113\n"
     ]
    },
    {
     "name": "stderr",
     "output_type": "stream",
     "text": [
      "INFO: Got 111 tweets (111 new).\n",
      "INFO: queries: ['FB OR AMZN OR AAPL OR NFLX OR GOOG OR FAANG AND stocks since:2019-10-03 until:2019-10-04']\n"
     ]
    },
    {
     "name": "stdout",
     "output_type": "stream",
     "text": [
      "1195\n",
      "2019-10-02\n",
      "111\n"
     ]
    },
    {
     "name": "stderr",
     "output_type": "stream",
     "text": [
      "INFO: Got 112 tweets (112 new).\n",
      "INFO: queries: ['FB OR AMZN OR AAPL OR NFLX OR GOOG OR FAANG AND stocks since:2019-10-04 until:2019-10-05']\n"
     ]
    },
    {
     "name": "stdout",
     "output_type": "stream",
     "text": [
      "1196\n",
      "2019-10-03\n",
      "112\n"
     ]
    },
    {
     "name": "stderr",
     "output_type": "stream",
     "text": [
      "INFO: Got 119 tweets (119 new).\n",
      "INFO: queries: ['FB OR AMZN OR AAPL OR NFLX OR GOOG OR FAANG AND stocks since:2019-10-07 until:2019-10-08']\n"
     ]
    },
    {
     "name": "stdout",
     "output_type": "stream",
     "text": [
      "1197\n",
      "2019-10-04\n",
      "119\n"
     ]
    },
    {
     "name": "stderr",
     "output_type": "stream",
     "text": [
      "INFO: Got 115 tweets (115 new).\n",
      "INFO: queries: ['FB OR AMZN OR AAPL OR NFLX OR GOOG OR FAANG AND stocks since:2019-10-08 until:2019-10-09']\n"
     ]
    },
    {
     "name": "stdout",
     "output_type": "stream",
     "text": [
      "1198\n",
      "2019-10-07\n",
      "115\n"
     ]
    },
    {
     "name": "stderr",
     "output_type": "stream",
     "text": [
      "INFO: Got 117 tweets (117 new).\n",
      "INFO: queries: ['FB OR AMZN OR AAPL OR NFLX OR GOOG OR FAANG AND stocks since:2019-10-09 until:2019-10-10']\n"
     ]
    },
    {
     "name": "stdout",
     "output_type": "stream",
     "text": [
      "1199\n",
      "2019-10-08\n",
      "117\n"
     ]
    },
    {
     "name": "stderr",
     "output_type": "stream",
     "text": [
      "INFO: Got 114 tweets (114 new).\n",
      "INFO: queries: ['FB OR AMZN OR AAPL OR NFLX OR GOOG OR FAANG AND stocks since:2019-10-10 until:2019-10-11']\n"
     ]
    },
    {
     "name": "stdout",
     "output_type": "stream",
     "text": [
      "1200\n",
      "2019-10-09\n",
      "114\n"
     ]
    },
    {
     "name": "stderr",
     "output_type": "stream",
     "text": [
      "INFO: Got 118 tweets (118 new).\n",
      "INFO: queries: ['FB OR AMZN OR AAPL OR NFLX OR GOOG OR FAANG AND stocks since:2019-10-11 until:2019-10-12']\n"
     ]
    },
    {
     "name": "stdout",
     "output_type": "stream",
     "text": [
      "1201\n",
      "2019-10-10\n",
      "118\n"
     ]
    },
    {
     "name": "stderr",
     "output_type": "stream",
     "text": [
      "INFO: Got 108 tweets (108 new).\n",
      "INFO: queries: ['FB OR AMZN OR AAPL OR NFLX OR GOOG OR FAANG AND stocks since:2019-10-14 until:2019-10-15']\n"
     ]
    },
    {
     "name": "stdout",
     "output_type": "stream",
     "text": [
      "1202\n",
      "2019-10-11\n",
      "108\n"
     ]
    },
    {
     "name": "stderr",
     "output_type": "stream",
     "text": [
      "INFO: Got 108 tweets (108 new).\n",
      "INFO: queries: ['FB OR AMZN OR AAPL OR NFLX OR GOOG OR FAANG AND stocks since:2019-10-15 until:2019-10-16']\n"
     ]
    },
    {
     "name": "stdout",
     "output_type": "stream",
     "text": [
      "1203\n",
      "2019-10-14\n",
      "108\n"
     ]
    },
    {
     "name": "stderr",
     "output_type": "stream",
     "text": [
      "INFO: Got 117 tweets (117 new).\n",
      "INFO: queries: ['FB OR AMZN OR AAPL OR NFLX OR GOOG OR FAANG AND stocks since:2019-10-16 until:2019-10-17']\n"
     ]
    },
    {
     "name": "stdout",
     "output_type": "stream",
     "text": [
      "1204\n",
      "2019-10-15\n",
      "117\n"
     ]
    },
    {
     "name": "stderr",
     "output_type": "stream",
     "text": [
      "INFO: Got 108 tweets (108 new).\n",
      "INFO: queries: ['FB OR AMZN OR AAPL OR NFLX OR GOOG OR FAANG AND stocks since:2019-10-17 until:2019-10-18']\n"
     ]
    },
    {
     "name": "stdout",
     "output_type": "stream",
     "text": [
      "1205\n",
      "2019-10-16\n",
      "108\n"
     ]
    },
    {
     "name": "stderr",
     "output_type": "stream",
     "text": [
      "INFO: Got 113 tweets (113 new).\n",
      "INFO: queries: ['FB OR AMZN OR AAPL OR NFLX OR GOOG OR FAANG AND stocks since:2019-10-18 until:2019-10-19']\n"
     ]
    },
    {
     "name": "stdout",
     "output_type": "stream",
     "text": [
      "1206\n",
      "2019-10-17\n",
      "113\n"
     ]
    },
    {
     "name": "stderr",
     "output_type": "stream",
     "text": [
      "INFO: Got 120 tweets (120 new).\n",
      "INFO: queries: ['FB OR AMZN OR AAPL OR NFLX OR GOOG OR FAANG AND stocks since:2019-10-21 until:2019-10-22']\n"
     ]
    },
    {
     "name": "stdout",
     "output_type": "stream",
     "text": [
      "1207\n",
      "2019-10-18\n",
      "120\n"
     ]
    },
    {
     "name": "stderr",
     "output_type": "stream",
     "text": [
      "INFO: Got 118 tweets (118 new).\n",
      "INFO: queries: ['FB OR AMZN OR AAPL OR NFLX OR GOOG OR FAANG AND stocks since:2019-10-22 until:2019-10-23']\n"
     ]
    },
    {
     "name": "stdout",
     "output_type": "stream",
     "text": [
      "1208\n",
      "2019-10-21\n",
      "118\n"
     ]
    },
    {
     "name": "stderr",
     "output_type": "stream",
     "text": [
      "INFO: Got 119 tweets (119 new).\n",
      "INFO: queries: ['FB OR AMZN OR AAPL OR NFLX OR GOOG OR FAANG AND stocks since:2019-10-23 until:2019-10-24']\n"
     ]
    },
    {
     "name": "stdout",
     "output_type": "stream",
     "text": [
      "1209\n",
      "2019-10-22\n",
      "119\n"
     ]
    },
    {
     "name": "stderr",
     "output_type": "stream",
     "text": [
      "INFO: Got 116 tweets (116 new).\n",
      "INFO: queries: ['FB OR AMZN OR AAPL OR NFLX OR GOOG OR FAANG AND stocks since:2019-10-24 until:2019-10-25']\n"
     ]
    },
    {
     "name": "stdout",
     "output_type": "stream",
     "text": [
      "1210\n",
      "2019-10-23\n",
      "116\n"
     ]
    },
    {
     "name": "stderr",
     "output_type": "stream",
     "text": [
      "INFO: Got 110 tweets (110 new).\n",
      "INFO: queries: ['FB OR AMZN OR AAPL OR NFLX OR GOOG OR FAANG AND stocks since:2019-10-25 until:2019-10-26']\n"
     ]
    },
    {
     "name": "stdout",
     "output_type": "stream",
     "text": [
      "1211\n",
      "2019-10-24\n",
      "110\n"
     ]
    },
    {
     "name": "stderr",
     "output_type": "stream",
     "text": [
      "INFO: Got 114 tweets (114 new).\n",
      "INFO: queries: ['FB OR AMZN OR AAPL OR NFLX OR GOOG OR FAANG AND stocks since:2019-10-28 until:2019-10-29']\n"
     ]
    },
    {
     "name": "stdout",
     "output_type": "stream",
     "text": [
      "1212\n",
      "2019-10-25\n",
      "114\n"
     ]
    },
    {
     "name": "stderr",
     "output_type": "stream",
     "text": [
      "INFO: Got 117 tweets (117 new).\n",
      "INFO: queries: ['FB OR AMZN OR AAPL OR NFLX OR GOOG OR FAANG AND stocks since:2019-10-29 until:2019-10-30']\n"
     ]
    },
    {
     "name": "stdout",
     "output_type": "stream",
     "text": [
      "1213\n",
      "2019-10-28\n",
      "117\n"
     ]
    },
    {
     "name": "stderr",
     "output_type": "stream",
     "text": [
      "INFO: Got 110 tweets (110 new).\n",
      "INFO: queries: ['FB OR AMZN OR AAPL OR NFLX OR GOOG OR FAANG AND stocks since:2019-10-30 until:2019-10-31']\n"
     ]
    },
    {
     "name": "stdout",
     "output_type": "stream",
     "text": [
      "1214\n",
      "2019-10-29\n",
      "110\n"
     ]
    },
    {
     "name": "stderr",
     "output_type": "stream",
     "text": [
      "INFO: Got 108 tweets (108 new).\n",
      "INFO: queries: ['FB OR AMZN OR AAPL OR NFLX OR GOOG OR FAANG AND stocks since:2019-10-31 until:2019-11-01']\n"
     ]
    },
    {
     "name": "stdout",
     "output_type": "stream",
     "text": [
      "1215\n",
      "2019-10-30\n",
      "108\n"
     ]
    },
    {
     "name": "stderr",
     "output_type": "stream",
     "text": [
      "INFO: Got 114 tweets (114 new).\n",
      "INFO: queries: ['FB OR AMZN OR AAPL OR NFLX OR GOOG OR FAANG AND stocks since:2019-11-01 until:2019-11-02']\n"
     ]
    },
    {
     "name": "stdout",
     "output_type": "stream",
     "text": [
      "1216\n",
      "2019-10-31\n",
      "114\n"
     ]
    },
    {
     "name": "stderr",
     "output_type": "stream",
     "text": [
      "INFO: Got 115 tweets (115 new).\n",
      "INFO: queries: ['FB OR AMZN OR AAPL OR NFLX OR GOOG OR FAANG AND stocks since:2019-11-04 until:2019-11-05']\n"
     ]
    },
    {
     "name": "stdout",
     "output_type": "stream",
     "text": [
      "1217\n",
      "2019-11-01\n",
      "115\n"
     ]
    },
    {
     "name": "stderr",
     "output_type": "stream",
     "text": [
      "INFO: Got 104 tweets (104 new).\n",
      "INFO: queries: ['FB OR AMZN OR AAPL OR NFLX OR GOOG OR FAANG AND stocks since:2019-11-05 until:2019-11-06']\n"
     ]
    },
    {
     "name": "stdout",
     "output_type": "stream",
     "text": [
      "1218\n",
      "2019-11-04\n",
      "104\n"
     ]
    },
    {
     "name": "stderr",
     "output_type": "stream",
     "text": [
      "INFO: Got 113 tweets (113 new).\n",
      "INFO: queries: ['FB OR AMZN OR AAPL OR NFLX OR GOOG OR FAANG AND stocks since:2019-11-06 until:2019-11-07']\n"
     ]
    },
    {
     "name": "stdout",
     "output_type": "stream",
     "text": [
      "1219\n",
      "2019-11-05\n",
      "113\n"
     ]
    },
    {
     "name": "stderr",
     "output_type": "stream",
     "text": [
      "INFO: Got 109 tweets (109 new).\n",
      "INFO: queries: ['FB OR AMZN OR AAPL OR NFLX OR GOOG OR FAANG AND stocks since:2019-11-07 until:2019-11-08']\n"
     ]
    },
    {
     "name": "stdout",
     "output_type": "stream",
     "text": [
      "1220\n",
      "2019-11-06\n",
      "109\n"
     ]
    },
    {
     "name": "stderr",
     "output_type": "stream",
     "text": [
      "INFO: Got 116 tweets (116 new).\n",
      "INFO: queries: ['FB OR AMZN OR AAPL OR NFLX OR GOOG OR FAANG AND stocks since:2019-11-08 until:2019-11-09']\n"
     ]
    },
    {
     "name": "stdout",
     "output_type": "stream",
     "text": [
      "1221\n",
      "2019-11-07\n",
      "116\n"
     ]
    },
    {
     "name": "stderr",
     "output_type": "stream",
     "text": [
      "INFO: Got 118 tweets (118 new).\n",
      "INFO: queries: ['FB OR AMZN OR AAPL OR NFLX OR GOOG OR FAANG AND stocks since:2019-11-11 until:2019-11-12']\n"
     ]
    },
    {
     "name": "stdout",
     "output_type": "stream",
     "text": [
      "1222\n",
      "2019-11-08\n",
      "118\n"
     ]
    },
    {
     "name": "stderr",
     "output_type": "stream",
     "text": [
      "INFO: Got 113 tweets (113 new).\n",
      "INFO: queries: ['FB OR AMZN OR AAPL OR NFLX OR GOOG OR FAANG AND stocks since:2019-11-12 until:2019-11-13']\n"
     ]
    },
    {
     "name": "stdout",
     "output_type": "stream",
     "text": [
      "1223\n",
      "2019-11-11\n",
      "113\n"
     ]
    },
    {
     "name": "stderr",
     "output_type": "stream",
     "text": [
      "INFO: Got 112 tweets (112 new).\n",
      "INFO: queries: ['FB OR AMZN OR AAPL OR NFLX OR GOOG OR FAANG AND stocks since:2019-11-13 until:2019-11-14']\n"
     ]
    },
    {
     "name": "stdout",
     "output_type": "stream",
     "text": [
      "1224\n",
      "2019-11-12\n",
      "112\n"
     ]
    },
    {
     "name": "stderr",
     "output_type": "stream",
     "text": [
      "INFO: Got 111 tweets (111 new).\n",
      "INFO: queries: ['FB OR AMZN OR AAPL OR NFLX OR GOOG OR FAANG AND stocks since:2019-11-14 until:2019-11-15']\n"
     ]
    },
    {
     "name": "stdout",
     "output_type": "stream",
     "text": [
      "1225\n",
      "2019-11-13\n",
      "111\n"
     ]
    },
    {
     "name": "stderr",
     "output_type": "stream",
     "text": [
      "INFO: Got 118 tweets (118 new).\n",
      "INFO: queries: ['FB OR AMZN OR AAPL OR NFLX OR GOOG OR FAANG AND stocks since:2019-11-15 until:2019-11-16']\n"
     ]
    },
    {
     "name": "stdout",
     "output_type": "stream",
     "text": [
      "1226\n",
      "2019-11-14\n",
      "118\n"
     ]
    },
    {
     "name": "stderr",
     "output_type": "stream",
     "text": [
      "INFO: Got 102 tweets (102 new).\n",
      "INFO: queries: ['FB OR AMZN OR AAPL OR NFLX OR GOOG OR FAANG AND stocks since:2019-11-18 until:2019-11-19']\n"
     ]
    },
    {
     "name": "stdout",
     "output_type": "stream",
     "text": [
      "1227\n",
      "2019-11-15\n",
      "102\n"
     ]
    },
    {
     "name": "stderr",
     "output_type": "stream",
     "text": [
      "INFO: Got 107 tweets (107 new).\n",
      "INFO: queries: ['FB OR AMZN OR AAPL OR NFLX OR GOOG OR FAANG AND stocks since:2019-11-19 until:2019-11-20']\n"
     ]
    },
    {
     "name": "stdout",
     "output_type": "stream",
     "text": [
      "1228\n",
      "2019-11-18\n",
      "107\n"
     ]
    },
    {
     "name": "stderr",
     "output_type": "stream",
     "text": [
      "INFO: Got 109 tweets (109 new).\n",
      "INFO: queries: ['FB OR AMZN OR AAPL OR NFLX OR GOOG OR FAANG AND stocks since:2019-11-20 until:2019-11-21']\n"
     ]
    },
    {
     "name": "stdout",
     "output_type": "stream",
     "text": [
      "1229\n",
      "2019-11-19\n",
      "109\n"
     ]
    },
    {
     "name": "stderr",
     "output_type": "stream",
     "text": [
      "INFO: Got 103 tweets (103 new).\n",
      "INFO: queries: ['FB OR AMZN OR AAPL OR NFLX OR GOOG OR FAANG AND stocks since:2019-11-21 until:2019-11-22']\n"
     ]
    },
    {
     "name": "stdout",
     "output_type": "stream",
     "text": [
      "1230\n",
      "2019-11-20\n",
      "103\n"
     ]
    },
    {
     "name": "stderr",
     "output_type": "stream",
     "text": [
      "INFO: Got 114 tweets (114 new).\n",
      "INFO: queries: ['FB OR AMZN OR AAPL OR NFLX OR GOOG OR FAANG AND stocks since:2019-11-22 until:2019-11-23']\n"
     ]
    },
    {
     "name": "stdout",
     "output_type": "stream",
     "text": [
      "1231\n",
      "2019-11-21\n",
      "114\n"
     ]
    },
    {
     "name": "stderr",
     "output_type": "stream",
     "text": [
      "INFO: Got 116 tweets (116 new).\n",
      "INFO: queries: ['FB OR AMZN OR AAPL OR NFLX OR GOOG OR FAANG AND stocks since:2019-11-25 until:2019-11-26']\n"
     ]
    },
    {
     "name": "stdout",
     "output_type": "stream",
     "text": [
      "1232\n",
      "2019-11-22\n",
      "116\n"
     ]
    },
    {
     "name": "stderr",
     "output_type": "stream",
     "text": [
      "INFO: Got 110 tweets (110 new).\n",
      "INFO: queries: ['FB OR AMZN OR AAPL OR NFLX OR GOOG OR FAANG AND stocks since:2019-11-26 until:2019-11-27']\n"
     ]
    },
    {
     "name": "stdout",
     "output_type": "stream",
     "text": [
      "1233\n",
      "2019-11-25\n",
      "110\n"
     ]
    },
    {
     "name": "stderr",
     "output_type": "stream",
     "text": [
      "INFO: Got 105 tweets (105 new).\n",
      "INFO: queries: ['FB OR AMZN OR AAPL OR NFLX OR GOOG OR FAANG AND stocks since:2019-11-27 until:2019-11-28']\n"
     ]
    },
    {
     "name": "stdout",
     "output_type": "stream",
     "text": [
      "1234\n",
      "2019-11-26\n",
      "105\n"
     ]
    },
    {
     "name": "stderr",
     "output_type": "stream",
     "text": [
      "INFO: Got 105 tweets (105 new).\n",
      "INFO: queries: ['FB OR AMZN OR AAPL OR NFLX OR GOOG OR FAANG AND stocks since:2019-11-29 until:2019-11-30']\n"
     ]
    },
    {
     "name": "stdout",
     "output_type": "stream",
     "text": [
      "1235\n",
      "2019-11-27\n",
      "105\n"
     ]
    },
    {
     "name": "stderr",
     "output_type": "stream",
     "text": [
      "INFO: Got 116 tweets (116 new).\n",
      "INFO: queries: ['FB OR AMZN OR AAPL OR NFLX OR GOOG OR FAANG AND stocks since:2019-12-02 until:2019-12-03']\n"
     ]
    },
    {
     "name": "stdout",
     "output_type": "stream",
     "text": [
      "1236\n",
      "2019-11-29\n",
      "116\n"
     ]
    },
    {
     "name": "stderr",
     "output_type": "stream",
     "text": [
      "INFO: Got 106 tweets (106 new).\n",
      "INFO: queries: ['FB OR AMZN OR AAPL OR NFLX OR GOOG OR FAANG AND stocks since:2019-12-03 until:2019-12-04']\n"
     ]
    },
    {
     "name": "stdout",
     "output_type": "stream",
     "text": [
      "1237\n",
      "2019-12-02\n",
      "106\n"
     ]
    },
    {
     "name": "stderr",
     "output_type": "stream",
     "text": [
      "INFO: Got 116 tweets (116 new).\n",
      "INFO: queries: ['FB OR AMZN OR AAPL OR NFLX OR GOOG OR FAANG AND stocks since:2019-12-04 until:2019-12-05']\n"
     ]
    },
    {
     "name": "stdout",
     "output_type": "stream",
     "text": [
      "1238\n",
      "2019-12-03\n",
      "116\n"
     ]
    },
    {
     "name": "stderr",
     "output_type": "stream",
     "text": [
      "INFO: Got 107 tweets (107 new).\n",
      "INFO: queries: ['FB OR AMZN OR AAPL OR NFLX OR GOOG OR FAANG AND stocks since:2019-12-05 until:2019-12-06']\n"
     ]
    },
    {
     "name": "stdout",
     "output_type": "stream",
     "text": [
      "1239\n",
      "2019-12-04\n",
      "107\n"
     ]
    },
    {
     "name": "stderr",
     "output_type": "stream",
     "text": [
      "INFO: Got 115 tweets (115 new).\n",
      "INFO: queries: ['FB OR AMZN OR AAPL OR NFLX OR GOOG OR FAANG AND stocks since:2019-12-06 until:2019-12-07']\n"
     ]
    },
    {
     "name": "stdout",
     "output_type": "stream",
     "text": [
      "1240\n",
      "2019-12-05\n",
      "115\n"
     ]
    },
    {
     "name": "stderr",
     "output_type": "stream",
     "text": [
      "INFO: Got 107 tweets (107 new).\n",
      "INFO: queries: ['FB OR AMZN OR AAPL OR NFLX OR GOOG OR FAANG AND stocks since:2019-12-09 until:2019-12-10']\n"
     ]
    },
    {
     "name": "stdout",
     "output_type": "stream",
     "text": [
      "1241\n",
      "2019-12-06\n",
      "107\n"
     ]
    },
    {
     "name": "stderr",
     "output_type": "stream",
     "text": [
      "INFO: Got 108 tweets (108 new).\n",
      "INFO: queries: ['FB OR AMZN OR AAPL OR NFLX OR GOOG OR FAANG AND stocks since:2019-12-10 until:2019-12-11']\n"
     ]
    },
    {
     "name": "stdout",
     "output_type": "stream",
     "text": [
      "1242\n",
      "2019-12-09\n",
      "108\n"
     ]
    },
    {
     "name": "stderr",
     "output_type": "stream",
     "text": [
      "INFO: Got 103 tweets (103 new).\n",
      "INFO: queries: ['FB OR AMZN OR AAPL OR NFLX OR GOOG OR FAANG AND stocks since:2019-12-11 until:2019-12-12']\n"
     ]
    },
    {
     "name": "stdout",
     "output_type": "stream",
     "text": [
      "1243\n",
      "2019-12-10\n",
      "103\n"
     ]
    },
    {
     "name": "stderr",
     "output_type": "stream",
     "text": [
      "INFO: Got 111 tweets (111 new).\n",
      "INFO: queries: ['FB OR AMZN OR AAPL OR NFLX OR GOOG OR FAANG AND stocks since:2019-12-12 until:2019-12-13']\n"
     ]
    },
    {
     "name": "stdout",
     "output_type": "stream",
     "text": [
      "1244\n",
      "2019-12-11\n",
      "111\n"
     ]
    },
    {
     "name": "stderr",
     "output_type": "stream",
     "text": [
      "INFO: Got 116 tweets (116 new).\n",
      "INFO: queries: ['FB OR AMZN OR AAPL OR NFLX OR GOOG OR FAANG AND stocks since:2019-12-13 until:2019-12-14']\n"
     ]
    },
    {
     "name": "stdout",
     "output_type": "stream",
     "text": [
      "1245\n",
      "2019-12-12\n",
      "116\n"
     ]
    },
    {
     "name": "stderr",
     "output_type": "stream",
     "text": [
      "INFO: Got 111 tweets (111 new).\n",
      "INFO: queries: ['FB OR AMZN OR AAPL OR NFLX OR GOOG OR FAANG AND stocks since:2019-12-16 until:2019-12-17']\n"
     ]
    },
    {
     "name": "stdout",
     "output_type": "stream",
     "text": [
      "1246\n",
      "2019-12-13\n",
      "111\n"
     ]
    },
    {
     "name": "stderr",
     "output_type": "stream",
     "text": [
      "INFO: Got 112 tweets (112 new).\n",
      "INFO: queries: ['FB OR AMZN OR AAPL OR NFLX OR GOOG OR FAANG AND stocks since:2019-12-17 until:2019-12-18']\n"
     ]
    },
    {
     "name": "stdout",
     "output_type": "stream",
     "text": [
      "1247\n",
      "2019-12-16\n",
      "112\n"
     ]
    },
    {
     "name": "stderr",
     "output_type": "stream",
     "text": [
      "INFO: Got 108 tweets (108 new).\n",
      "INFO: queries: ['FB OR AMZN OR AAPL OR NFLX OR GOOG OR FAANG AND stocks since:2019-12-18 until:2019-12-19']\n"
     ]
    },
    {
     "name": "stdout",
     "output_type": "stream",
     "text": [
      "1248\n",
      "2019-12-17\n",
      "108\n"
     ]
    },
    {
     "name": "stderr",
     "output_type": "stream",
     "text": [
      "INFO: Got 112 tweets (112 new).\n",
      "INFO: queries: ['FB OR AMZN OR AAPL OR NFLX OR GOOG OR FAANG AND stocks since:2019-12-19 until:2019-12-20']\n"
     ]
    },
    {
     "name": "stdout",
     "output_type": "stream",
     "text": [
      "1249\n",
      "2019-12-18\n",
      "112\n"
     ]
    },
    {
     "name": "stderr",
     "output_type": "stream",
     "text": [
      "INFO: Got 114 tweets (114 new).\n",
      "INFO: queries: ['FB OR AMZN OR AAPL OR NFLX OR GOOG OR FAANG AND stocks since:2019-12-20 until:2019-12-21']\n"
     ]
    },
    {
     "name": "stdout",
     "output_type": "stream",
     "text": [
      "1250\n",
      "2019-12-19\n",
      "114\n"
     ]
    },
    {
     "name": "stderr",
     "output_type": "stream",
     "text": [
      "INFO: Got 114 tweets (114 new).\n",
      "INFO: queries: ['FB OR AMZN OR AAPL OR NFLX OR GOOG OR FAANG AND stocks since:2019-12-23 until:2019-12-24']\n"
     ]
    },
    {
     "name": "stdout",
     "output_type": "stream",
     "text": [
      "1251\n",
      "2019-12-20\n",
      "114\n"
     ]
    },
    {
     "name": "stderr",
     "output_type": "stream",
     "text": [
      "INFO: Got 106 tweets (106 new).\n",
      "INFO: queries: ['FB OR AMZN OR AAPL OR NFLX OR GOOG OR FAANG AND stocks since:2019-12-24 until:2019-12-25']\n"
     ]
    },
    {
     "name": "stdout",
     "output_type": "stream",
     "text": [
      "1252\n",
      "2019-12-23\n",
      "106\n"
     ]
    },
    {
     "name": "stderr",
     "output_type": "stream",
     "text": [
      "INFO: Got 103 tweets (103 new).\n",
      "INFO: queries: ['FB OR AMZN OR AAPL OR NFLX OR GOOG OR FAANG AND stocks since:2019-12-26 until:2019-12-27']\n"
     ]
    },
    {
     "name": "stdout",
     "output_type": "stream",
     "text": [
      "1253\n",
      "2019-12-24\n",
      "103\n"
     ]
    },
    {
     "name": "stderr",
     "output_type": "stream",
     "text": [
      "INFO: Got 107 tweets (107 new).\n",
      "INFO: queries: ['FB OR AMZN OR AAPL OR NFLX OR GOOG OR FAANG AND stocks since:2019-12-27 until:2019-12-28']\n"
     ]
    },
    {
     "name": "stdout",
     "output_type": "stream",
     "text": [
      "1254\n",
      "2019-12-26\n",
      "107\n"
     ]
    },
    {
     "name": "stderr",
     "output_type": "stream",
     "text": [
      "INFO: Got 111 tweets (111 new).\n",
      "INFO: queries: ['FB OR AMZN OR AAPL OR NFLX OR GOOG OR FAANG AND stocks since:2019-12-30 until:2019-12-31']\n"
     ]
    },
    {
     "name": "stdout",
     "output_type": "stream",
     "text": [
      "1255\n",
      "2019-12-27\n",
      "111\n"
     ]
    },
    {
     "name": "stderr",
     "output_type": "stream",
     "text": [
      "INFO: Got 101 tweets (101 new).\n",
      "INFO: queries: ['FB OR AMZN OR AAPL OR NFLX OR GOOG OR FAANG AND stocks since:2019-12-31 until:2020-01-01']\n"
     ]
    },
    {
     "name": "stdout",
     "output_type": "stream",
     "text": [
      "1256\n",
      "2019-12-30\n",
      "101\n"
     ]
    },
    {
     "name": "stderr",
     "output_type": "stream",
     "text": [
      "INFO: Got 108 tweets (108 new).\n",
      "INFO: queries: ['FB OR AMZN OR AAPL OR NFLX OR GOOG OR FAANG AND stocks since:2020-01-02 until:2020-01-03']\n"
     ]
    },
    {
     "name": "stdout",
     "output_type": "stream",
     "text": [
      "1257\n",
      "2019-12-31\n",
      "108\n"
     ]
    },
    {
     "name": "stderr",
     "output_type": "stream",
     "text": [
      "INFO: Got 107 tweets (107 new).\n",
      "INFO: queries: ['FB OR AMZN OR AAPL OR NFLX OR GOOG OR FAANG AND stocks since:2020-01-03 until:2020-01-04']\n"
     ]
    },
    {
     "name": "stdout",
     "output_type": "stream",
     "text": [
      "1258\n",
      "2020-01-02\n",
      "107\n"
     ]
    },
    {
     "name": "stderr",
     "output_type": "stream",
     "text": [
      "INFO: Got 110 tweets (110 new).\n",
      "INFO: queries: ['FB OR AMZN OR AAPL OR NFLX OR GOOG OR FAANG AND stocks since:2020-01-06 until:2020-01-07']\n"
     ]
    },
    {
     "name": "stdout",
     "output_type": "stream",
     "text": [
      "1259\n",
      "2020-01-03\n",
      "110\n"
     ]
    },
    {
     "name": "stderr",
     "output_type": "stream",
     "text": [
      "INFO: Got 108 tweets (108 new).\n",
      "INFO: queries: ['FB OR AMZN OR AAPL OR NFLX OR GOOG OR FAANG AND stocks since:2020-01-07 until:2020-01-08']\n"
     ]
    },
    {
     "name": "stdout",
     "output_type": "stream",
     "text": [
      "1260\n",
      "2020-01-06\n",
      "108\n"
     ]
    },
    {
     "name": "stderr",
     "output_type": "stream",
     "text": [
      "INFO: Got 106 tweets (106 new).\n",
      "INFO: queries: ['FB OR AMZN OR AAPL OR NFLX OR GOOG OR FAANG AND stocks since:2020-01-08 until:2020-01-09']\n"
     ]
    },
    {
     "name": "stdout",
     "output_type": "stream",
     "text": [
      "1261\n",
      "2020-01-07\n",
      "106\n"
     ]
    },
    {
     "name": "stderr",
     "output_type": "stream",
     "text": [
      "INFO: Got 111 tweets (111 new).\n",
      "INFO: queries: ['FB OR AMZN OR AAPL OR NFLX OR GOOG OR FAANG AND stocks since:2020-01-09 until:2020-01-10']\n"
     ]
    },
    {
     "name": "stdout",
     "output_type": "stream",
     "text": [
      "1262\n",
      "2020-01-08\n",
      "111\n"
     ]
    },
    {
     "name": "stderr",
     "output_type": "stream",
     "text": [
      "INFO: Got 115 tweets (115 new).\n",
      "INFO: queries: ['FB OR AMZN OR AAPL OR NFLX OR GOOG OR FAANG AND stocks since:2020-01-10 until:2020-01-11']\n"
     ]
    },
    {
     "name": "stdout",
     "output_type": "stream",
     "text": [
      "1263\n",
      "2020-01-09\n",
      "115\n"
     ]
    },
    {
     "name": "stderr",
     "output_type": "stream",
     "text": [
      "INFO: Got 118 tweets (118 new).\n",
      "INFO: queries: ['FB OR AMZN OR AAPL OR NFLX OR GOOG OR FAANG AND stocks since:2020-01-13 until:2020-01-14']\n"
     ]
    },
    {
     "name": "stdout",
     "output_type": "stream",
     "text": [
      "1264\n",
      "2020-01-10\n",
      "118\n"
     ]
    },
    {
     "name": "stderr",
     "output_type": "stream",
     "text": [
      "INFO: Got 114 tweets (114 new).\n",
      "INFO: queries: ['FB OR AMZN OR AAPL OR NFLX OR GOOG OR FAANG AND stocks since:2020-01-14 until:2020-01-15']\n"
     ]
    },
    {
     "name": "stdout",
     "output_type": "stream",
     "text": [
      "1265\n",
      "2020-01-13\n",
      "114\n"
     ]
    },
    {
     "name": "stderr",
     "output_type": "stream",
     "text": [
      "INFO: Got 107 tweets (107 new).\n",
      "INFO: queries: ['FB OR AMZN OR AAPL OR NFLX OR GOOG OR FAANG AND stocks since:2020-01-15 until:2020-01-16']\n"
     ]
    },
    {
     "name": "stdout",
     "output_type": "stream",
     "text": [
      "1266\n",
      "2020-01-14\n",
      "107\n"
     ]
    },
    {
     "name": "stderr",
     "output_type": "stream",
     "text": [
      "INFO: Got 107 tweets (107 new).\n",
      "INFO: queries: ['FB OR AMZN OR AAPL OR NFLX OR GOOG OR FAANG AND stocks since:2020-01-16 until:2020-01-17']\n"
     ]
    },
    {
     "name": "stdout",
     "output_type": "stream",
     "text": [
      "1267\n",
      "2020-01-15\n",
      "107\n"
     ]
    },
    {
     "name": "stderr",
     "output_type": "stream",
     "text": [
      "INFO: Got 106 tweets (106 new).\n",
      "INFO: queries: ['FB OR AMZN OR AAPL OR NFLX OR GOOG OR FAANG AND stocks since:2020-01-17 until:2020-01-18']\n"
     ]
    },
    {
     "name": "stdout",
     "output_type": "stream",
     "text": [
      "1268\n",
      "2020-01-16\n",
      "106\n"
     ]
    },
    {
     "name": "stderr",
     "output_type": "stream",
     "text": [
      "INFO: Got 111 tweets (111 new).\n",
      "INFO: queries: ['FB OR AMZN OR AAPL OR NFLX OR GOOG OR FAANG AND stocks since:2020-01-21 until:2020-01-22']\n"
     ]
    },
    {
     "name": "stdout",
     "output_type": "stream",
     "text": [
      "1269\n",
      "2020-01-17\n",
      "111\n"
     ]
    },
    {
     "name": "stderr",
     "output_type": "stream",
     "text": [
      "INFO: Got 104 tweets (104 new).\n",
      "INFO: queries: ['FB OR AMZN OR AAPL OR NFLX OR GOOG OR FAANG AND stocks since:2020-01-22 until:2020-01-23']\n"
     ]
    },
    {
     "name": "stdout",
     "output_type": "stream",
     "text": [
      "1270\n",
      "2020-01-21\n",
      "104\n"
     ]
    },
    {
     "name": "stderr",
     "output_type": "stream",
     "text": [
      "INFO: Got 108 tweets (108 new).\n",
      "INFO: queries: ['FB OR AMZN OR AAPL OR NFLX OR GOOG OR FAANG AND stocks since:2020-01-23 until:2020-01-24']\n"
     ]
    },
    {
     "name": "stdout",
     "output_type": "stream",
     "text": [
      "1271\n",
      "2020-01-22\n",
      "108\n"
     ]
    },
    {
     "name": "stderr",
     "output_type": "stream",
     "text": [
      "INFO: Got 112 tweets (112 new).\n",
      "INFO: queries: ['FB OR AMZN OR AAPL OR NFLX OR GOOG OR FAANG AND stocks since:2020-01-24 until:2020-01-25']\n"
     ]
    },
    {
     "name": "stdout",
     "output_type": "stream",
     "text": [
      "1272\n",
      "2020-01-23\n",
      "112\n"
     ]
    },
    {
     "name": "stderr",
     "output_type": "stream",
     "text": [
      "INFO: Got 116 tweets (116 new).\n",
      "INFO: queries: ['FB OR AMZN OR AAPL OR NFLX OR GOOG OR FAANG AND stocks since:2020-01-27 until:2020-01-28']\n"
     ]
    },
    {
     "name": "stdout",
     "output_type": "stream",
     "text": [
      "1273\n",
      "2020-01-24\n",
      "116\n"
     ]
    },
    {
     "name": "stderr",
     "output_type": "stream",
     "text": [
      "INFO: Got 110 tweets (110 new).\n",
      "INFO: queries: ['FB OR AMZN OR AAPL OR NFLX OR GOOG OR FAANG AND stocks since:2020-01-28 until:2020-01-29']\n"
     ]
    },
    {
     "name": "stdout",
     "output_type": "stream",
     "text": [
      "1274\n",
      "2020-01-27\n",
      "110\n"
     ]
    },
    {
     "name": "stderr",
     "output_type": "stream",
     "text": [
      "INFO: Got 108 tweets (108 new).\n",
      "INFO: queries: ['FB OR AMZN OR AAPL OR NFLX OR GOOG OR FAANG AND stocks since:2020-01-29 until:2020-01-30']\n"
     ]
    },
    {
     "name": "stdout",
     "output_type": "stream",
     "text": [
      "1275\n",
      "2020-01-28\n",
      "108\n"
     ]
    },
    {
     "name": "stderr",
     "output_type": "stream",
     "text": [
      "INFO: Got 106 tweets (106 new).\n",
      "INFO: queries: ['FB OR AMZN OR AAPL OR NFLX OR GOOG OR FAANG AND stocks since:2020-01-30 until:2020-01-31']\n"
     ]
    },
    {
     "name": "stdout",
     "output_type": "stream",
     "text": [
      "1276\n",
      "2020-01-29\n",
      "106\n"
     ]
    },
    {
     "name": "stderr",
     "output_type": "stream",
     "text": [
      "INFO: Got 111 tweets (111 new).\n",
      "INFO: queries: ['FB OR AMZN OR AAPL OR NFLX OR GOOG OR FAANG AND stocks since:2020-01-31 until:2020-02-01']\n"
     ]
    },
    {
     "name": "stdout",
     "output_type": "stream",
     "text": [
      "1277\n",
      "2020-01-30\n",
      "111\n"
     ]
    },
    {
     "name": "stderr",
     "output_type": "stream",
     "text": [
      "INFO: Got 111 tweets (111 new).\n",
      "INFO: queries: ['FB OR AMZN OR AAPL OR NFLX OR GOOG OR FAANG AND stocks since:2020-02-03 until:2020-02-04']\n"
     ]
    },
    {
     "name": "stdout",
     "output_type": "stream",
     "text": [
      "1278\n",
      "2020-01-31\n",
      "111\n"
     ]
    },
    {
     "name": "stderr",
     "output_type": "stream",
     "text": [
      "INFO: Got 113 tweets (113 new).\n",
      "INFO: queries: ['FB OR AMZN OR AAPL OR NFLX OR GOOG OR FAANG AND stocks since:2020-02-04 until:2020-02-05']\n"
     ]
    },
    {
     "name": "stdout",
     "output_type": "stream",
     "text": [
      "1279\n",
      "2020-02-03\n",
      "113\n"
     ]
    },
    {
     "name": "stderr",
     "output_type": "stream",
     "text": [
      "INFO: Got 115 tweets (115 new).\n",
      "INFO: queries: ['FB OR AMZN OR AAPL OR NFLX OR GOOG OR FAANG AND stocks since:2020-02-05 until:2020-02-06']\n"
     ]
    },
    {
     "name": "stdout",
     "output_type": "stream",
     "text": [
      "1280\n",
      "2020-02-04\n",
      "115\n"
     ]
    },
    {
     "name": "stderr",
     "output_type": "stream",
     "text": [
      "INFO: Got 115 tweets (115 new).\n",
      "INFO: queries: ['FB OR AMZN OR AAPL OR NFLX OR GOOG OR FAANG AND stocks since:2020-02-06 until:2020-02-07']\n"
     ]
    },
    {
     "name": "stdout",
     "output_type": "stream",
     "text": [
      "1281\n",
      "2020-02-05\n",
      "115\n"
     ]
    },
    {
     "name": "stderr",
     "output_type": "stream",
     "text": [
      "INFO: Got 117 tweets (117 new).\n",
      "INFO: queries: ['FB OR AMZN OR AAPL OR NFLX OR GOOG OR FAANG AND stocks since:2020-02-07 until:2020-02-08']\n"
     ]
    },
    {
     "name": "stdout",
     "output_type": "stream",
     "text": [
      "1282\n",
      "2020-02-06\n",
      "117\n"
     ]
    },
    {
     "name": "stderr",
     "output_type": "stream",
     "text": [
      "INFO: Got 109 tweets (109 new).\n",
      "INFO: queries: ['FB OR AMZN OR AAPL OR NFLX OR GOOG OR FAANG AND stocks since:2020-02-10 until:2020-02-11']\n"
     ]
    },
    {
     "name": "stdout",
     "output_type": "stream",
     "text": [
      "1283\n",
      "2020-02-07\n",
      "109\n"
     ]
    },
    {
     "name": "stderr",
     "output_type": "stream",
     "text": [
      "INFO: Got 116 tweets (116 new).\n",
      "INFO: queries: ['FB OR AMZN OR AAPL OR NFLX OR GOOG OR FAANG AND stocks since:2020-02-11 until:2020-02-12']\n"
     ]
    },
    {
     "name": "stdout",
     "output_type": "stream",
     "text": [
      "1284\n",
      "2020-02-10\n",
      "116\n"
     ]
    },
    {
     "name": "stderr",
     "output_type": "stream",
     "text": [
      "INFO: Got 114 tweets (114 new).\n",
      "INFO: queries: ['FB OR AMZN OR AAPL OR NFLX OR GOOG OR FAANG AND stocks since:2020-02-12 until:2020-02-13']\n"
     ]
    },
    {
     "name": "stdout",
     "output_type": "stream",
     "text": [
      "1285\n",
      "2020-02-11\n",
      "114\n"
     ]
    },
    {
     "name": "stderr",
     "output_type": "stream",
     "text": [
      "INFO: Got 115 tweets (115 new).\n",
      "INFO: queries: ['FB OR AMZN OR AAPL OR NFLX OR GOOG OR FAANG AND stocks since:2020-02-13 until:2020-02-14']\n"
     ]
    },
    {
     "name": "stdout",
     "output_type": "stream",
     "text": [
      "1286\n",
      "2020-02-12\n",
      "115\n"
     ]
    },
    {
     "name": "stderr",
     "output_type": "stream",
     "text": [
      "INFO: Got 114 tweets (114 new).\n",
      "INFO: queries: ['FB OR AMZN OR AAPL OR NFLX OR GOOG OR FAANG AND stocks since:2020-02-14 until:2020-02-15']\n"
     ]
    },
    {
     "name": "stdout",
     "output_type": "stream",
     "text": [
      "1287\n",
      "2020-02-13\n",
      "114\n"
     ]
    },
    {
     "name": "stderr",
     "output_type": "stream",
     "text": [
      "INFO: Got 110 tweets (110 new).\n",
      "INFO: queries: ['FB OR AMZN OR AAPL OR NFLX OR GOOG OR FAANG AND stocks since:2020-02-18 until:2020-02-19']\n"
     ]
    },
    {
     "name": "stdout",
     "output_type": "stream",
     "text": [
      "1288\n",
      "2020-02-14\n",
      "110\n"
     ]
    },
    {
     "name": "stderr",
     "output_type": "stream",
     "text": [
      "INFO: Got 114 tweets (114 new).\n",
      "INFO: queries: ['FB OR AMZN OR AAPL OR NFLX OR GOOG OR FAANG AND stocks since:2020-02-19 until:2020-02-20']\n"
     ]
    },
    {
     "name": "stdout",
     "output_type": "stream",
     "text": [
      "1289\n",
      "2020-02-18\n",
      "114\n"
     ]
    },
    {
     "name": "stderr",
     "output_type": "stream",
     "text": [
      "INFO: Got 111 tweets (111 new).\n",
      "INFO: queries: ['FB OR AMZN OR AAPL OR NFLX OR GOOG OR FAANG AND stocks since:2020-02-20 until:2020-02-21']\n"
     ]
    },
    {
     "name": "stdout",
     "output_type": "stream",
     "text": [
      "1290\n",
      "2020-02-19\n",
      "111\n"
     ]
    },
    {
     "name": "stderr",
     "output_type": "stream",
     "text": [
      "INFO: Got 114 tweets (114 new).\n",
      "INFO: queries: ['FB OR AMZN OR AAPL OR NFLX OR GOOG OR FAANG AND stocks since:2020-02-21 until:2020-02-22']\n"
     ]
    },
    {
     "name": "stdout",
     "output_type": "stream",
     "text": [
      "1291\n",
      "2020-02-20\n",
      "114\n"
     ]
    },
    {
     "name": "stderr",
     "output_type": "stream",
     "text": [
      "INFO: Got 114 tweets (114 new).\n",
      "INFO: queries: ['FB OR AMZN OR AAPL OR NFLX OR GOOG OR FAANG AND stocks since:2020-02-24 until:2020-02-25']\n"
     ]
    },
    {
     "name": "stdout",
     "output_type": "stream",
     "text": [
      "1292\n",
      "2020-02-21\n",
      "114\n"
     ]
    },
    {
     "name": "stderr",
     "output_type": "stream",
     "text": [
      "INFO: Got 111 tweets (111 new).\n",
      "INFO: queries: ['FB OR AMZN OR AAPL OR NFLX OR GOOG OR FAANG AND stocks since:2020-02-25 until:2020-02-26']\n"
     ]
    },
    {
     "name": "stdout",
     "output_type": "stream",
     "text": [
      "1293\n",
      "2020-02-24\n",
      "111\n"
     ]
    },
    {
     "name": "stderr",
     "output_type": "stream",
     "text": [
      "INFO: Got 114 tweets (114 new).\n",
      "INFO: queries: ['FB OR AMZN OR AAPL OR NFLX OR GOOG OR FAANG AND stocks since:2020-02-26 until:2020-02-27']\n"
     ]
    },
    {
     "name": "stdout",
     "output_type": "stream",
     "text": [
      "1294\n",
      "2020-02-25\n",
      "114\n"
     ]
    },
    {
     "name": "stderr",
     "output_type": "stream",
     "text": [
      "INFO: Got 119 tweets (119 new).\n",
      "INFO: queries: ['FB OR AMZN OR AAPL OR NFLX OR GOOG OR FAANG AND stocks since:2020-02-27 until:2020-02-28']\n"
     ]
    },
    {
     "name": "stdout",
     "output_type": "stream",
     "text": [
      "1295\n",
      "2020-02-26\n",
      "119\n"
     ]
    },
    {
     "name": "stderr",
     "output_type": "stream",
     "text": [
      "INFO: Got 115 tweets (115 new).\n",
      "INFO: queries: ['FB OR AMZN OR AAPL OR NFLX OR GOOG OR FAANG AND stocks since:2020-02-28 until:2020-02-29']\n"
     ]
    },
    {
     "name": "stdout",
     "output_type": "stream",
     "text": [
      "1296\n",
      "2020-02-27\n",
      "115\n"
     ]
    },
    {
     "name": "stderr",
     "output_type": "stream",
     "text": [
      "INFO: Got 115 tweets (115 new).\n",
      "INFO: queries: ['FB OR AMZN OR AAPL OR NFLX OR GOOG OR FAANG AND stocks since:2020-03-02 until:2020-03-03']\n"
     ]
    },
    {
     "name": "stdout",
     "output_type": "stream",
     "text": [
      "1297\n",
      "2020-02-28\n",
      "115\n"
     ]
    },
    {
     "name": "stderr",
     "output_type": "stream",
     "text": [
      "INFO: Got 114 tweets (114 new).\n",
      "INFO: queries: ['FB OR AMZN OR AAPL OR NFLX OR GOOG OR FAANG AND stocks since:2020-03-03 until:2020-03-04']\n"
     ]
    },
    {
     "name": "stdout",
     "output_type": "stream",
     "text": [
      "1298\n",
      "2020-03-02\n",
      "114\n"
     ]
    },
    {
     "name": "stderr",
     "output_type": "stream",
     "text": [
      "INFO: Got 117 tweets (117 new).\n",
      "INFO: queries: ['FB OR AMZN OR AAPL OR NFLX OR GOOG OR FAANG AND stocks since:2020-03-04 until:2020-03-05']\n"
     ]
    },
    {
     "name": "stdout",
     "output_type": "stream",
     "text": [
      "1299\n",
      "2020-03-03\n",
      "117\n"
     ]
    },
    {
     "name": "stderr",
     "output_type": "stream",
     "text": [
      "INFO: Got 115 tweets (115 new).\n",
      "INFO: queries: ['FB OR AMZN OR AAPL OR NFLX OR GOOG OR FAANG AND stocks since:2020-03-05 until:2020-03-06']\n"
     ]
    },
    {
     "name": "stdout",
     "output_type": "stream",
     "text": [
      "1300\n",
      "2020-03-04\n",
      "115\n"
     ]
    },
    {
     "name": "stderr",
     "output_type": "stream",
     "text": [
      "INFO: Got 108 tweets (108 new).\n",
      "INFO: queries: ['FB OR AMZN OR AAPL OR NFLX OR GOOG OR FAANG AND stocks since:2020-03-06 until:2020-03-07']\n"
     ]
    },
    {
     "name": "stdout",
     "output_type": "stream",
     "text": [
      "1301\n",
      "2020-03-05\n",
      "108\n"
     ]
    },
    {
     "name": "stderr",
     "output_type": "stream",
     "text": [
      "INFO: Got 107 tweets (107 new).\n",
      "INFO: queries: ['FB OR AMZN OR AAPL OR NFLX OR GOOG OR FAANG AND stocks since:2020-03-09 until:2020-03-10']\n"
     ]
    },
    {
     "name": "stdout",
     "output_type": "stream",
     "text": [
      "1302\n",
      "2020-03-06\n",
      "107\n"
     ]
    },
    {
     "name": "stderr",
     "output_type": "stream",
     "text": [
      "INFO: Got 118 tweets (118 new).\n",
      "INFO: queries: ['FB OR AMZN OR AAPL OR NFLX OR GOOG OR FAANG AND stocks since:2020-03-10 until:2020-03-11']\n"
     ]
    },
    {
     "name": "stdout",
     "output_type": "stream",
     "text": [
      "1303\n",
      "2020-03-09\n",
      "118\n"
     ]
    },
    {
     "name": "stderr",
     "output_type": "stream",
     "text": [
      "INFO: Got 115 tweets (115 new).\n",
      "INFO: queries: ['FB OR AMZN OR AAPL OR NFLX OR GOOG OR FAANG AND stocks since:2020-03-11 until:2020-03-12']\n"
     ]
    },
    {
     "name": "stdout",
     "output_type": "stream",
     "text": [
      "1304\n",
      "2020-03-10\n",
      "115\n"
     ]
    },
    {
     "name": "stderr",
     "output_type": "stream",
     "text": [
      "INFO: Got 110 tweets (110 new).\n",
      "INFO: queries: ['FB OR AMZN OR AAPL OR NFLX OR GOOG OR FAANG AND stocks since:2020-03-12 until:2020-03-13']\n"
     ]
    },
    {
     "name": "stdout",
     "output_type": "stream",
     "text": [
      "1305\n",
      "2020-03-11\n",
      "110\n"
     ]
    },
    {
     "name": "stderr",
     "output_type": "stream",
     "text": [
      "INFO: Got 112 tweets (112 new).\n",
      "INFO: queries: ['FB OR AMZN OR AAPL OR NFLX OR GOOG OR FAANG AND stocks since:2020-03-13 until:2020-03-14']\n"
     ]
    },
    {
     "name": "stdout",
     "output_type": "stream",
     "text": [
      "1306\n",
      "2020-03-12\n",
      "112\n"
     ]
    },
    {
     "name": "stderr",
     "output_type": "stream",
     "text": [
      "INFO: Got 114 tweets (114 new).\n",
      "INFO: queries: ['FB OR AMZN OR AAPL OR NFLX OR GOOG OR FAANG AND stocks since:2020-03-16 until:2020-03-17']\n"
     ]
    },
    {
     "name": "stdout",
     "output_type": "stream",
     "text": [
      "1307\n",
      "2020-03-13\n",
      "114\n"
     ]
    },
    {
     "name": "stderr",
     "output_type": "stream",
     "text": [
      "INFO: Got 110 tweets (110 new).\n",
      "INFO: queries: ['FB OR AMZN OR AAPL OR NFLX OR GOOG OR FAANG AND stocks since:2020-03-17 until:2020-03-18']\n"
     ]
    },
    {
     "name": "stdout",
     "output_type": "stream",
     "text": [
      "1308\n",
      "2020-03-16\n",
      "110\n"
     ]
    },
    {
     "name": "stderr",
     "output_type": "stream",
     "text": [
      "INFO: Got 114 tweets (114 new).\n",
      "INFO: queries: ['FB OR AMZN OR AAPL OR NFLX OR GOOG OR FAANG AND stocks since:2020-03-18 until:2020-03-19']\n"
     ]
    },
    {
     "name": "stdout",
     "output_type": "stream",
     "text": [
      "1309\n",
      "2020-03-17\n",
      "114\n"
     ]
    },
    {
     "name": "stderr",
     "output_type": "stream",
     "text": [
      "INFO: Got 114 tweets (114 new).\n",
      "INFO: queries: ['FB OR AMZN OR AAPL OR NFLX OR GOOG OR FAANG AND stocks since:2020-03-19 until:2020-03-20']\n"
     ]
    },
    {
     "name": "stdout",
     "output_type": "stream",
     "text": [
      "1310\n",
      "2020-03-18\n",
      "114\n"
     ]
    },
    {
     "name": "stderr",
     "output_type": "stream",
     "text": [
      "INFO: Got 110 tweets (110 new).\n",
      "INFO: queries: ['FB OR AMZN OR AAPL OR NFLX OR GOOG OR FAANG AND stocks since:2020-03-20 until:2020-03-21']\n"
     ]
    },
    {
     "name": "stdout",
     "output_type": "stream",
     "text": [
      "1311\n",
      "2020-03-19\n",
      "110\n"
     ]
    },
    {
     "name": "stderr",
     "output_type": "stream",
     "text": [
      "INFO: Got 115 tweets (115 new).\n",
      "INFO: queries: ['FB OR AMZN OR AAPL OR NFLX OR GOOG OR FAANG AND stocks since:2020-03-23 until:2020-03-24']\n"
     ]
    },
    {
     "name": "stdout",
     "output_type": "stream",
     "text": [
      "1312\n",
      "2020-03-20\n",
      "115\n"
     ]
    },
    {
     "name": "stderr",
     "output_type": "stream",
     "text": [
      "INFO: Got 119 tweets (119 new).\n",
      "INFO: queries: ['FB OR AMZN OR AAPL OR NFLX OR GOOG OR FAANG AND stocks since:2020-03-24 until:2020-03-25']\n"
     ]
    },
    {
     "name": "stdout",
     "output_type": "stream",
     "text": [
      "1313\n",
      "2020-03-23\n",
      "119\n"
     ]
    },
    {
     "name": "stderr",
     "output_type": "stream",
     "text": [
      "INFO: Got 114 tweets (114 new).\n",
      "INFO: queries: ['FB OR AMZN OR AAPL OR NFLX OR GOOG OR FAANG AND stocks since:2020-03-25 until:2020-03-26']\n"
     ]
    },
    {
     "name": "stdout",
     "output_type": "stream",
     "text": [
      "1314\n",
      "2020-03-24\n",
      "114\n"
     ]
    },
    {
     "name": "stderr",
     "output_type": "stream",
     "text": [
      "INFO: Got 117 tweets (117 new).\n",
      "INFO: queries: ['FB OR AMZN OR AAPL OR NFLX OR GOOG OR FAANG AND stocks since:2020-03-26 until:2020-03-27']\n"
     ]
    },
    {
     "name": "stdout",
     "output_type": "stream",
     "text": [
      "1315\n",
      "2020-03-25\n",
      "117\n"
     ]
    },
    {
     "name": "stderr",
     "output_type": "stream",
     "text": [
      "INFO: Got 117 tweets (117 new).\n",
      "INFO: queries: ['FB OR AMZN OR AAPL OR NFLX OR GOOG OR FAANG AND stocks since:2020-03-27 until:2020-03-28']\n"
     ]
    },
    {
     "name": "stdout",
     "output_type": "stream",
     "text": [
      "1316\n",
      "2020-03-26\n",
      "117\n"
     ]
    },
    {
     "name": "stderr",
     "output_type": "stream",
     "text": [
      "INFO: Got 113 tweets (113 new).\n",
      "INFO: queries: ['FB OR AMZN OR AAPL OR NFLX OR GOOG OR FAANG AND stocks since:2020-03-30 until:2020-03-31']\n"
     ]
    },
    {
     "name": "stdout",
     "output_type": "stream",
     "text": [
      "1317\n",
      "2020-03-27\n",
      "113\n"
     ]
    },
    {
     "name": "stderr",
     "output_type": "stream",
     "text": [
      "INFO: Got 115 tweets (115 new).\n",
      "INFO: queries: ['FB OR AMZN OR AAPL OR NFLX OR GOOG OR FAANG AND stocks since:2020-03-31 until:2020-04-01']\n"
     ]
    },
    {
     "name": "stdout",
     "output_type": "stream",
     "text": [
      "1318\n",
      "2020-03-30\n",
      "115\n"
     ]
    },
    {
     "name": "stderr",
     "output_type": "stream",
     "text": [
      "INFO: Got 113 tweets (113 new).\n",
      "INFO: queries: ['FB OR AMZN OR AAPL OR NFLX OR GOOG OR FAANG AND stocks since:2020-04-01 until:2020-04-02']\n"
     ]
    },
    {
     "name": "stdout",
     "output_type": "stream",
     "text": [
      "1319\n",
      "2020-03-31\n",
      "113\n"
     ]
    },
    {
     "name": "stderr",
     "output_type": "stream",
     "text": [
      "INFO: Got 114 tweets (114 new).\n",
      "INFO: queries: ['FB OR AMZN OR AAPL OR NFLX OR GOOG OR FAANG AND stocks since:2020-04-02 until:2020-04-03']\n"
     ]
    },
    {
     "name": "stdout",
     "output_type": "stream",
     "text": [
      "1320\n",
      "2020-04-01\n",
      "114\n"
     ]
    },
    {
     "name": "stderr",
     "output_type": "stream",
     "text": [
      "INFO: Got 107 tweets (107 new).\n",
      "INFO: queries: ['FB OR AMZN OR AAPL OR NFLX OR GOOG OR FAANG AND stocks since:2020-04-03 until:2020-04-04']\n"
     ]
    },
    {
     "name": "stdout",
     "output_type": "stream",
     "text": [
      "1321\n",
      "2020-04-02\n",
      "107\n"
     ]
    },
    {
     "name": "stderr",
     "output_type": "stream",
     "text": [
      "INFO: Got 108 tweets (108 new).\n",
      "INFO: queries: ['FB OR AMZN OR AAPL OR NFLX OR GOOG OR FAANG AND stocks since:2020-04-06 until:2020-04-07']\n"
     ]
    },
    {
     "name": "stdout",
     "output_type": "stream",
     "text": [
      "1322\n",
      "2020-04-03\n",
      "108\n"
     ]
    },
    {
     "name": "stderr",
     "output_type": "stream",
     "text": [
      "INFO: Got 117 tweets (117 new).\n",
      "INFO: queries: ['FB OR AMZN OR AAPL OR NFLX OR GOOG OR FAANG AND stocks since:2020-04-07 until:2020-04-08']\n"
     ]
    },
    {
     "name": "stdout",
     "output_type": "stream",
     "text": [
      "1323\n",
      "2020-04-06\n",
      "117\n"
     ]
    },
    {
     "name": "stderr",
     "output_type": "stream",
     "text": [
      "INFO: Got 116 tweets (116 new).\n",
      "INFO: queries: ['FB OR AMZN OR AAPL OR NFLX OR GOOG OR FAANG AND stocks since:2020-04-08 until:2020-04-09']\n"
     ]
    },
    {
     "name": "stdout",
     "output_type": "stream",
     "text": [
      "1324\n",
      "2020-04-07\n",
      "116\n"
     ]
    },
    {
     "name": "stderr",
     "output_type": "stream",
     "text": [
      "INFO: Got 115 tweets (115 new).\n",
      "INFO: queries: ['FB OR AMZN OR AAPL OR NFLX OR GOOG OR FAANG AND stocks since:2020-04-09 until:2020-04-10']\n"
     ]
    },
    {
     "name": "stdout",
     "output_type": "stream",
     "text": [
      "1325\n",
      "2020-04-08\n",
      "115\n"
     ]
    },
    {
     "name": "stderr",
     "output_type": "stream",
     "text": [
      "INFO: Got 116 tweets (116 new).\n",
      "INFO: queries: ['FB OR AMZN OR AAPL OR NFLX OR GOOG OR FAANG AND stocks since:2020-04-13 until:2020-04-14']\n"
     ]
    },
    {
     "name": "stdout",
     "output_type": "stream",
     "text": [
      "1326\n",
      "2020-04-09\n",
      "116\n"
     ]
    },
    {
     "name": "stderr",
     "output_type": "stream",
     "text": [
      "INFO: Got 119 tweets (119 new).\n",
      "INFO: queries: ['FB OR AMZN OR AAPL OR NFLX OR GOOG OR FAANG AND stocks since:2020-04-14 until:2020-04-15']\n"
     ]
    },
    {
     "name": "stdout",
     "output_type": "stream",
     "text": [
      "1327\n",
      "2020-04-13\n",
      "119\n"
     ]
    },
    {
     "name": "stderr",
     "output_type": "stream",
     "text": [
      "INFO: Got 116 tweets (116 new).\n",
      "INFO: queries: ['FB OR AMZN OR AAPL OR NFLX OR GOOG OR FAANG AND stocks since:2020-04-15 until:2020-04-16']\n"
     ]
    },
    {
     "name": "stdout",
     "output_type": "stream",
     "text": [
      "1328\n",
      "2020-04-14\n",
      "116\n"
     ]
    },
    {
     "name": "stderr",
     "output_type": "stream",
     "text": [
      "INFO: Got 116 tweets (116 new).\n",
      "INFO: queries: ['FB OR AMZN OR AAPL OR NFLX OR GOOG OR FAANG AND stocks since:2020-04-16 until:2020-04-17']\n"
     ]
    },
    {
     "name": "stdout",
     "output_type": "stream",
     "text": [
      "1329\n",
      "2020-04-15\n",
      "116\n"
     ]
    },
    {
     "name": "stderr",
     "output_type": "stream",
     "text": [
      "INFO: Got 116 tweets (116 new).\n",
      "INFO: queries: ['FB OR AMZN OR AAPL OR NFLX OR GOOG OR FAANG AND stocks since:2020-04-17 until:2020-04-18']\n"
     ]
    },
    {
     "name": "stdout",
     "output_type": "stream",
     "text": [
      "1330\n",
      "2020-04-16\n",
      "116\n"
     ]
    },
    {
     "name": "stderr",
     "output_type": "stream",
     "text": [
      "INFO: Got 117 tweets (117 new).\n",
      "INFO: queries: ['FB OR AMZN OR AAPL OR NFLX OR GOOG OR FAANG AND stocks since:2020-04-20 until:2020-04-21']\n"
     ]
    },
    {
     "name": "stdout",
     "output_type": "stream",
     "text": [
      "1331\n",
      "2020-04-17\n",
      "117\n"
     ]
    },
    {
     "name": "stderr",
     "output_type": "stream",
     "text": [
      "INFO: Got 113 tweets (113 new).\n",
      "INFO: queries: ['FB OR AMZN OR AAPL OR NFLX OR GOOG OR FAANG AND stocks since:2020-04-21 until:2020-04-22']\n"
     ]
    },
    {
     "name": "stdout",
     "output_type": "stream",
     "text": [
      "1332\n",
      "2020-04-20\n",
      "113\n"
     ]
    },
    {
     "name": "stderr",
     "output_type": "stream",
     "text": [
      "INFO: Got 112 tweets (112 new).\n",
      "INFO: queries: ['FB OR AMZN OR AAPL OR NFLX OR GOOG OR FAANG AND stocks since:2020-04-22 until:2020-04-23']\n"
     ]
    },
    {
     "name": "stdout",
     "output_type": "stream",
     "text": [
      "1333\n",
      "2020-04-21\n",
      "112\n"
     ]
    },
    {
     "name": "stderr",
     "output_type": "stream",
     "text": [
      "INFO: Got 109 tweets (109 new).\n",
      "INFO: queries: ['FB OR AMZN OR AAPL OR NFLX OR GOOG OR FAANG AND stocks since:2020-04-23 until:2020-04-24']\n"
     ]
    },
    {
     "name": "stdout",
     "output_type": "stream",
     "text": [
      "1334\n",
      "2020-04-22\n",
      "109\n"
     ]
    },
    {
     "name": "stderr",
     "output_type": "stream",
     "text": [
      "INFO: Got 119 tweets (119 new).\n",
      "INFO: queries: ['FB OR AMZN OR AAPL OR NFLX OR GOOG OR FAANG AND stocks since:2020-04-24 until:2020-04-25']\n"
     ]
    },
    {
     "name": "stdout",
     "output_type": "stream",
     "text": [
      "1335\n",
      "2020-04-23\n",
      "119\n"
     ]
    },
    {
     "name": "stderr",
     "output_type": "stream",
     "text": [
      "INFO: Got 112 tweets (112 new).\n",
      "INFO: queries: ['FB OR AMZN OR AAPL OR NFLX OR GOOG OR FAANG AND stocks since:2020-04-27 until:2020-04-28']\n"
     ]
    },
    {
     "name": "stdout",
     "output_type": "stream",
     "text": [
      "1336\n",
      "2020-04-24\n",
      "112\n"
     ]
    },
    {
     "name": "stderr",
     "output_type": "stream",
     "text": [
      "INFO: Got 108 tweets (108 new).\n",
      "INFO: queries: ['FB OR AMZN OR AAPL OR NFLX OR GOOG OR FAANG AND stocks since:2020-04-28 until:2020-04-29']\n"
     ]
    },
    {
     "name": "stdout",
     "output_type": "stream",
     "text": [
      "1337\n",
      "2020-04-27\n",
      "108\n"
     ]
    },
    {
     "name": "stderr",
     "output_type": "stream",
     "text": [
      "INFO: Got 112 tweets (112 new).\n",
      "INFO: queries: ['FB OR AMZN OR AAPL OR NFLX OR GOOG OR FAANG AND stocks since:2020-04-29 until:2020-04-30']\n"
     ]
    },
    {
     "name": "stdout",
     "output_type": "stream",
     "text": [
      "1338\n",
      "2020-04-28\n",
      "112\n"
     ]
    },
    {
     "name": "stderr",
     "output_type": "stream",
     "text": [
      "INFO: Got 115 tweets (115 new).\n",
      "INFO: queries: ['FB OR AMZN OR AAPL OR NFLX OR GOOG OR FAANG AND stocks since:2020-04-30 until:2020-05-01']\n"
     ]
    },
    {
     "name": "stdout",
     "output_type": "stream",
     "text": [
      "1339\n",
      "2020-04-29\n",
      "115\n"
     ]
    },
    {
     "name": "stderr",
     "output_type": "stream",
     "text": [
      "INFO: Got 101 tweets (101 new).\n",
      "INFO: queries: ['FB OR AMZN OR AAPL OR NFLX OR GOOG OR FAANG AND stocks since:2020-05-01 until:2020-05-02']\n"
     ]
    },
    {
     "name": "stdout",
     "output_type": "stream",
     "text": [
      "1340\n",
      "2020-04-30\n",
      "101\n"
     ]
    },
    {
     "name": "stderr",
     "output_type": "stream",
     "text": [
      "INFO: Got 114 tweets (114 new).\n",
      "INFO: queries: ['FB OR AMZN OR AAPL OR NFLX OR GOOG OR FAANG AND stocks since:2020-05-04 until:2020-05-05']\n"
     ]
    },
    {
     "name": "stdout",
     "output_type": "stream",
     "text": [
      "1341\n",
      "2020-05-01\n",
      "114\n"
     ]
    },
    {
     "name": "stderr",
     "output_type": "stream",
     "text": [
      "INFO: Got 111 tweets (111 new).\n",
      "INFO: queries: ['FB OR AMZN OR AAPL OR NFLX OR GOOG OR FAANG AND stocks since:2020-05-05 until:2020-05-06']\n"
     ]
    },
    {
     "name": "stdout",
     "output_type": "stream",
     "text": [
      "1342\n",
      "2020-05-04\n",
      "111\n"
     ]
    },
    {
     "name": "stderr",
     "output_type": "stream",
     "text": [
      "INFO: Got 110 tweets (110 new).\n",
      "INFO: queries: ['FB OR AMZN OR AAPL OR NFLX OR GOOG OR FAANG AND stocks since:2020-05-06 until:2020-05-07']\n"
     ]
    },
    {
     "name": "stdout",
     "output_type": "stream",
     "text": [
      "1343\n",
      "2020-05-05\n",
      "110\n"
     ]
    },
    {
     "name": "stderr",
     "output_type": "stream",
     "text": [
      "INFO: Got 104 tweets (104 new).\n",
      "INFO: queries: ['FB OR AMZN OR AAPL OR NFLX OR GOOG OR FAANG AND stocks since:2020-05-07 until:2020-05-08']\n"
     ]
    },
    {
     "name": "stdout",
     "output_type": "stream",
     "text": [
      "1344\n",
      "2020-05-06\n",
      "104\n"
     ]
    },
    {
     "name": "stderr",
     "output_type": "stream",
     "text": [
      "INFO: Got 115 tweets (115 new).\n",
      "INFO: queries: ['FB OR AMZN OR AAPL OR NFLX OR GOOG OR FAANG AND stocks since:2020-05-08 until:2020-05-09']\n"
     ]
    },
    {
     "name": "stdout",
     "output_type": "stream",
     "text": [
      "1345\n",
      "2020-05-07\n",
      "115\n"
     ]
    },
    {
     "name": "stderr",
     "output_type": "stream",
     "text": [
      "INFO: Got 111 tweets (111 new).\n",
      "INFO: queries: ['FB OR AMZN OR AAPL OR NFLX OR GOOG OR FAANG AND stocks since:2020-05-11 until:2020-05-12']\n"
     ]
    },
    {
     "name": "stdout",
     "output_type": "stream",
     "text": [
      "1346\n",
      "2020-05-08\n",
      "111\n"
     ]
    },
    {
     "name": "stderr",
     "output_type": "stream",
     "text": [
      "INFO: Got 105 tweets (105 new).\n",
      "INFO: queries: ['FB OR AMZN OR AAPL OR NFLX OR GOOG OR FAANG AND stocks since:2020-05-12 until:2020-05-13']\n"
     ]
    },
    {
     "name": "stdout",
     "output_type": "stream",
     "text": [
      "1347\n",
      "2020-05-11\n",
      "105\n"
     ]
    },
    {
     "name": "stderr",
     "output_type": "stream",
     "text": [
      "INFO: Got 117 tweets (117 new).\n",
      "INFO: queries: ['FB OR AMZN OR AAPL OR NFLX OR GOOG OR FAANG AND stocks since:2020-05-13 until:2020-05-14']\n"
     ]
    },
    {
     "name": "stdout",
     "output_type": "stream",
     "text": [
      "1348\n",
      "2020-05-12\n",
      "117\n"
     ]
    },
    {
     "name": "stderr",
     "output_type": "stream",
     "text": [
      "INFO: Got 106 tweets (106 new).\n",
      "INFO: queries: ['FB OR AMZN OR AAPL OR NFLX OR GOOG OR FAANG AND stocks since:2020-05-14 until:2020-05-15']\n"
     ]
    },
    {
     "name": "stdout",
     "output_type": "stream",
     "text": [
      "1349\n",
      "2020-05-13\n",
      "106\n"
     ]
    },
    {
     "name": "stderr",
     "output_type": "stream",
     "text": [
      "INFO: Got 111 tweets (111 new).\n",
      "INFO: queries: ['FB OR AMZN OR AAPL OR NFLX OR GOOG OR FAANG AND stocks since:2020-05-15 until:2020-05-16']\n"
     ]
    },
    {
     "name": "stdout",
     "output_type": "stream",
     "text": [
      "1350\n",
      "2020-05-14\n",
      "111\n"
     ]
    },
    {
     "name": "stderr",
     "output_type": "stream",
     "text": [
      "INFO: Got 115 tweets (115 new).\n",
      "INFO: queries: ['FB OR AMZN OR AAPL OR NFLX OR GOOG OR FAANG AND stocks since:2020-05-18 until:2020-05-19']\n"
     ]
    },
    {
     "name": "stdout",
     "output_type": "stream",
     "text": [
      "1351\n",
      "2020-05-15\n",
      "115\n"
     ]
    },
    {
     "name": "stderr",
     "output_type": "stream",
     "text": [
      "INFO: Got 113 tweets (113 new).\n",
      "INFO: queries: ['FB OR AMZN OR AAPL OR NFLX OR GOOG OR FAANG AND stocks since:2020-05-19 until:2020-05-20']\n"
     ]
    },
    {
     "name": "stdout",
     "output_type": "stream",
     "text": [
      "1352\n",
      "2020-05-18\n",
      "113\n"
     ]
    },
    {
     "name": "stderr",
     "output_type": "stream",
     "text": [
      "INFO: Got 115 tweets (115 new).\n",
      "INFO: queries: ['FB OR AMZN OR AAPL OR NFLX OR GOOG OR FAANG AND stocks since:2020-05-20 until:2020-05-21']\n"
     ]
    },
    {
     "name": "stdout",
     "output_type": "stream",
     "text": [
      "1353\n",
      "2020-05-19\n",
      "115\n"
     ]
    },
    {
     "name": "stderr",
     "output_type": "stream",
     "text": [
      "INFO: Got 115 tweets (115 new).\n",
      "INFO: queries: ['FB OR AMZN OR AAPL OR NFLX OR GOOG OR FAANG AND stocks since:2020-05-21 until:2020-05-22']\n"
     ]
    },
    {
     "name": "stdout",
     "output_type": "stream",
     "text": [
      "1354\n",
      "2020-05-20\n",
      "115\n"
     ]
    },
    {
     "name": "stderr",
     "output_type": "stream",
     "text": [
      "INFO: Got 115 tweets (115 new).\n",
      "INFO: queries: ['FB OR AMZN OR AAPL OR NFLX OR GOOG OR FAANG AND stocks since:2020-05-22 until:2020-05-23']\n"
     ]
    },
    {
     "name": "stdout",
     "output_type": "stream",
     "text": [
      "1355\n",
      "2020-05-21\n",
      "115\n"
     ]
    },
    {
     "name": "stderr",
     "output_type": "stream",
     "text": [
      "INFO: Got 117 tweets (117 new).\n",
      "INFO: queries: ['FB OR AMZN OR AAPL OR NFLX OR GOOG OR FAANG AND stocks since:2020-05-26 until:2020-05-27']\n"
     ]
    },
    {
     "name": "stdout",
     "output_type": "stream",
     "text": [
      "1356\n",
      "2020-05-22\n",
      "117\n"
     ]
    },
    {
     "name": "stderr",
     "output_type": "stream",
     "text": [
      "INFO: Got 113 tweets (113 new).\n",
      "INFO: queries: ['FB OR AMZN OR AAPL OR NFLX OR GOOG OR FAANG AND stocks since:2020-05-27 until:2020-05-28']\n"
     ]
    },
    {
     "name": "stdout",
     "output_type": "stream",
     "text": [
      "1357\n",
      "2020-05-26\n",
      "113\n"
     ]
    },
    {
     "name": "stderr",
     "output_type": "stream",
     "text": [
      "INFO: Got 114 tweets (114 new).\n",
      "INFO: queries: ['FB OR AMZN OR AAPL OR NFLX OR GOOG OR FAANG AND stocks since:2020-05-28 until:2020-05-29']\n"
     ]
    },
    {
     "name": "stdout",
     "output_type": "stream",
     "text": [
      "1358\n",
      "2020-05-27\n",
      "114\n"
     ]
    },
    {
     "name": "stderr",
     "output_type": "stream",
     "text": [
      "INFO: Got 117 tweets (117 new).\n",
      "INFO: queries: ['FB OR AMZN OR AAPL OR NFLX OR GOOG OR FAANG AND stocks since:2020-05-29 until:2020-05-30']\n"
     ]
    },
    {
     "name": "stdout",
     "output_type": "stream",
     "text": [
      "1359\n",
      "2020-05-28\n",
      "117\n"
     ]
    },
    {
     "name": "stderr",
     "output_type": "stream",
     "text": [
      "INFO: Got 118 tweets (118 new).\n",
      "INFO: queries: ['FB OR AMZN OR AAPL OR NFLX OR GOOG OR FAANG AND stocks since:2020-06-01 until:2020-06-02']\n"
     ]
    },
    {
     "name": "stdout",
     "output_type": "stream",
     "text": [
      "1360\n",
      "2020-05-29\n",
      "118\n"
     ]
    },
    {
     "name": "stderr",
     "output_type": "stream",
     "text": [
      "INFO: Got 114 tweets (114 new).\n",
      "INFO: queries: ['FB OR AMZN OR AAPL OR NFLX OR GOOG OR FAANG AND stocks since:2020-06-02 until:2020-06-03']\n"
     ]
    },
    {
     "name": "stdout",
     "output_type": "stream",
     "text": [
      "1361\n",
      "2020-06-01\n",
      "114\n"
     ]
    },
    {
     "name": "stderr",
     "output_type": "stream",
     "text": [
      "INFO: Got 120 tweets (120 new).\n",
      "INFO: queries: ['FB OR AMZN OR AAPL OR NFLX OR GOOG OR FAANG AND stocks since:2020-06-03 until:2020-06-04']\n"
     ]
    },
    {
     "name": "stdout",
     "output_type": "stream",
     "text": [
      "1362\n",
      "2020-06-02\n",
      "120\n"
     ]
    },
    {
     "name": "stderr",
     "output_type": "stream",
     "text": [
      "INFO: Got 117 tweets (117 new).\n",
      "INFO: queries: ['FB OR AMZN OR AAPL OR NFLX OR GOOG OR FAANG AND stocks since:2020-06-04 until:2020-06-05']\n"
     ]
    },
    {
     "name": "stdout",
     "output_type": "stream",
     "text": [
      "1363\n",
      "2020-06-03\n",
      "117\n"
     ]
    },
    {
     "name": "stderr",
     "output_type": "stream",
     "text": [
      "INFO: Got 108 tweets (108 new).\n",
      "INFO: queries: ['FB OR AMZN OR AAPL OR NFLX OR GOOG OR FAANG AND stocks since:2020-06-05 until:2020-06-06']\n"
     ]
    },
    {
     "name": "stdout",
     "output_type": "stream",
     "text": [
      "1364\n",
      "2020-06-04\n",
      "108\n"
     ]
    },
    {
     "name": "stderr",
     "output_type": "stream",
     "text": [
      "INFO: Got 115 tweets (115 new).\n",
      "INFO: queries: ['FB OR AMZN OR AAPL OR NFLX OR GOOG OR FAANG AND stocks since:2020-06-08 until:2020-06-09']\n"
     ]
    },
    {
     "name": "stdout",
     "output_type": "stream",
     "text": [
      "1365\n",
      "2020-06-05\n",
      "115\n"
     ]
    },
    {
     "name": "stderr",
     "output_type": "stream",
     "text": [
      "INFO: Got 110 tweets (110 new).\n",
      "INFO: queries: ['FB OR AMZN OR AAPL OR NFLX OR GOOG OR FAANG AND stocks since:2020-06-09 until:2020-06-10']\n"
     ]
    },
    {
     "name": "stdout",
     "output_type": "stream",
     "text": [
      "1366\n",
      "2020-06-08\n",
      "110\n"
     ]
    },
    {
     "name": "stderr",
     "output_type": "stream",
     "text": [
      "INFO: Got 117 tweets (117 new).\n",
      "INFO: queries: ['FB OR AMZN OR AAPL OR NFLX OR GOOG OR FAANG AND stocks since:2020-06-10 until:2020-06-11']\n"
     ]
    },
    {
     "name": "stdout",
     "output_type": "stream",
     "text": [
      "1367\n",
      "2020-06-09\n",
      "117\n"
     ]
    },
    {
     "name": "stderr",
     "output_type": "stream",
     "text": [
      "INFO: Got 112 tweets (112 new).\n",
      "INFO: queries: ['FB OR AMZN OR AAPL OR NFLX OR GOOG OR FAANG AND stocks since:2020-06-11 until:2020-06-12']\n"
     ]
    },
    {
     "name": "stdout",
     "output_type": "stream",
     "text": [
      "1368\n",
      "2020-06-10\n",
      "112\n"
     ]
    },
    {
     "name": "stderr",
     "output_type": "stream",
     "text": [
      "INFO: Got 114 tweets (114 new).\n",
      "INFO: queries: ['FB OR AMZN OR AAPL OR NFLX OR GOOG OR FAANG AND stocks since:2020-06-12 until:2020-06-13']\n"
     ]
    },
    {
     "name": "stdout",
     "output_type": "stream",
     "text": [
      "1369\n",
      "2020-06-11\n",
      "114\n"
     ]
    },
    {
     "name": "stderr",
     "output_type": "stream",
     "text": [
      "INFO: Got 116 tweets (116 new).\n",
      "INFO: queries: ['FB OR AMZN OR AAPL OR NFLX OR GOOG OR FAANG AND stocks since:2020-06-15 until:2020-06-16']\n"
     ]
    },
    {
     "name": "stdout",
     "output_type": "stream",
     "text": [
      "1370\n",
      "2020-06-12\n",
      "116\n"
     ]
    },
    {
     "name": "stderr",
     "output_type": "stream",
     "text": [
      "INFO: Got 115 tweets (115 new).\n",
      "INFO: queries: ['FB OR AMZN OR AAPL OR NFLX OR GOOG OR FAANG AND stocks since:2020-06-16 until:2020-06-17']\n"
     ]
    },
    {
     "name": "stdout",
     "output_type": "stream",
     "text": [
      "1371\n",
      "2020-06-15\n",
      "115\n"
     ]
    },
    {
     "name": "stderr",
     "output_type": "stream",
     "text": [
      "INFO: Got 117 tweets (117 new).\n",
      "INFO: queries: ['FB OR AMZN OR AAPL OR NFLX OR GOOG OR FAANG AND stocks since:2020-06-17 until:2020-06-18']\n"
     ]
    },
    {
     "name": "stdout",
     "output_type": "stream",
     "text": [
      "1372\n",
      "2020-06-16\n",
      "117\n"
     ]
    },
    {
     "name": "stderr",
     "output_type": "stream",
     "text": [
      "INFO: Got 115 tweets (115 new).\n",
      "INFO: queries: ['FB OR AMZN OR AAPL OR NFLX OR GOOG OR FAANG AND stocks since:2020-06-18 until:2020-06-19']\n"
     ]
    },
    {
     "name": "stdout",
     "output_type": "stream",
     "text": [
      "1373\n",
      "2020-06-17\n",
      "115\n"
     ]
    },
    {
     "name": "stderr",
     "output_type": "stream",
     "text": [
      "INFO: Got 118 tweets (118 new).\n",
      "INFO: queries: ['FB OR AMZN OR AAPL OR NFLX OR GOOG OR FAANG AND stocks since:2020-06-19 until:2020-06-20']\n"
     ]
    },
    {
     "name": "stdout",
     "output_type": "stream",
     "text": [
      "1374\n",
      "2020-06-18\n",
      "118\n"
     ]
    },
    {
     "name": "stderr",
     "output_type": "stream",
     "text": [
      "INFO: Got 112 tweets (112 new).\n",
      "INFO: queries: ['FB OR AMZN OR AAPL OR NFLX OR GOOG OR FAANG AND stocks since:2020-06-22 until:2020-06-23']\n"
     ]
    },
    {
     "name": "stdout",
     "output_type": "stream",
     "text": [
      "1375\n",
      "2020-06-19\n",
      "112\n"
     ]
    },
    {
     "name": "stderr",
     "output_type": "stream",
     "text": [
      "INFO: Got 103 tweets (103 new).\n"
     ]
    },
    {
     "name": "stdout",
     "output_type": "stream",
     "text": [
      "1376\n",
      "2020-06-22\n",
      "103\n"
     ]
    }
   ],
   "source": [
    "import json\n",
    "score = np.zeros(len(date))\n",
    "tweets = []\n",
    "print(len(date))\n",
    "\n",
    "\n",
    "for i in range (len(date)):\n",
    "    begin = date[i].date()\n",
    "    end = begin + timedelta(days=1)\n",
    "   \n",
    "    limit = 100\n",
    "    lang = 'english'\n",
    "    query = 'FB OR AMZN OR AAPL OR NFLX OR GOOG OR FAANG AND stocks'\n",
    "\n",
    "    tweets_stock = query_tweets(query, begindate = begin, enddate = end, limit = limit, lang = lang)\n",
    "    if (tweets_stock == []):\n",
    "        score[i] = 0\n",
    "        print('no tweets')\n",
    "        \n",
    "    else:\n",
    "        dft = pd.DataFrame(t.__dict__ for t in tweets_stock)\n",
    "        tweets = dft['text']\n",
    "        \n",
    "        '''data =dft[['text']]\n",
    "    \n",
    "        for j in range(len(data)):\n",
    "            data['text'][j] = clean_tweets(data['text'][j]) \n",
    "        \n",
    "        pred = model.predict(data['text'])'''\n",
    "    \n",
    "        results = []\n",
    "        for k in range(len(tweets)):\n",
    "            pol_score = sia.polarity_scores(clean_tweets(tweets[k]))\n",
    "            pol_score['headline'] = clean_tweets(tweets[k])\n",
    "            \n",
    "            results.append(pol_score)\n",
    "\n",
    "        df = pd.DataFrame.from_records(results)\n",
    "        df['label'] = 0\n",
    "        df.loc[df['compound'] > 0.005, 'label'] = 1\n",
    "        df.loc[df['compound'] < -0.005, 'label'] = -1\n",
    "    \n",
    "    #pred[pred == 0] = -1\n",
    "        c = df['label'].sum()\n",
    "        score[i]=c/len(tweets)\n",
    "        \n",
    "    d = pd.DataFrame({'begin date':[begin], 'score': [score[i]]})\n",
    "    d.to_csv('all companies twitter score.csv',mode='a',header=False)\n",
    "    print(i)\n",
    "    print(begin)\n",
    "    print(len(tweets))\n",
    "    \n",
    "    \n",
    "  "
   ]
  },
  {
   "cell_type": "code",
   "execution_count": null,
   "metadata": {},
   "outputs": [],
   "source": []
  }
 ],
 "metadata": {
  "kernelspec": {
   "display_name": "Python 3",
   "language": "python",
   "name": "python3"
  },
  "language_info": {
   "codemirror_mode": {
    "name": "ipython",
    "version": 3
   },
   "file_extension": ".py",
   "mimetype": "text/x-python",
   "name": "python",
   "nbconvert_exporter": "python",
   "pygments_lexer": "ipython3",
   "version": "3.7.4"
  }
 },
 "nbformat": 4,
 "nbformat_minor": 2
}
